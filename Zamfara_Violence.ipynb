{
 "cells": [
  {
   "cell_type": "code",
   "execution_count": 1,
   "metadata": {},
   "outputs": [],
   "source": [
    "whole_nst_sheet = 'https://docs.google.com/spreadsheets/d/1_QY-l4xhMu5nZVluprOgRs6rUzgkkBemapdsg5lFzKU'\n",
    "\n",
    "\n",
    "import pandas as pd\n",
    "\n",
    "%matplotlib inline\n",
    "\n",
    "pd.set_option('display.max_columns', 500)\n",
    "\n",
    "from gsheets import Sheets\n",
    "\n",
    "sheets = Sheets.from_files('client_secrets.json')\n",
    "\n",
    "s = sheets.get(whole_nst_sheet)\n",
    "\n",
    "main_sheet = s.sheets[1]\n",
    "\n",
    "df = main_sheet.to_frame(index_col=False)"
   ]
  },
  {
   "cell_type": "code",
   "execution_count": null,
   "metadata": {},
   "outputs": [],
   "source": [
    "import plotly_express as px"
   ]
  },
  {
   "cell_type": "code",
   "execution_count": 2,
   "metadata": {},
   "outputs": [],
   "source": [
    "zam = df[df['State']=='Zamfara']"
   ]
  },
  {
   "cell_type": "code",
   "execution_count": 3,
   "metadata": {},
   "outputs": [
    {
     "data": {
      "text/plain": [
       "133"
      ]
     },
     "execution_count": 3,
     "metadata": {},
     "output_type": "execute_result"
    }
   ],
   "source": [
    "len(zam)"
   ]
  },
  {
   "cell_type": "code",
   "execution_count": 4,
   "metadata": {},
   "outputs": [],
   "source": []
  },
  {
   "cell_type": "code",
   "execution_count": 14,
   "metadata": {},
   "outputs": [],
   "source": [
    "zam = zam.set_index(pd.to_datetime(zam['Date']))"
   ]
  },
  {
   "cell_type": "code",
   "execution_count": 19,
   "metadata": {},
   "outputs": [],
   "source": [
    "zam_2019 = zam.loc['2019']"
   ]
  },
  {
   "cell_type": "code",
   "execution_count": 25,
   "metadata": {},
   "outputs": [],
   "source": [
    "weekly_deaths_2019 = zam_2019.resample('W')['Total Deaths'].sum()\n",
    "\n",
    "\n",
    "\n",
    "weekly_deaths_2019 = pd.DataFrame(weekly_deaths_2019)\n",
    "\n",
    "weekly_deaths_2019\n",
    "\n",
    "weekly_deaths_2019 = weekly_deaths_2019.reset_index()\n",
    "\n",
    "\n",
    "\n",
    "weekly_deaths_2019.head(2)"
   ]
  },
  {
   "cell_type": "code",
   "execution_count": 26,
   "metadata": {},
   "outputs": [
    {
     "data": {
      "application/vnd.plotly.v1+json": {
       "config": {
        "linkText": "Export to plot.ly",
        "plotlyServerURL": "https://plot.ly",
        "showLink": false
       },
       "data": [
        {
         "hovertemplate": "Date=%{x}<br>Total Deaths=%{y}<extra></extra>",
         "legendgroup": "",
         "line": {
          "color": "#636efa",
          "dash": "solid"
         },
         "mode": "lines",
         "name": "",
         "showlegend": false,
         "type": "scatter",
         "uid": "0874e955-facf-45d3-8cda-3e19d0903c61",
         "x": [
          "2019-01-06 05:00:00",
          "2019-01-13 05:00:00",
          "2019-01-20 05:00:00",
          "2019-01-27 05:00:00",
          "2019-02-03 05:00:00",
          "2019-02-10 05:00:00",
          "2019-02-17 05:00:00",
          "2019-02-24 05:00:00",
          "2019-03-03 05:00:00",
          "2019-03-10 05:00:00",
          "2019-03-17 04:00:00",
          "2019-03-24 04:00:00",
          "2019-03-31 04:00:00",
          "2019-04-07 04:00:00"
         ],
         "xaxis": "x",
         "y": [
          58,
          0,
          62,
          0,
          42,
          27,
          45,
          67,
          114,
          86,
          59,
          1,
          51,
          50
         ],
         "yaxis": "y"
        }
       ],
       "layout": {
        "autosize": true,
        "grid": {
         "xaxes": [
          "x"
         ],
         "xgap": 0.1,
         "xside": "bottom",
         "yaxes": [
          "y"
         ],
         "ygap": 0.1,
         "yside": "left"
        },
        "legend": {
         "tracegroupgap": 0
        },
        "margin": {
         "t": 60
        },
        "template": {
         "data": {
          "bar": [
           {
            "marker": {
             "line": {
              "color": "#E5ECF6",
              "width": 0.5
             }
            },
            "type": "bar"
           }
          ],
          "barpolar": [
           {
            "marker": {
             "line": {
              "color": "#E5ECF6",
              "width": 0.5
             }
            },
            "type": "barpolar"
           }
          ],
          "carpet": [
           {
            "aaxis": {
             "endlinecolor": "#2a3f5f",
             "gridcolor": "white",
             "linecolor": "white",
             "minorgridcolor": "white",
             "startlinecolor": "#2a3f5f"
            },
            "baxis": {
             "endlinecolor": "#2a3f5f",
             "gridcolor": "white",
             "linecolor": "white",
             "minorgridcolor": "white",
             "startlinecolor": "#2a3f5f"
            },
            "type": "carpet"
           }
          ],
          "choropleth": [
           {
            "colorbar": {
             "outlinewidth": 0,
             "ticks": ""
            },
            "type": "choropleth"
           }
          ],
          "contour": [
           {
            "autocolorscale": true,
            "colorbar": {
             "outlinewidth": 0,
             "ticks": ""
            },
            "type": "contour"
           }
          ],
          "contourcarpet": [
           {
            "colorbar": {
             "outlinewidth": 0,
             "ticks": ""
            },
            "type": "contourcarpet"
           }
          ],
          "heatmap": [
           {
            "autocolorscale": true,
            "colorbar": {
             "outlinewidth": 0,
             "ticks": ""
            },
            "type": "heatmap"
           }
          ],
          "heatmapgl": [
           {
            "colorbar": {
             "outlinewidth": 0,
             "ticks": ""
            },
            "type": "heatmapgl"
           }
          ],
          "histogram": [
           {
            "marker": {
             "colorbar": {
              "outlinewidth": 0,
              "ticks": ""
             }
            },
            "type": "histogram"
           }
          ],
          "histogram2d": [
           {
            "autocolorscale": true,
            "colorbar": {
             "outlinewidth": 0,
             "ticks": ""
            },
            "type": "histogram2d"
           }
          ],
          "histogram2dcontour": [
           {
            "autocolorscale": true,
            "colorbar": {
             "outlinewidth": 0,
             "ticks": ""
            },
            "type": "histogram2dcontour"
           }
          ],
          "mesh3d": [
           {
            "colorbar": {
             "outlinewidth": 0,
             "ticks": ""
            },
            "type": "mesh3d"
           }
          ],
          "parcoords": [
           {
            "line": {
             "colorbar": {
              "outlinewidth": 0,
              "ticks": ""
             }
            },
            "type": "parcoords"
           }
          ],
          "scatter": [
           {
            "marker": {
             "colorbar": {
              "outlinewidth": 0,
              "ticks": ""
             }
            },
            "type": "scatter"
           }
          ],
          "scatter3d": [
           {
            "marker": {
             "colorbar": {
              "outlinewidth": 0,
              "ticks": ""
             }
            },
            "type": "scatter3d"
           }
          ],
          "scattercarpet": [
           {
            "marker": {
             "colorbar": {
              "outlinewidth": 0,
              "ticks": ""
             }
            },
            "type": "scattercarpet"
           }
          ],
          "scattergeo": [
           {
            "marker": {
             "colorbar": {
              "outlinewidth": 0,
              "ticks": ""
             }
            },
            "type": "scattergeo"
           }
          ],
          "scattergl": [
           {
            "marker": {
             "colorbar": {
              "outlinewidth": 0,
              "ticks": ""
             }
            },
            "type": "scattergl"
           }
          ],
          "scattermapbox": [
           {
            "marker": {
             "colorbar": {
              "outlinewidth": 0,
              "ticks": ""
             }
            },
            "type": "scattermapbox"
           }
          ],
          "scatterpolar": [
           {
            "marker": {
             "colorbar": {
              "outlinewidth": 0,
              "ticks": ""
             }
            },
            "type": "scatterpolar"
           }
          ],
          "scatterpolargl": [
           {
            "marker": {
             "colorbar": {
              "outlinewidth": 0,
              "ticks": ""
             }
            },
            "type": "scatterpolargl"
           }
          ],
          "scatterternary": [
           {
            "marker": {
             "colorbar": {
              "outlinewidth": 0,
              "ticks": ""
             }
            },
            "type": "scatterternary"
           }
          ],
          "surface": [
           {
            "colorbar": {
             "outlinewidth": 0,
             "ticks": ""
            },
            "type": "surface"
           }
          ],
          "table": [
           {
            "cells": {
             "fill": {
              "color": "#EBF0F8"
             },
             "line": {
              "color": "white"
             }
            },
            "header": {
             "fill": {
              "color": "#C8D4E3"
             },
             "line": {
              "color": "white"
             }
            },
            "type": "table"
           }
          ]
         },
         "layout": {
          "annotationdefaults": {
           "arrowcolor": "#506784",
           "arrowhead": 0,
           "arrowwidth": 1
          },
          "colorscale": {
           "diverging": [
            [
             0,
             "#8e0152"
            ],
            [
             0.1,
             "#c51b7d"
            ],
            [
             0.2,
             "#de77ae"
            ],
            [
             0.3,
             "#f1b6da"
            ],
            [
             0.4,
             "#fde0ef"
            ],
            [
             0.5,
             "#f7f7f7"
            ],
            [
             0.6,
             "#e6f5d0"
            ],
            [
             0.7,
             "#b8e186"
            ],
            [
             0.8,
             "#7fbc41"
            ],
            [
             0.9,
             "#4d9221"
            ],
            [
             1,
             "#276419"
            ]
           ],
           "sequential": [
            [
             0,
             "#0508b8"
            ],
            [
             0.0893854748603352,
             "#1910d8"
            ],
            [
             0.1787709497206704,
             "#3c19f0"
            ],
            [
             0.2681564245810056,
             "#6b1cfb"
            ],
            [
             0.3575418994413408,
             "#981cfd"
            ],
            [
             0.44692737430167595,
             "#bf1cfd"
            ],
            [
             0.5363128491620112,
             "#dd2bfd"
            ],
            [
             0.6256983240223464,
             "#f246fe"
            ],
            [
             0.7150837988826816,
             "#fc67fd"
            ],
            [
             0.8044692737430168,
             "#fe88fc"
            ],
            [
             0.8938547486033519,
             "#fea5fd"
            ],
            [
             0.9832402234636871,
             "#febefe"
            ],
            [
             1,
             "#fec3fe"
            ]
           ],
           "sequentialminus": [
            [
             0,
             "#0508b8"
            ],
            [
             0.0893854748603352,
             "#1910d8"
            ],
            [
             0.1787709497206704,
             "#3c19f0"
            ],
            [
             0.2681564245810056,
             "#6b1cfb"
            ],
            [
             0.3575418994413408,
             "#981cfd"
            ],
            [
             0.44692737430167595,
             "#bf1cfd"
            ],
            [
             0.5363128491620112,
             "#dd2bfd"
            ],
            [
             0.6256983240223464,
             "#f246fe"
            ],
            [
             0.7150837988826816,
             "#fc67fd"
            ],
            [
             0.8044692737430168,
             "#fe88fc"
            ],
            [
             0.8938547486033519,
             "#fea5fd"
            ],
            [
             0.9832402234636871,
             "#febefe"
            ],
            [
             1,
             "#fec3fe"
            ]
           ]
          },
          "colorway": [
           "#636efa",
           "#EF553B",
           "#00cc96",
           "#ab63fa",
           "#19d3f3",
           "#e763fa",
           "#FECB52",
           "#FFA15A",
           "#FF6692",
           "#B6E880"
          ],
          "font": {
           "color": "#2a3f5f"
          },
          "geo": {
           "bgcolor": "white",
           "lakecolor": "white",
           "landcolor": "#E5ECF6",
           "showlakes": true,
           "showland": true,
           "subunitcolor": "white"
          },
          "hovermode": "closest",
          "mapbox": {
           "style": "light"
          },
          "paper_bgcolor": "white",
          "plot_bgcolor": "#E5ECF6",
          "polar": {
           "angularaxis": {
            "gridcolor": "white",
            "linecolor": "white",
            "ticks": ""
           },
           "bgcolor": "#E5ECF6",
           "radialaxis": {
            "gridcolor": "white",
            "linecolor": "white",
            "ticks": ""
           }
          },
          "scene": {
           "xaxis": {
            "backgroundcolor": "#E5ECF6",
            "gridcolor": "white",
            "gridwidth": 2,
            "linecolor": "white",
            "showbackground": true,
            "ticks": "",
            "zerolinecolor": "white"
           },
           "yaxis": {
            "backgroundcolor": "#E5ECF6",
            "gridcolor": "white",
            "gridwidth": 2,
            "linecolor": "white",
            "showbackground": true,
            "ticks": "",
            "zerolinecolor": "white"
           },
           "zaxis": {
            "backgroundcolor": "#E5ECF6",
            "gridcolor": "white",
            "gridwidth": 2,
            "linecolor": "white",
            "showbackground": true,
            "ticks": "",
            "zerolinecolor": "white"
           }
          },
          "shapedefaults": {
           "fillcolor": "#506784",
           "line": {
            "width": 0
           },
           "opacity": 0.4
          },
          "ternary": {
           "aaxis": {
            "gridcolor": "white",
            "linecolor": "white",
            "ticks": ""
           },
           "baxis": {
            "gridcolor": "white",
            "linecolor": "white",
            "ticks": ""
           },
           "bgcolor": "#E5ECF6",
           "caxis": {
            "gridcolor": "white",
            "linecolor": "white",
            "ticks": ""
           }
          },
          "title": {
           "x": 0.05
          },
          "xaxis": {
           "automargin": true,
           "gridcolor": "white",
           "linecolor": "white",
           "ticks": "",
           "zerolinecolor": "white",
           "zerolinewidth": 2
          },
          "yaxis": {
           "automargin": true,
           "gridcolor": "white",
           "linecolor": "white",
           "ticks": "",
           "zerolinecolor": "white",
           "zerolinewidth": 2
          }
         }
        },
        "xaxis": {
         "autorange": true,
         "range": [
          "2019-01-06 05:00",
          "2019-04-07 04:00"
         ],
         "title": {
          "text": "Date"
         },
         "type": "date"
        },
        "yaxis": {
         "autorange": true,
         "range": [
          -6.333333333333333,
          120.33333333333333
         ],
         "title": {
          "text": "Total Deaths"
         },
         "type": "linear"
        }
       }
      },
      "image/png": "[encoded data removed]",
      "text/html": [
       "<div id=\"e97ce7c7-88e6-465f-9a44-723b380b0afb\" style=\"height: 600px; width: 100%;\" class=\"plotly-graph-div\"></div><script type=\"text/javascript\">require([\"plotly\"], function(Plotly) { window.PLOTLYENV=window.PLOTLYENV || {};window.PLOTLYENV.BASE_URL=\"https://plot.ly\";\n",
       "if (document.getElementById(\"e97ce7c7-88e6-465f-9a44-723b380b0afb\")) {\n",
       "    Plotly.newPlot(\"e97ce7c7-88e6-465f-9a44-723b380b0afb\", [{\"hovertemplate\": \"Date=%{x}<br>Total Deaths=%{y}<extra></extra>\", \"legendgroup\": \"\", \"line\": {\"color\": \"#636efa\", \"dash\": \"solid\"}, \"mode\": \"lines\", \"name\": \"\", \"showlegend\": false, \"x\": [\"2019-01-06 05:00:00\", \"2019-01-13 05:00:00\", \"2019-01-20 05:00:00\", \"2019-01-27 05:00:00\", \"2019-02-03 05:00:00\", \"2019-02-10 05:00:00\", \"2019-02-17 05:00:00\", \"2019-02-24 05:00:00\", \"2019-03-03 05:00:00\", \"2019-03-10 05:00:00\", \"2019-03-17 04:00:00\", \"2019-03-24 04:00:00\", \"2019-03-31 04:00:00\", \"2019-04-07 04:00:00\"], \"xaxis\": \"x\", \"y\": [58.0, 0.0, 62.0, 0.0, 42.0, 27.0, 45.0, 67.0, 114.0, 86.0, 59.0, 1.0, 51.0, 50.0], \"yaxis\": \"y\", \"type\": \"scatter\", \"uid\": \"0874e955-facf-45d3-8cda-3e19d0903c61\"}], {\"height\": 600, \"legend\": {\"tracegroupgap\": 0}, \"margin\": {\"t\": 60}, \"template\": {\"data\": {\"barpolar\": [{\"marker\": {\"line\": {\"color\": \"#E5ECF6\", \"width\": 0.5}}, \"type\": \"barpolar\"}], \"bar\": [{\"marker\": {\"line\": {\"color\": \"#E5ECF6\", \"width\": 0.5}}, \"type\": \"bar\"}], \"carpet\": [{\"aaxis\": {\"endlinecolor\": \"#2a3f5f\", \"gridcolor\": \"white\", \"linecolor\": \"white\", \"minorgridcolor\": \"white\", \"startlinecolor\": \"#2a3f5f\"}, \"baxis\": {\"endlinecolor\": \"#2a3f5f\", \"gridcolor\": \"white\", \"linecolor\": \"white\", \"minorgridcolor\": \"white\", \"startlinecolor\": \"#2a3f5f\"}, \"type\": \"carpet\"}], \"choropleth\": [{\"colorbar\": {\"outlinewidth\": 0, \"ticks\": \"\"}, \"type\": \"choropleth\"}], \"contourcarpet\": [{\"colorbar\": {\"outlinewidth\": 0, \"ticks\": \"\"}, \"type\": \"contourcarpet\"}], \"contour\": [{\"autocolorscale\": true, \"colorbar\": {\"outlinewidth\": 0, \"ticks\": \"\"}, \"type\": \"contour\"}], \"heatmapgl\": [{\"colorbar\": {\"outlinewidth\": 0, \"ticks\": \"\"}, \"type\": \"heatmapgl\"}], \"heatmap\": [{\"autocolorscale\": true, \"colorbar\": {\"outlinewidth\": 0, \"ticks\": \"\"}, \"type\": \"heatmap\"}], \"histogram2dcontour\": [{\"autocolorscale\": true, \"colorbar\": {\"outlinewidth\": 0, \"ticks\": \"\"}, \"type\": \"histogram2dcontour\"}], \"histogram2d\": [{\"autocolorscale\": true, \"colorbar\": {\"outlinewidth\": 0, \"ticks\": \"\"}, \"type\": \"histogram2d\"}], \"histogram\": [{\"marker\": {\"colorbar\": {\"outlinewidth\": 0, \"ticks\": \"\"}}, \"type\": \"histogram\"}], \"mesh3d\": [{\"colorbar\": {\"outlinewidth\": 0, \"ticks\": \"\"}, \"type\": \"mesh3d\"}], \"parcoords\": [{\"line\": {\"colorbar\": {\"outlinewidth\": 0, \"ticks\": \"\"}}, \"type\": \"parcoords\"}], \"scatter3d\": [{\"marker\": {\"colorbar\": {\"outlinewidth\": 0, \"ticks\": \"\"}}, \"type\": \"scatter3d\"}], \"scattercarpet\": [{\"marker\": {\"colorbar\": {\"outlinewidth\": 0, \"ticks\": \"\"}}, \"type\": \"scattercarpet\"}], \"scattergeo\": [{\"marker\": {\"colorbar\": {\"outlinewidth\": 0, \"ticks\": \"\"}}, \"type\": \"scattergeo\"}], \"scattergl\": [{\"marker\": {\"colorbar\": {\"outlinewidth\": 0, \"ticks\": \"\"}}, \"type\": \"scattergl\"}], \"scattermapbox\": [{\"marker\": {\"colorbar\": {\"outlinewidth\": 0, \"ticks\": \"\"}}, \"type\": \"scattermapbox\"}], \"scatterpolargl\": [{\"marker\": {\"colorbar\": {\"outlinewidth\": 0, \"ticks\": \"\"}}, \"type\": \"scatterpolargl\"}], \"scatterpolar\": [{\"marker\": {\"colorbar\": {\"outlinewidth\": 0, \"ticks\": \"\"}}, \"type\": \"scatterpolar\"}], \"scatter\": [{\"marker\": {\"colorbar\": {\"outlinewidth\": 0, \"ticks\": \"\"}}, \"type\": \"scatter\"}], \"scatterternary\": [{\"marker\": {\"colorbar\": {\"outlinewidth\": 0, \"ticks\": \"\"}}, \"type\": \"scatterternary\"}], \"surface\": [{\"colorbar\": {\"outlinewidth\": 0, \"ticks\": \"\"}, \"type\": \"surface\"}], \"table\": [{\"cells\": {\"fill\": {\"color\": \"#EBF0F8\"}, \"line\": {\"color\": \"white\"}}, \"header\": {\"fill\": {\"color\": \"#C8D4E3\"}, \"line\": {\"color\": \"white\"}}, \"type\": \"table\"}]}, \"layout\": {\"annotationdefaults\": {\"arrowcolor\": \"#506784\", \"arrowhead\": 0, \"arrowwidth\": 1}, \"colorscale\": {\"diverging\": [[0, \"#8e0152\"], [0.1, \"#c51b7d\"], [0.2, \"#de77ae\"], [0.3, \"#f1b6da\"], [0.4, \"#fde0ef\"], [0.5, \"#f7f7f7\"], [0.6, \"#e6f5d0\"], [0.7, \"#b8e186\"], [0.8, \"#7fbc41\"], [0.9, \"#4d9221\"], [1, \"#276419\"]], \"sequential\": [[0.0, \"#0508b8\"], [0.0893854748603352, \"#1910d8\"], [0.1787709497206704, \"#3c19f0\"], [0.2681564245810056, \"#6b1cfb\"], [0.3575418994413408, \"#981cfd\"], [0.44692737430167595, \"#bf1cfd\"], [0.5363128491620112, \"#dd2bfd\"], [0.6256983240223464, \"#f246fe\"], [0.7150837988826816, \"#fc67fd\"], [0.8044692737430168, \"#fe88fc\"], [0.8938547486033519, \"#fea5fd\"], [0.9832402234636871, \"#febefe\"], [1.0, \"#fec3fe\"]], \"sequentialminus\": [[0.0, \"#0508b8\"], [0.0893854748603352, \"#1910d8\"], [0.1787709497206704, \"#3c19f0\"], [0.2681564245810056, \"#6b1cfb\"], [0.3575418994413408, \"#981cfd\"], [0.44692737430167595, \"#bf1cfd\"], [0.5363128491620112, \"#dd2bfd\"], [0.6256983240223464, \"#f246fe\"], [0.7150837988826816, \"#fc67fd\"], [0.8044692737430168, \"#fe88fc\"], [0.8938547486033519, \"#fea5fd\"], [0.9832402234636871, \"#febefe\"], [1.0, \"#fec3fe\"]]}, \"colorway\": [\"#636efa\", \"#EF553B\", \"#00cc96\", \"#ab63fa\", \"#19d3f3\", \"#e763fa\", \"#FECB52\", \"#FFA15A\", \"#FF6692\", \"#B6E880\"], \"font\": {\"color\": \"#2a3f5f\"}, \"geo\": {\"bgcolor\": \"white\", \"lakecolor\": \"white\", \"landcolor\": \"#E5ECF6\", \"showlakes\": true, \"showland\": true, \"subunitcolor\": \"white\"}, \"hovermode\": \"closest\", \"mapbox\": {\"style\": \"light\"}, \"paper_bgcolor\": \"white\", \"plot_bgcolor\": \"#E5ECF6\", \"polar\": {\"angularaxis\": {\"gridcolor\": \"white\", \"linecolor\": \"white\", \"ticks\": \"\"}, \"bgcolor\": \"#E5ECF6\", \"radialaxis\": {\"gridcolor\": \"white\", \"linecolor\": \"white\", \"ticks\": \"\"}}, \"scene\": {\"xaxis\": {\"backgroundcolor\": \"#E5ECF6\", \"gridcolor\": \"white\", \"gridwidth\": 2, \"linecolor\": \"white\", \"showbackground\": true, \"ticks\": \"\", \"zerolinecolor\": \"white\"}, \"yaxis\": {\"backgroundcolor\": \"#E5ECF6\", \"gridcolor\": \"white\", \"gridwidth\": 2, \"linecolor\": \"white\", \"showbackground\": true, \"ticks\": \"\", \"zerolinecolor\": \"white\"}, \"zaxis\": {\"backgroundcolor\": \"#E5ECF6\", \"gridcolor\": \"white\", \"gridwidth\": 2, \"linecolor\": \"white\", \"showbackground\": true, \"ticks\": \"\", \"zerolinecolor\": \"white\"}}, \"shapedefaults\": {\"fillcolor\": \"#506784\", \"line\": {\"width\": 0}, \"opacity\": 0.4}, \"ternary\": {\"aaxis\": {\"gridcolor\": \"white\", \"linecolor\": \"white\", \"ticks\": \"\"}, \"baxis\": {\"gridcolor\": \"white\", \"linecolor\": \"white\", \"ticks\": \"\"}, \"bgcolor\": \"#E5ECF6\", \"caxis\": {\"gridcolor\": \"white\", \"linecolor\": \"white\", \"ticks\": \"\"}}, \"title\": {\"x\": 0.05}, \"xaxis\": {\"automargin\": true, \"gridcolor\": \"white\", \"linecolor\": \"white\", \"ticks\": \"\", \"zerolinecolor\": \"white\", \"zerolinewidth\": 2}, \"yaxis\": {\"automargin\": true, \"gridcolor\": \"white\", \"linecolor\": \"white\", \"ticks\": \"\", \"zerolinecolor\": \"white\", \"zerolinewidth\": 2}}}, \"grid\": {\"xaxes\": [\"x\"], \"yaxes\": [\"y\"], \"xgap\": 0.1, \"ygap\": 0.1, \"xside\": \"bottom\", \"yside\": \"left\"}, \"xaxis\": {\"title\": {\"text\": \"Date\"}}, \"yaxis\": {\"title\": {\"text\": \"Total Deaths\"}}}, {\"showLink\": false, \"linkText\": \"Export to plot.ly\", \"plotlyServerURL\": \"https://plot.ly\"}); \n",
       "}\n",
       "});</script><script type=\"text/javascript\">window.addEventListener(\"resize\", function(){if (document.getElementById(\"e97ce7c7-88e6-465f-9a44-723b380b0afb\")) {window._Plotly.Plots.resize(document.getElementById(\"e97ce7c7-88e6-465f-9a44-723b380b0afb\"));};})</script>"
      ],
      "text/vnd.plotly.v1+html": [
       "<div id=\"e97ce7c7-88e6-465f-9a44-723b380b0afb\" style=\"height: 600px; width: 100%;\" class=\"plotly-graph-div\"></div><script type=\"text/javascript\">require([\"plotly\"], function(Plotly) { window.PLOTLYENV=window.PLOTLYENV || {};window.PLOTLYENV.BASE_URL=\"https://plot.ly\";\n",
       "if (document.getElementById(\"e97ce7c7-88e6-465f-9a44-723b380b0afb\")) {\n",
       "    Plotly.newPlot(\"e97ce7c7-88e6-465f-9a44-723b380b0afb\", [{\"hovertemplate\": \"Date=%{x}<br>Total Deaths=%{y}<extra></extra>\", \"legendgroup\": \"\", \"line\": {\"color\": \"#636efa\", \"dash\": \"solid\"}, \"mode\": \"lines\", \"name\": \"\", \"showlegend\": false, \"x\": [\"2019-01-06 05:00:00\", \"2019-01-13 05:00:00\", \"2019-01-20 05:00:00\", \"2019-01-27 05:00:00\", \"2019-02-03 05:00:00\", \"2019-02-10 05:00:00\", \"2019-02-17 05:00:00\", \"2019-02-24 05:00:00\", \"2019-03-03 05:00:00\", \"2019-03-10 05:00:00\", \"2019-03-17 04:00:00\", \"2019-03-24 04:00:00\", \"2019-03-31 04:00:00\", \"2019-04-07 04:00:00\"], \"xaxis\": \"x\", \"y\": [58.0, 0.0, 62.0, 0.0, 42.0, 27.0, 45.0, 67.0, 114.0, 86.0, 59.0, 1.0, 51.0, 50.0], \"yaxis\": \"y\", \"type\": \"scatter\", \"uid\": \"0874e955-facf-45d3-8cda-3e19d0903c61\"}], {\"height\": 600, \"legend\": {\"tracegroupgap\": 0}, \"margin\": {\"t\": 60}, \"template\": {\"data\": {\"barpolar\": [{\"marker\": {\"line\": {\"color\": \"#E5ECF6\", \"width\": 0.5}}, \"type\": \"barpolar\"}], \"bar\": [{\"marker\": {\"line\": {\"color\": \"#E5ECF6\", \"width\": 0.5}}, \"type\": \"bar\"}], \"carpet\": [{\"aaxis\": {\"endlinecolor\": \"#2a3f5f\", \"gridcolor\": \"white\", \"linecolor\": \"white\", \"minorgridcolor\": \"white\", \"startlinecolor\": \"#2a3f5f\"}, \"baxis\": {\"endlinecolor\": \"#2a3f5f\", \"gridcolor\": \"white\", \"linecolor\": \"white\", \"minorgridcolor\": \"white\", \"startlinecolor\": \"#2a3f5f\"}, \"type\": \"carpet\"}], \"choropleth\": [{\"colorbar\": {\"outlinewidth\": 0, \"ticks\": \"\"}, \"type\": \"choropleth\"}], \"contourcarpet\": [{\"colorbar\": {\"outlinewidth\": 0, \"ticks\": \"\"}, \"type\": \"contourcarpet\"}], \"contour\": [{\"autocolorscale\": true, \"colorbar\": {\"outlinewidth\": 0, \"ticks\": \"\"}, \"type\": \"contour\"}], \"heatmapgl\": [{\"colorbar\": {\"outlinewidth\": 0, \"ticks\": \"\"}, \"type\": \"heatmapgl\"}], \"heatmap\": [{\"autocolorscale\": true, \"colorbar\": {\"outlinewidth\": 0, \"ticks\": \"\"}, \"type\": \"heatmap\"}], \"histogram2dcontour\": [{\"autocolorscale\": true, \"colorbar\": {\"outlinewidth\": 0, \"ticks\": \"\"}, \"type\": \"histogram2dcontour\"}], \"histogram2d\": [{\"autocolorscale\": true, \"colorbar\": {\"outlinewidth\": 0, \"ticks\": \"\"}, \"type\": \"histogram2d\"}], \"histogram\": [{\"marker\": {\"colorbar\": {\"outlinewidth\": 0, \"ticks\": \"\"}}, \"type\": \"histogram\"}], \"mesh3d\": [{\"colorbar\": {\"outlinewidth\": 0, \"ticks\": \"\"}, \"type\": \"mesh3d\"}], \"parcoords\": [{\"line\": {\"colorbar\": {\"outlinewidth\": 0, \"ticks\": \"\"}}, \"type\": \"parcoords\"}], \"scatter3d\": [{\"marker\": {\"colorbar\": {\"outlinewidth\": 0, \"ticks\": \"\"}}, \"type\": \"scatter3d\"}], \"scattercarpet\": [{\"marker\": {\"colorbar\": {\"outlinewidth\": 0, \"ticks\": \"\"}}, \"type\": \"scattercarpet\"}], \"scattergeo\": [{\"marker\": {\"colorbar\": {\"outlinewidth\": 0, \"ticks\": \"\"}}, \"type\": \"scattergeo\"}], \"scattergl\": [{\"marker\": {\"colorbar\": {\"outlinewidth\": 0, \"ticks\": \"\"}}, \"type\": \"scattergl\"}], \"scattermapbox\": [{\"marker\": {\"colorbar\": {\"outlinewidth\": 0, \"ticks\": \"\"}}, \"type\": \"scattermapbox\"}], \"scatterpolargl\": [{\"marker\": {\"colorbar\": {\"outlinewidth\": 0, \"ticks\": \"\"}}, \"type\": \"scatterpolargl\"}], \"scatterpolar\": [{\"marker\": {\"colorbar\": {\"outlinewidth\": 0, \"ticks\": \"\"}}, \"type\": \"scatterpolar\"}], \"scatter\": [{\"marker\": {\"colorbar\": {\"outlinewidth\": 0, \"ticks\": \"\"}}, \"type\": \"scatter\"}], \"scatterternary\": [{\"marker\": {\"colorbar\": {\"outlinewidth\": 0, \"ticks\": \"\"}}, \"type\": \"scatterternary\"}], \"surface\": [{\"colorbar\": {\"outlinewidth\": 0, \"ticks\": \"\"}, \"type\": \"surface\"}], \"table\": [{\"cells\": {\"fill\": {\"color\": \"#EBF0F8\"}, \"line\": {\"color\": \"white\"}}, \"header\": {\"fill\": {\"color\": \"#C8D4E3\"}, \"line\": {\"color\": \"white\"}}, \"type\": \"table\"}]}, \"layout\": {\"annotationdefaults\": {\"arrowcolor\": \"#506784\", \"arrowhead\": 0, \"arrowwidth\": 1}, \"colorscale\": {\"diverging\": [[0, \"#8e0152\"], [0.1, \"#c51b7d\"], [0.2, \"#de77ae\"], [0.3, \"#f1b6da\"], [0.4, \"#fde0ef\"], [0.5, \"#f7f7f7\"], [0.6, \"#e6f5d0\"], [0.7, \"#b8e186\"], [0.8, \"#7fbc41\"], [0.9, \"#4d9221\"], [1, \"#276419\"]], \"sequential\": [[0.0, \"#0508b8\"], [0.0893854748603352, \"#1910d8\"], [0.1787709497206704, \"#3c19f0\"], [0.2681564245810056, \"#6b1cfb\"], [0.3575418994413408, \"#981cfd\"], [0.44692737430167595, \"#bf1cfd\"], [0.5363128491620112, \"#dd2bfd\"], [0.6256983240223464, \"#f246fe\"], [0.7150837988826816, \"#fc67fd\"], [0.8044692737430168, \"#fe88fc\"], [0.8938547486033519, \"#fea5fd\"], [0.9832402234636871, \"#febefe\"], [1.0, \"#fec3fe\"]], \"sequentialminus\": [[0.0, \"#0508b8\"], [0.0893854748603352, \"#1910d8\"], [0.1787709497206704, \"#3c19f0\"], [0.2681564245810056, \"#6b1cfb\"], [0.3575418994413408, \"#981cfd\"], [0.44692737430167595, \"#bf1cfd\"], [0.5363128491620112, \"#dd2bfd\"], [0.6256983240223464, \"#f246fe\"], [0.7150837988826816, \"#fc67fd\"], [0.8044692737430168, \"#fe88fc\"], [0.8938547486033519, \"#fea5fd\"], [0.9832402234636871, \"#febefe\"], [1.0, \"#fec3fe\"]]}, \"colorway\": [\"#636efa\", \"#EF553B\", \"#00cc96\", \"#ab63fa\", \"#19d3f3\", \"#e763fa\", \"#FECB52\", \"#FFA15A\", \"#FF6692\", \"#B6E880\"], \"font\": {\"color\": \"#2a3f5f\"}, \"geo\": {\"bgcolor\": \"white\", \"lakecolor\": \"white\", \"landcolor\": \"#E5ECF6\", \"showlakes\": true, \"showland\": true, \"subunitcolor\": \"white\"}, \"hovermode\": \"closest\", \"mapbox\": {\"style\": \"light\"}, \"paper_bgcolor\": \"white\", \"plot_bgcolor\": \"#E5ECF6\", \"polar\": {\"angularaxis\": {\"gridcolor\": \"white\", \"linecolor\": \"white\", \"ticks\": \"\"}, \"bgcolor\": \"#E5ECF6\", \"radialaxis\": {\"gridcolor\": \"white\", \"linecolor\": \"white\", \"ticks\": \"\"}}, \"scene\": {\"xaxis\": {\"backgroundcolor\": \"#E5ECF6\", \"gridcolor\": \"white\", \"gridwidth\": 2, \"linecolor\": \"white\", \"showbackground\": true, \"ticks\": \"\", \"zerolinecolor\": \"white\"}, \"yaxis\": {\"backgroundcolor\": \"#E5ECF6\", \"gridcolor\": \"white\", \"gridwidth\": 2, \"linecolor\": \"white\", \"showbackground\": true, \"ticks\": \"\", \"zerolinecolor\": \"white\"}, \"zaxis\": {\"backgroundcolor\": \"#E5ECF6\", \"gridcolor\": \"white\", \"gridwidth\": 2, \"linecolor\": \"white\", \"showbackground\": true, \"ticks\": \"\", \"zerolinecolor\": \"white\"}}, \"shapedefaults\": {\"fillcolor\": \"#506784\", \"line\": {\"width\": 0}, \"opacity\": 0.4}, \"ternary\": {\"aaxis\": {\"gridcolor\": \"white\", \"linecolor\": \"white\", \"ticks\": \"\"}, \"baxis\": {\"gridcolor\": \"white\", \"linecolor\": \"white\", \"ticks\": \"\"}, \"bgcolor\": \"#E5ECF6\", \"caxis\": {\"gridcolor\": \"white\", \"linecolor\": \"white\", \"ticks\": \"\"}}, \"title\": {\"x\": 0.05}, \"xaxis\": {\"automargin\": true, \"gridcolor\": \"white\", \"linecolor\": \"white\", \"ticks\": \"\", \"zerolinecolor\": \"white\", \"zerolinewidth\": 2}, \"yaxis\": {\"automargin\": true, \"gridcolor\": \"white\", \"linecolor\": \"white\", \"ticks\": \"\", \"zerolinecolor\": \"white\", \"zerolinewidth\": 2}}}, \"grid\": {\"xaxes\": [\"x\"], \"yaxes\": [\"y\"], \"xgap\": 0.1, \"ygap\": 0.1, \"xside\": \"bottom\", \"yside\": \"left\"}, \"xaxis\": {\"title\": {\"text\": \"Date\"}}, \"yaxis\": {\"title\": {\"text\": \"Total Deaths\"}}}, {\"showLink\": false, \"linkText\": \"Export to plot.ly\", \"plotlyServerURL\": \"https://plot.ly\"}); \n",
       "}\n",
       "});</script><script type=\"text/javascript\">window.addEventListener(\"resize\", function(){if (document.getElementById(\"e97ce7c7-88e6-465f-9a44-723b380b0afb\")) {window._Plotly.Plots.resize(document.getElementById(\"e97ce7c7-88e6-465f-9a44-723b380b0afb\"));};})</script>"
      ]
     },
     "metadata": {},
     "output_type": "display_data"
    }
   ],
   "source": [
    "px.line(weekly_deaths_2019, x='Date', y='Total Deaths')"
   ]
  },
  {
   "cell_type": "code",
   "execution_count": 29,
   "metadata": {},
   "outputs": [
    {
     "data": {
      "text/html": [
       "<div>\n",
       "<style scoped>\n",
       "    .dataframe tbody tr th:only-of-type {\n",
       "        vertical-align: middle;\n",
       "    }\n",
       "\n",
       "    .dataframe tbody tr th {\n",
       "        vertical-align: top;\n",
       "    }\n",
       "\n",
       "    .dataframe thead th {\n",
       "        text-align: right;\n",
       "    }\n",
       "</style>\n",
       "<table border=\"1\" class=\"dataframe\">\n",
       "  <thead>\n",
       "    <tr style=\"text-align: right;\">\n",
       "      <th></th>\n",
       "      <th>Date</th>\n",
       "      <th>Total Deaths</th>\n",
       "    </tr>\n",
       "  </thead>\n",
       "  <tbody>\n",
       "    <tr>\n",
       "      <th>0</th>\n",
       "      <td>2011-10-02</td>\n",
       "      <td>19.0</td>\n",
       "    </tr>\n",
       "    <tr>\n",
       "      <th>1</th>\n",
       "      <td>2011-10-09</td>\n",
       "      <td>0.0</td>\n",
       "    </tr>\n",
       "  </tbody>\n",
       "</table>\n",
       "</div>"
      ],
      "text/plain": [
       "        Date  Total Deaths\n",
       "0 2011-10-02          19.0\n",
       "1 2011-10-09           0.0"
      ]
     },
     "execution_count": 29,
     "metadata": {},
     "output_type": "execute_result"
    }
   ],
   "source": [
    "deaths = zam.resample('W')['Total Deaths'].sum()\n",
    "\n",
    "\n",
    "\n",
    "deaths = pd.DataFrame(deaths)\n",
    "\n",
    "\n",
    "\n",
    "deaths = deaths.reset_index()\n",
    "\n",
    "\n",
    "\n",
    "deaths.head(2)"
   ]
  },
  {
   "cell_type": "code",
   "execution_count": 30,
   "metadata": {},
   "outputs": [
    {
     "data": {
      "application/vnd.plotly.v1+json": {
       "config": {
        "linkText": "Export to plot.ly",
        "plotlyServerURL": "https://plot.ly",
        "showLink": false
       },
       "data": [
        {
         "hovertemplate": "Date=%{x}<br>Total Deaths=%{y}<extra></extra>",
         "legendgroup": "",
         "line": {
          "color": "#636efa",
          "dash": "solid"
         },
         "mode": "lines",
         "name": "",
         "showlegend": false,
         "type": "scatter",
         "uid": "5494549b-f677-4e9a-9053-781600fe3a13",
         "x": [
          "2011-10-02 04:00:00",
          "2011-10-09 04:00:00",
          "2011-10-16 04:00:00",
          "2011-10-23 04:00:00",
          "2011-10-30 04:00:00",
          "2011-11-06 04:00:00",
          "2011-11-13 05:00:00",
          "2011-11-20 05:00:00",
          "2011-11-27 05:00:00",
          "2011-12-04 05:00:00",
          "2011-12-11 05:00:00",
          "2011-12-18 05:00:00",
          "2011-12-25 05:00:00",
          "2012-01-01 05:00:00",
          "2012-01-08 05:00:00",
          "2012-01-15 05:00:00",
          "2012-01-22 05:00:00",
          "2012-01-29 05:00:00",
          "2012-02-05 05:00:00",
          "2012-02-12 05:00:00",
          "2012-02-19 05:00:00",
          "2012-02-26 05:00:00",
          "2012-03-04 05:00:00",
          "2012-03-11 05:00:00",
          "2012-03-18 04:00:00",
          "2012-03-25 04:00:00",
          "2012-04-01 04:00:00",
          "2012-04-08 04:00:00",
          "2012-04-15 04:00:00",
          "2012-04-22 04:00:00",
          "2012-04-29 04:00:00",
          "2012-05-06 04:00:00",
          "2012-05-13 04:00:00",
          "2012-05-20 04:00:00",
          "2012-05-27 04:00:00",
          "2012-06-03 04:00:00",
          "2012-06-10 04:00:00",
          "2012-06-17 04:00:00",
          "2012-06-24 04:00:00",
          "2012-07-01 04:00:00",
          "2012-07-08 04:00:00",
          "2012-07-15 04:00:00",
          "2012-07-22 04:00:00",
          "2012-07-29 04:00:00",
          "2012-08-05 04:00:00",
          "2012-08-12 04:00:00",
          "2012-08-19 04:00:00",
          "2012-08-26 04:00:00",
          "2012-09-02 04:00:00",
          "2012-09-09 04:00:00",
          "2012-09-16 04:00:00",
          "2012-09-23 04:00:00",
          "2012-09-30 04:00:00",
          "2012-10-07 04:00:00",
          "2012-10-14 04:00:00",
          "2012-10-21 04:00:00",
          "2012-10-28 04:00:00",
          "2012-11-04 04:00:00",
          "2012-11-11 05:00:00",
          "2012-11-18 05:00:00",
          "2012-11-25 05:00:00",
          "2012-12-02 05:00:00",
          "2012-12-09 05:00:00",
          "2012-12-16 05:00:00",
          "2012-12-23 05:00:00",
          "2012-12-30 05:00:00",
          "2013-01-06 05:00:00",
          "2013-01-13 05:00:00",
          "2013-01-20 05:00:00",
          "2013-01-27 05:00:00",
          "2013-02-03 05:00:00",
          "2013-02-10 05:00:00",
          "2013-02-17 05:00:00",
          "2013-02-24 05:00:00",
          "2013-03-03 05:00:00",
          "2013-03-10 05:00:00",
          "2013-03-17 04:00:00",
          "2013-03-24 04:00:00",
          "2013-03-31 04:00:00",
          "2013-04-07 04:00:00",
          "2013-04-14 04:00:00",
          "2013-04-21 04:00:00",
          "2013-04-28 04:00:00",
          "2013-05-05 04:00:00",
          "2013-05-12 04:00:00",
          "2013-05-19 04:00:00",
          "2013-05-26 04:00:00",
          "2013-06-02 04:00:00",
          "2013-06-09 04:00:00",
          "2013-06-16 04:00:00",
          "2013-06-23 04:00:00",
          "2013-06-30 04:00:00",
          "2013-07-07 04:00:00",
          "2013-07-14 04:00:00",
          "2013-07-21 04:00:00",
          "2013-07-28 04:00:00",
          "2013-08-04 04:00:00",
          "2013-08-11 04:00:00",
          "2013-08-18 04:00:00",
          "2013-08-25 04:00:00",
          "2013-09-01 04:00:00",
          "2013-09-08 04:00:00",
          "2013-09-15 04:00:00",
          "2013-09-22 04:00:00",
          "2013-09-29 04:00:00",
          "2013-10-06 04:00:00",
          "2013-10-13 04:00:00",
          "2013-10-20 04:00:00",
          "2013-10-27 04:00:00",
          "2013-11-03 04:00:00",
          "2013-11-10 05:00:00",
          "2013-11-17 05:00:00",
          "2013-11-24 05:00:00",
          "2013-12-01 05:00:00",
          "2013-12-08 05:00:00",
          "2013-12-15 05:00:00",
          "2013-12-22 05:00:00",
          "2013-12-29 05:00:00",
          "2014-01-05 05:00:00",
          "2014-01-12 05:00:00",
          "2014-01-19 05:00:00",
          "2014-01-26 05:00:00",
          "2014-02-02 05:00:00",
          "2014-02-09 05:00:00",
          "2014-02-16 05:00:00",
          "2014-02-23 05:00:00",
          "2014-03-02 05:00:00",
          "2014-03-09 05:00:00",
          "2014-03-16 04:00:00",
          "2014-03-23 04:00:00",
          "2014-03-30 04:00:00",
          "2014-04-06 04:00:00",
          "2014-04-13 04:00:00",
          "2014-04-20 04:00:00",
          "2014-04-27 04:00:00",
          "2014-05-04 04:00:00",
          "2014-05-11 04:00:00",
          "2014-05-18 04:00:00",
          "2014-05-25 04:00:00",
          "2014-06-01 04:00:00",
          "2014-06-08 04:00:00",
          "2014-06-15 04:00:00",
          "2014-06-22 04:00:00",
          "2014-06-29 04:00:00",
          "2014-07-06 04:00:00",
          "2014-07-13 04:00:00",
          "2014-07-20 04:00:00",
          "2014-07-27 04:00:00",
          "2014-08-03 04:00:00",
          "2014-08-10 04:00:00",
          "2014-08-17 04:00:00",
          "2014-08-24 04:00:00",
          "2014-08-31 04:00:00",
          "2014-09-07 04:00:00",
          "2014-09-14 04:00:00",
          "2014-09-21 04:00:00",
          "2014-09-28 04:00:00",
          "2014-10-05 04:00:00",
          "2014-10-12 04:00:00",
          "2014-10-19 04:00:00",
          "2014-10-26 04:00:00",
          "2014-11-02 04:00:00",
          "2014-11-09 05:00:00",
          "2014-11-16 05:00:00",
          "2014-11-23 05:00:00",
          "2014-11-30 05:00:00",
          "2014-12-07 05:00:00",
          "2014-12-14 05:00:00",
          "2014-12-21 05:00:00",
          "2014-12-28 05:00:00",
          "2015-01-04 05:00:00",
          "2015-01-11 05:00:00",
          "2015-01-18 05:00:00",
          "2015-01-25 05:00:00",
          "2015-02-01 05:00:00",
          "2015-02-08 05:00:00",
          "2015-02-15 05:00:00",
          "2015-02-22 05:00:00",
          "2015-03-01 05:00:00",
          "2015-03-08 05:00:00",
          "2015-03-15 04:00:00",
          "2015-03-22 04:00:00",
          "2015-03-29 04:00:00",
          "2015-04-05 04:00:00",
          "2015-04-12 04:00:00",
          "2015-04-19 04:00:00",
          "2015-04-26 04:00:00",
          "2015-05-03 04:00:00",
          "2015-05-10 04:00:00",
          "2015-05-17 04:00:00",
          "2015-05-24 04:00:00",
          "2015-05-31 04:00:00",
          "2015-06-07 04:00:00",
          "2015-06-14 04:00:00",
          "2015-06-21 04:00:00",
          "2015-06-28 04:00:00",
          "2015-07-05 04:00:00",
          "2015-07-12 04:00:00",
          "2015-07-19 04:00:00",
          "2015-07-26 04:00:00",
          "2015-08-02 04:00:00",
          "2015-08-09 04:00:00",
          "2015-08-16 04:00:00",
          "2015-08-23 04:00:00",
          "2015-08-30 04:00:00",
          "2015-09-06 04:00:00",
          "2015-09-13 04:00:00",
          "2015-09-20 04:00:00",
          "2015-09-27 04:00:00",
          "2015-10-04 04:00:00",
          "2015-10-11 04:00:00",
          "2015-10-18 04:00:00",
          "2015-10-25 04:00:00",
          "2015-11-01 04:00:00",
          "2015-11-08 05:00:00",
          "2015-11-15 05:00:00",
          "2015-11-22 05:00:00",
          "2015-11-29 05:00:00",
          "2015-12-06 05:00:00",
          "2015-12-13 05:00:00",
          "2015-12-20 05:00:00",
          "2015-12-27 05:00:00",
          "2016-01-03 05:00:00",
          "2016-01-10 05:00:00",
          "2016-01-17 05:00:00",
          "2016-01-24 05:00:00",
          "2016-01-31 05:00:00",
          "2016-02-07 05:00:00",
          "2016-02-14 05:00:00",
          "2016-02-21 05:00:00",
          "2016-02-28 05:00:00",
          "2016-03-06 05:00:00",
          "2016-03-13 05:00:00",
          "2016-03-20 04:00:00",
          "2016-03-27 04:00:00",
          "2016-04-03 04:00:00",
          "2016-04-10 04:00:00",
          "2016-04-17 04:00:00",
          "2016-04-24 04:00:00",
          "2016-05-01 04:00:00",
          "2016-05-08 04:00:00",
          "2016-05-15 04:00:00",
          "2016-05-22 04:00:00",
          "2016-05-29 04:00:00",
          "2016-06-05 04:00:00",
          "2016-06-12 04:00:00",
          "2016-06-19 04:00:00",
          "2016-06-26 04:00:00",
          "2016-07-03 04:00:00",
          "2016-07-10 04:00:00",
          "2016-07-17 04:00:00",
          "2016-07-24 04:00:00",
          "2016-07-31 04:00:00",
          "2016-08-07 04:00:00",
          "2016-08-14 04:00:00",
          "2016-08-21 04:00:00",
          "2016-08-28 04:00:00",
          "2016-09-04 04:00:00",
          "2016-09-11 04:00:00",
          "2016-09-18 04:00:00",
          "2016-09-25 04:00:00",
          "2016-10-02 04:00:00",
          "2016-10-09 04:00:00",
          "2016-10-16 04:00:00",
          "2016-10-23 04:00:00",
          "2016-10-30 04:00:00",
          "2016-11-06 04:00:00",
          "2016-11-13 05:00:00",
          "2016-11-20 05:00:00",
          "2016-11-27 05:00:00",
          "2016-12-04 05:00:00",
          "2016-12-11 05:00:00",
          "2016-12-18 05:00:00",
          "2016-12-25 05:00:00",
          "2017-01-01 05:00:00",
          "2017-01-08 05:00:00",
          "2017-01-15 05:00:00",
          "2017-01-22 05:00:00",
          "2017-01-29 05:00:00",
          "2017-02-05 05:00:00",
          "2017-02-12 05:00:00",
          "2017-02-19 05:00:00",
          "2017-02-26 05:00:00",
          "2017-03-05 05:00:00",
          "2017-03-12 05:00:00",
          "2017-03-19 04:00:00",
          "2017-03-26 04:00:00",
          "2017-04-02 04:00:00",
          "2017-04-09 04:00:00",
          "2017-04-16 04:00:00",
          "2017-04-23 04:00:00",
          "2017-04-30 04:00:00",
          "2017-05-07 04:00:00",
          "2017-05-14 04:00:00",
          "2017-05-21 04:00:00",
          "2017-05-28 04:00:00",
          "2017-06-04 04:00:00",
          "2017-06-11 04:00:00",
          "2017-06-18 04:00:00",
          "2017-06-25 04:00:00",
          "2017-07-02 04:00:00",
          "2017-07-09 04:00:00",
          "2017-07-16 04:00:00",
          "2017-07-23 04:00:00",
          "2017-07-30 04:00:00",
          "2017-08-06 04:00:00",
          "2017-08-13 04:00:00",
          "2017-08-20 04:00:00",
          "2017-08-27 04:00:00",
          "2017-09-03 04:00:00",
          "2017-09-10 04:00:00",
          "2017-09-17 04:00:00",
          "2017-09-24 04:00:00",
          "2017-10-01 04:00:00",
          "2017-10-08 04:00:00",
          "2017-10-15 04:00:00",
          "2017-10-22 04:00:00",
          "2017-10-29 04:00:00",
          "2017-11-05 04:00:00",
          "2017-11-12 05:00:00",
          "2017-11-19 05:00:00",
          "2017-11-26 05:00:00",
          "2017-12-03 05:00:00",
          "2017-12-10 05:00:00",
          "2017-12-17 05:00:00",
          "2017-12-24 05:00:00",
          "2017-12-31 05:00:00",
          "2018-01-07 05:00:00",
          "2018-01-14 05:00:00",
          "2018-01-21 05:00:00",
          "2018-01-28 05:00:00",
          "2018-02-04 05:00:00",
          "2018-02-11 05:00:00",
          "2018-02-18 05:00:00",
          "2018-02-25 05:00:00",
          "2018-03-04 05:00:00",
          "2018-03-11 05:00:00",
          "2018-03-18 04:00:00",
          "2018-03-25 04:00:00",
          "2018-04-01 04:00:00",
          "2018-04-08 04:00:00",
          "2018-04-15 04:00:00",
          "2018-04-22 04:00:00",
          "2018-04-29 04:00:00",
          "2018-05-06 04:00:00",
          "2018-05-13 04:00:00",
          "2018-05-20 04:00:00",
          "2018-05-27 04:00:00",
          "2018-06-03 04:00:00",
          "2018-06-10 04:00:00",
          "2018-06-17 04:00:00",
          "2018-06-24 04:00:00",
          "2018-07-01 04:00:00",
          "2018-07-08 04:00:00",
          "2018-07-15 04:00:00",
          "2018-07-22 04:00:00",
          "2018-07-29 04:00:00",
          "2018-08-05 04:00:00",
          "2018-08-12 04:00:00",
          "2018-08-19 04:00:00",
          "2018-08-26 04:00:00",
          "2018-09-02 04:00:00",
          "2018-09-09 04:00:00",
          "2018-09-16 04:00:00",
          "2018-09-23 04:00:00",
          "2018-09-30 04:00:00",
          "2018-10-07 04:00:00",
          "2018-10-14 04:00:00",
          "2018-10-21 04:00:00",
          "2018-10-28 04:00:00",
          "2018-11-04 04:00:00",
          "2018-11-11 05:00:00",
          "2018-11-18 05:00:00",
          "2018-11-25 05:00:00",
          "2018-12-02 05:00:00",
          "2018-12-09 05:00:00",
          "2018-12-16 05:00:00",
          "2018-12-23 05:00:00",
          "2018-12-30 05:00:00",
          "2019-01-06 05:00:00",
          "2019-01-13 05:00:00",
          "2019-01-20 05:00:00",
          "2019-01-27 05:00:00",
          "2019-02-03 05:00:00",
          "2019-02-10 05:00:00",
          "2019-02-17 05:00:00",
          "2019-02-24 05:00:00",
          "2019-03-03 05:00:00",
          "2019-03-10 05:00:00",
          "2019-03-17 04:00:00",
          "2019-03-24 04:00:00",
          "2019-03-31 04:00:00",
          "2019-04-07 04:00:00"
         ],
         "xaxis": "x",
         "y": [
          19,
          0,
          0,
          0,
          0,
          0,
          0,
          0,
          0,
          0,
          0,
          0,
          0,
          0,
          0,
          0,
          0,
          0,
          0,
          1,
          0,
          0,
          0,
          0,
          0,
          0,
          0,
          0,
          0,
          0,
          0,
          0,
          0,
          0,
          0,
          0,
          27,
          0,
          0,
          0,
          0,
          0,
          0,
          0,
          0,
          0,
          0,
          0,
          0,
          0,
          0,
          0,
          0,
          0,
          0,
          0,
          0,
          20,
          0,
          0,
          0,
          0,
          0,
          11,
          0,
          0,
          10,
          0,
          0,
          0,
          0,
          0,
          0,
          7,
          0,
          0,
          0,
          0,
          0,
          0,
          0,
          0,
          0,
          0,
          0,
          0,
          0,
          0,
          0,
          0,
          52,
          0,
          0,
          0,
          0,
          0,
          0,
          0,
          0,
          0,
          0,
          0,
          0,
          0,
          0,
          0,
          0,
          0,
          0,
          0,
          0,
          0,
          0,
          13,
          0,
          0,
          0,
          0,
          0,
          0,
          0,
          0,
          0,
          16,
          0,
          0,
          0,
          0,
          0,
          0,
          0,
          228,
          0,
          0,
          0,
          0,
          0,
          0,
          0,
          0,
          0,
          0,
          0,
          0,
          0,
          0,
          0,
          0,
          0,
          0,
          0,
          0,
          0,
          0,
          0,
          0,
          0,
          0,
          0,
          0,
          0,
          42,
          0,
          0,
          0,
          8,
          0,
          0,
          0,
          0,
          0,
          0,
          0,
          0,
          0,
          0,
          0,
          0,
          0,
          0,
          0,
          0,
          0,
          0,
          0,
          0,
          0,
          0,
          0,
          0,
          0,
          0,
          0,
          0,
          0,
          0,
          40,
          0,
          0,
          0,
          0,
          0,
          0,
          0,
          0,
          0,
          0,
          0,
          0,
          0,
          0,
          0,
          0,
          0,
          0,
          0,
          0,
          0,
          0,
          0,
          0,
          0,
          0,
          0,
          0,
          0,
          0,
          50,
          0,
          0,
          0,
          0,
          0,
          9,
          0,
          0,
          4,
          0,
          0,
          0,
          20,
          0,
          0,
          0,
          0,
          0,
          0,
          23,
          3,
          16,
          11,
          0,
          0,
          0,
          0,
          0,
          28,
          2,
          0,
          7,
          2,
          0,
          0,
          0,
          4,
          0,
          0,
          40,
          60,
          0,
          0,
          0,
          0,
          0,
          0,
          0,
          0,
          0,
          1,
          0,
          3,
          24,
          0,
          0,
          0,
          0,
          0,
          0,
          0,
          0,
          0,
          0,
          0,
          1,
          0,
          0,
          0,
          0,
          0,
          0,
          0,
          0,
          0,
          0,
          0,
          0,
          0,
          0,
          0,
          0,
          0,
          0,
          2,
          0,
          0,
          0,
          120,
          5,
          0,
          0,
          25,
          0,
          0,
          0,
          0,
          0,
          0,
          1,
          0,
          0,
          6,
          0,
          0,
          41,
          1,
          0,
          0,
          0,
          0,
          36,
          23,
          40,
          30,
          0,
          13,
          8,
          1,
          7,
          24,
          6,
          26,
          20,
          23,
          1,
          1,
          33,
          4,
          30,
          30,
          0,
          35,
          0,
          0,
          11,
          0,
          0,
          0,
          0,
          0,
          6,
          0,
          0,
          0,
          0,
          120,
          0,
          8,
          42,
          5,
          58,
          0,
          62,
          0,
          42,
          27,
          45,
          67,
          114,
          86,
          59,
          1,
          51,
          50
         ],
         "yaxis": "y"
        }
       ],
       "layout": {
        "autosize": true,
        "grid": {
         "xaxes": [
          "x"
         ],
         "xgap": 0.1,
         "xside": "bottom",
         "yaxes": [
          "y"
         ],
         "ygap": 0.1,
         "yside": "left"
        },
        "legend": {
         "tracegroupgap": 0
        },
        "margin": {
         "t": 60
        },
        "template": {
         "data": {
          "bar": [
           {
            "marker": {
             "line": {
              "color": "#E5ECF6",
              "width": 0.5
             }
            },
            "type": "bar"
           }
          ],
          "barpolar": [
           {
            "marker": {
             "line": {
              "color": "#E5ECF6",
              "width": 0.5
             }
            },
            "type": "barpolar"
           }
          ],
          "carpet": [
           {
            "aaxis": {
             "endlinecolor": "#2a3f5f",
             "gridcolor": "white",
             "linecolor": "white",
             "minorgridcolor": "white",
             "startlinecolor": "#2a3f5f"
            },
            "baxis": {
             "endlinecolor": "#2a3f5f",
             "gridcolor": "white",
             "linecolor": "white",
             "minorgridcolor": "white",
             "startlinecolor": "#2a3f5f"
            },
            "type": "carpet"
           }
          ],
          "choropleth": [
           {
            "colorbar": {
             "outlinewidth": 0,
             "ticks": ""
            },
            "type": "choropleth"
           }
          ],
          "contour": [
           {
            "autocolorscale": true,
            "colorbar": {
             "outlinewidth": 0,
             "ticks": ""
            },
            "type": "contour"
           }
          ],
          "contourcarpet": [
           {
            "colorbar": {
             "outlinewidth": 0,
             "ticks": ""
            },
            "type": "contourcarpet"
           }
          ],
          "heatmap": [
           {
            "autocolorscale": true,
            "colorbar": {
             "outlinewidth": 0,
             "ticks": ""
            },
            "type": "heatmap"
           }
          ],
          "heatmapgl": [
           {
            "colorbar": {
             "outlinewidth": 0,
             "ticks": ""
            },
            "type": "heatmapgl"
           }
          ],
          "histogram": [
           {
            "marker": {
             "colorbar": {
              "outlinewidth": 0,
              "ticks": ""
             }
            },
            "type": "histogram"
           }
          ],
          "histogram2d": [
           {
            "autocolorscale": true,
            "colorbar": {
             "outlinewidth": 0,
             "ticks": ""
            },
            "type": "histogram2d"
           }
          ],
          "histogram2dcontour": [
           {
            "autocolorscale": true,
            "colorbar": {
             "outlinewidth": 0,
             "ticks": ""
            },
            "type": "histogram2dcontour"
           }
          ],
          "mesh3d": [
           {
            "colorbar": {
             "outlinewidth": 0,
             "ticks": ""
            },
            "type": "mesh3d"
           }
          ],
          "parcoords": [
           {
            "line": {
             "colorbar": {
              "outlinewidth": 0,
              "ticks": ""
             }
            },
            "type": "parcoords"
           }
          ],
          "scatter": [
           {
            "marker": {
             "colorbar": {
              "outlinewidth": 0,
              "ticks": ""
             }
            },
            "type": "scatter"
           }
          ],
          "scatter3d": [
           {
            "marker": {
             "colorbar": {
              "outlinewidth": 0,
              "ticks": ""
             }
            },
            "type": "scatter3d"
           }
          ],
          "scattercarpet": [
           {
            "marker": {
             "colorbar": {
              "outlinewidth": 0,
              "ticks": ""
             }
            },
            "type": "scattercarpet"
           }
          ],
          "scattergeo": [
           {
            "marker": {
             "colorbar": {
              "outlinewidth": 0,
              "ticks": ""
             }
            },
            "type": "scattergeo"
           }
          ],
          "scattergl": [
           {
            "marker": {
             "colorbar": {
              "outlinewidth": 0,
              "ticks": ""
             }
            },
            "type": "scattergl"
           }
          ],
          "scattermapbox": [
           {
            "marker": {
             "colorbar": {
              "outlinewidth": 0,
              "ticks": ""
             }
            },
            "type": "scattermapbox"
           }
          ],
          "scatterpolar": [
           {
            "marker": {
             "colorbar": {
              "outlinewidth": 0,
              "ticks": ""
             }
            },
            "type": "scatterpolar"
           }
          ],
          "scatterpolargl": [
           {
            "marker": {
             "colorbar": {
              "outlinewidth": 0,
              "ticks": ""
             }
            },
            "type": "scatterpolargl"
           }
          ],
          "scatterternary": [
           {
            "marker": {
             "colorbar": {
              "outlinewidth": 0,
              "ticks": ""
             }
            },
            "type": "scatterternary"
           }
          ],
          "surface": [
           {
            "colorbar": {
             "outlinewidth": 0,
             "ticks": ""
            },
            "type": "surface"
           }
          ],
          "table": [
           {
            "cells": {
             "fill": {
              "color": "#EBF0F8"
             },
             "line": {
              "color": "white"
             }
            },
            "header": {
             "fill": {
              "color": "#C8D4E3"
             },
             "line": {
              "color": "white"
             }
            },
            "type": "table"
           }
          ]
         },
         "layout": {
          "annotationdefaults": {
           "arrowcolor": "#506784",
           "arrowhead": 0,
           "arrowwidth": 1
          },
          "colorscale": {
           "diverging": [
            [
             0,
             "#8e0152"
            ],
            [
             0.1,
             "#c51b7d"
            ],
            [
             0.2,
             "#de77ae"
            ],
            [
             0.3,
             "#f1b6da"
            ],
            [
             0.4,
             "#fde0ef"
            ],
            [
             0.5,
             "#f7f7f7"
            ],
            [
             0.6,
             "#e6f5d0"
            ],
            [
             0.7,
             "#b8e186"
            ],
            [
             0.8,
             "#7fbc41"
            ],
            [
             0.9,
             "#4d9221"
            ],
            [
             1,
             "#276419"
            ]
           ],
           "sequential": [
            [
             0,
             "#0508b8"
            ],
            [
             0.0893854748603352,
             "#1910d8"
            ],
            [
             0.1787709497206704,
             "#3c19f0"
            ],
            [
             0.2681564245810056,
             "#6b1cfb"
            ],
            [
             0.3575418994413408,
             "#981cfd"
            ],
            [
             0.44692737430167595,
             "#bf1cfd"
            ],
            [
             0.5363128491620112,
             "#dd2bfd"
            ],
            [
             0.6256983240223464,
             "#f246fe"
            ],
            [
             0.7150837988826816,
             "#fc67fd"
            ],
            [
             0.8044692737430168,
             "#fe88fc"
            ],
            [
             0.8938547486033519,
             "#fea5fd"
            ],
            [
             0.9832402234636871,
             "#febefe"
            ],
            [
             1,
             "#fec3fe"
            ]
           ],
           "sequentialminus": [
            [
             0,
             "#0508b8"
            ],
            [
             0.0893854748603352,
             "#1910d8"
            ],
            [
             0.1787709497206704,
             "#3c19f0"
            ],
            [
             0.2681564245810056,
             "#6b1cfb"
            ],
            [
             0.3575418994413408,
             "#981cfd"
            ],
            [
             0.44692737430167595,
             "#bf1cfd"
            ],
            [
             0.5363128491620112,
             "#dd2bfd"
            ],
            [
             0.6256983240223464,
             "#f246fe"
            ],
            [
             0.7150837988826816,
             "#fc67fd"
            ],
            [
             0.8044692737430168,
             "#fe88fc"
            ],
            [
             0.8938547486033519,
             "#fea5fd"
            ],
            [
             0.9832402234636871,
             "#febefe"
            ],
            [
             1,
             "#fec3fe"
            ]
           ]
          },
          "colorway": [
           "#636efa",
           "#EF553B",
           "#00cc96",
           "#ab63fa",
           "#19d3f3",
           "#e763fa",
           "#FECB52",
           "#FFA15A",
           "#FF6692",
           "#B6E880"
          ],
          "font": {
           "color": "#2a3f5f"
          },
          "geo": {
           "bgcolor": "white",
           "lakecolor": "white",
           "landcolor": "#E5ECF6",
           "showlakes": true,
           "showland": true,
           "subunitcolor": "white"
          },
          "hovermode": "closest",
          "mapbox": {
           "style": "light"
          },
          "paper_bgcolor": "white",
          "plot_bgcolor": "#E5ECF6",
          "polar": {
           "angularaxis": {
            "gridcolor": "white",
            "linecolor": "white",
            "ticks": ""
           },
           "bgcolor": "#E5ECF6",
           "radialaxis": {
            "gridcolor": "white",
            "linecolor": "white",
            "ticks": ""
           }
          },
          "scene": {
           "xaxis": {
            "backgroundcolor": "#E5ECF6",
            "gridcolor": "white",
            "gridwidth": 2,
            "linecolor": "white",
            "showbackground": true,
            "ticks": "",
            "zerolinecolor": "white"
           },
           "yaxis": {
            "backgroundcolor": "#E5ECF6",
            "gridcolor": "white",
            "gridwidth": 2,
            "linecolor": "white",
            "showbackground": true,
            "ticks": "",
            "zerolinecolor": "white"
           },
           "zaxis": {
            "backgroundcolor": "#E5ECF6",
            "gridcolor": "white",
            "gridwidth": 2,
            "linecolor": "white",
            "showbackground": true,
            "ticks": "",
            "zerolinecolor": "white"
           }
          },
          "shapedefaults": {
           "fillcolor": "#506784",
           "line": {
            "width": 0
           },
           "opacity": 0.4
          },
          "ternary": {
           "aaxis": {
            "gridcolor": "white",
            "linecolor": "white",
            "ticks": ""
           },
           "baxis": {
            "gridcolor": "white",
            "linecolor": "white",
            "ticks": ""
           },
           "bgcolor": "#E5ECF6",
           "caxis": {
            "gridcolor": "white",
            "linecolor": "white",
            "ticks": ""
           }
          },
          "title": {
           "x": 0.05
          },
          "xaxis": {
           "automargin": true,
           "gridcolor": "white",
           "linecolor": "white",
           "ticks": "",
           "zerolinecolor": "white",
           "zerolinewidth": 2
          },
          "yaxis": {
           "automargin": true,
           "gridcolor": "white",
           "linecolor": "white",
           "ticks": "",
           "zerolinecolor": "white",
           "zerolinewidth": 2
          }
         }
        },
        "xaxis": {
         "autorange": true,
         "range": [
          "2011-10-02 04:00",
          "2019-04-07 04:00"
         ],
         "title": {
          "text": "Date"
         },
         "type": "date"
        },
        "yaxis": {
         "autorange": true,
         "range": [
          -12.666666666666666,
          240.66666666666666
         ],
         "title": {
          "text": "Total Deaths"
         },
         "type": "linear"
        }
       }
      },
      "image/png": "[encoded data removed]",
      "text/html": [
       "<div id=\"20f71ba1-8853-441f-ba3f-ebdffef5dc1d\" style=\"height: 600px; width: 100%;\" class=\"plotly-graph-div\"></div><script type=\"text/javascript\">require([\"plotly\"], function(Plotly) { window.PLOTLYENV=window.PLOTLYENV || {};window.PLOTLYENV.BASE_URL=\"https://plot.ly\";\n",
       "if (document.getElementById(\"20f71ba1-8853-441f-ba3f-ebdffef5dc1d\")) {\n",
       "    Plotly.newPlot(\"20f71ba1-8853-441f-ba3f-ebdffef5dc1d\", [{\"hovertemplate\": \"Date=%{x}<br>Total Deaths=%{y}<extra></extra>\", \"legendgroup\": \"\", \"line\": {\"color\": \"#636efa\", \"dash\": \"solid\"}, \"mode\": \"lines\", \"name\": \"\", \"showlegend\": false, \"x\": [\"2011-10-02 04:00:00\", \"2011-10-09 04:00:00\", \"2011-10-16 04:00:00\", \"2011-10-23 04:00:00\", \"2011-10-30 04:00:00\", \"2011-11-06 04:00:00\", \"2011-11-13 05:00:00\", \"2011-11-20 05:00:00\", \"2011-11-27 05:00:00\", \"2011-12-04 05:00:00\", \"2011-12-11 05:00:00\", \"2011-12-18 05:00:00\", \"2011-12-25 05:00:00\", \"2012-01-01 05:00:00\", \"2012-01-08 05:00:00\", \"2012-01-15 05:00:00\", \"2012-01-22 05:00:00\", \"2012-01-29 05:00:00\", \"2012-02-05 05:00:00\", \"2012-02-12 05:00:00\", \"2012-02-19 05:00:00\", \"2012-02-26 05:00:00\", \"2012-03-04 05:00:00\", \"2012-03-11 05:00:00\", \"2012-03-18 04:00:00\", \"2012-03-25 04:00:00\", \"2012-04-01 04:00:00\", \"2012-04-08 04:00:00\", \"2012-04-15 04:00:00\", \"2012-04-22 04:00:00\", \"2012-04-29 04:00:00\", \"2012-05-06 04:00:00\", \"2012-05-13 04:00:00\", \"2012-05-20 04:00:00\", \"2012-05-27 04:00:00\", \"2012-06-03 04:00:00\", \"2012-06-10 04:00:00\", \"2012-06-17 04:00:00\", \"2012-06-24 04:00:00\", \"2012-07-01 04:00:00\", \"2012-07-08 04:00:00\", \"2012-07-15 04:00:00\", \"2012-07-22 04:00:00\", \"2012-07-29 04:00:00\", \"2012-08-05 04:00:00\", \"2012-08-12 04:00:00\", \"2012-08-19 04:00:00\", \"2012-08-26 04:00:00\", \"2012-09-02 04:00:00\", \"2012-09-09 04:00:00\", \"2012-09-16 04:00:00\", \"2012-09-23 04:00:00\", \"2012-09-30 04:00:00\", \"2012-10-07 04:00:00\", \"2012-10-14 04:00:00\", \"2012-10-21 04:00:00\", \"2012-10-28 04:00:00\", \"2012-11-04 04:00:00\", \"2012-11-11 05:00:00\", \"2012-11-18 05:00:00\", \"2012-11-25 05:00:00\", \"2012-12-02 05:00:00\", \"2012-12-09 05:00:00\", \"2012-12-16 05:00:00\", \"2012-12-23 05:00:00\", \"2012-12-30 05:00:00\", \"2013-01-06 05:00:00\", \"2013-01-13 05:00:00\", \"2013-01-20 05:00:00\", \"2013-01-27 05:00:00\", \"2013-02-03 05:00:00\", \"2013-02-10 05:00:00\", \"2013-02-17 05:00:00\", \"2013-02-24 05:00:00\", \"2013-03-03 05:00:00\", \"2013-03-10 05:00:00\", \"2013-03-17 04:00:00\", \"2013-03-24 04:00:00\", \"2013-03-31 04:00:00\", \"2013-04-07 04:00:00\", \"2013-04-14 04:00:00\", \"2013-04-21 04:00:00\", \"2013-04-28 04:00:00\", \"2013-05-05 04:00:00\", \"2013-05-12 04:00:00\", \"2013-05-19 04:00:00\", \"2013-05-26 04:00:00\", \"2013-06-02 04:00:00\", \"2013-06-09 04:00:00\", \"2013-06-16 04:00:00\", \"2013-06-23 04:00:00\", \"2013-06-30 04:00:00\", \"2013-07-07 04:00:00\", \"2013-07-14 04:00:00\", \"2013-07-21 04:00:00\", \"2013-07-28 04:00:00\", \"2013-08-04 04:00:00\", \"2013-08-11 04:00:00\", \"2013-08-18 04:00:00\", \"2013-08-25 04:00:00\", \"2013-09-01 04:00:00\", \"2013-09-08 04:00:00\", \"2013-09-15 04:00:00\", \"2013-09-22 04:00:00\", \"2013-09-29 04:00:00\", \"2013-10-06 04:00:00\", \"2013-10-13 04:00:00\", \"2013-10-20 04:00:00\", \"2013-10-27 04:00:00\", \"2013-11-03 04:00:00\", \"2013-11-10 05:00:00\", \"2013-11-17 05:00:00\", \"2013-11-24 05:00:00\", \"2013-12-01 05:00:00\", \"2013-12-08 05:00:00\", \"2013-12-15 05:00:00\", \"2013-12-22 05:00:00\", \"2013-12-29 05:00:00\", \"2014-01-05 05:00:00\", \"2014-01-12 05:00:00\", \"2014-01-19 05:00:00\", \"2014-01-26 05:00:00\", \"2014-02-02 05:00:00\", \"2014-02-09 05:00:00\", \"2014-02-16 05:00:00\", \"2014-02-23 05:00:00\", \"2014-03-02 05:00:00\", \"2014-03-09 05:00:00\", \"2014-03-16 04:00:00\", \"2014-03-23 04:00:00\", \"2014-03-30 04:00:00\", \"2014-04-06 04:00:00\", \"2014-04-13 04:00:00\", \"2014-04-20 04:00:00\", \"2014-04-27 04:00:00\", \"2014-05-04 04:00:00\", \"2014-05-11 04:00:00\", \"2014-05-18 04:00:00\", \"2014-05-25 04:00:00\", \"2014-06-01 04:00:00\", \"2014-06-08 04:00:00\", \"2014-06-15 04:00:00\", \"2014-06-22 04:00:00\", \"2014-06-29 04:00:00\", \"2014-07-06 04:00:00\", \"2014-07-13 04:00:00\", \"2014-07-20 04:00:00\", \"2014-07-27 04:00:00\", \"2014-08-03 04:00:00\", \"2014-08-10 04:00:00\", \"2014-08-17 04:00:00\", \"2014-08-24 04:00:00\", \"2014-08-31 04:00:00\", \"2014-09-07 04:00:00\", \"2014-09-14 04:00:00\", \"2014-09-21 04:00:00\", \"2014-09-28 04:00:00\", \"2014-10-05 04:00:00\", \"2014-10-12 04:00:00\", \"2014-10-19 04:00:00\", \"2014-10-26 04:00:00\", \"2014-11-02 04:00:00\", \"2014-11-09 05:00:00\", \"2014-11-16 05:00:00\", \"2014-11-23 05:00:00\", \"2014-11-30 05:00:00\", \"2014-12-07 05:00:00\", \"2014-12-14 05:00:00\", \"2014-12-21 05:00:00\", \"2014-12-28 05:00:00\", \"2015-01-04 05:00:00\", \"2015-01-11 05:00:00\", \"2015-01-18 05:00:00\", \"2015-01-25 05:00:00\", \"2015-02-01 05:00:00\", \"2015-02-08 05:00:00\", \"2015-02-15 05:00:00\", \"2015-02-22 05:00:00\", \"2015-03-01 05:00:00\", \"2015-03-08 05:00:00\", \"2015-03-15 04:00:00\", \"2015-03-22 04:00:00\", \"2015-03-29 04:00:00\", \"2015-04-05 04:00:00\", \"2015-04-12 04:00:00\", \"2015-04-19 04:00:00\", \"2015-04-26 04:00:00\", \"2015-05-03 04:00:00\", \"2015-05-10 04:00:00\", \"2015-05-17 04:00:00\", \"2015-05-24 04:00:00\", \"2015-05-31 04:00:00\", \"2015-06-07 04:00:00\", \"2015-06-14 04:00:00\", \"2015-06-21 04:00:00\", \"2015-06-28 04:00:00\", \"2015-07-05 04:00:00\", \"2015-07-12 04:00:00\", \"2015-07-19 04:00:00\", \"2015-07-26 04:00:00\", \"2015-08-02 04:00:00\", \"2015-08-09 04:00:00\", \"2015-08-16 04:00:00\", \"2015-08-23 04:00:00\", \"2015-08-30 04:00:00\", \"2015-09-06 04:00:00\", \"2015-09-13 04:00:00\", \"2015-09-20 04:00:00\", \"2015-09-27 04:00:00\", \"2015-10-04 04:00:00\", \"2015-10-11 04:00:00\", \"2015-10-18 04:00:00\", \"2015-10-25 04:00:00\", \"2015-11-01 04:00:00\", \"2015-11-08 05:00:00\", \"2015-11-15 05:00:00\", \"2015-11-22 05:00:00\", \"2015-11-29 05:00:00\", \"2015-12-06 05:00:00\", \"2015-12-13 05:00:00\", \"2015-12-20 05:00:00\", \"2015-12-27 05:00:00\", \"2016-01-03 05:00:00\", \"2016-01-10 05:00:00\", \"2016-01-17 05:00:00\", \"2016-01-24 05:00:00\", \"2016-01-31 05:00:00\", \"2016-02-07 05:00:00\", \"2016-02-14 05:00:00\", \"2016-02-21 05:00:00\", \"2016-02-28 05:00:00\", \"2016-03-06 05:00:00\", \"2016-03-13 05:00:00\", \"2016-03-20 04:00:00\", \"2016-03-27 04:00:00\", \"2016-04-03 04:00:00\", \"2016-04-10 04:00:00\", \"2016-04-17 04:00:00\", \"2016-04-24 04:00:00\", \"2016-05-01 04:00:00\", \"2016-05-08 04:00:00\", \"2016-05-15 04:00:00\", \"2016-05-22 04:00:00\", \"2016-05-29 04:00:00\", \"2016-06-05 04:00:00\", \"2016-06-12 04:00:00\", \"2016-06-19 04:00:00\", \"2016-06-26 04:00:00\", \"2016-07-03 04:00:00\", \"2016-07-10 04:00:00\", \"2016-07-17 04:00:00\", \"2016-07-24 04:00:00\", \"2016-07-31 04:00:00\", \"2016-08-07 04:00:00\", \"2016-08-14 04:00:00\", \"2016-08-21 04:00:00\", \"2016-08-28 04:00:00\", \"2016-09-04 04:00:00\", \"2016-09-11 04:00:00\", \"2016-09-18 04:00:00\", \"2016-09-25 04:00:00\", \"2016-10-02 04:00:00\", \"2016-10-09 04:00:00\", \"2016-10-16 04:00:00\", \"2016-10-23 04:00:00\", \"2016-10-30 04:00:00\", \"2016-11-06 04:00:00\", \"2016-11-13 05:00:00\", \"2016-11-20 05:00:00\", \"2016-11-27 05:00:00\", \"2016-12-04 05:00:00\", \"2016-12-11 05:00:00\", \"2016-12-18 05:00:00\", \"2016-12-25 05:00:00\", \"2017-01-01 05:00:00\", \"2017-01-08 05:00:00\", \"2017-01-15 05:00:00\", \"2017-01-22 05:00:00\", \"2017-01-29 05:00:00\", \"2017-02-05 05:00:00\", \"2017-02-12 05:00:00\", \"2017-02-19 05:00:00\", \"2017-02-26 05:00:00\", \"2017-03-05 05:00:00\", \"2017-03-12 05:00:00\", \"2017-03-19 04:00:00\", \"2017-03-26 04:00:00\", \"2017-04-02 04:00:00\", \"2017-04-09 04:00:00\", \"2017-04-16 04:00:00\", \"2017-04-23 04:00:00\", \"2017-04-30 04:00:00\", \"2017-05-07 04:00:00\", \"2017-05-14 04:00:00\", \"2017-05-21 04:00:00\", \"2017-05-28 04:00:00\", \"2017-06-04 04:00:00\", \"2017-06-11 04:00:00\", \"2017-06-18 04:00:00\", \"2017-06-25 04:00:00\", \"2017-07-02 04:00:00\", \"2017-07-09 04:00:00\", \"2017-07-16 04:00:00\", \"2017-07-23 04:00:00\", \"2017-07-30 04:00:00\", \"2017-08-06 04:00:00\", \"2017-08-13 04:00:00\", \"2017-08-20 04:00:00\", \"2017-08-27 04:00:00\", \"2017-09-03 04:00:00\", \"2017-09-10 04:00:00\", \"2017-09-17 04:00:00\", \"2017-09-24 04:00:00\", \"2017-10-01 04:00:00\", \"2017-10-08 04:00:00\", \"2017-10-15 04:00:00\", \"2017-10-22 04:00:00\", \"2017-10-29 04:00:00\", \"2017-11-05 04:00:00\", \"2017-11-12 05:00:00\", \"2017-11-19 05:00:00\", \"2017-11-26 05:00:00\", \"2017-12-03 05:00:00\", \"2017-12-10 05:00:00\", \"2017-12-17 05:00:00\", \"2017-12-24 05:00:00\", \"2017-12-31 05:00:00\", \"2018-01-07 05:00:00\", \"2018-01-14 05:00:00\", \"2018-01-21 05:00:00\", \"2018-01-28 05:00:00\", \"2018-02-04 05:00:00\", \"2018-02-11 05:00:00\", \"2018-02-18 05:00:00\", \"2018-02-25 05:00:00\", \"2018-03-04 05:00:00\", \"2018-03-11 05:00:00\", \"2018-03-18 04:00:00\", \"2018-03-25 04:00:00\", \"2018-04-01 04:00:00\", \"2018-04-08 04:00:00\", \"2018-04-15 04:00:00\", \"2018-04-22 04:00:00\", \"2018-04-29 04:00:00\", \"2018-05-06 04:00:00\", \"2018-05-13 04:00:00\", \"2018-05-20 04:00:00\", \"2018-05-27 04:00:00\", \"2018-06-03 04:00:00\", \"2018-06-10 04:00:00\", \"2018-06-17 04:00:00\", \"2018-06-24 04:00:00\", \"2018-07-01 04:00:00\", \"2018-07-08 04:00:00\", \"2018-07-15 04:00:00\", \"2018-07-22 04:00:00\", \"2018-07-29 04:00:00\", \"2018-08-05 04:00:00\", \"2018-08-12 04:00:00\", \"2018-08-19 04:00:00\", \"2018-08-26 04:00:00\", \"2018-09-02 04:00:00\", \"2018-09-09 04:00:00\", \"2018-09-16 04:00:00\", \"2018-09-23 04:00:00\", \"2018-09-30 04:00:00\", \"2018-10-07 04:00:00\", \"2018-10-14 04:00:00\", \"2018-10-21 04:00:00\", \"2018-10-28 04:00:00\", \"2018-11-04 04:00:00\", \"2018-11-11 05:00:00\", \"2018-11-18 05:00:00\", \"2018-11-25 05:00:00\", \"2018-12-02 05:00:00\", \"2018-12-09 05:00:00\", \"2018-12-16 05:00:00\", \"2018-12-23 05:00:00\", \"2018-12-30 05:00:00\", \"2019-01-06 05:00:00\", \"2019-01-13 05:00:00\", \"2019-01-20 05:00:00\", \"2019-01-27 05:00:00\", \"2019-02-03 05:00:00\", \"2019-02-10 05:00:00\", \"2019-02-17 05:00:00\", \"2019-02-24 05:00:00\", \"2019-03-03 05:00:00\", \"2019-03-10 05:00:00\", \"2019-03-17 04:00:00\", \"2019-03-24 04:00:00\", \"2019-03-31 04:00:00\", \"2019-04-07 04:00:00\"], \"xaxis\": \"x\", \"y\": [19.0, 0.0, 0.0, 0.0, 0.0, 0.0, 0.0, 0.0, 0.0, 0.0, 0.0, 0.0, 0.0, 0.0, 0.0, 0.0, 0.0, 0.0, 0.0, 1.0, 0.0, 0.0, 0.0, 0.0, 0.0, 0.0, 0.0, 0.0, 0.0, 0.0, 0.0, 0.0, 0.0, 0.0, 0.0, 0.0, 27.0, 0.0, 0.0, 0.0, 0.0, 0.0, 0.0, 0.0, 0.0, 0.0, 0.0, 0.0, 0.0, 0.0, 0.0, 0.0, 0.0, 0.0, 0.0, 0.0, 0.0, 20.0, 0.0, 0.0, 0.0, 0.0, 0.0, 11.0, 0.0, 0.0, 10.0, 0.0, 0.0, 0.0, 0.0, 0.0, 0.0, 7.0, 0.0, 0.0, 0.0, 0.0, 0.0, 0.0, 0.0, 0.0, 0.0, 0.0, 0.0, 0.0, 0.0, 0.0, 0.0, 0.0, 52.0, 0.0, 0.0, 0.0, 0.0, 0.0, 0.0, 0.0, 0.0, 0.0, 0.0, 0.0, 0.0, 0.0, 0.0, 0.0, 0.0, 0.0, 0.0, 0.0, 0.0, 0.0, 0.0, 13.0, 0.0, 0.0, 0.0, 0.0, 0.0, 0.0, 0.0, 0.0, 0.0, 16.0, 0.0, 0.0, 0.0, 0.0, 0.0, 0.0, 0.0, 228.0, 0.0, 0.0, 0.0, 0.0, 0.0, 0.0, 0.0, 0.0, 0.0, 0.0, 0.0, 0.0, 0.0, 0.0, 0.0, 0.0, 0.0, 0.0, 0.0, 0.0, 0.0, 0.0, 0.0, 0.0, 0.0, 0.0, 0.0, 0.0, 0.0, 42.0, 0.0, 0.0, 0.0, 8.0, 0.0, 0.0, 0.0, 0.0, 0.0, 0.0, 0.0, 0.0, 0.0, 0.0, 0.0, 0.0, 0.0, 0.0, 0.0, 0.0, 0.0, 0.0, 0.0, 0.0, 0.0, 0.0, 0.0, 0.0, 0.0, 0.0, 0.0, 0.0, 0.0, 0.0, 40.0, 0.0, 0.0, 0.0, 0.0, 0.0, 0.0, 0.0, 0.0, 0.0, 0.0, 0.0, 0.0, 0.0, 0.0, 0.0, 0.0, 0.0, 0.0, 0.0, 0.0, 0.0, 0.0, 0.0, 0.0, 0.0, 0.0, 0.0, 0.0, 0.0, 0.0, 50.0, 0.0, 0.0, 0.0, 0.0, 0.0, 9.0, 0.0, 0.0, 4.0, 0.0, 0.0, 0.0, 20.0, 0.0, 0.0, 0.0, 0.0, 0.0, 0.0, 23.0, 3.0, 16.0, 11.0, 0.0, 0.0, 0.0, 0.0, 0.0, 28.0, 2.0, 0.0, 7.0, 2.0, 0.0, 0.0, 0.0, 4.0, 0.0, 0.0, 40.0, 60.0, 0.0, 0.0, 0.0, 0.0, 0.0, 0.0, 0.0, 0.0, 0.0, 1.0, 0.0, 3.0, 24.0, 0.0, 0.0, 0.0, 0.0, 0.0, 0.0, 0.0, 0.0, 0.0, 0.0, 0.0, 1.0, 0.0, 0.0, 0.0, 0.0, 0.0, 0.0, 0.0, 0.0, 0.0, 0.0, 0.0, 0.0, 0.0, 0.0, 0.0, 0.0, 0.0, 0.0, 2.0, 0.0, 0.0, 0.0, 120.0, 5.0, 0.0, 0.0, 25.0, 0.0, 0.0, 0.0, 0.0, 0.0, 0.0, 1.0, 0.0, 0.0, 6.0, 0.0, 0.0, 41.0, 1.0, 0.0, 0.0, 0.0, 0.0, 36.0, 23.0, 40.0, 30.0, 0.0, 13.0, 8.0, 1.0, 7.0, 24.0, 6.0, 26.0, 20.0, 23.0, 1.0, 1.0, 33.0, 4.0, 30.0, 30.0, 0.0, 35.0, 0.0, 0.0, 11.0, 0.0, 0.0, 0.0, 0.0, 0.0, 6.0, 0.0, 0.0, 0.0, 0.0, 120.0, 0.0, 8.0, 42.0, 5.0, 58.0, 0.0, 62.0, 0.0, 42.0, 27.0, 45.0, 67.0, 114.0, 86.0, 59.0, 1.0, 51.0, 50.0], \"yaxis\": \"y\", \"type\": \"scatter\", \"uid\": \"5494549b-f677-4e9a-9053-781600fe3a13\"}], {\"height\": 600, \"legend\": {\"tracegroupgap\": 0}, \"margin\": {\"t\": 60}, \"template\": {\"data\": {\"barpolar\": [{\"marker\": {\"line\": {\"color\": \"#E5ECF6\", \"width\": 0.5}}, \"type\": \"barpolar\"}], \"bar\": [{\"marker\": {\"line\": {\"color\": \"#E5ECF6\", \"width\": 0.5}}, \"type\": \"bar\"}], \"carpet\": [{\"aaxis\": {\"endlinecolor\": \"#2a3f5f\", \"gridcolor\": \"white\", \"linecolor\": \"white\", \"minorgridcolor\": \"white\", \"startlinecolor\": \"#2a3f5f\"}, \"baxis\": {\"endlinecolor\": \"#2a3f5f\", \"gridcolor\": \"white\", \"linecolor\": \"white\", \"minorgridcolor\": \"white\", \"startlinecolor\": \"#2a3f5f\"}, \"type\": \"carpet\"}], \"choropleth\": [{\"colorbar\": {\"outlinewidth\": 0, \"ticks\": \"\"}, \"type\": \"choropleth\"}], \"contourcarpet\": [{\"colorbar\": {\"outlinewidth\": 0, \"ticks\": \"\"}, \"type\": \"contourcarpet\"}], \"contour\": [{\"autocolorscale\": true, \"colorbar\": {\"outlinewidth\": 0, \"ticks\": \"\"}, \"type\": \"contour\"}], \"heatmapgl\": [{\"colorbar\": {\"outlinewidth\": 0, \"ticks\": \"\"}, \"type\": \"heatmapgl\"}], \"heatmap\": [{\"autocolorscale\": true, \"colorbar\": {\"outlinewidth\": 0, \"ticks\": \"\"}, \"type\": \"heatmap\"}], \"histogram2dcontour\": [{\"autocolorscale\": true, \"colorbar\": {\"outlinewidth\": 0, \"ticks\": \"\"}, \"type\": \"histogram2dcontour\"}], \"histogram2d\": [{\"autocolorscale\": true, \"colorbar\": {\"outlinewidth\": 0, \"ticks\": \"\"}, \"type\": \"histogram2d\"}], \"histogram\": [{\"marker\": {\"colorbar\": {\"outlinewidth\": 0, \"ticks\": \"\"}}, \"type\": \"histogram\"}], \"mesh3d\": [{\"colorbar\": {\"outlinewidth\": 0, \"ticks\": \"\"}, \"type\": \"mesh3d\"}], \"parcoords\": [{\"line\": {\"colorbar\": {\"outlinewidth\": 0, \"ticks\": \"\"}}, \"type\": \"parcoords\"}], \"scatter3d\": [{\"marker\": {\"colorbar\": {\"outlinewidth\": 0, \"ticks\": \"\"}}, \"type\": \"scatter3d\"}], \"scattercarpet\": [{\"marker\": {\"colorbar\": {\"outlinewidth\": 0, \"ticks\": \"\"}}, \"type\": \"scattercarpet\"}], \"scattergeo\": [{\"marker\": {\"colorbar\": {\"outlinewidth\": 0, \"ticks\": \"\"}}, \"type\": \"scattergeo\"}], \"scattergl\": [{\"marker\": {\"colorbar\": {\"outlinewidth\": 0, \"ticks\": \"\"}}, \"type\": \"scattergl\"}], \"scattermapbox\": [{\"marker\": {\"colorbar\": {\"outlinewidth\": 0, \"ticks\": \"\"}}, \"type\": \"scattermapbox\"}], \"scatterpolargl\": [{\"marker\": {\"colorbar\": {\"outlinewidth\": 0, \"ticks\": \"\"}}, \"type\": \"scatterpolargl\"}], \"scatterpolar\": [{\"marker\": {\"colorbar\": {\"outlinewidth\": 0, \"ticks\": \"\"}}, \"type\": \"scatterpolar\"}], \"scatter\": [{\"marker\": {\"colorbar\": {\"outlinewidth\": 0, \"ticks\": \"\"}}, \"type\": \"scatter\"}], \"scatterternary\": [{\"marker\": {\"colorbar\": {\"outlinewidth\": 0, \"ticks\": \"\"}}, \"type\": \"scatterternary\"}], \"surface\": [{\"colorbar\": {\"outlinewidth\": 0, \"ticks\": \"\"}, \"type\": \"surface\"}], \"table\": [{\"cells\": {\"fill\": {\"color\": \"#EBF0F8\"}, \"line\": {\"color\": \"white\"}}, \"header\": {\"fill\": {\"color\": \"#C8D4E3\"}, \"line\": {\"color\": \"white\"}}, \"type\": \"table\"}]}, \"layout\": {\"annotationdefaults\": {\"arrowcolor\": \"#506784\", \"arrowhead\": 0, \"arrowwidth\": 1}, \"colorscale\": {\"diverging\": [[0, \"#8e0152\"], [0.1, \"#c51b7d\"], [0.2, \"#de77ae\"], [0.3, \"#f1b6da\"], [0.4, \"#fde0ef\"], [0.5, \"#f7f7f7\"], [0.6, \"#e6f5d0\"], [0.7, \"#b8e186\"], [0.8, \"#7fbc41\"], [0.9, \"#4d9221\"], [1, \"#276419\"]], \"sequential\": [[0.0, \"#0508b8\"], [0.0893854748603352, \"#1910d8\"], [0.1787709497206704, \"#3c19f0\"], [0.2681564245810056, \"#6b1cfb\"], [0.3575418994413408, \"#981cfd\"], [0.44692737430167595, \"#bf1cfd\"], [0.5363128491620112, \"#dd2bfd\"], [0.6256983240223464, \"#f246fe\"], [0.7150837988826816, \"#fc67fd\"], [0.8044692737430168, \"#fe88fc\"], [0.8938547486033519, \"#fea5fd\"], [0.9832402234636871, \"#febefe\"], [1.0, \"#fec3fe\"]], \"sequentialminus\": [[0.0, \"#0508b8\"], [0.0893854748603352, \"#1910d8\"], [0.1787709497206704, \"#3c19f0\"], [0.2681564245810056, \"#6b1cfb\"], [0.3575418994413408, \"#981cfd\"], [0.44692737430167595, \"#bf1cfd\"], [0.5363128491620112, \"#dd2bfd\"], [0.6256983240223464, \"#f246fe\"], [0.7150837988826816, \"#fc67fd\"], [0.8044692737430168, \"#fe88fc\"], [0.8938547486033519, \"#fea5fd\"], [0.9832402234636871, \"#febefe\"], [1.0, \"#fec3fe\"]]}, \"colorway\": [\"#636efa\", \"#EF553B\", \"#00cc96\", \"#ab63fa\", \"#19d3f3\", \"#e763fa\", \"#FECB52\", \"#FFA15A\", \"#FF6692\", \"#B6E880\"], \"font\": {\"color\": \"#2a3f5f\"}, \"geo\": {\"bgcolor\": \"white\", \"lakecolor\": \"white\", \"landcolor\": \"#E5ECF6\", \"showlakes\": true, \"showland\": true, \"subunitcolor\": \"white\"}, \"hovermode\": \"closest\", \"mapbox\": {\"style\": \"light\"}, \"paper_bgcolor\": \"white\", \"plot_bgcolor\": \"#E5ECF6\", \"polar\": {\"angularaxis\": {\"gridcolor\": \"white\", \"linecolor\": \"white\", \"ticks\": \"\"}, \"bgcolor\": \"#E5ECF6\", \"radialaxis\": {\"gridcolor\": \"white\", \"linecolor\": \"white\", \"ticks\": \"\"}}, \"scene\": {\"xaxis\": {\"backgroundcolor\": \"#E5ECF6\", \"gridcolor\": \"white\", \"gridwidth\": 2, \"linecolor\": \"white\", \"showbackground\": true, \"ticks\": \"\", \"zerolinecolor\": \"white\"}, \"yaxis\": {\"backgroundcolor\": \"#E5ECF6\", \"gridcolor\": \"white\", \"gridwidth\": 2, \"linecolor\": \"white\", \"showbackground\": true, \"ticks\": \"\", \"zerolinecolor\": \"white\"}, \"zaxis\": {\"backgroundcolor\": \"#E5ECF6\", \"gridcolor\": \"white\", \"gridwidth\": 2, \"linecolor\": \"white\", \"showbackground\": true, \"ticks\": \"\", \"zerolinecolor\": \"white\"}}, \"shapedefaults\": {\"fillcolor\": \"#506784\", \"line\": {\"width\": 0}, \"opacity\": 0.4}, \"ternary\": {\"aaxis\": {\"gridcolor\": \"white\", \"linecolor\": \"white\", \"ticks\": \"\"}, \"baxis\": {\"gridcolor\": \"white\", \"linecolor\": \"white\", \"ticks\": \"\"}, \"bgcolor\": \"#E5ECF6\", \"caxis\": {\"gridcolor\": \"white\", \"linecolor\": \"white\", \"ticks\": \"\"}}, \"title\": {\"x\": 0.05}, \"xaxis\": {\"automargin\": true, \"gridcolor\": \"white\", \"linecolor\": \"white\", \"ticks\": \"\", \"zerolinecolor\": \"white\", \"zerolinewidth\": 2}, \"yaxis\": {\"automargin\": true, \"gridcolor\": \"white\", \"linecolor\": \"white\", \"ticks\": \"\", \"zerolinecolor\": \"white\", \"zerolinewidth\": 2}}}, \"grid\": {\"xaxes\": [\"x\"], \"yaxes\": [\"y\"], \"xgap\": 0.1, \"ygap\": 0.1, \"xside\": \"bottom\", \"yside\": \"left\"}, \"xaxis\": {\"title\": {\"text\": \"Date\"}}, \"yaxis\": {\"title\": {\"text\": \"Total Deaths\"}}}, {\"showLink\": false, \"linkText\": \"Export to plot.ly\", \"plotlyServerURL\": \"https://plot.ly\"}); \n",
       "}\n",
       "});</script><script type=\"text/javascript\">window.addEventListener(\"resize\", function(){if (document.getElementById(\"20f71ba1-8853-441f-ba3f-ebdffef5dc1d\")) {window._Plotly.Plots.resize(document.getElementById(\"20f71ba1-8853-441f-ba3f-ebdffef5dc1d\"));};})</script>"
      ],
      "text/vnd.plotly.v1+html": [
       "<div id=\"20f71ba1-8853-441f-ba3f-ebdffef5dc1d\" style=\"height: 600px; width: 100%;\" class=\"plotly-graph-div\"></div><script type=\"text/javascript\">require([\"plotly\"], function(Plotly) { window.PLOTLYENV=window.PLOTLYENV || {};window.PLOTLYENV.BASE_URL=\"https://plot.ly\";\n",
       "if (document.getElementById(\"20f71ba1-8853-441f-ba3f-ebdffef5dc1d\")) {\n",
       "    Plotly.newPlot(\"20f71ba1-8853-441f-ba3f-ebdffef5dc1d\", [{\"hovertemplate\": \"Date=%{x}<br>Total Deaths=%{y}<extra></extra>\", \"legendgroup\": \"\", \"line\": {\"color\": \"#636efa\", \"dash\": \"solid\"}, \"mode\": \"lines\", \"name\": \"\", \"showlegend\": false, \"x\": [\"2011-10-02 04:00:00\", \"2011-10-09 04:00:00\", \"2011-10-16 04:00:00\", \"2011-10-23 04:00:00\", \"2011-10-30 04:00:00\", \"2011-11-06 04:00:00\", \"2011-11-13 05:00:00\", \"2011-11-20 05:00:00\", \"2011-11-27 05:00:00\", \"2011-12-04 05:00:00\", \"2011-12-11 05:00:00\", \"2011-12-18 05:00:00\", \"2011-12-25 05:00:00\", \"2012-01-01 05:00:00\", \"2012-01-08 05:00:00\", \"2012-01-15 05:00:00\", \"2012-01-22 05:00:00\", \"2012-01-29 05:00:00\", \"2012-02-05 05:00:00\", \"2012-02-12 05:00:00\", \"2012-02-19 05:00:00\", \"2012-02-26 05:00:00\", \"2012-03-04 05:00:00\", \"2012-03-11 05:00:00\", \"2012-03-18 04:00:00\", \"2012-03-25 04:00:00\", \"2012-04-01 04:00:00\", \"2012-04-08 04:00:00\", \"2012-04-15 04:00:00\", \"2012-04-22 04:00:00\", \"2012-04-29 04:00:00\", \"2012-05-06 04:00:00\", \"2012-05-13 04:00:00\", \"2012-05-20 04:00:00\", \"2012-05-27 04:00:00\", \"2012-06-03 04:00:00\", \"2012-06-10 04:00:00\", \"2012-06-17 04:00:00\", \"2012-06-24 04:00:00\", \"2012-07-01 04:00:00\", \"2012-07-08 04:00:00\", \"2012-07-15 04:00:00\", \"2012-07-22 04:00:00\", \"2012-07-29 04:00:00\", \"2012-08-05 04:00:00\", \"2012-08-12 04:00:00\", \"2012-08-19 04:00:00\", \"2012-08-26 04:00:00\", \"2012-09-02 04:00:00\", \"2012-09-09 04:00:00\", \"2012-09-16 04:00:00\", \"2012-09-23 04:00:00\", \"2012-09-30 04:00:00\", \"2012-10-07 04:00:00\", \"2012-10-14 04:00:00\", \"2012-10-21 04:00:00\", \"2012-10-28 04:00:00\", \"2012-11-04 04:00:00\", \"2012-11-11 05:00:00\", \"2012-11-18 05:00:00\", \"2012-11-25 05:00:00\", \"2012-12-02 05:00:00\", \"2012-12-09 05:00:00\", \"2012-12-16 05:00:00\", \"2012-12-23 05:00:00\", \"2012-12-30 05:00:00\", \"2013-01-06 05:00:00\", \"2013-01-13 05:00:00\", \"2013-01-20 05:00:00\", \"2013-01-27 05:00:00\", \"2013-02-03 05:00:00\", \"2013-02-10 05:00:00\", \"2013-02-17 05:00:00\", \"2013-02-24 05:00:00\", \"2013-03-03 05:00:00\", \"2013-03-10 05:00:00\", \"2013-03-17 04:00:00\", \"2013-03-24 04:00:00\", \"2013-03-31 04:00:00\", \"2013-04-07 04:00:00\", \"2013-04-14 04:00:00\", \"2013-04-21 04:00:00\", \"2013-04-28 04:00:00\", \"2013-05-05 04:00:00\", \"2013-05-12 04:00:00\", \"2013-05-19 04:00:00\", \"2013-05-26 04:00:00\", \"2013-06-02 04:00:00\", \"2013-06-09 04:00:00\", \"2013-06-16 04:00:00\", \"2013-06-23 04:00:00\", \"2013-06-30 04:00:00\", \"2013-07-07 04:00:00\", \"2013-07-14 04:00:00\", \"2013-07-21 04:00:00\", \"2013-07-28 04:00:00\", \"2013-08-04 04:00:00\", \"2013-08-11 04:00:00\", \"2013-08-18 04:00:00\", \"2013-08-25 04:00:00\", \"2013-09-01 04:00:00\", \"2013-09-08 04:00:00\", \"2013-09-15 04:00:00\", \"2013-09-22 04:00:00\", \"2013-09-29 04:00:00\", \"2013-10-06 04:00:00\", \"2013-10-13 04:00:00\", \"2013-10-20 04:00:00\", \"2013-10-27 04:00:00\", \"2013-11-03 04:00:00\", \"2013-11-10 05:00:00\", \"2013-11-17 05:00:00\", \"2013-11-24 05:00:00\", \"2013-12-01 05:00:00\", \"2013-12-08 05:00:00\", \"2013-12-15 05:00:00\", \"2013-12-22 05:00:00\", \"2013-12-29 05:00:00\", \"2014-01-05 05:00:00\", \"2014-01-12 05:00:00\", \"2014-01-19 05:00:00\", \"2014-01-26 05:00:00\", \"2014-02-02 05:00:00\", \"2014-02-09 05:00:00\", \"2014-02-16 05:00:00\", \"2014-02-23 05:00:00\", \"2014-03-02 05:00:00\", \"2014-03-09 05:00:00\", \"2014-03-16 04:00:00\", \"2014-03-23 04:00:00\", \"2014-03-30 04:00:00\", \"2014-04-06 04:00:00\", \"2014-04-13 04:00:00\", \"2014-04-20 04:00:00\", \"2014-04-27 04:00:00\", \"2014-05-04 04:00:00\", \"2014-05-11 04:00:00\", \"2014-05-18 04:00:00\", \"2014-05-25 04:00:00\", \"2014-06-01 04:00:00\", \"2014-06-08 04:00:00\", \"2014-06-15 04:00:00\", \"2014-06-22 04:00:00\", \"2014-06-29 04:00:00\", \"2014-07-06 04:00:00\", \"2014-07-13 04:00:00\", \"2014-07-20 04:00:00\", \"2014-07-27 04:00:00\", \"2014-08-03 04:00:00\", \"2014-08-10 04:00:00\", \"2014-08-17 04:00:00\", \"2014-08-24 04:00:00\", \"2014-08-31 04:00:00\", \"2014-09-07 04:00:00\", \"2014-09-14 04:00:00\", \"2014-09-21 04:00:00\", \"2014-09-28 04:00:00\", \"2014-10-05 04:00:00\", \"2014-10-12 04:00:00\", \"2014-10-19 04:00:00\", \"2014-10-26 04:00:00\", \"2014-11-02 04:00:00\", \"2014-11-09 05:00:00\", \"2014-11-16 05:00:00\", \"2014-11-23 05:00:00\", \"2014-11-30 05:00:00\", \"2014-12-07 05:00:00\", \"2014-12-14 05:00:00\", \"2014-12-21 05:00:00\", \"2014-12-28 05:00:00\", \"2015-01-04 05:00:00\", \"2015-01-11 05:00:00\", \"2015-01-18 05:00:00\", \"2015-01-25 05:00:00\", \"2015-02-01 05:00:00\", \"2015-02-08 05:00:00\", \"2015-02-15 05:00:00\", \"2015-02-22 05:00:00\", \"2015-03-01 05:00:00\", \"2015-03-08 05:00:00\", \"2015-03-15 04:00:00\", \"2015-03-22 04:00:00\", \"2015-03-29 04:00:00\", \"2015-04-05 04:00:00\", \"2015-04-12 04:00:00\", \"2015-04-19 04:00:00\", \"2015-04-26 04:00:00\", \"2015-05-03 04:00:00\", \"2015-05-10 04:00:00\", \"2015-05-17 04:00:00\", \"2015-05-24 04:00:00\", \"2015-05-31 04:00:00\", \"2015-06-07 04:00:00\", \"2015-06-14 04:00:00\", \"2015-06-21 04:00:00\", \"2015-06-28 04:00:00\", \"2015-07-05 04:00:00\", \"2015-07-12 04:00:00\", \"2015-07-19 04:00:00\", \"2015-07-26 04:00:00\", \"2015-08-02 04:00:00\", \"2015-08-09 04:00:00\", \"2015-08-16 04:00:00\", \"2015-08-23 04:00:00\", \"2015-08-30 04:00:00\", \"2015-09-06 04:00:00\", \"2015-09-13 04:00:00\", \"2015-09-20 04:00:00\", \"2015-09-27 04:00:00\", \"2015-10-04 04:00:00\", \"2015-10-11 04:00:00\", \"2015-10-18 04:00:00\", \"2015-10-25 04:00:00\", \"2015-11-01 04:00:00\", \"2015-11-08 05:00:00\", \"2015-11-15 05:00:00\", \"2015-11-22 05:00:00\", \"2015-11-29 05:00:00\", \"2015-12-06 05:00:00\", \"2015-12-13 05:00:00\", \"2015-12-20 05:00:00\", \"2015-12-27 05:00:00\", \"2016-01-03 05:00:00\", \"2016-01-10 05:00:00\", \"2016-01-17 05:00:00\", \"2016-01-24 05:00:00\", \"2016-01-31 05:00:00\", \"2016-02-07 05:00:00\", \"2016-02-14 05:00:00\", \"2016-02-21 05:00:00\", \"2016-02-28 05:00:00\", \"2016-03-06 05:00:00\", \"2016-03-13 05:00:00\", \"2016-03-20 04:00:00\", \"2016-03-27 04:00:00\", \"2016-04-03 04:00:00\", \"2016-04-10 04:00:00\", \"2016-04-17 04:00:00\", \"2016-04-24 04:00:00\", \"2016-05-01 04:00:00\", \"2016-05-08 04:00:00\", \"2016-05-15 04:00:00\", \"2016-05-22 04:00:00\", \"2016-05-29 04:00:00\", \"2016-06-05 04:00:00\", \"2016-06-12 04:00:00\", \"2016-06-19 04:00:00\", \"2016-06-26 04:00:00\", \"2016-07-03 04:00:00\", \"2016-07-10 04:00:00\", \"2016-07-17 04:00:00\", \"2016-07-24 04:00:00\", \"2016-07-31 04:00:00\", \"2016-08-07 04:00:00\", \"2016-08-14 04:00:00\", \"2016-08-21 04:00:00\", \"2016-08-28 04:00:00\", \"2016-09-04 04:00:00\", \"2016-09-11 04:00:00\", \"2016-09-18 04:00:00\", \"2016-09-25 04:00:00\", \"2016-10-02 04:00:00\", \"2016-10-09 04:00:00\", \"2016-10-16 04:00:00\", \"2016-10-23 04:00:00\", \"2016-10-30 04:00:00\", \"2016-11-06 04:00:00\", \"2016-11-13 05:00:00\", \"2016-11-20 05:00:00\", \"2016-11-27 05:00:00\", \"2016-12-04 05:00:00\", \"2016-12-11 05:00:00\", \"2016-12-18 05:00:00\", \"2016-12-25 05:00:00\", \"2017-01-01 05:00:00\", \"2017-01-08 05:00:00\", \"2017-01-15 05:00:00\", \"2017-01-22 05:00:00\", \"2017-01-29 05:00:00\", \"2017-02-05 05:00:00\", \"2017-02-12 05:00:00\", \"2017-02-19 05:00:00\", \"2017-02-26 05:00:00\", \"2017-03-05 05:00:00\", \"2017-03-12 05:00:00\", \"2017-03-19 04:00:00\", \"2017-03-26 04:00:00\", \"2017-04-02 04:00:00\", \"2017-04-09 04:00:00\", \"2017-04-16 04:00:00\", \"2017-04-23 04:00:00\", \"2017-04-30 04:00:00\", \"2017-05-07 04:00:00\", \"2017-05-14 04:00:00\", \"2017-05-21 04:00:00\", \"2017-05-28 04:00:00\", \"2017-06-04 04:00:00\", \"2017-06-11 04:00:00\", \"2017-06-18 04:00:00\", \"2017-06-25 04:00:00\", \"2017-07-02 04:00:00\", \"2017-07-09 04:00:00\", \"2017-07-16 04:00:00\", \"2017-07-23 04:00:00\", \"2017-07-30 04:00:00\", \"2017-08-06 04:00:00\", \"2017-08-13 04:00:00\", \"2017-08-20 04:00:00\", \"2017-08-27 04:00:00\", \"2017-09-03 04:00:00\", \"2017-09-10 04:00:00\", \"2017-09-17 04:00:00\", \"2017-09-24 04:00:00\", \"2017-10-01 04:00:00\", \"2017-10-08 04:00:00\", \"2017-10-15 04:00:00\", \"2017-10-22 04:00:00\", \"2017-10-29 04:00:00\", \"2017-11-05 04:00:00\", \"2017-11-12 05:00:00\", \"2017-11-19 05:00:00\", \"2017-11-26 05:00:00\", \"2017-12-03 05:00:00\", \"2017-12-10 05:00:00\", \"2017-12-17 05:00:00\", \"2017-12-24 05:00:00\", \"2017-12-31 05:00:00\", \"2018-01-07 05:00:00\", \"2018-01-14 05:00:00\", \"2018-01-21 05:00:00\", \"2018-01-28 05:00:00\", \"2018-02-04 05:00:00\", \"2018-02-11 05:00:00\", \"2018-02-18 05:00:00\", \"2018-02-25 05:00:00\", \"2018-03-04 05:00:00\", \"2018-03-11 05:00:00\", \"2018-03-18 04:00:00\", \"2018-03-25 04:00:00\", \"2018-04-01 04:00:00\", \"2018-04-08 04:00:00\", \"2018-04-15 04:00:00\", \"2018-04-22 04:00:00\", \"2018-04-29 04:00:00\", \"2018-05-06 04:00:00\", \"2018-05-13 04:00:00\", \"2018-05-20 04:00:00\", \"2018-05-27 04:00:00\", \"2018-06-03 04:00:00\", \"2018-06-10 04:00:00\", \"2018-06-17 04:00:00\", \"2018-06-24 04:00:00\", \"2018-07-01 04:00:00\", \"2018-07-08 04:00:00\", \"2018-07-15 04:00:00\", \"2018-07-22 04:00:00\", \"2018-07-29 04:00:00\", \"2018-08-05 04:00:00\", \"2018-08-12 04:00:00\", \"2018-08-19 04:00:00\", \"2018-08-26 04:00:00\", \"2018-09-02 04:00:00\", \"2018-09-09 04:00:00\", \"2018-09-16 04:00:00\", \"2018-09-23 04:00:00\", \"2018-09-30 04:00:00\", \"2018-10-07 04:00:00\", \"2018-10-14 04:00:00\", \"2018-10-21 04:00:00\", \"2018-10-28 04:00:00\", \"2018-11-04 04:00:00\", \"2018-11-11 05:00:00\", \"2018-11-18 05:00:00\", \"2018-11-25 05:00:00\", \"2018-12-02 05:00:00\", \"2018-12-09 05:00:00\", \"2018-12-16 05:00:00\", \"2018-12-23 05:00:00\", \"2018-12-30 05:00:00\", \"2019-01-06 05:00:00\", \"2019-01-13 05:00:00\", \"2019-01-20 05:00:00\", \"2019-01-27 05:00:00\", \"2019-02-03 05:00:00\", \"2019-02-10 05:00:00\", \"2019-02-17 05:00:00\", \"2019-02-24 05:00:00\", \"2019-03-03 05:00:00\", \"2019-03-10 05:00:00\", \"2019-03-17 04:00:00\", \"2019-03-24 04:00:00\", \"2019-03-31 04:00:00\", \"2019-04-07 04:00:00\"], \"xaxis\": \"x\", \"y\": [19.0, 0.0, 0.0, 0.0, 0.0, 0.0, 0.0, 0.0, 0.0, 0.0, 0.0, 0.0, 0.0, 0.0, 0.0, 0.0, 0.0, 0.0, 0.0, 1.0, 0.0, 0.0, 0.0, 0.0, 0.0, 0.0, 0.0, 0.0, 0.0, 0.0, 0.0, 0.0, 0.0, 0.0, 0.0, 0.0, 27.0, 0.0, 0.0, 0.0, 0.0, 0.0, 0.0, 0.0, 0.0, 0.0, 0.0, 0.0, 0.0, 0.0, 0.0, 0.0, 0.0, 0.0, 0.0, 0.0, 0.0, 20.0, 0.0, 0.0, 0.0, 0.0, 0.0, 11.0, 0.0, 0.0, 10.0, 0.0, 0.0, 0.0, 0.0, 0.0, 0.0, 7.0, 0.0, 0.0, 0.0, 0.0, 0.0, 0.0, 0.0, 0.0, 0.0, 0.0, 0.0, 0.0, 0.0, 0.0, 0.0, 0.0, 52.0, 0.0, 0.0, 0.0, 0.0, 0.0, 0.0, 0.0, 0.0, 0.0, 0.0, 0.0, 0.0, 0.0, 0.0, 0.0, 0.0, 0.0, 0.0, 0.0, 0.0, 0.0, 0.0, 13.0, 0.0, 0.0, 0.0, 0.0, 0.0, 0.0, 0.0, 0.0, 0.0, 16.0, 0.0, 0.0, 0.0, 0.0, 0.0, 0.0, 0.0, 228.0, 0.0, 0.0, 0.0, 0.0, 0.0, 0.0, 0.0, 0.0, 0.0, 0.0, 0.0, 0.0, 0.0, 0.0, 0.0, 0.0, 0.0, 0.0, 0.0, 0.0, 0.0, 0.0, 0.0, 0.0, 0.0, 0.0, 0.0, 0.0, 0.0, 42.0, 0.0, 0.0, 0.0, 8.0, 0.0, 0.0, 0.0, 0.0, 0.0, 0.0, 0.0, 0.0, 0.0, 0.0, 0.0, 0.0, 0.0, 0.0, 0.0, 0.0, 0.0, 0.0, 0.0, 0.0, 0.0, 0.0, 0.0, 0.0, 0.0, 0.0, 0.0, 0.0, 0.0, 0.0, 40.0, 0.0, 0.0, 0.0, 0.0, 0.0, 0.0, 0.0, 0.0, 0.0, 0.0, 0.0, 0.0, 0.0, 0.0, 0.0, 0.0, 0.0, 0.0, 0.0, 0.0, 0.0, 0.0, 0.0, 0.0, 0.0, 0.0, 0.0, 0.0, 0.0, 0.0, 50.0, 0.0, 0.0, 0.0, 0.0, 0.0, 9.0, 0.0, 0.0, 4.0, 0.0, 0.0, 0.0, 20.0, 0.0, 0.0, 0.0, 0.0, 0.0, 0.0, 23.0, 3.0, 16.0, 11.0, 0.0, 0.0, 0.0, 0.0, 0.0, 28.0, 2.0, 0.0, 7.0, 2.0, 0.0, 0.0, 0.0, 4.0, 0.0, 0.0, 40.0, 60.0, 0.0, 0.0, 0.0, 0.0, 0.0, 0.0, 0.0, 0.0, 0.0, 1.0, 0.0, 3.0, 24.0, 0.0, 0.0, 0.0, 0.0, 0.0, 0.0, 0.0, 0.0, 0.0, 0.0, 0.0, 1.0, 0.0, 0.0, 0.0, 0.0, 0.0, 0.0, 0.0, 0.0, 0.0, 0.0, 0.0, 0.0, 0.0, 0.0, 0.0, 0.0, 0.0, 0.0, 2.0, 0.0, 0.0, 0.0, 120.0, 5.0, 0.0, 0.0, 25.0, 0.0, 0.0, 0.0, 0.0, 0.0, 0.0, 1.0, 0.0, 0.0, 6.0, 0.0, 0.0, 41.0, 1.0, 0.0, 0.0, 0.0, 0.0, 36.0, 23.0, 40.0, 30.0, 0.0, 13.0, 8.0, 1.0, 7.0, 24.0, 6.0, 26.0, 20.0, 23.0, 1.0, 1.0, 33.0, 4.0, 30.0, 30.0, 0.0, 35.0, 0.0, 0.0, 11.0, 0.0, 0.0, 0.0, 0.0, 0.0, 6.0, 0.0, 0.0, 0.0, 0.0, 120.0, 0.0, 8.0, 42.0, 5.0, 58.0, 0.0, 62.0, 0.0, 42.0, 27.0, 45.0, 67.0, 114.0, 86.0, 59.0, 1.0, 51.0, 50.0], \"yaxis\": \"y\", \"type\": \"scatter\", \"uid\": \"5494549b-f677-4e9a-9053-781600fe3a13\"}], {\"height\": 600, \"legend\": {\"tracegroupgap\": 0}, \"margin\": {\"t\": 60}, \"template\": {\"data\": {\"barpolar\": [{\"marker\": {\"line\": {\"color\": \"#E5ECF6\", \"width\": 0.5}}, \"type\": \"barpolar\"}], \"bar\": [{\"marker\": {\"line\": {\"color\": \"#E5ECF6\", \"width\": 0.5}}, \"type\": \"bar\"}], \"carpet\": [{\"aaxis\": {\"endlinecolor\": \"#2a3f5f\", \"gridcolor\": \"white\", \"linecolor\": \"white\", \"minorgridcolor\": \"white\", \"startlinecolor\": \"#2a3f5f\"}, \"baxis\": {\"endlinecolor\": \"#2a3f5f\", \"gridcolor\": \"white\", \"linecolor\": \"white\", \"minorgridcolor\": \"white\", \"startlinecolor\": \"#2a3f5f\"}, \"type\": \"carpet\"}], \"choropleth\": [{\"colorbar\": {\"outlinewidth\": 0, \"ticks\": \"\"}, \"type\": \"choropleth\"}], \"contourcarpet\": [{\"colorbar\": {\"outlinewidth\": 0, \"ticks\": \"\"}, \"type\": \"contourcarpet\"}], \"contour\": [{\"autocolorscale\": true, \"colorbar\": {\"outlinewidth\": 0, \"ticks\": \"\"}, \"type\": \"contour\"}], \"heatmapgl\": [{\"colorbar\": {\"outlinewidth\": 0, \"ticks\": \"\"}, \"type\": \"heatmapgl\"}], \"heatmap\": [{\"autocolorscale\": true, \"colorbar\": {\"outlinewidth\": 0, \"ticks\": \"\"}, \"type\": \"heatmap\"}], \"histogram2dcontour\": [{\"autocolorscale\": true, \"colorbar\": {\"outlinewidth\": 0, \"ticks\": \"\"}, \"type\": \"histogram2dcontour\"}], \"histogram2d\": [{\"autocolorscale\": true, \"colorbar\": {\"outlinewidth\": 0, \"ticks\": \"\"}, \"type\": \"histogram2d\"}], \"histogram\": [{\"marker\": {\"colorbar\": {\"outlinewidth\": 0, \"ticks\": \"\"}}, \"type\": \"histogram\"}], \"mesh3d\": [{\"colorbar\": {\"outlinewidth\": 0, \"ticks\": \"\"}, \"type\": \"mesh3d\"}], \"parcoords\": [{\"line\": {\"colorbar\": {\"outlinewidth\": 0, \"ticks\": \"\"}}, \"type\": \"parcoords\"}], \"scatter3d\": [{\"marker\": {\"colorbar\": {\"outlinewidth\": 0, \"ticks\": \"\"}}, \"type\": \"scatter3d\"}], \"scattercarpet\": [{\"marker\": {\"colorbar\": {\"outlinewidth\": 0, \"ticks\": \"\"}}, \"type\": \"scattercarpet\"}], \"scattergeo\": [{\"marker\": {\"colorbar\": {\"outlinewidth\": 0, \"ticks\": \"\"}}, \"type\": \"scattergeo\"}], \"scattergl\": [{\"marker\": {\"colorbar\": {\"outlinewidth\": 0, \"ticks\": \"\"}}, \"type\": \"scattergl\"}], \"scattermapbox\": [{\"marker\": {\"colorbar\": {\"outlinewidth\": 0, \"ticks\": \"\"}}, \"type\": \"scattermapbox\"}], \"scatterpolargl\": [{\"marker\": {\"colorbar\": {\"outlinewidth\": 0, \"ticks\": \"\"}}, \"type\": \"scatterpolargl\"}], \"scatterpolar\": [{\"marker\": {\"colorbar\": {\"outlinewidth\": 0, \"ticks\": \"\"}}, \"type\": \"scatterpolar\"}], \"scatter\": [{\"marker\": {\"colorbar\": {\"outlinewidth\": 0, \"ticks\": \"\"}}, \"type\": \"scatter\"}], \"scatterternary\": [{\"marker\": {\"colorbar\": {\"outlinewidth\": 0, \"ticks\": \"\"}}, \"type\": \"scatterternary\"}], \"surface\": [{\"colorbar\": {\"outlinewidth\": 0, \"ticks\": \"\"}, \"type\": \"surface\"}], \"table\": [{\"cells\": {\"fill\": {\"color\": \"#EBF0F8\"}, \"line\": {\"color\": \"white\"}}, \"header\": {\"fill\": {\"color\": \"#C8D4E3\"}, \"line\": {\"color\": \"white\"}}, \"type\": \"table\"}]}, \"layout\": {\"annotationdefaults\": {\"arrowcolor\": \"#506784\", \"arrowhead\": 0, \"arrowwidth\": 1}, \"colorscale\": {\"diverging\": [[0, \"#8e0152\"], [0.1, \"#c51b7d\"], [0.2, \"#de77ae\"], [0.3, \"#f1b6da\"], [0.4, \"#fde0ef\"], [0.5, \"#f7f7f7\"], [0.6, \"#e6f5d0\"], [0.7, \"#b8e186\"], [0.8, \"#7fbc41\"], [0.9, \"#4d9221\"], [1, \"#276419\"]], \"sequential\": [[0.0, \"#0508b8\"], [0.0893854748603352, \"#1910d8\"], [0.1787709497206704, \"#3c19f0\"], [0.2681564245810056, \"#6b1cfb\"], [0.3575418994413408, \"#981cfd\"], [0.44692737430167595, \"#bf1cfd\"], [0.5363128491620112, \"#dd2bfd\"], [0.6256983240223464, \"#f246fe\"], [0.7150837988826816, \"#fc67fd\"], [0.8044692737430168, \"#fe88fc\"], [0.8938547486033519, \"#fea5fd\"], [0.9832402234636871, \"#febefe\"], [1.0, \"#fec3fe\"]], \"sequentialminus\": [[0.0, \"#0508b8\"], [0.0893854748603352, \"#1910d8\"], [0.1787709497206704, \"#3c19f0\"], [0.2681564245810056, \"#6b1cfb\"], [0.3575418994413408, \"#981cfd\"], [0.44692737430167595, \"#bf1cfd\"], [0.5363128491620112, \"#dd2bfd\"], [0.6256983240223464, \"#f246fe\"], [0.7150837988826816, \"#fc67fd\"], [0.8044692737430168, \"#fe88fc\"], [0.8938547486033519, \"#fea5fd\"], [0.9832402234636871, \"#febefe\"], [1.0, \"#fec3fe\"]]}, \"colorway\": [\"#636efa\", \"#EF553B\", \"#00cc96\", \"#ab63fa\", \"#19d3f3\", \"#e763fa\", \"#FECB52\", \"#FFA15A\", \"#FF6692\", \"#B6E880\"], \"font\": {\"color\": \"#2a3f5f\"}, \"geo\": {\"bgcolor\": \"white\", \"lakecolor\": \"white\", \"landcolor\": \"#E5ECF6\", \"showlakes\": true, \"showland\": true, \"subunitcolor\": \"white\"}, \"hovermode\": \"closest\", \"mapbox\": {\"style\": \"light\"}, \"paper_bgcolor\": \"white\", \"plot_bgcolor\": \"#E5ECF6\", \"polar\": {\"angularaxis\": {\"gridcolor\": \"white\", \"linecolor\": \"white\", \"ticks\": \"\"}, \"bgcolor\": \"#E5ECF6\", \"radialaxis\": {\"gridcolor\": \"white\", \"linecolor\": \"white\", \"ticks\": \"\"}}, \"scene\": {\"xaxis\": {\"backgroundcolor\": \"#E5ECF6\", \"gridcolor\": \"white\", \"gridwidth\": 2, \"linecolor\": \"white\", \"showbackground\": true, \"ticks\": \"\", \"zerolinecolor\": \"white\"}, \"yaxis\": {\"backgroundcolor\": \"#E5ECF6\", \"gridcolor\": \"white\", \"gridwidth\": 2, \"linecolor\": \"white\", \"showbackground\": true, \"ticks\": \"\", \"zerolinecolor\": \"white\"}, \"zaxis\": {\"backgroundcolor\": \"#E5ECF6\", \"gridcolor\": \"white\", \"gridwidth\": 2, \"linecolor\": \"white\", \"showbackground\": true, \"ticks\": \"\", \"zerolinecolor\": \"white\"}}, \"shapedefaults\": {\"fillcolor\": \"#506784\", \"line\": {\"width\": 0}, \"opacity\": 0.4}, \"ternary\": {\"aaxis\": {\"gridcolor\": \"white\", \"linecolor\": \"white\", \"ticks\": \"\"}, \"baxis\": {\"gridcolor\": \"white\", \"linecolor\": \"white\", \"ticks\": \"\"}, \"bgcolor\": \"#E5ECF6\", \"caxis\": {\"gridcolor\": \"white\", \"linecolor\": \"white\", \"ticks\": \"\"}}, \"title\": {\"x\": 0.05}, \"xaxis\": {\"automargin\": true, \"gridcolor\": \"white\", \"linecolor\": \"white\", \"ticks\": \"\", \"zerolinecolor\": \"white\", \"zerolinewidth\": 2}, \"yaxis\": {\"automargin\": true, \"gridcolor\": \"white\", \"linecolor\": \"white\", \"ticks\": \"\", \"zerolinecolor\": \"white\", \"zerolinewidth\": 2}}}, \"grid\": {\"xaxes\": [\"x\"], \"yaxes\": [\"y\"], \"xgap\": 0.1, \"ygap\": 0.1, \"xside\": \"bottom\", \"yside\": \"left\"}, \"xaxis\": {\"title\": {\"text\": \"Date\"}}, \"yaxis\": {\"title\": {\"text\": \"Total Deaths\"}}}, {\"showLink\": false, \"linkText\": \"Export to plot.ly\", \"plotlyServerURL\": \"https://plot.ly\"}); \n",
       "}\n",
       "});</script><script type=\"text/javascript\">window.addEventListener(\"resize\", function(){if (document.getElementById(\"20f71ba1-8853-441f-ba3f-ebdffef5dc1d\")) {window._Plotly.Plots.resize(document.getElementById(\"20f71ba1-8853-441f-ba3f-ebdffef5dc1d\"));};})</script>"
      ]
     },
     "metadata": {},
     "output_type": "display_data"
    }
   ],
   "source": [
    "px.line(deaths, x='Date', y='Total Deaths')"
   ]
  },
  {
   "cell_type": "code",
   "execution_count": 33,
   "metadata": {},
   "outputs": [
    {
     "data": {
      "text/html": [
       "<div>\n",
       "<style scoped>\n",
       "    .dataframe tbody tr th:only-of-type {\n",
       "        vertical-align: middle;\n",
       "    }\n",
       "\n",
       "    .dataframe tbody tr th {\n",
       "        vertical-align: top;\n",
       "    }\n",
       "\n",
       "    .dataframe thead th {\n",
       "        text-align: right;\n",
       "    }\n",
       "</style>\n",
       "<table border=\"1\" class=\"dataframe\">\n",
       "  <thead>\n",
       "    <tr style=\"text-align: right;\">\n",
       "      <th></th>\n",
       "      <th>Title</th>\n",
       "      <th>Date</th>\n",
       "      <th>Community (city,town, ward)</th>\n",
       "      <th>LGA</th>\n",
       "      <th>State</th>\n",
       "      <th>Total Deaths</th>\n",
       "      <th>Boko Haram (P)</th>\n",
       "      <th>State Actor (P)</th>\n",
       "      <th>Sectarian Actor (excluding BH) (P)</th>\n",
       "      <th>Other Armed Actor (P)</th>\n",
       "      <th>Kidnapper (P)</th>\n",
       "      <th>Robber (P)</th>\n",
       "      <th>Other (P)</th>\n",
       "      <th>Election-related Actor (P)</th>\n",
       "      <th>Cameroon State Actor (P)</th>\n",
       "      <th>Boko Haram (V)</th>\n",
       "      <th>State Actor (V)</th>\n",
       "      <th>Sectarian Actor (V)</th>\n",
       "      <th>Other Armed Actor (V)</th>\n",
       "      <th>Political Actor (V)</th>\n",
       "      <th>Kidnapper (V)</th>\n",
       "      <th>Kidnapee (V)</th>\n",
       "      <th>Robber (V)</th>\n",
       "      <th>Journalist (V)</th>\n",
       "      <th>Civilian (V)</th>\n",
       "      <th>Election-related Actor (V)</th>\n",
       "      <th>Cameroon State Actor</th>\n",
       "      <th>Bomb</th>\n",
       "      <th>Gun</th>\n",
       "      <th>Machete</th>\n",
       "      <th>Suicide Bombing</th>\n",
       "      <th>Other Weapon</th>\n",
       "      <th>TK</th>\n",
       "      <th>Drinking Establishment</th>\n",
       "      <th>Goverment Building</th>\n",
       "      <th>Church</th>\n",
       "      <th>Mosque</th>\n",
       "      <th>Bank</th>\n",
       "      <th>School</th>\n",
       "      <th>Other Location</th>\n",
       "      <th>Notes</th>\n",
       "      <th>Sources 1</th>\n",
       "      <th>Sources 2</th>\n",
       "      <th>Sources 3</th>\n",
       "      <th>Latitude</th>\n",
       "      <th>Longitude</th>\n",
       "      <th>full place name</th>\n",
       "    </tr>\n",
       "    <tr>\n",
       "      <th>Date</th>\n",
       "      <th></th>\n",
       "      <th></th>\n",
       "      <th></th>\n",
       "      <th></th>\n",
       "      <th></th>\n",
       "      <th></th>\n",
       "      <th></th>\n",
       "      <th></th>\n",
       "      <th></th>\n",
       "      <th></th>\n",
       "      <th></th>\n",
       "      <th></th>\n",
       "      <th></th>\n",
       "      <th></th>\n",
       "      <th></th>\n",
       "      <th></th>\n",
       "      <th></th>\n",
       "      <th></th>\n",
       "      <th></th>\n",
       "      <th></th>\n",
       "      <th></th>\n",
       "      <th></th>\n",
       "      <th></th>\n",
       "      <th></th>\n",
       "      <th></th>\n",
       "      <th></th>\n",
       "      <th></th>\n",
       "      <th></th>\n",
       "      <th></th>\n",
       "      <th></th>\n",
       "      <th></th>\n",
       "      <th></th>\n",
       "      <th></th>\n",
       "      <th></th>\n",
       "      <th></th>\n",
       "      <th></th>\n",
       "      <th></th>\n",
       "      <th></th>\n",
       "      <th></th>\n",
       "      <th></th>\n",
       "      <th></th>\n",
       "      <th></th>\n",
       "      <th></th>\n",
       "      <th></th>\n",
       "      <th></th>\n",
       "      <th></th>\n",
       "      <th></th>\n",
       "    </tr>\n",
       "  </thead>\n",
       "  <tbody>\n",
       "    <tr>\n",
       "      <th>2011-10-02</th>\n",
       "      <td>Attacks in Zamfara Leave Nineteen Dead</td>\n",
       "      <td>10/2/2011</td>\n",
       "      <td>Lingyado</td>\n",
       "      <td>NaN</td>\n",
       "      <td>Zamfara</td>\n",
       "      <td>19.0</td>\n",
       "      <td>NaN</td>\n",
       "      <td>NaN</td>\n",
       "      <td>NaN</td>\n",
       "      <td>NaN</td>\n",
       "      <td>NaN</td>\n",
       "      <td>NaN</td>\n",
       "      <td>NaN</td>\n",
       "      <td>NaN</td>\n",
       "      <td>NaN</td>\n",
       "      <td>NaN</td>\n",
       "      <td>NaN</td>\n",
       "      <td>NaN</td>\n",
       "      <td>NaN</td>\n",
       "      <td>NaN</td>\n",
       "      <td>NaN</td>\n",
       "      <td>NaN</td>\n",
       "      <td>NaN</td>\n",
       "      <td>NaN</td>\n",
       "      <td>NaN</td>\n",
       "      <td>NaN</td>\n",
       "      <td>NaN</td>\n",
       "      <td>NaN</td>\n",
       "      <td>Gun</td>\n",
       "      <td>NaN</td>\n",
       "      <td>NaN</td>\n",
       "      <td>NaN</td>\n",
       "      <td>NaN</td>\n",
       "      <td>NaN</td>\n",
       "      <td>NaN</td>\n",
       "      <td>NaN</td>\n",
       "      <td>NaN</td>\n",
       "      <td>NaN</td>\n",
       "      <td>NaN</td>\n",
       "      <td>NaN</td>\n",
       "      <td>NaN</td>\n",
       "      <td>http://news.yahoo.com/19-killed-communal-clash...</td>\n",
       "      <td>http://allafrica.com/stories/201110030310.html</td>\n",
       "      <td>NaN</td>\n",
       "      <td>NaN</td>\n",
       "      <td>NaN</td>\n",
       "      <td>, Zamfara, Nigeria</td>\n",
       "    </tr>\n",
       "    <tr>\n",
       "      <th>2012-02-06</th>\n",
       "      <td>Gunmen Assassinate Businessman in Zamfara</td>\n",
       "      <td>2/6/2012</td>\n",
       "      <td>Gusau Road</td>\n",
       "      <td>Maru</td>\n",
       "      <td>Zamfara</td>\n",
       "      <td>1.0</td>\n",
       "      <td>NaN</td>\n",
       "      <td>NaN</td>\n",
       "      <td>NaN</td>\n",
       "      <td>Other Armed Actor</td>\n",
       "      <td>NaN</td>\n",
       "      <td>NaN</td>\n",
       "      <td>NaN</td>\n",
       "      <td>NaN</td>\n",
       "      <td>NaN</td>\n",
       "      <td>NaN</td>\n",
       "      <td>NaN</td>\n",
       "      <td>NaN</td>\n",
       "      <td>NaN</td>\n",
       "      <td>NaN</td>\n",
       "      <td>NaN</td>\n",
       "      <td>NaN</td>\n",
       "      <td>NaN</td>\n",
       "      <td>NaN</td>\n",
       "      <td>1.0</td>\n",
       "      <td>NaN</td>\n",
       "      <td>NaN</td>\n",
       "      <td>NaN</td>\n",
       "      <td>Gun</td>\n",
       "      <td>NaN</td>\n",
       "      <td>NaN</td>\n",
       "      <td>NaN</td>\n",
       "      <td>Targeted Killing</td>\n",
       "      <td>NaN</td>\n",
       "      <td>NaN</td>\n",
       "      <td>NaN</td>\n",
       "      <td>NaN</td>\n",
       "      <td>NaN</td>\n",
       "      <td>NaN</td>\n",
       "      <td>Other</td>\n",
       "      <td>one report</td>\n",
       "      <td>http://allafrica.com/stories/201202080505.html</td>\n",
       "      <td>NaN</td>\n",
       "      <td>NaN</td>\n",
       "      <td>NaN</td>\n",
       "      <td>NaN</td>\n",
       "      <td>Maru, Zamfara, Nigeria</td>\n",
       "    </tr>\n",
       "    <tr>\n",
       "      <th>2012-06-10</th>\n",
       "      <td>Gunmen Kill 27 in Zamfara</td>\n",
       "      <td>6/10/2012</td>\n",
       "      <td>Dangulbi</td>\n",
       "      <td>Maru</td>\n",
       "      <td>Zamfara</td>\n",
       "      <td>27.0</td>\n",
       "      <td>NaN</td>\n",
       "      <td>NaN</td>\n",
       "      <td>Sectarian Actor</td>\n",
       "      <td>NaN</td>\n",
       "      <td>NaN</td>\n",
       "      <td>NaN</td>\n",
       "      <td>NaN</td>\n",
       "      <td>NaN</td>\n",
       "      <td>NaN</td>\n",
       "      <td>NaN</td>\n",
       "      <td>1.0</td>\n",
       "      <td>26.0</td>\n",
       "      <td>NaN</td>\n",
       "      <td>NaN</td>\n",
       "      <td>NaN</td>\n",
       "      <td>NaN</td>\n",
       "      <td>NaN</td>\n",
       "      <td>NaN</td>\n",
       "      <td>NaN</td>\n",
       "      <td>NaN</td>\n",
       "      <td>NaN</td>\n",
       "      <td>NaN</td>\n",
       "      <td>Gun</td>\n",
       "      <td>NaN</td>\n",
       "      <td>NaN</td>\n",
       "      <td>NaN</td>\n",
       "      <td>NaN</td>\n",
       "      <td>NaN</td>\n",
       "      <td>NaN</td>\n",
       "      <td>NaN</td>\n",
       "      <td>NaN</td>\n",
       "      <td>NaN</td>\n",
       "      <td>NaN</td>\n",
       "      <td>Other</td>\n",
       "      <td>although reported as robbers, nothing was ston...</td>\n",
       "      <td>http://allafrica.com/stories/201206120146.html</td>\n",
       "      <td>http://allafrica.com/stories/201206120168.html</td>\n",
       "      <td>NaN</td>\n",
       "      <td>NaN</td>\n",
       "      <td>NaN</td>\n",
       "      <td>Maru, Zamfara, Nigeria</td>\n",
       "    </tr>\n",
       "    <tr>\n",
       "      <th>2012-10-31</th>\n",
       "      <td>Gunmen kill Kaboro Village Head And 16 Others ...</td>\n",
       "      <td>10/31/2012</td>\n",
       "      <td>Kaboro</td>\n",
       "      <td>NaN</td>\n",
       "      <td>Zamfara</td>\n",
       "      <td>20.0</td>\n",
       "      <td>NaN</td>\n",
       "      <td>NaN</td>\n",
       "      <td>NaN</td>\n",
       "      <td>Other Armed Actor</td>\n",
       "      <td>NaN</td>\n",
       "      <td>NaN</td>\n",
       "      <td>NaN</td>\n",
       "      <td>NaN</td>\n",
       "      <td>NaN</td>\n",
       "      <td>NaN</td>\n",
       "      <td>NaN</td>\n",
       "      <td>NaN</td>\n",
       "      <td>NaN</td>\n",
       "      <td>NaN</td>\n",
       "      <td>NaN</td>\n",
       "      <td>NaN</td>\n",
       "      <td>NaN</td>\n",
       "      <td>NaN</td>\n",
       "      <td>20.0</td>\n",
       "      <td>NaN</td>\n",
       "      <td>NaN</td>\n",
       "      <td>NaN</td>\n",
       "      <td>Gun</td>\n",
       "      <td>NaN</td>\n",
       "      <td>NaN</td>\n",
       "      <td>NaN</td>\n",
       "      <td>NaN</td>\n",
       "      <td>NaN</td>\n",
       "      <td>NaN</td>\n",
       "      <td>NaN</td>\n",
       "      <td>NaN</td>\n",
       "      <td>NaN</td>\n",
       "      <td>NaN</td>\n",
       "      <td>Other</td>\n",
       "      <td>NaN</td>\n",
       "      <td>http://saharareporters.com/news-page/gunmen-ki...</td>\n",
       "      <td>http://www.foxnews.com/world/2012/10/31/20-dea...</td>\n",
       "      <td>NaN</td>\n",
       "      <td>NaN</td>\n",
       "      <td>NaN</td>\n",
       "      <td>, Zamfara, Nigeria</td>\n",
       "    </tr>\n",
       "    <tr>\n",
       "      <th>2012-12-14</th>\n",
       "      <td>Ex-Zamfara Commissioner Shot Dead</td>\n",
       "      <td>12/14/2012</td>\n",
       "      <td>NaN</td>\n",
       "      <td>Gusau</td>\n",
       "      <td>Zamfara</td>\n",
       "      <td>1.0</td>\n",
       "      <td>NaN</td>\n",
       "      <td>NaN</td>\n",
       "      <td>NaN</td>\n",
       "      <td>Other Armed Actor</td>\n",
       "      <td>NaN</td>\n",
       "      <td>NaN</td>\n",
       "      <td>NaN</td>\n",
       "      <td>NaN</td>\n",
       "      <td>NaN</td>\n",
       "      <td>NaN</td>\n",
       "      <td>NaN</td>\n",
       "      <td>NaN</td>\n",
       "      <td>NaN</td>\n",
       "      <td>1.0</td>\n",
       "      <td>NaN</td>\n",
       "      <td>NaN</td>\n",
       "      <td>NaN</td>\n",
       "      <td>NaN</td>\n",
       "      <td>NaN</td>\n",
       "      <td>NaN</td>\n",
       "      <td>NaN</td>\n",
       "      <td>NaN</td>\n",
       "      <td>Gun</td>\n",
       "      <td>NaN</td>\n",
       "      <td>NaN</td>\n",
       "      <td>NaN</td>\n",
       "      <td>Targeted Killing</td>\n",
       "      <td>NaN</td>\n",
       "      <td>NaN</td>\n",
       "      <td>NaN</td>\n",
       "      <td>NaN</td>\n",
       "      <td>NaN</td>\n",
       "      <td>NaN</td>\n",
       "      <td>Other</td>\n",
       "      <td>NaN</td>\n",
       "      <td>http://247ureports.com/ex-zamfara-commissioner...</td>\n",
       "      <td>http://www.tribune.com.ng/news2013/index.php/e...</td>\n",
       "      <td>NaN</td>\n",
       "      <td>NaN</td>\n",
       "      <td>NaN</td>\n",
       "      <td>Gusau, Zamfara, Nigeria</td>\n",
       "    </tr>\n",
       "  </tbody>\n",
       "</table>\n",
       "</div>"
      ],
      "text/plain": [
       "                                                        Title        Date  \\\n",
       "Date                                                                        \n",
       "2011-10-02             Attacks in Zamfara Leave Nineteen Dead   10/2/2011   \n",
       "2012-02-06          Gunmen Assassinate Businessman in Zamfara    2/6/2012   \n",
       "2012-06-10                          Gunmen Kill 27 in Zamfara   6/10/2012   \n",
       "2012-10-31  Gunmen kill Kaboro Village Head And 16 Others ...  10/31/2012   \n",
       "2012-12-14                  Ex-Zamfara Commissioner Shot Dead  12/14/2012   \n",
       "\n",
       "           Community (city,town, ward)    LGA    State  Total Deaths  \\\n",
       "Date                                                                   \n",
       "2011-10-02                    Lingyado    NaN  Zamfara          19.0   \n",
       "2012-02-06                  Gusau Road   Maru  Zamfara           1.0   \n",
       "2012-06-10                    Dangulbi   Maru  Zamfara          27.0   \n",
       "2012-10-31                      Kaboro    NaN  Zamfara          20.0   \n",
       "2012-12-14                         NaN  Gusau  Zamfara           1.0   \n",
       "\n",
       "           Boko Haram (P) State Actor (P) Sectarian Actor (excluding BH) (P)  \\\n",
       "Date                                                                           \n",
       "2011-10-02            NaN             NaN                                NaN   \n",
       "2012-02-06            NaN             NaN                                NaN   \n",
       "2012-06-10            NaN             NaN                    Sectarian Actor   \n",
       "2012-10-31            NaN             NaN                                NaN   \n",
       "2012-12-14            NaN             NaN                                NaN   \n",
       "\n",
       "           Other Armed Actor (P) Kidnapper (P) Robber (P) Other (P)  \\\n",
       "Date                                                                  \n",
       "2011-10-02                   NaN           NaN        NaN       NaN   \n",
       "2012-02-06     Other Armed Actor           NaN        NaN       NaN   \n",
       "2012-06-10                   NaN           NaN        NaN       NaN   \n",
       "2012-10-31     Other Armed Actor           NaN        NaN       NaN   \n",
       "2012-12-14     Other Armed Actor           NaN        NaN       NaN   \n",
       "\n",
       "           Election-related Actor (P)  Cameroon State Actor (P)  \\\n",
       "Date                                                              \n",
       "2011-10-02                        NaN                       NaN   \n",
       "2012-02-06                        NaN                       NaN   \n",
       "2012-06-10                        NaN                       NaN   \n",
       "2012-10-31                        NaN                       NaN   \n",
       "2012-12-14                        NaN                       NaN   \n",
       "\n",
       "            Boko Haram (V)  State Actor (V)  Sectarian Actor (V)  \\\n",
       "Date                                                               \n",
       "2011-10-02             NaN              NaN                  NaN   \n",
       "2012-02-06             NaN              NaN                  NaN   \n",
       "2012-06-10             NaN              1.0                 26.0   \n",
       "2012-10-31             NaN              NaN                  NaN   \n",
       "2012-12-14             NaN              NaN                  NaN   \n",
       "\n",
       "            Other Armed Actor (V)  Political Actor (V)  Kidnapper (V)  \\\n",
       "Date                                                                    \n",
       "2011-10-02                    NaN                  NaN            NaN   \n",
       "2012-02-06                    NaN                  NaN            NaN   \n",
       "2012-06-10                    NaN                  NaN            NaN   \n",
       "2012-10-31                    NaN                  NaN            NaN   \n",
       "2012-12-14                    NaN                  1.0            NaN   \n",
       "\n",
       "            Kidnapee (V)  Robber (V)  Journalist (V)  Civilian (V)  \\\n",
       "Date                                                                 \n",
       "2011-10-02           NaN         NaN             NaN           NaN   \n",
       "2012-02-06           NaN         NaN             NaN           1.0   \n",
       "2012-06-10           NaN         NaN             NaN           NaN   \n",
       "2012-10-31           NaN         NaN             NaN          20.0   \n",
       "2012-12-14           NaN         NaN             NaN           NaN   \n",
       "\n",
       "            Election-related Actor (V)  Cameroon State Actor Bomb  Gun  \\\n",
       "Date                                                                     \n",
       "2011-10-02                         NaN                   NaN  NaN  Gun   \n",
       "2012-02-06                         NaN                   NaN  NaN  Gun   \n",
       "2012-06-10                         NaN                   NaN  NaN  Gun   \n",
       "2012-10-31                         NaN                   NaN  NaN  Gun   \n",
       "2012-12-14                         NaN                   NaN  NaN  Gun   \n",
       "\n",
       "           Machete Suicide Bombing Other Weapon                TK  \\\n",
       "Date                                                                \n",
       "2011-10-02     NaN             NaN          NaN               NaN   \n",
       "2012-02-06     NaN             NaN          NaN  Targeted Killing   \n",
       "2012-06-10     NaN             NaN          NaN               NaN   \n",
       "2012-10-31     NaN             NaN          NaN               NaN   \n",
       "2012-12-14     NaN             NaN          NaN  Targeted Killing   \n",
       "\n",
       "           Drinking Establishment Goverment Building Church Mosque Bank  \\\n",
       "Date                                                                      \n",
       "2011-10-02                    NaN                NaN    NaN    NaN  NaN   \n",
       "2012-02-06                    NaN                NaN    NaN    NaN  NaN   \n",
       "2012-06-10                    NaN                NaN    NaN    NaN  NaN   \n",
       "2012-10-31                    NaN                NaN    NaN    NaN  NaN   \n",
       "2012-12-14                    NaN                NaN    NaN    NaN  NaN   \n",
       "\n",
       "           School Other Location  \\\n",
       "Date                               \n",
       "2011-10-02    NaN            NaN   \n",
       "2012-02-06    NaN          Other   \n",
       "2012-06-10    NaN          Other   \n",
       "2012-10-31    NaN          Other   \n",
       "2012-12-14    NaN          Other   \n",
       "\n",
       "                                                        Notes  \\\n",
       "Date                                                            \n",
       "2011-10-02                                                NaN   \n",
       "2012-02-06                                         one report   \n",
       "2012-06-10  although reported as robbers, nothing was ston...   \n",
       "2012-10-31                                                NaN   \n",
       "2012-12-14                                                NaN   \n",
       "\n",
       "                                                    Sources 1  \\\n",
       "Date                                                            \n",
       "2011-10-02  http://news.yahoo.com/19-killed-communal-clash...   \n",
       "2012-02-06     http://allafrica.com/stories/201202080505.html   \n",
       "2012-06-10     http://allafrica.com/stories/201206120146.html   \n",
       "2012-10-31  http://saharareporters.com/news-page/gunmen-ki...   \n",
       "2012-12-14  http://247ureports.com/ex-zamfara-commissioner...   \n",
       "\n",
       "                                                    Sources 2 Sources 3  \\\n",
       "Date                                                                      \n",
       "2011-10-02     http://allafrica.com/stories/201110030310.html       NaN   \n",
       "2012-02-06                                                NaN       NaN   \n",
       "2012-06-10     http://allafrica.com/stories/201206120168.html       NaN   \n",
       "2012-10-31  http://www.foxnews.com/world/2012/10/31/20-dea...       NaN   \n",
       "2012-12-14  http://www.tribune.com.ng/news2013/index.php/e...       NaN   \n",
       "\n",
       "           Latitude Longitude          full place name  \n",
       "Date                                                    \n",
       "2011-10-02      NaN       NaN       , Zamfara, Nigeria  \n",
       "2012-02-06      NaN       NaN   Maru, Zamfara, Nigeria  \n",
       "2012-06-10      NaN       NaN   Maru, Zamfara, Nigeria  \n",
       "2012-10-31      NaN       NaN       , Zamfara, Nigeria  \n",
       "2012-12-14      NaN       NaN  Gusau, Zamfara, Nigeria  "
      ]
     },
     "execution_count": 33,
     "metadata": {},
     "output_type": "execute_result"
    }
   ],
   "source": [
    "zam.head()"
   ]
  },
  {
   "cell_type": "code",
   "execution_count": 51,
   "metadata": {},
   "outputs": [],
   "source": [
    "#kidnapping incidents in Zamfara\n",
    "#zam[zam['Kidnapper (P)']=='Kidnapper']"
   ]
  },
  {
   "cell_type": "code",
   "execution_count": 38,
   "metadata": {},
   "outputs": [
    {
     "data": {
      "text/plain": [
       "13"
      ]
     },
     "execution_count": 38,
     "metadata": {},
     "output_type": "execute_result"
    }
   ],
   "source": [
    "len(zam[zam['Kidnapper (P)']=='Kidnapper'])"
   ]
  },
  {
   "cell_type": "code",
   "execution_count": 41,
   "metadata": {},
   "outputs": [
    {
     "data": {
      "text/plain": [
       "13"
      ]
     },
     "execution_count": 41,
     "metadata": {},
     "output_type": "execute_result"
    }
   ],
   "source": [
    "len(zam[zam['Sectarian Actor (excluding BH) (P)']=='Sectarian Actor'])"
   ]
  },
  {
   "cell_type": "code",
   "execution_count": 44,
   "metadata": {},
   "outputs": [
    {
     "data": {
      "text/plain": [
       "62"
      ]
     },
     "execution_count": 44,
     "metadata": {},
     "output_type": "execute_result"
    }
   ],
   "source": [
    "len(zam[zam['Other Armed Actor (P)']=='Other Armed Actor'])"
   ]
  },
  {
   "cell_type": "code",
   "execution_count": 46,
   "metadata": {},
   "outputs": [],
   "source": [
    "armed_actors_zam = zam[zam['Other Armed Actor (P)']=='Other Armed Actor']"
   ]
  },
  {
   "cell_type": "code",
   "execution_count": 47,
   "metadata": {},
   "outputs": [
    {
     "data": {
      "text/html": [
       "<div>\n",
       "<style scoped>\n",
       "    .dataframe tbody tr th:only-of-type {\n",
       "        vertical-align: middle;\n",
       "    }\n",
       "\n",
       "    .dataframe tbody tr th {\n",
       "        vertical-align: top;\n",
       "    }\n",
       "\n",
       "    .dataframe thead th {\n",
       "        text-align: right;\n",
       "    }\n",
       "</style>\n",
       "<table border=\"1\" class=\"dataframe\">\n",
       "  <thead>\n",
       "    <tr style=\"text-align: right;\">\n",
       "      <th></th>\n",
       "      <th>Date</th>\n",
       "      <th>Total Deaths</th>\n",
       "    </tr>\n",
       "  </thead>\n",
       "  <tbody>\n",
       "    <tr>\n",
       "      <th>0</th>\n",
       "      <td>2012-02-12</td>\n",
       "      <td>1.0</td>\n",
       "    </tr>\n",
       "    <tr>\n",
       "      <th>1</th>\n",
       "      <td>2012-02-19</td>\n",
       "      <td>0.0</td>\n",
       "    </tr>\n",
       "  </tbody>\n",
       "</table>\n",
       "</div>"
      ],
      "text/plain": [
       "        Date  Total Deaths\n",
       "0 2012-02-12           1.0\n",
       "1 2012-02-19           0.0"
      ]
     },
     "execution_count": 47,
     "metadata": {},
     "output_type": "execute_result"
    }
   ],
   "source": [
    "aa_zam = armed_actors_zam.resample('W')['Total Deaths'].sum()\n",
    "\n",
    "\n",
    "\n",
    "aa_zam = pd.DataFrame(aa_zam)\n",
    "\n",
    "\n",
    "\n",
    "aa_zam = aa_zam.reset_index()\n",
    "\n",
    "\n",
    "\n",
    "aa_zam.head(2)"
   ]
  },
  {
   "cell_type": "code",
   "execution_count": 48,
   "metadata": {},
   "outputs": [
    {
     "data": {
      "application/vnd.plotly.v1+json": {
       "config": {
        "linkText": "Export to plot.ly",
        "plotlyServerURL": "https://plot.ly",
        "showLink": false
       },
       "data": [
        {
         "hovertemplate": "Date=%{x}<br>Total Deaths=%{y}<extra></extra>",
         "legendgroup": "",
         "line": {
          "color": "#636efa",
          "dash": "solid"
         },
         "mode": "lines",
         "name": "",
         "showlegend": false,
         "type": "scatter",
         "uid": "a4fd6c83-47aa-4bd6-9c4b-e7c0f9cfe662",
         "x": [
          "2012-02-12 05:00:00",
          "2012-02-19 05:00:00",
          "2012-02-26 05:00:00",
          "2012-03-04 05:00:00",
          "2012-03-11 05:00:00",
          "2012-03-18 04:00:00",
          "2012-03-25 04:00:00",
          "2012-04-01 04:00:00",
          "2012-04-08 04:00:00",
          "2012-04-15 04:00:00",
          "2012-04-22 04:00:00",
          "2012-04-29 04:00:00",
          "2012-05-06 04:00:00",
          "2012-05-13 04:00:00",
          "2012-05-20 04:00:00",
          "2012-05-27 04:00:00",
          "2012-06-03 04:00:00",
          "2012-06-10 04:00:00",
          "2012-06-17 04:00:00",
          "2012-06-24 04:00:00",
          "2012-07-01 04:00:00",
          "2012-07-08 04:00:00",
          "2012-07-15 04:00:00",
          "2012-07-22 04:00:00",
          "2012-07-29 04:00:00",
          "2012-08-05 04:00:00",
          "2012-08-12 04:00:00",
          "2012-08-19 04:00:00",
          "2012-08-26 04:00:00",
          "2012-09-02 04:00:00",
          "2012-09-09 04:00:00",
          "2012-09-16 04:00:00",
          "2012-09-23 04:00:00",
          "2012-09-30 04:00:00",
          "2012-10-07 04:00:00",
          "2012-10-14 04:00:00",
          "2012-10-21 04:00:00",
          "2012-10-28 04:00:00",
          "2012-11-04 04:00:00",
          "2012-11-11 05:00:00",
          "2012-11-18 05:00:00",
          "2012-11-25 05:00:00",
          "2012-12-02 05:00:00",
          "2012-12-09 05:00:00",
          "2012-12-16 05:00:00",
          "2012-12-23 05:00:00",
          "2012-12-30 05:00:00",
          "2013-01-06 05:00:00",
          "2013-01-13 05:00:00",
          "2013-01-20 05:00:00",
          "2013-01-27 05:00:00",
          "2013-02-03 05:00:00",
          "2013-02-10 05:00:00",
          "2013-02-17 05:00:00",
          "2013-02-24 05:00:00",
          "2013-03-03 05:00:00",
          "2013-03-10 05:00:00",
          "2013-03-17 04:00:00",
          "2013-03-24 04:00:00",
          "2013-03-31 04:00:00",
          "2013-04-07 04:00:00",
          "2013-04-14 04:00:00",
          "2013-04-21 04:00:00",
          "2013-04-28 04:00:00",
          "2013-05-05 04:00:00",
          "2013-05-12 04:00:00",
          "2013-05-19 04:00:00",
          "2013-05-26 04:00:00",
          "2013-06-02 04:00:00",
          "2013-06-09 04:00:00",
          "2013-06-16 04:00:00",
          "2013-06-23 04:00:00",
          "2013-06-30 04:00:00",
          "2013-07-07 04:00:00",
          "2013-07-14 04:00:00",
          "2013-07-21 04:00:00",
          "2013-07-28 04:00:00",
          "2013-08-04 04:00:00",
          "2013-08-11 04:00:00",
          "2013-08-18 04:00:00",
          "2013-08-25 04:00:00",
          "2013-09-01 04:00:00",
          "2013-09-08 04:00:00",
          "2013-09-15 04:00:00",
          "2013-09-22 04:00:00",
          "2013-09-29 04:00:00",
          "2013-10-06 04:00:00",
          "2013-10-13 04:00:00",
          "2013-10-20 04:00:00",
          "2013-10-27 04:00:00",
          "2013-11-03 04:00:00",
          "2013-11-10 05:00:00",
          "2013-11-17 05:00:00",
          "2013-11-24 05:00:00",
          "2013-12-01 05:00:00",
          "2013-12-08 05:00:00",
          "2013-12-15 05:00:00",
          "2013-12-22 05:00:00",
          "2013-12-29 05:00:00",
          "2014-01-05 05:00:00",
          "2014-01-12 05:00:00",
          "2014-01-19 05:00:00",
          "2014-01-26 05:00:00",
          "2014-02-02 05:00:00",
          "2014-02-09 05:00:00",
          "2014-02-16 05:00:00",
          "2014-02-23 05:00:00",
          "2014-03-02 05:00:00",
          "2014-03-09 05:00:00",
          "2014-03-16 04:00:00",
          "2014-03-23 04:00:00",
          "2014-03-30 04:00:00",
          "2014-04-06 04:00:00",
          "2014-04-13 04:00:00",
          "2014-04-20 04:00:00",
          "2014-04-27 04:00:00",
          "2014-05-04 04:00:00",
          "2014-05-11 04:00:00",
          "2014-05-18 04:00:00",
          "2014-05-25 04:00:00",
          "2014-06-01 04:00:00",
          "2014-06-08 04:00:00",
          "2014-06-15 04:00:00",
          "2014-06-22 04:00:00",
          "2014-06-29 04:00:00",
          "2014-07-06 04:00:00",
          "2014-07-13 04:00:00",
          "2014-07-20 04:00:00",
          "2014-07-27 04:00:00",
          "2014-08-03 04:00:00",
          "2014-08-10 04:00:00",
          "2014-08-17 04:00:00",
          "2014-08-24 04:00:00",
          "2014-08-31 04:00:00",
          "2014-09-07 04:00:00",
          "2014-09-14 04:00:00",
          "2014-09-21 04:00:00",
          "2014-09-28 04:00:00",
          "2014-10-05 04:00:00",
          "2014-10-12 04:00:00",
          "2014-10-19 04:00:00",
          "2014-10-26 04:00:00",
          "2014-11-02 04:00:00",
          "2014-11-09 05:00:00",
          "2014-11-16 05:00:00",
          "2014-11-23 05:00:00",
          "2014-11-30 05:00:00",
          "2014-12-07 05:00:00",
          "2014-12-14 05:00:00",
          "2014-12-21 05:00:00",
          "2014-12-28 05:00:00",
          "2015-01-04 05:00:00",
          "2015-01-11 05:00:00",
          "2015-01-18 05:00:00",
          "2015-01-25 05:00:00",
          "2015-02-01 05:00:00",
          "2015-02-08 05:00:00",
          "2015-02-15 05:00:00",
          "2015-02-22 05:00:00",
          "2015-03-01 05:00:00",
          "2015-03-08 05:00:00",
          "2015-03-15 04:00:00",
          "2015-03-22 04:00:00",
          "2015-03-29 04:00:00",
          "2015-04-05 04:00:00",
          "2015-04-12 04:00:00",
          "2015-04-19 04:00:00",
          "2015-04-26 04:00:00",
          "2015-05-03 04:00:00",
          "2015-05-10 04:00:00",
          "2015-05-17 04:00:00",
          "2015-05-24 04:00:00",
          "2015-05-31 04:00:00",
          "2015-06-07 04:00:00",
          "2015-06-14 04:00:00",
          "2015-06-21 04:00:00",
          "2015-06-28 04:00:00",
          "2015-07-05 04:00:00",
          "2015-07-12 04:00:00",
          "2015-07-19 04:00:00",
          "2015-07-26 04:00:00",
          "2015-08-02 04:00:00",
          "2015-08-09 04:00:00",
          "2015-08-16 04:00:00",
          "2015-08-23 04:00:00",
          "2015-08-30 04:00:00",
          "2015-09-06 04:00:00",
          "2015-09-13 04:00:00",
          "2015-09-20 04:00:00",
          "2015-09-27 04:00:00",
          "2015-10-04 04:00:00",
          "2015-10-11 04:00:00",
          "2015-10-18 04:00:00",
          "2015-10-25 04:00:00",
          "2015-11-01 04:00:00",
          "2015-11-08 05:00:00",
          "2015-11-15 05:00:00",
          "2015-11-22 05:00:00",
          "2015-11-29 05:00:00",
          "2015-12-06 05:00:00",
          "2015-12-13 05:00:00",
          "2015-12-20 05:00:00",
          "2015-12-27 05:00:00",
          "2016-01-03 05:00:00",
          "2016-01-10 05:00:00",
          "2016-01-17 05:00:00",
          "2016-01-24 05:00:00",
          "2016-01-31 05:00:00",
          "2016-02-07 05:00:00",
          "2016-02-14 05:00:00",
          "2016-02-21 05:00:00",
          "2016-02-28 05:00:00",
          "2016-03-06 05:00:00",
          "2016-03-13 05:00:00",
          "2016-03-20 04:00:00",
          "2016-03-27 04:00:00",
          "2016-04-03 04:00:00",
          "2016-04-10 04:00:00",
          "2016-04-17 04:00:00",
          "2016-04-24 04:00:00",
          "2016-05-01 04:00:00",
          "2016-05-08 04:00:00",
          "2016-05-15 04:00:00",
          "2016-05-22 04:00:00",
          "2016-05-29 04:00:00",
          "2016-06-05 04:00:00",
          "2016-06-12 04:00:00",
          "2016-06-19 04:00:00",
          "2016-06-26 04:00:00",
          "2016-07-03 04:00:00",
          "2016-07-10 04:00:00",
          "2016-07-17 04:00:00",
          "2016-07-24 04:00:00",
          "2016-07-31 04:00:00",
          "2016-08-07 04:00:00",
          "2016-08-14 04:00:00",
          "2016-08-21 04:00:00",
          "2016-08-28 04:00:00",
          "2016-09-04 04:00:00",
          "2016-09-11 04:00:00",
          "2016-09-18 04:00:00",
          "2016-09-25 04:00:00",
          "2016-10-02 04:00:00",
          "2016-10-09 04:00:00",
          "2016-10-16 04:00:00",
          "2016-10-23 04:00:00",
          "2016-10-30 04:00:00",
          "2016-11-06 04:00:00",
          "2016-11-13 05:00:00",
          "2016-11-20 05:00:00",
          "2016-11-27 05:00:00",
          "2016-12-04 05:00:00",
          "2016-12-11 05:00:00",
          "2016-12-18 05:00:00",
          "2016-12-25 05:00:00",
          "2017-01-01 05:00:00",
          "2017-01-08 05:00:00",
          "2017-01-15 05:00:00",
          "2017-01-22 05:00:00",
          "2017-01-29 05:00:00",
          "2017-02-05 05:00:00",
          "2017-02-12 05:00:00",
          "2017-02-19 05:00:00",
          "2017-02-26 05:00:00",
          "2017-03-05 05:00:00",
          "2017-03-12 05:00:00",
          "2017-03-19 04:00:00",
          "2017-03-26 04:00:00",
          "2017-04-02 04:00:00",
          "2017-04-09 04:00:00",
          "2017-04-16 04:00:00",
          "2017-04-23 04:00:00",
          "2017-04-30 04:00:00",
          "2017-05-07 04:00:00",
          "2017-05-14 04:00:00",
          "2017-05-21 04:00:00",
          "2017-05-28 04:00:00",
          "2017-06-04 04:00:00",
          "2017-06-11 04:00:00",
          "2017-06-18 04:00:00",
          "2017-06-25 04:00:00",
          "2017-07-02 04:00:00",
          "2017-07-09 04:00:00",
          "2017-07-16 04:00:00",
          "2017-07-23 04:00:00",
          "2017-07-30 04:00:00",
          "2017-08-06 04:00:00",
          "2017-08-13 04:00:00",
          "2017-08-20 04:00:00",
          "2017-08-27 04:00:00",
          "2017-09-03 04:00:00",
          "2017-09-10 04:00:00",
          "2017-09-17 04:00:00",
          "2017-09-24 04:00:00",
          "2017-10-01 04:00:00",
          "2017-10-08 04:00:00",
          "2017-10-15 04:00:00",
          "2017-10-22 04:00:00",
          "2017-10-29 04:00:00",
          "2017-11-05 04:00:00",
          "2017-11-12 05:00:00",
          "2017-11-19 05:00:00",
          "2017-11-26 05:00:00",
          "2017-12-03 05:00:00",
          "2017-12-10 05:00:00",
          "2017-12-17 05:00:00",
          "2017-12-24 05:00:00",
          "2017-12-31 05:00:00",
          "2018-01-07 05:00:00",
          "2018-01-14 05:00:00",
          "2018-01-21 05:00:00",
          "2018-01-28 05:00:00",
          "2018-02-04 05:00:00",
          "2018-02-11 05:00:00",
          "2018-02-18 05:00:00",
          "2018-02-25 05:00:00",
          "2018-03-04 05:00:00",
          "2018-03-11 05:00:00",
          "2018-03-18 04:00:00",
          "2018-03-25 04:00:00",
          "2018-04-01 04:00:00",
          "2018-04-08 04:00:00",
          "2018-04-15 04:00:00",
          "2018-04-22 04:00:00",
          "2018-04-29 04:00:00",
          "2018-05-06 04:00:00",
          "2018-05-13 04:00:00",
          "2018-05-20 04:00:00",
          "2018-05-27 04:00:00",
          "2018-06-03 04:00:00",
          "2018-06-10 04:00:00",
          "2018-06-17 04:00:00",
          "2018-06-24 04:00:00",
          "2018-07-01 04:00:00",
          "2018-07-08 04:00:00",
          "2018-07-15 04:00:00",
          "2018-07-22 04:00:00",
          "2018-07-29 04:00:00",
          "2018-08-05 04:00:00",
          "2018-08-12 04:00:00",
          "2018-08-19 04:00:00",
          "2018-08-26 04:00:00",
          "2018-09-02 04:00:00",
          "2018-09-09 04:00:00",
          "2018-09-16 04:00:00",
          "2018-09-23 04:00:00",
          "2018-09-30 04:00:00",
          "2018-10-07 04:00:00",
          "2018-10-14 04:00:00",
          "2018-10-21 04:00:00",
          "2018-10-28 04:00:00",
          "2018-11-04 04:00:00",
          "2018-11-11 05:00:00",
          "2018-11-18 05:00:00",
          "2018-11-25 05:00:00",
          "2018-12-02 05:00:00",
          "2018-12-09 05:00:00",
          "2018-12-16 05:00:00",
          "2018-12-23 05:00:00",
          "2018-12-30 05:00:00",
          "2019-01-06 05:00:00",
          "2019-01-13 05:00:00",
          "2019-01-20 05:00:00",
          "2019-01-27 05:00:00",
          "2019-02-03 05:00:00",
          "2019-02-10 05:00:00",
          "2019-02-17 05:00:00",
          "2019-02-24 05:00:00",
          "2019-03-03 05:00:00",
          "2019-03-10 05:00:00",
          "2019-03-17 04:00:00",
          "2019-03-24 04:00:00",
          "2019-03-31 04:00:00",
          "2019-04-07 04:00:00"
         ],
         "xaxis": "x",
         "y": [
          1,
          0,
          0,
          0,
          0,
          0,
          0,
          0,
          0,
          0,
          0,
          0,
          0,
          0,
          0,
          0,
          0,
          0,
          0,
          0,
          0,
          0,
          0,
          0,
          0,
          0,
          0,
          0,
          0,
          0,
          0,
          0,
          0,
          0,
          0,
          0,
          0,
          0,
          20,
          0,
          0,
          0,
          0,
          0,
          11,
          0,
          0,
          0,
          0,
          0,
          0,
          0,
          0,
          0,
          7,
          0,
          0,
          0,
          0,
          0,
          0,
          0,
          0,
          0,
          0,
          0,
          0,
          0,
          0,
          0,
          0,
          0,
          0,
          0,
          0,
          0,
          0,
          0,
          0,
          0,
          0,
          0,
          0,
          0,
          0,
          0,
          0,
          0,
          0,
          0,
          0,
          0,
          0,
          0,
          0,
          0,
          0,
          0,
          0,
          0,
          0,
          0,
          0,
          0,
          0,
          0,
          0,
          0,
          0,
          0,
          0,
          0,
          28,
          0,
          0,
          0,
          0,
          0,
          0,
          0,
          0,
          0,
          0,
          0,
          0,
          0,
          0,
          0,
          0,
          0,
          0,
          0,
          0,
          0,
          0,
          0,
          0,
          0,
          0,
          0,
          0,
          0,
          0,
          0,
          0,
          0,
          0,
          0,
          0,
          0,
          0,
          0,
          0,
          0,
          0,
          0,
          0,
          0,
          0,
          0,
          0,
          0,
          0,
          0,
          0,
          0,
          0,
          0,
          0,
          0,
          0,
          0,
          0,
          0,
          0,
          0,
          0,
          40,
          0,
          0,
          0,
          0,
          0,
          0,
          0,
          0,
          0,
          0,
          0,
          0,
          0,
          0,
          0,
          0,
          0,
          0,
          0,
          0,
          0,
          0,
          0,
          0,
          0,
          0,
          0,
          0,
          0,
          0,
          0,
          0,
          0,
          0,
          0,
          0,
          0,
          0,
          0,
          0,
          0,
          0,
          0,
          0,
          0,
          0,
          0,
          0,
          0,
          0,
          0,
          0,
          0,
          0,
          0,
          0,
          0,
          0,
          0,
          0,
          0,
          0,
          0,
          0,
          0,
          0,
          0,
          0,
          0,
          0,
          40,
          0,
          0,
          0,
          0,
          0,
          0,
          0,
          0,
          0,
          0,
          0,
          0,
          0,
          0,
          0,
          0,
          0,
          0,
          0,
          0,
          0,
          0,
          0,
          0,
          0,
          0,
          0,
          0,
          0,
          0,
          0,
          0,
          0,
          0,
          0,
          0,
          0,
          0,
          0,
          0,
          0,
          0,
          0,
          0,
          2,
          0,
          0,
          0,
          0,
          0,
          0,
          0,
          25,
          0,
          0,
          0,
          0,
          0,
          0,
          0,
          0,
          0,
          0,
          0,
          0,
          0,
          0,
          0,
          0,
          0,
          0,
          36,
          0,
          0,
          30,
          0,
          13,
          8,
          1,
          7,
          24,
          1,
          26,
          0,
          23,
          1,
          1,
          33,
          4,
          0,
          0,
          0,
          0,
          0,
          0,
          11,
          0,
          0,
          0,
          0,
          0,
          6,
          0,
          0,
          0,
          0,
          0,
          0,
          0,
          42,
          0,
          18,
          0,
          62,
          0,
          33,
          27,
          43,
          67,
          114,
          86,
          59,
          1,
          51,
          50
         ],
         "yaxis": "y"
        }
       ],
       "layout": {
        "autosize": true,
        "grid": {
         "xaxes": [
          "x"
         ],
         "xgap": 0.1,
         "xside": "bottom",
         "yaxes": [
          "y"
         ],
         "ygap": 0.1,
         "yside": "left"
        },
        "legend": {
         "tracegroupgap": 0
        },
        "margin": {
         "t": 60
        },
        "template": {
         "data": {
          "bar": [
           {
            "marker": {
             "line": {
              "color": "#E5ECF6",
              "width": 0.5
             }
            },
            "type": "bar"
           }
          ],
          "barpolar": [
           {
            "marker": {
             "line": {
              "color": "#E5ECF6",
              "width": 0.5
             }
            },
            "type": "barpolar"
           }
          ],
          "carpet": [
           {
            "aaxis": {
             "endlinecolor": "#2a3f5f",
             "gridcolor": "white",
             "linecolor": "white",
             "minorgridcolor": "white",
             "startlinecolor": "#2a3f5f"
            },
            "baxis": {
             "endlinecolor": "#2a3f5f",
             "gridcolor": "white",
             "linecolor": "white",
             "minorgridcolor": "white",
             "startlinecolor": "#2a3f5f"
            },
            "type": "carpet"
           }
          ],
          "choropleth": [
           {
            "colorbar": {
             "outlinewidth": 0,
             "ticks": ""
            },
            "type": "choropleth"
           }
          ],
          "contour": [
           {
            "autocolorscale": true,
            "colorbar": {
             "outlinewidth": 0,
             "ticks": ""
            },
            "type": "contour"
           }
          ],
          "contourcarpet": [
           {
            "colorbar": {
             "outlinewidth": 0,
             "ticks": ""
            },
            "type": "contourcarpet"
           }
          ],
          "heatmap": [
           {
            "autocolorscale": true,
            "colorbar": {
             "outlinewidth": 0,
             "ticks": ""
            },
            "type": "heatmap"
           }
          ],
          "heatmapgl": [
           {
            "colorbar": {
             "outlinewidth": 0,
             "ticks": ""
            },
            "type": "heatmapgl"
           }
          ],
          "histogram": [
           {
            "marker": {
             "colorbar": {
              "outlinewidth": 0,
              "ticks": ""
             }
            },
            "type": "histogram"
           }
          ],
          "histogram2d": [
           {
            "autocolorscale": true,
            "colorbar": {
             "outlinewidth": 0,
             "ticks": ""
            },
            "type": "histogram2d"
           }
          ],
          "histogram2dcontour": [
           {
            "autocolorscale": true,
            "colorbar": {
             "outlinewidth": 0,
             "ticks": ""
            },
            "type": "histogram2dcontour"
           }
          ],
          "mesh3d": [
           {
            "colorbar": {
             "outlinewidth": 0,
             "ticks": ""
            },
            "type": "mesh3d"
           }
          ],
          "parcoords": [
           {
            "line": {
             "colorbar": {
              "outlinewidth": 0,
              "ticks": ""
             }
            },
            "type": "parcoords"
           }
          ],
          "scatter": [
           {
            "marker": {
             "colorbar": {
              "outlinewidth": 0,
              "ticks": ""
             }
            },
            "type": "scatter"
           }
          ],
          "scatter3d": [
           {
            "marker": {
             "colorbar": {
              "outlinewidth": 0,
              "ticks": ""
             }
            },
            "type": "scatter3d"
           }
          ],
          "scattercarpet": [
           {
            "marker": {
             "colorbar": {
              "outlinewidth": 0,
              "ticks": ""
             }
            },
            "type": "scattercarpet"
           }
          ],
          "scattergeo": [
           {
            "marker": {
             "colorbar": {
              "outlinewidth": 0,
              "ticks": ""
             }
            },
            "type": "scattergeo"
           }
          ],
          "scattergl": [
           {
            "marker": {
             "colorbar": {
              "outlinewidth": 0,
              "ticks": ""
             }
            },
            "type": "scattergl"
           }
          ],
          "scattermapbox": [
           {
            "marker": {
             "colorbar": {
              "outlinewidth": 0,
              "ticks": ""
             }
            },
            "type": "scattermapbox"
           }
          ],
          "scatterpolar": [
           {
            "marker": {
             "colorbar": {
              "outlinewidth": 0,
              "ticks": ""
             }
            },
            "type": "scatterpolar"
           }
          ],
          "scatterpolargl": [
           {
            "marker": {
             "colorbar": {
              "outlinewidth": 0,
              "ticks": ""
             }
            },
            "type": "scatterpolargl"
           }
          ],
          "scatterternary": [
           {
            "marker": {
             "colorbar": {
              "outlinewidth": 0,
              "ticks": ""
             }
            },
            "type": "scatterternary"
           }
          ],
          "surface": [
           {
            "colorbar": {
             "outlinewidth": 0,
             "ticks": ""
            },
            "type": "surface"
           }
          ],
          "table": [
           {
            "cells": {
             "fill": {
              "color": "#EBF0F8"
             },
             "line": {
              "color": "white"
             }
            },
            "header": {
             "fill": {
              "color": "#C8D4E3"
             },
             "line": {
              "color": "white"
             }
            },
            "type": "table"
           }
          ]
         },
         "layout": {
          "annotationdefaults": {
           "arrowcolor": "#506784",
           "arrowhead": 0,
           "arrowwidth": 1
          },
          "colorscale": {
           "diverging": [
            [
             0,
             "#8e0152"
            ],
            [
             0.1,
             "#c51b7d"
            ],
            [
             0.2,
             "#de77ae"
            ],
            [
             0.3,
             "#f1b6da"
            ],
            [
             0.4,
             "#fde0ef"
            ],
            [
             0.5,
             "#f7f7f7"
            ],
            [
             0.6,
             "#e6f5d0"
            ],
            [
             0.7,
             "#b8e186"
            ],
            [
             0.8,
             "#7fbc41"
            ],
            [
             0.9,
             "#4d9221"
            ],
            [
             1,
             "#276419"
            ]
           ],
           "sequential": [
            [
             0,
             "#0508b8"
            ],
            [
             0.0893854748603352,
             "#1910d8"
            ],
            [
             0.1787709497206704,
             "#3c19f0"
            ],
            [
             0.2681564245810056,
             "#6b1cfb"
            ],
            [
             0.3575418994413408,
             "#981cfd"
            ],
            [
             0.44692737430167595,
             "#bf1cfd"
            ],
            [
             0.5363128491620112,
             "#dd2bfd"
            ],
            [
             0.6256983240223464,
             "#f246fe"
            ],
            [
             0.7150837988826816,
             "#fc67fd"
            ],
            [
             0.8044692737430168,
             "#fe88fc"
            ],
            [
             0.8938547486033519,
             "#fea5fd"
            ],
            [
             0.9832402234636871,
             "#febefe"
            ],
            [
             1,
             "#fec3fe"
            ]
           ],
           "sequentialminus": [
            [
             0,
             "#0508b8"
            ],
            [
             0.0893854748603352,
             "#1910d8"
            ],
            [
             0.1787709497206704,
             "#3c19f0"
            ],
            [
             0.2681564245810056,
             "#6b1cfb"
            ],
            [
             0.3575418994413408,
             "#981cfd"
            ],
            [
             0.44692737430167595,
             "#bf1cfd"
            ],
            [
             0.5363128491620112,
             "#dd2bfd"
            ],
            [
             0.6256983240223464,
             "#f246fe"
            ],
            [
             0.7150837988826816,
             "#fc67fd"
            ],
            [
             0.8044692737430168,
             "#fe88fc"
            ],
            [
             0.8938547486033519,
             "#fea5fd"
            ],
            [
             0.9832402234636871,
             "#febefe"
            ],
            [
             1,
             "#fec3fe"
            ]
           ]
          },
          "colorway": [
           "#636efa",
           "#EF553B",
           "#00cc96",
           "#ab63fa",
           "#19d3f3",
           "#e763fa",
           "#FECB52",
           "#FFA15A",
           "#FF6692",
           "#B6E880"
          ],
          "font": {
           "color": "#2a3f5f"
          },
          "geo": {
           "bgcolor": "white",
           "lakecolor": "white",
           "landcolor": "#E5ECF6",
           "showlakes": true,
           "showland": true,
           "subunitcolor": "white"
          },
          "hovermode": "closest",
          "mapbox": {
           "style": "light"
          },
          "paper_bgcolor": "white",
          "plot_bgcolor": "#E5ECF6",
          "polar": {
           "angularaxis": {
            "gridcolor": "white",
            "linecolor": "white",
            "ticks": ""
           },
           "bgcolor": "#E5ECF6",
           "radialaxis": {
            "gridcolor": "white",
            "linecolor": "white",
            "ticks": ""
           }
          },
          "scene": {
           "xaxis": {
            "backgroundcolor": "#E5ECF6",
            "gridcolor": "white",
            "gridwidth": 2,
            "linecolor": "white",
            "showbackground": true,
            "ticks": "",
            "zerolinecolor": "white"
           },
           "yaxis": {
            "backgroundcolor": "#E5ECF6",
            "gridcolor": "white",
            "gridwidth": 2,
            "linecolor": "white",
            "showbackground": true,
            "ticks": "",
            "zerolinecolor": "white"
           },
           "zaxis": {
            "backgroundcolor": "#E5ECF6",
            "gridcolor": "white",
            "gridwidth": 2,
            "linecolor": "white",
            "showbackground": true,
            "ticks": "",
            "zerolinecolor": "white"
           }
          },
          "shapedefaults": {
           "fillcolor": "#506784",
           "line": {
            "width": 0
           },
           "opacity": 0.4
          },
          "ternary": {
           "aaxis": {
            "gridcolor": "white",
            "linecolor": "white",
            "ticks": ""
           },
           "baxis": {
            "gridcolor": "white",
            "linecolor": "white",
            "ticks": ""
           },
           "bgcolor": "#E5ECF6",
           "caxis": {
            "gridcolor": "white",
            "linecolor": "white",
            "ticks": ""
           }
          },
          "title": {
           "x": 0.05
          },
          "xaxis": {
           "automargin": true,
           "gridcolor": "white",
           "linecolor": "white",
           "ticks": "",
           "zerolinecolor": "white",
           "zerolinewidth": 2
          },
          "yaxis": {
           "automargin": true,
           "gridcolor": "white",
           "linecolor": "white",
           "ticks": "",
           "zerolinecolor": "white",
           "zerolinewidth": 2
          }
         }
        },
        "xaxis": {
         "autorange": true,
         "range": [
          "2012-02-12 05:00",
          "2019-04-07 04:00"
         ],
         "title": {
          "text": "Date"
         },
         "type": "date"
        },
        "yaxis": {
         "autorange": true,
         "range": [
          -6.333333333333333,
          120.33333333333333
         ],
         "title": {
          "text": "Total Deaths"
         },
         "type": "linear"
        }
       }
      },
      "image/png": "[encoded data removed]",
      "text/html": [
       "<div id=\"f5008c01-5812-4e82-ba58-44a3695d4d45\" style=\"height: 600px; width: 100%;\" class=\"plotly-graph-div\"></div><script type=\"text/javascript\">require([\"plotly\"], function(Plotly) { window.PLOTLYENV=window.PLOTLYENV || {};window.PLOTLYENV.BASE_URL=\"https://plot.ly\";\n",
       "if (document.getElementById(\"f5008c01-5812-4e82-ba58-44a3695d4d45\")) {\n",
       "    Plotly.newPlot(\"f5008c01-5812-4e82-ba58-44a3695d4d45\", [{\"hovertemplate\": \"Date=%{x}<br>Total Deaths=%{y}<extra></extra>\", \"legendgroup\": \"\", \"line\": {\"color\": \"#636efa\", \"dash\": \"solid\"}, \"mode\": \"lines\", \"name\": \"\", \"showlegend\": false, \"x\": [\"2012-02-12 05:00:00\", \"2012-02-19 05:00:00\", \"2012-02-26 05:00:00\", \"2012-03-04 05:00:00\", \"2012-03-11 05:00:00\", \"2012-03-18 04:00:00\", \"2012-03-25 04:00:00\", \"2012-04-01 04:00:00\", \"2012-04-08 04:00:00\", \"2012-04-15 04:00:00\", \"2012-04-22 04:00:00\", \"2012-04-29 04:00:00\", \"2012-05-06 04:00:00\", \"2012-05-13 04:00:00\", \"2012-05-20 04:00:00\", \"2012-05-27 04:00:00\", \"2012-06-03 04:00:00\", \"2012-06-10 04:00:00\", \"2012-06-17 04:00:00\", \"2012-06-24 04:00:00\", \"2012-07-01 04:00:00\", \"2012-07-08 04:00:00\", \"2012-07-15 04:00:00\", \"2012-07-22 04:00:00\", \"2012-07-29 04:00:00\", \"2012-08-05 04:00:00\", \"2012-08-12 04:00:00\", \"2012-08-19 04:00:00\", \"2012-08-26 04:00:00\", \"2012-09-02 04:00:00\", \"2012-09-09 04:00:00\", \"2012-09-16 04:00:00\", \"2012-09-23 04:00:00\", \"2012-09-30 04:00:00\", \"2012-10-07 04:00:00\", \"2012-10-14 04:00:00\", \"2012-10-21 04:00:00\", \"2012-10-28 04:00:00\", \"2012-11-04 04:00:00\", \"2012-11-11 05:00:00\", \"2012-11-18 05:00:00\", \"2012-11-25 05:00:00\", \"2012-12-02 05:00:00\", \"2012-12-09 05:00:00\", \"2012-12-16 05:00:00\", \"2012-12-23 05:00:00\", \"2012-12-30 05:00:00\", \"2013-01-06 05:00:00\", \"2013-01-13 05:00:00\", \"2013-01-20 05:00:00\", \"2013-01-27 05:00:00\", \"2013-02-03 05:00:00\", \"2013-02-10 05:00:00\", \"2013-02-17 05:00:00\", \"2013-02-24 05:00:00\", \"2013-03-03 05:00:00\", \"2013-03-10 05:00:00\", \"2013-03-17 04:00:00\", \"2013-03-24 04:00:00\", \"2013-03-31 04:00:00\", \"2013-04-07 04:00:00\", \"2013-04-14 04:00:00\", \"2013-04-21 04:00:00\", \"2013-04-28 04:00:00\", \"2013-05-05 04:00:00\", \"2013-05-12 04:00:00\", \"2013-05-19 04:00:00\", \"2013-05-26 04:00:00\", \"2013-06-02 04:00:00\", \"2013-06-09 04:00:00\", \"2013-06-16 04:00:00\", \"2013-06-23 04:00:00\", \"2013-06-30 04:00:00\", \"2013-07-07 04:00:00\", \"2013-07-14 04:00:00\", \"2013-07-21 04:00:00\", \"2013-07-28 04:00:00\", \"2013-08-04 04:00:00\", \"2013-08-11 04:00:00\", \"2013-08-18 04:00:00\", \"2013-08-25 04:00:00\", \"2013-09-01 04:00:00\", \"2013-09-08 04:00:00\", \"2013-09-15 04:00:00\", \"2013-09-22 04:00:00\", \"2013-09-29 04:00:00\", \"2013-10-06 04:00:00\", \"2013-10-13 04:00:00\", \"2013-10-20 04:00:00\", \"2013-10-27 04:00:00\", \"2013-11-03 04:00:00\", \"2013-11-10 05:00:00\", \"2013-11-17 05:00:00\", \"2013-11-24 05:00:00\", \"2013-12-01 05:00:00\", \"2013-12-08 05:00:00\", \"2013-12-15 05:00:00\", \"2013-12-22 05:00:00\", \"2013-12-29 05:00:00\", \"2014-01-05 05:00:00\", \"2014-01-12 05:00:00\", \"2014-01-19 05:00:00\", \"2014-01-26 05:00:00\", \"2014-02-02 05:00:00\", \"2014-02-09 05:00:00\", \"2014-02-16 05:00:00\", \"2014-02-23 05:00:00\", \"2014-03-02 05:00:00\", \"2014-03-09 05:00:00\", \"2014-03-16 04:00:00\", \"2014-03-23 04:00:00\", \"2014-03-30 04:00:00\", \"2014-04-06 04:00:00\", \"2014-04-13 04:00:00\", \"2014-04-20 04:00:00\", \"2014-04-27 04:00:00\", \"2014-05-04 04:00:00\", \"2014-05-11 04:00:00\", \"2014-05-18 04:00:00\", \"2014-05-25 04:00:00\", \"2014-06-01 04:00:00\", \"2014-06-08 04:00:00\", \"2014-06-15 04:00:00\", \"2014-06-22 04:00:00\", \"2014-06-29 04:00:00\", \"2014-07-06 04:00:00\", \"2014-07-13 04:00:00\", \"2014-07-20 04:00:00\", \"2014-07-27 04:00:00\", \"2014-08-03 04:00:00\", \"2014-08-10 04:00:00\", \"2014-08-17 04:00:00\", \"2014-08-24 04:00:00\", \"2014-08-31 04:00:00\", \"2014-09-07 04:00:00\", \"2014-09-14 04:00:00\", \"2014-09-21 04:00:00\", \"2014-09-28 04:00:00\", \"2014-10-05 04:00:00\", \"2014-10-12 04:00:00\", \"2014-10-19 04:00:00\", \"2014-10-26 04:00:00\", \"2014-11-02 04:00:00\", \"2014-11-09 05:00:00\", \"2014-11-16 05:00:00\", \"2014-11-23 05:00:00\", \"2014-11-30 05:00:00\", \"2014-12-07 05:00:00\", \"2014-12-14 05:00:00\", \"2014-12-21 05:00:00\", \"2014-12-28 05:00:00\", \"2015-01-04 05:00:00\", \"2015-01-11 05:00:00\", \"2015-01-18 05:00:00\", \"2015-01-25 05:00:00\", \"2015-02-01 05:00:00\", \"2015-02-08 05:00:00\", \"2015-02-15 05:00:00\", \"2015-02-22 05:00:00\", \"2015-03-01 05:00:00\", \"2015-03-08 05:00:00\", \"2015-03-15 04:00:00\", \"2015-03-22 04:00:00\", \"2015-03-29 04:00:00\", \"2015-04-05 04:00:00\", \"2015-04-12 04:00:00\", \"2015-04-19 04:00:00\", \"2015-04-26 04:00:00\", \"2015-05-03 04:00:00\", \"2015-05-10 04:00:00\", \"2015-05-17 04:00:00\", \"2015-05-24 04:00:00\", \"2015-05-31 04:00:00\", \"2015-06-07 04:00:00\", \"2015-06-14 04:00:00\", \"2015-06-21 04:00:00\", \"2015-06-28 04:00:00\", \"2015-07-05 04:00:00\", \"2015-07-12 04:00:00\", \"2015-07-19 04:00:00\", \"2015-07-26 04:00:00\", \"2015-08-02 04:00:00\", \"2015-08-09 04:00:00\", \"2015-08-16 04:00:00\", \"2015-08-23 04:00:00\", \"2015-08-30 04:00:00\", \"2015-09-06 04:00:00\", \"2015-09-13 04:00:00\", \"2015-09-20 04:00:00\", \"2015-09-27 04:00:00\", \"2015-10-04 04:00:00\", \"2015-10-11 04:00:00\", \"2015-10-18 04:00:00\", \"2015-10-25 04:00:00\", \"2015-11-01 04:00:00\", \"2015-11-08 05:00:00\", \"2015-11-15 05:00:00\", \"2015-11-22 05:00:00\", \"2015-11-29 05:00:00\", \"2015-12-06 05:00:00\", \"2015-12-13 05:00:00\", \"2015-12-20 05:00:00\", \"2015-12-27 05:00:00\", \"2016-01-03 05:00:00\", \"2016-01-10 05:00:00\", \"2016-01-17 05:00:00\", \"2016-01-24 05:00:00\", \"2016-01-31 05:00:00\", \"2016-02-07 05:00:00\", \"2016-02-14 05:00:00\", \"2016-02-21 05:00:00\", \"2016-02-28 05:00:00\", \"2016-03-06 05:00:00\", \"2016-03-13 05:00:00\", \"2016-03-20 04:00:00\", \"2016-03-27 04:00:00\", \"2016-04-03 04:00:00\", \"2016-04-10 04:00:00\", \"2016-04-17 04:00:00\", \"2016-04-24 04:00:00\", \"2016-05-01 04:00:00\", \"2016-05-08 04:00:00\", \"2016-05-15 04:00:00\", \"2016-05-22 04:00:00\", \"2016-05-29 04:00:00\", \"2016-06-05 04:00:00\", \"2016-06-12 04:00:00\", \"2016-06-19 04:00:00\", \"2016-06-26 04:00:00\", \"2016-07-03 04:00:00\", \"2016-07-10 04:00:00\", \"2016-07-17 04:00:00\", \"2016-07-24 04:00:00\", \"2016-07-31 04:00:00\", \"2016-08-07 04:00:00\", \"2016-08-14 04:00:00\", \"2016-08-21 04:00:00\", \"2016-08-28 04:00:00\", \"2016-09-04 04:00:00\", \"2016-09-11 04:00:00\", \"2016-09-18 04:00:00\", \"2016-09-25 04:00:00\", \"2016-10-02 04:00:00\", \"2016-10-09 04:00:00\", \"2016-10-16 04:00:00\", \"2016-10-23 04:00:00\", \"2016-10-30 04:00:00\", \"2016-11-06 04:00:00\", \"2016-11-13 05:00:00\", \"2016-11-20 05:00:00\", \"2016-11-27 05:00:00\", \"2016-12-04 05:00:00\", \"2016-12-11 05:00:00\", \"2016-12-18 05:00:00\", \"2016-12-25 05:00:00\", \"2017-01-01 05:00:00\", \"2017-01-08 05:00:00\", \"2017-01-15 05:00:00\", \"2017-01-22 05:00:00\", \"2017-01-29 05:00:00\", \"2017-02-05 05:00:00\", \"2017-02-12 05:00:00\", \"2017-02-19 05:00:00\", \"2017-02-26 05:00:00\", \"2017-03-05 05:00:00\", \"2017-03-12 05:00:00\", \"2017-03-19 04:00:00\", \"2017-03-26 04:00:00\", \"2017-04-02 04:00:00\", \"2017-04-09 04:00:00\", \"2017-04-16 04:00:00\", \"2017-04-23 04:00:00\", \"2017-04-30 04:00:00\", \"2017-05-07 04:00:00\", \"2017-05-14 04:00:00\", \"2017-05-21 04:00:00\", \"2017-05-28 04:00:00\", \"2017-06-04 04:00:00\", \"2017-06-11 04:00:00\", \"2017-06-18 04:00:00\", \"2017-06-25 04:00:00\", \"2017-07-02 04:00:00\", \"2017-07-09 04:00:00\", \"2017-07-16 04:00:00\", \"2017-07-23 04:00:00\", \"2017-07-30 04:00:00\", \"2017-08-06 04:00:00\", \"2017-08-13 04:00:00\", \"2017-08-20 04:00:00\", \"2017-08-27 04:00:00\", \"2017-09-03 04:00:00\", \"2017-09-10 04:00:00\", \"2017-09-17 04:00:00\", \"2017-09-24 04:00:00\", \"2017-10-01 04:00:00\", \"2017-10-08 04:00:00\", \"2017-10-15 04:00:00\", \"2017-10-22 04:00:00\", \"2017-10-29 04:00:00\", \"2017-11-05 04:00:00\", \"2017-11-12 05:00:00\", \"2017-11-19 05:00:00\", \"2017-11-26 05:00:00\", \"2017-12-03 05:00:00\", \"2017-12-10 05:00:00\", \"2017-12-17 05:00:00\", \"2017-12-24 05:00:00\", \"2017-12-31 05:00:00\", \"2018-01-07 05:00:00\", \"2018-01-14 05:00:00\", \"2018-01-21 05:00:00\", \"2018-01-28 05:00:00\", \"2018-02-04 05:00:00\", \"2018-02-11 05:00:00\", \"2018-02-18 05:00:00\", \"2018-02-25 05:00:00\", \"2018-03-04 05:00:00\", \"2018-03-11 05:00:00\", \"2018-03-18 04:00:00\", \"2018-03-25 04:00:00\", \"2018-04-01 04:00:00\", \"2018-04-08 04:00:00\", \"2018-04-15 04:00:00\", \"2018-04-22 04:00:00\", \"2018-04-29 04:00:00\", \"2018-05-06 04:00:00\", \"2018-05-13 04:00:00\", \"2018-05-20 04:00:00\", \"2018-05-27 04:00:00\", \"2018-06-03 04:00:00\", \"2018-06-10 04:00:00\", \"2018-06-17 04:00:00\", \"2018-06-24 04:00:00\", \"2018-07-01 04:00:00\", \"2018-07-08 04:00:00\", \"2018-07-15 04:00:00\", \"2018-07-22 04:00:00\", \"2018-07-29 04:00:00\", \"2018-08-05 04:00:00\", \"2018-08-12 04:00:00\", \"2018-08-19 04:00:00\", \"2018-08-26 04:00:00\", \"2018-09-02 04:00:00\", \"2018-09-09 04:00:00\", \"2018-09-16 04:00:00\", \"2018-09-23 04:00:00\", \"2018-09-30 04:00:00\", \"2018-10-07 04:00:00\", \"2018-10-14 04:00:00\", \"2018-10-21 04:00:00\", \"2018-10-28 04:00:00\", \"2018-11-04 04:00:00\", \"2018-11-11 05:00:00\", \"2018-11-18 05:00:00\", \"2018-11-25 05:00:00\", \"2018-12-02 05:00:00\", \"2018-12-09 05:00:00\", \"2018-12-16 05:00:00\", \"2018-12-23 05:00:00\", \"2018-12-30 05:00:00\", \"2019-01-06 05:00:00\", \"2019-01-13 05:00:00\", \"2019-01-20 05:00:00\", \"2019-01-27 05:00:00\", \"2019-02-03 05:00:00\", \"2019-02-10 05:00:00\", \"2019-02-17 05:00:00\", \"2019-02-24 05:00:00\", \"2019-03-03 05:00:00\", \"2019-03-10 05:00:00\", \"2019-03-17 04:00:00\", \"2019-03-24 04:00:00\", \"2019-03-31 04:00:00\", \"2019-04-07 04:00:00\"], \"xaxis\": \"x\", \"y\": [1.0, 0.0, 0.0, 0.0, 0.0, 0.0, 0.0, 0.0, 0.0, 0.0, 0.0, 0.0, 0.0, 0.0, 0.0, 0.0, 0.0, 0.0, 0.0, 0.0, 0.0, 0.0, 0.0, 0.0, 0.0, 0.0, 0.0, 0.0, 0.0, 0.0, 0.0, 0.0, 0.0, 0.0, 0.0, 0.0, 0.0, 0.0, 20.0, 0.0, 0.0, 0.0, 0.0, 0.0, 11.0, 0.0, 0.0, 0.0, 0.0, 0.0, 0.0, 0.0, 0.0, 0.0, 7.0, 0.0, 0.0, 0.0, 0.0, 0.0, 0.0, 0.0, 0.0, 0.0, 0.0, 0.0, 0.0, 0.0, 0.0, 0.0, 0.0, 0.0, 0.0, 0.0, 0.0, 0.0, 0.0, 0.0, 0.0, 0.0, 0.0, 0.0, 0.0, 0.0, 0.0, 0.0, 0.0, 0.0, 0.0, 0.0, 0.0, 0.0, 0.0, 0.0, 0.0, 0.0, 0.0, 0.0, 0.0, 0.0, 0.0, 0.0, 0.0, 0.0, 0.0, 0.0, 0.0, 0.0, 0.0, 0.0, 0.0, 0.0, 28.0, 0.0, 0.0, 0.0, 0.0, 0.0, 0.0, 0.0, 0.0, 0.0, 0.0, 0.0, 0.0, 0.0, 0.0, 0.0, 0.0, 0.0, 0.0, 0.0, 0.0, 0.0, 0.0, 0.0, 0.0, 0.0, 0.0, 0.0, 0.0, 0.0, 0.0, 0.0, 0.0, 0.0, 0.0, 0.0, 0.0, 0.0, 0.0, 0.0, 0.0, 0.0, 0.0, 0.0, 0.0, 0.0, 0.0, 0.0, 0.0, 0.0, 0.0, 0.0, 0.0, 0.0, 0.0, 0.0, 0.0, 0.0, 0.0, 0.0, 0.0, 0.0, 0.0, 0.0, 0.0, 40.0, 0.0, 0.0, 0.0, 0.0, 0.0, 0.0, 0.0, 0.0, 0.0, 0.0, 0.0, 0.0, 0.0, 0.0, 0.0, 0.0, 0.0, 0.0, 0.0, 0.0, 0.0, 0.0, 0.0, 0.0, 0.0, 0.0, 0.0, 0.0, 0.0, 0.0, 0.0, 0.0, 0.0, 0.0, 0.0, 0.0, 0.0, 0.0, 0.0, 0.0, 0.0, 0.0, 0.0, 0.0, 0.0, 0.0, 0.0, 0.0, 0.0, 0.0, 0.0, 0.0, 0.0, 0.0, 0.0, 0.0, 0.0, 0.0, 0.0, 0.0, 0.0, 0.0, 0.0, 0.0, 0.0, 0.0, 0.0, 0.0, 0.0, 0.0, 40.0, 0.0, 0.0, 0.0, 0.0, 0.0, 0.0, 0.0, 0.0, 0.0, 0.0, 0.0, 0.0, 0.0, 0.0, 0.0, 0.0, 0.0, 0.0, 0.0, 0.0, 0.0, 0.0, 0.0, 0.0, 0.0, 0.0, 0.0, 0.0, 0.0, 0.0, 0.0, 0.0, 0.0, 0.0, 0.0, 0.0, 0.0, 0.0, 0.0, 0.0, 0.0, 0.0, 0.0, 0.0, 2.0, 0.0, 0.0, 0.0, 0.0, 0.0, 0.0, 0.0, 25.0, 0.0, 0.0, 0.0, 0.0, 0.0, 0.0, 0.0, 0.0, 0.0, 0.0, 0.0, 0.0, 0.0, 0.0, 0.0, 0.0, 0.0, 0.0, 36.0, 0.0, 0.0, 30.0, 0.0, 13.0, 8.0, 1.0, 7.0, 24.0, 1.0, 26.0, 0.0, 23.0, 1.0, 1.0, 33.0, 4.0, 0.0, 0.0, 0.0, 0.0, 0.0, 0.0, 11.0, 0.0, 0.0, 0.0, 0.0, 0.0, 6.0, 0.0, 0.0, 0.0, 0.0, 0.0, 0.0, 0.0, 42.0, 0.0, 18.0, 0.0, 62.0, 0.0, 33.0, 27.0, 43.0, 67.0, 114.0, 86.0, 59.0, 1.0, 51.0, 50.0], \"yaxis\": \"y\", \"type\": \"scatter\", \"uid\": \"a4fd6c83-47aa-4bd6-9c4b-e7c0f9cfe662\"}], {\"height\": 600, \"legend\": {\"tracegroupgap\": 0}, \"margin\": {\"t\": 60}, \"template\": {\"data\": {\"barpolar\": [{\"marker\": {\"line\": {\"color\": \"#E5ECF6\", \"width\": 0.5}}, \"type\": \"barpolar\"}], \"bar\": [{\"marker\": {\"line\": {\"color\": \"#E5ECF6\", \"width\": 0.5}}, \"type\": \"bar\"}], \"carpet\": [{\"aaxis\": {\"endlinecolor\": \"#2a3f5f\", \"gridcolor\": \"white\", \"linecolor\": \"white\", \"minorgridcolor\": \"white\", \"startlinecolor\": \"#2a3f5f\"}, \"baxis\": {\"endlinecolor\": \"#2a3f5f\", \"gridcolor\": \"white\", \"linecolor\": \"white\", \"minorgridcolor\": \"white\", \"startlinecolor\": \"#2a3f5f\"}, \"type\": \"carpet\"}], \"choropleth\": [{\"colorbar\": {\"outlinewidth\": 0, \"ticks\": \"\"}, \"type\": \"choropleth\"}], \"contourcarpet\": [{\"colorbar\": {\"outlinewidth\": 0, \"ticks\": \"\"}, \"type\": \"contourcarpet\"}], \"contour\": [{\"autocolorscale\": true, \"colorbar\": {\"outlinewidth\": 0, \"ticks\": \"\"}, \"type\": \"contour\"}], \"heatmapgl\": [{\"colorbar\": {\"outlinewidth\": 0, \"ticks\": \"\"}, \"type\": \"heatmapgl\"}], \"heatmap\": [{\"autocolorscale\": true, \"colorbar\": {\"outlinewidth\": 0, \"ticks\": \"\"}, \"type\": \"heatmap\"}], \"histogram2dcontour\": [{\"autocolorscale\": true, \"colorbar\": {\"outlinewidth\": 0, \"ticks\": \"\"}, \"type\": \"histogram2dcontour\"}], \"histogram2d\": [{\"autocolorscale\": true, \"colorbar\": {\"outlinewidth\": 0, \"ticks\": \"\"}, \"type\": \"histogram2d\"}], \"histogram\": [{\"marker\": {\"colorbar\": {\"outlinewidth\": 0, \"ticks\": \"\"}}, \"type\": \"histogram\"}], \"mesh3d\": [{\"colorbar\": {\"outlinewidth\": 0, \"ticks\": \"\"}, \"type\": \"mesh3d\"}], \"parcoords\": [{\"line\": {\"colorbar\": {\"outlinewidth\": 0, \"ticks\": \"\"}}, \"type\": \"parcoords\"}], \"scatter3d\": [{\"marker\": {\"colorbar\": {\"outlinewidth\": 0, \"ticks\": \"\"}}, \"type\": \"scatter3d\"}], \"scattercarpet\": [{\"marker\": {\"colorbar\": {\"outlinewidth\": 0, \"ticks\": \"\"}}, \"type\": \"scattercarpet\"}], \"scattergeo\": [{\"marker\": {\"colorbar\": {\"outlinewidth\": 0, \"ticks\": \"\"}}, \"type\": \"scattergeo\"}], \"scattergl\": [{\"marker\": {\"colorbar\": {\"outlinewidth\": 0, \"ticks\": \"\"}}, \"type\": \"scattergl\"}], \"scattermapbox\": [{\"marker\": {\"colorbar\": {\"outlinewidth\": 0, \"ticks\": \"\"}}, \"type\": \"scattermapbox\"}], \"scatterpolargl\": [{\"marker\": {\"colorbar\": {\"outlinewidth\": 0, \"ticks\": \"\"}}, \"type\": \"scatterpolargl\"}], \"scatterpolar\": [{\"marker\": {\"colorbar\": {\"outlinewidth\": 0, \"ticks\": \"\"}}, \"type\": \"scatterpolar\"}], \"scatter\": [{\"marker\": {\"colorbar\": {\"outlinewidth\": 0, \"ticks\": \"\"}}, \"type\": \"scatter\"}], \"scatterternary\": [{\"marker\": {\"colorbar\": {\"outlinewidth\": 0, \"ticks\": \"\"}}, \"type\": \"scatterternary\"}], \"surface\": [{\"colorbar\": {\"outlinewidth\": 0, \"ticks\": \"\"}, \"type\": \"surface\"}], \"table\": [{\"cells\": {\"fill\": {\"color\": \"#EBF0F8\"}, \"line\": {\"color\": \"white\"}}, \"header\": {\"fill\": {\"color\": \"#C8D4E3\"}, \"line\": {\"color\": \"white\"}}, \"type\": \"table\"}]}, \"layout\": {\"annotationdefaults\": {\"arrowcolor\": \"#506784\", \"arrowhead\": 0, \"arrowwidth\": 1}, \"colorscale\": {\"diverging\": [[0, \"#8e0152\"], [0.1, \"#c51b7d\"], [0.2, \"#de77ae\"], [0.3, \"#f1b6da\"], [0.4, \"#fde0ef\"], [0.5, \"#f7f7f7\"], [0.6, \"#e6f5d0\"], [0.7, \"#b8e186\"], [0.8, \"#7fbc41\"], [0.9, \"#4d9221\"], [1, \"#276419\"]], \"sequential\": [[0.0, \"#0508b8\"], [0.0893854748603352, \"#1910d8\"], [0.1787709497206704, \"#3c19f0\"], [0.2681564245810056, \"#6b1cfb\"], [0.3575418994413408, \"#981cfd\"], [0.44692737430167595, \"#bf1cfd\"], [0.5363128491620112, \"#dd2bfd\"], [0.6256983240223464, \"#f246fe\"], [0.7150837988826816, \"#fc67fd\"], [0.8044692737430168, \"#fe88fc\"], [0.8938547486033519, \"#fea5fd\"], [0.9832402234636871, \"#febefe\"], [1.0, \"#fec3fe\"]], \"sequentialminus\": [[0.0, \"#0508b8\"], [0.0893854748603352, \"#1910d8\"], [0.1787709497206704, \"#3c19f0\"], [0.2681564245810056, \"#6b1cfb\"], [0.3575418994413408, \"#981cfd\"], [0.44692737430167595, \"#bf1cfd\"], [0.5363128491620112, \"#dd2bfd\"], [0.6256983240223464, \"#f246fe\"], [0.7150837988826816, \"#fc67fd\"], [0.8044692737430168, \"#fe88fc\"], [0.8938547486033519, \"#fea5fd\"], [0.9832402234636871, \"#febefe\"], [1.0, \"#fec3fe\"]]}, \"colorway\": [\"#636efa\", \"#EF553B\", \"#00cc96\", \"#ab63fa\", \"#19d3f3\", \"#e763fa\", \"#FECB52\", \"#FFA15A\", \"#FF6692\", \"#B6E880\"], \"font\": {\"color\": \"#2a3f5f\"}, \"geo\": {\"bgcolor\": \"white\", \"lakecolor\": \"white\", \"landcolor\": \"#E5ECF6\", \"showlakes\": true, \"showland\": true, \"subunitcolor\": \"white\"}, \"hovermode\": \"closest\", \"mapbox\": {\"style\": \"light\"}, \"paper_bgcolor\": \"white\", \"plot_bgcolor\": \"#E5ECF6\", \"polar\": {\"angularaxis\": {\"gridcolor\": \"white\", \"linecolor\": \"white\", \"ticks\": \"\"}, \"bgcolor\": \"#E5ECF6\", \"radialaxis\": {\"gridcolor\": \"white\", \"linecolor\": \"white\", \"ticks\": \"\"}}, \"scene\": {\"xaxis\": {\"backgroundcolor\": \"#E5ECF6\", \"gridcolor\": \"white\", \"gridwidth\": 2, \"linecolor\": \"white\", \"showbackground\": true, \"ticks\": \"\", \"zerolinecolor\": \"white\"}, \"yaxis\": {\"backgroundcolor\": \"#E5ECF6\", \"gridcolor\": \"white\", \"gridwidth\": 2, \"linecolor\": \"white\", \"showbackground\": true, \"ticks\": \"\", \"zerolinecolor\": \"white\"}, \"zaxis\": {\"backgroundcolor\": \"#E5ECF6\", \"gridcolor\": \"white\", \"gridwidth\": 2, \"linecolor\": \"white\", \"showbackground\": true, \"ticks\": \"\", \"zerolinecolor\": \"white\"}}, \"shapedefaults\": {\"fillcolor\": \"#506784\", \"line\": {\"width\": 0}, \"opacity\": 0.4}, \"ternary\": {\"aaxis\": {\"gridcolor\": \"white\", \"linecolor\": \"white\", \"ticks\": \"\"}, \"baxis\": {\"gridcolor\": \"white\", \"linecolor\": \"white\", \"ticks\": \"\"}, \"bgcolor\": \"#E5ECF6\", \"caxis\": {\"gridcolor\": \"white\", \"linecolor\": \"white\", \"ticks\": \"\"}}, \"title\": {\"x\": 0.05}, \"xaxis\": {\"automargin\": true, \"gridcolor\": \"white\", \"linecolor\": \"white\", \"ticks\": \"\", \"zerolinecolor\": \"white\", \"zerolinewidth\": 2}, \"yaxis\": {\"automargin\": true, \"gridcolor\": \"white\", \"linecolor\": \"white\", \"ticks\": \"\", \"zerolinecolor\": \"white\", \"zerolinewidth\": 2}}}, \"grid\": {\"xaxes\": [\"x\"], \"yaxes\": [\"y\"], \"xgap\": 0.1, \"ygap\": 0.1, \"xside\": \"bottom\", \"yside\": \"left\"}, \"xaxis\": {\"title\": {\"text\": \"Date\"}}, \"yaxis\": {\"title\": {\"text\": \"Total Deaths\"}}}, {\"showLink\": false, \"linkText\": \"Export to plot.ly\", \"plotlyServerURL\": \"https://plot.ly\"}); \n",
       "}\n",
       "});</script><script type=\"text/javascript\">window.addEventListener(\"resize\", function(){if (document.getElementById(\"f5008c01-5812-4e82-ba58-44a3695d4d45\")) {window._Plotly.Plots.resize(document.getElementById(\"f5008c01-5812-4e82-ba58-44a3695d4d45\"));};})</script>"
      ],
      "text/vnd.plotly.v1+html": [
       "<div id=\"f5008c01-5812-4e82-ba58-44a3695d4d45\" style=\"height: 600px; width: 100%;\" class=\"plotly-graph-div\"></div><script type=\"text/javascript\">require([\"plotly\"], function(Plotly) { window.PLOTLYENV=window.PLOTLYENV || {};window.PLOTLYENV.BASE_URL=\"https://plot.ly\";\n",
       "if (document.getElementById(\"f5008c01-5812-4e82-ba58-44a3695d4d45\")) {\n",
       "    Plotly.newPlot(\"f5008c01-5812-4e82-ba58-44a3695d4d45\", [{\"hovertemplate\": \"Date=%{x}<br>Total Deaths=%{y}<extra></extra>\", \"legendgroup\": \"\", \"line\": {\"color\": \"#636efa\", \"dash\": \"solid\"}, \"mode\": \"lines\", \"name\": \"\", \"showlegend\": false, \"x\": [\"2012-02-12 05:00:00\", \"2012-02-19 05:00:00\", \"2012-02-26 05:00:00\", \"2012-03-04 05:00:00\", \"2012-03-11 05:00:00\", \"2012-03-18 04:00:00\", \"2012-03-25 04:00:00\", \"2012-04-01 04:00:00\", \"2012-04-08 04:00:00\", \"2012-04-15 04:00:00\", \"2012-04-22 04:00:00\", \"2012-04-29 04:00:00\", \"2012-05-06 04:00:00\", \"2012-05-13 04:00:00\", \"2012-05-20 04:00:00\", \"2012-05-27 04:00:00\", \"2012-06-03 04:00:00\", \"2012-06-10 04:00:00\", \"2012-06-17 04:00:00\", \"2012-06-24 04:00:00\", \"2012-07-01 04:00:00\", \"2012-07-08 04:00:00\", \"2012-07-15 04:00:00\", \"2012-07-22 04:00:00\", \"2012-07-29 04:00:00\", \"2012-08-05 04:00:00\", \"2012-08-12 04:00:00\", \"2012-08-19 04:00:00\", \"2012-08-26 04:00:00\", \"2012-09-02 04:00:00\", \"2012-09-09 04:00:00\", \"2012-09-16 04:00:00\", \"2012-09-23 04:00:00\", \"2012-09-30 04:00:00\", \"2012-10-07 04:00:00\", \"2012-10-14 04:00:00\", \"2012-10-21 04:00:00\", \"2012-10-28 04:00:00\", \"2012-11-04 04:00:00\", \"2012-11-11 05:00:00\", \"2012-11-18 05:00:00\", \"2012-11-25 05:00:00\", \"2012-12-02 05:00:00\", \"2012-12-09 05:00:00\", \"2012-12-16 05:00:00\", \"2012-12-23 05:00:00\", \"2012-12-30 05:00:00\", \"2013-01-06 05:00:00\", \"2013-01-13 05:00:00\", \"2013-01-20 05:00:00\", \"2013-01-27 05:00:00\", \"2013-02-03 05:00:00\", \"2013-02-10 05:00:00\", \"2013-02-17 05:00:00\", \"2013-02-24 05:00:00\", \"2013-03-03 05:00:00\", \"2013-03-10 05:00:00\", \"2013-03-17 04:00:00\", \"2013-03-24 04:00:00\", \"2013-03-31 04:00:00\", \"2013-04-07 04:00:00\", \"2013-04-14 04:00:00\", \"2013-04-21 04:00:00\", \"2013-04-28 04:00:00\", \"2013-05-05 04:00:00\", \"2013-05-12 04:00:00\", \"2013-05-19 04:00:00\", \"2013-05-26 04:00:00\", \"2013-06-02 04:00:00\", \"2013-06-09 04:00:00\", \"2013-06-16 04:00:00\", \"2013-06-23 04:00:00\", \"2013-06-30 04:00:00\", \"2013-07-07 04:00:00\", \"2013-07-14 04:00:00\", \"2013-07-21 04:00:00\", \"2013-07-28 04:00:00\", \"2013-08-04 04:00:00\", \"2013-08-11 04:00:00\", \"2013-08-18 04:00:00\", \"2013-08-25 04:00:00\", \"2013-09-01 04:00:00\", \"2013-09-08 04:00:00\", \"2013-09-15 04:00:00\", \"2013-09-22 04:00:00\", \"2013-09-29 04:00:00\", \"2013-10-06 04:00:00\", \"2013-10-13 04:00:00\", \"2013-10-20 04:00:00\", \"2013-10-27 04:00:00\", \"2013-11-03 04:00:00\", \"2013-11-10 05:00:00\", \"2013-11-17 05:00:00\", \"2013-11-24 05:00:00\", \"2013-12-01 05:00:00\", \"2013-12-08 05:00:00\", \"2013-12-15 05:00:00\", \"2013-12-22 05:00:00\", \"2013-12-29 05:00:00\", \"2014-01-05 05:00:00\", \"2014-01-12 05:00:00\", \"2014-01-19 05:00:00\", \"2014-01-26 05:00:00\", \"2014-02-02 05:00:00\", \"2014-02-09 05:00:00\", \"2014-02-16 05:00:00\", \"2014-02-23 05:00:00\", \"2014-03-02 05:00:00\", \"2014-03-09 05:00:00\", \"2014-03-16 04:00:00\", \"2014-03-23 04:00:00\", \"2014-03-30 04:00:00\", \"2014-04-06 04:00:00\", \"2014-04-13 04:00:00\", \"2014-04-20 04:00:00\", \"2014-04-27 04:00:00\", \"2014-05-04 04:00:00\", \"2014-05-11 04:00:00\", \"2014-05-18 04:00:00\", \"2014-05-25 04:00:00\", \"2014-06-01 04:00:00\", \"2014-06-08 04:00:00\", \"2014-06-15 04:00:00\", \"2014-06-22 04:00:00\", \"2014-06-29 04:00:00\", \"2014-07-06 04:00:00\", \"2014-07-13 04:00:00\", \"2014-07-20 04:00:00\", \"2014-07-27 04:00:00\", \"2014-08-03 04:00:00\", \"2014-08-10 04:00:00\", \"2014-08-17 04:00:00\", \"2014-08-24 04:00:00\", \"2014-08-31 04:00:00\", \"2014-09-07 04:00:00\", \"2014-09-14 04:00:00\", \"2014-09-21 04:00:00\", \"2014-09-28 04:00:00\", \"2014-10-05 04:00:00\", \"2014-10-12 04:00:00\", \"2014-10-19 04:00:00\", \"2014-10-26 04:00:00\", \"2014-11-02 04:00:00\", \"2014-11-09 05:00:00\", \"2014-11-16 05:00:00\", \"2014-11-23 05:00:00\", \"2014-11-30 05:00:00\", \"2014-12-07 05:00:00\", \"2014-12-14 05:00:00\", \"2014-12-21 05:00:00\", \"2014-12-28 05:00:00\", \"2015-01-04 05:00:00\", \"2015-01-11 05:00:00\", \"2015-01-18 05:00:00\", \"2015-01-25 05:00:00\", \"2015-02-01 05:00:00\", \"2015-02-08 05:00:00\", \"2015-02-15 05:00:00\", \"2015-02-22 05:00:00\", \"2015-03-01 05:00:00\", \"2015-03-08 05:00:00\", \"2015-03-15 04:00:00\", \"2015-03-22 04:00:00\", \"2015-03-29 04:00:00\", \"2015-04-05 04:00:00\", \"2015-04-12 04:00:00\", \"2015-04-19 04:00:00\", \"2015-04-26 04:00:00\", \"2015-05-03 04:00:00\", \"2015-05-10 04:00:00\", \"2015-05-17 04:00:00\", \"2015-05-24 04:00:00\", \"2015-05-31 04:00:00\", \"2015-06-07 04:00:00\", \"2015-06-14 04:00:00\", \"2015-06-21 04:00:00\", \"2015-06-28 04:00:00\", \"2015-07-05 04:00:00\", \"2015-07-12 04:00:00\", \"2015-07-19 04:00:00\", \"2015-07-26 04:00:00\", \"2015-08-02 04:00:00\", \"2015-08-09 04:00:00\", \"2015-08-16 04:00:00\", \"2015-08-23 04:00:00\", \"2015-08-30 04:00:00\", \"2015-09-06 04:00:00\", \"2015-09-13 04:00:00\", \"2015-09-20 04:00:00\", \"2015-09-27 04:00:00\", \"2015-10-04 04:00:00\", \"2015-10-11 04:00:00\", \"2015-10-18 04:00:00\", \"2015-10-25 04:00:00\", \"2015-11-01 04:00:00\", \"2015-11-08 05:00:00\", \"2015-11-15 05:00:00\", \"2015-11-22 05:00:00\", \"2015-11-29 05:00:00\", \"2015-12-06 05:00:00\", \"2015-12-13 05:00:00\", \"2015-12-20 05:00:00\", \"2015-12-27 05:00:00\", \"2016-01-03 05:00:00\", \"2016-01-10 05:00:00\", \"2016-01-17 05:00:00\", \"2016-01-24 05:00:00\", \"2016-01-31 05:00:00\", \"2016-02-07 05:00:00\", \"2016-02-14 05:00:00\", \"2016-02-21 05:00:00\", \"2016-02-28 05:00:00\", \"2016-03-06 05:00:00\", \"2016-03-13 05:00:00\", \"2016-03-20 04:00:00\", \"2016-03-27 04:00:00\", \"2016-04-03 04:00:00\", \"2016-04-10 04:00:00\", \"2016-04-17 04:00:00\", \"2016-04-24 04:00:00\", \"2016-05-01 04:00:00\", \"2016-05-08 04:00:00\", \"2016-05-15 04:00:00\", \"2016-05-22 04:00:00\", \"2016-05-29 04:00:00\", \"2016-06-05 04:00:00\", \"2016-06-12 04:00:00\", \"2016-06-19 04:00:00\", \"2016-06-26 04:00:00\", \"2016-07-03 04:00:00\", \"2016-07-10 04:00:00\", \"2016-07-17 04:00:00\", \"2016-07-24 04:00:00\", \"2016-07-31 04:00:00\", \"2016-08-07 04:00:00\", \"2016-08-14 04:00:00\", \"2016-08-21 04:00:00\", \"2016-08-28 04:00:00\", \"2016-09-04 04:00:00\", \"2016-09-11 04:00:00\", \"2016-09-18 04:00:00\", \"2016-09-25 04:00:00\", \"2016-10-02 04:00:00\", \"2016-10-09 04:00:00\", \"2016-10-16 04:00:00\", \"2016-10-23 04:00:00\", \"2016-10-30 04:00:00\", \"2016-11-06 04:00:00\", \"2016-11-13 05:00:00\", \"2016-11-20 05:00:00\", \"2016-11-27 05:00:00\", \"2016-12-04 05:00:00\", \"2016-12-11 05:00:00\", \"2016-12-18 05:00:00\", \"2016-12-25 05:00:00\", \"2017-01-01 05:00:00\", \"2017-01-08 05:00:00\", \"2017-01-15 05:00:00\", \"2017-01-22 05:00:00\", \"2017-01-29 05:00:00\", \"2017-02-05 05:00:00\", \"2017-02-12 05:00:00\", \"2017-02-19 05:00:00\", \"2017-02-26 05:00:00\", \"2017-03-05 05:00:00\", \"2017-03-12 05:00:00\", \"2017-03-19 04:00:00\", \"2017-03-26 04:00:00\", \"2017-04-02 04:00:00\", \"2017-04-09 04:00:00\", \"2017-04-16 04:00:00\", \"2017-04-23 04:00:00\", \"2017-04-30 04:00:00\", \"2017-05-07 04:00:00\", \"2017-05-14 04:00:00\", \"2017-05-21 04:00:00\", \"2017-05-28 04:00:00\", \"2017-06-04 04:00:00\", \"2017-06-11 04:00:00\", \"2017-06-18 04:00:00\", \"2017-06-25 04:00:00\", \"2017-07-02 04:00:00\", \"2017-07-09 04:00:00\", \"2017-07-16 04:00:00\", \"2017-07-23 04:00:00\", \"2017-07-30 04:00:00\", \"2017-08-06 04:00:00\", \"2017-08-13 04:00:00\", \"2017-08-20 04:00:00\", \"2017-08-27 04:00:00\", \"2017-09-03 04:00:00\", \"2017-09-10 04:00:00\", \"2017-09-17 04:00:00\", \"2017-09-24 04:00:00\", \"2017-10-01 04:00:00\", \"2017-10-08 04:00:00\", \"2017-10-15 04:00:00\", \"2017-10-22 04:00:00\", \"2017-10-29 04:00:00\", \"2017-11-05 04:00:00\", \"2017-11-12 05:00:00\", \"2017-11-19 05:00:00\", \"2017-11-26 05:00:00\", \"2017-12-03 05:00:00\", \"2017-12-10 05:00:00\", \"2017-12-17 05:00:00\", \"2017-12-24 05:00:00\", \"2017-12-31 05:00:00\", \"2018-01-07 05:00:00\", \"2018-01-14 05:00:00\", \"2018-01-21 05:00:00\", \"2018-01-28 05:00:00\", \"2018-02-04 05:00:00\", \"2018-02-11 05:00:00\", \"2018-02-18 05:00:00\", \"2018-02-25 05:00:00\", \"2018-03-04 05:00:00\", \"2018-03-11 05:00:00\", \"2018-03-18 04:00:00\", \"2018-03-25 04:00:00\", \"2018-04-01 04:00:00\", \"2018-04-08 04:00:00\", \"2018-04-15 04:00:00\", \"2018-04-22 04:00:00\", \"2018-04-29 04:00:00\", \"2018-05-06 04:00:00\", \"2018-05-13 04:00:00\", \"2018-05-20 04:00:00\", \"2018-05-27 04:00:00\", \"2018-06-03 04:00:00\", \"2018-06-10 04:00:00\", \"2018-06-17 04:00:00\", \"2018-06-24 04:00:00\", \"2018-07-01 04:00:00\", \"2018-07-08 04:00:00\", \"2018-07-15 04:00:00\", \"2018-07-22 04:00:00\", \"2018-07-29 04:00:00\", \"2018-08-05 04:00:00\", \"2018-08-12 04:00:00\", \"2018-08-19 04:00:00\", \"2018-08-26 04:00:00\", \"2018-09-02 04:00:00\", \"2018-09-09 04:00:00\", \"2018-09-16 04:00:00\", \"2018-09-23 04:00:00\", \"2018-09-30 04:00:00\", \"2018-10-07 04:00:00\", \"2018-10-14 04:00:00\", \"2018-10-21 04:00:00\", \"2018-10-28 04:00:00\", \"2018-11-04 04:00:00\", \"2018-11-11 05:00:00\", \"2018-11-18 05:00:00\", \"2018-11-25 05:00:00\", \"2018-12-02 05:00:00\", \"2018-12-09 05:00:00\", \"2018-12-16 05:00:00\", \"2018-12-23 05:00:00\", \"2018-12-30 05:00:00\", \"2019-01-06 05:00:00\", \"2019-01-13 05:00:00\", \"2019-01-20 05:00:00\", \"2019-01-27 05:00:00\", \"2019-02-03 05:00:00\", \"2019-02-10 05:00:00\", \"2019-02-17 05:00:00\", \"2019-02-24 05:00:00\", \"2019-03-03 05:00:00\", \"2019-03-10 05:00:00\", \"2019-03-17 04:00:00\", \"2019-03-24 04:00:00\", \"2019-03-31 04:00:00\", \"2019-04-07 04:00:00\"], \"xaxis\": \"x\", \"y\": [1.0, 0.0, 0.0, 0.0, 0.0, 0.0, 0.0, 0.0, 0.0, 0.0, 0.0, 0.0, 0.0, 0.0, 0.0, 0.0, 0.0, 0.0, 0.0, 0.0, 0.0, 0.0, 0.0, 0.0, 0.0, 0.0, 0.0, 0.0, 0.0, 0.0, 0.0, 0.0, 0.0, 0.0, 0.0, 0.0, 0.0, 0.0, 20.0, 0.0, 0.0, 0.0, 0.0, 0.0, 11.0, 0.0, 0.0, 0.0, 0.0, 0.0, 0.0, 0.0, 0.0, 0.0, 7.0, 0.0, 0.0, 0.0, 0.0, 0.0, 0.0, 0.0, 0.0, 0.0, 0.0, 0.0, 0.0, 0.0, 0.0, 0.0, 0.0, 0.0, 0.0, 0.0, 0.0, 0.0, 0.0, 0.0, 0.0, 0.0, 0.0, 0.0, 0.0, 0.0, 0.0, 0.0, 0.0, 0.0, 0.0, 0.0, 0.0, 0.0, 0.0, 0.0, 0.0, 0.0, 0.0, 0.0, 0.0, 0.0, 0.0, 0.0, 0.0, 0.0, 0.0, 0.0, 0.0, 0.0, 0.0, 0.0, 0.0, 0.0, 28.0, 0.0, 0.0, 0.0, 0.0, 0.0, 0.0, 0.0, 0.0, 0.0, 0.0, 0.0, 0.0, 0.0, 0.0, 0.0, 0.0, 0.0, 0.0, 0.0, 0.0, 0.0, 0.0, 0.0, 0.0, 0.0, 0.0, 0.0, 0.0, 0.0, 0.0, 0.0, 0.0, 0.0, 0.0, 0.0, 0.0, 0.0, 0.0, 0.0, 0.0, 0.0, 0.0, 0.0, 0.0, 0.0, 0.0, 0.0, 0.0, 0.0, 0.0, 0.0, 0.0, 0.0, 0.0, 0.0, 0.0, 0.0, 0.0, 0.0, 0.0, 0.0, 0.0, 0.0, 0.0, 40.0, 0.0, 0.0, 0.0, 0.0, 0.0, 0.0, 0.0, 0.0, 0.0, 0.0, 0.0, 0.0, 0.0, 0.0, 0.0, 0.0, 0.0, 0.0, 0.0, 0.0, 0.0, 0.0, 0.0, 0.0, 0.0, 0.0, 0.0, 0.0, 0.0, 0.0, 0.0, 0.0, 0.0, 0.0, 0.0, 0.0, 0.0, 0.0, 0.0, 0.0, 0.0, 0.0, 0.0, 0.0, 0.0, 0.0, 0.0, 0.0, 0.0, 0.0, 0.0, 0.0, 0.0, 0.0, 0.0, 0.0, 0.0, 0.0, 0.0, 0.0, 0.0, 0.0, 0.0, 0.0, 0.0, 0.0, 0.0, 0.0, 0.0, 0.0, 40.0, 0.0, 0.0, 0.0, 0.0, 0.0, 0.0, 0.0, 0.0, 0.0, 0.0, 0.0, 0.0, 0.0, 0.0, 0.0, 0.0, 0.0, 0.0, 0.0, 0.0, 0.0, 0.0, 0.0, 0.0, 0.0, 0.0, 0.0, 0.0, 0.0, 0.0, 0.0, 0.0, 0.0, 0.0, 0.0, 0.0, 0.0, 0.0, 0.0, 0.0, 0.0, 0.0, 0.0, 0.0, 2.0, 0.0, 0.0, 0.0, 0.0, 0.0, 0.0, 0.0, 25.0, 0.0, 0.0, 0.0, 0.0, 0.0, 0.0, 0.0, 0.0, 0.0, 0.0, 0.0, 0.0, 0.0, 0.0, 0.0, 0.0, 0.0, 0.0, 36.0, 0.0, 0.0, 30.0, 0.0, 13.0, 8.0, 1.0, 7.0, 24.0, 1.0, 26.0, 0.0, 23.0, 1.0, 1.0, 33.0, 4.0, 0.0, 0.0, 0.0, 0.0, 0.0, 0.0, 11.0, 0.0, 0.0, 0.0, 0.0, 0.0, 6.0, 0.0, 0.0, 0.0, 0.0, 0.0, 0.0, 0.0, 42.0, 0.0, 18.0, 0.0, 62.0, 0.0, 33.0, 27.0, 43.0, 67.0, 114.0, 86.0, 59.0, 1.0, 51.0, 50.0], \"yaxis\": \"y\", \"type\": \"scatter\", \"uid\": \"a4fd6c83-47aa-4bd6-9c4b-e7c0f9cfe662\"}], {\"height\": 600, \"legend\": {\"tracegroupgap\": 0}, \"margin\": {\"t\": 60}, \"template\": {\"data\": {\"barpolar\": [{\"marker\": {\"line\": {\"color\": \"#E5ECF6\", \"width\": 0.5}}, \"type\": \"barpolar\"}], \"bar\": [{\"marker\": {\"line\": {\"color\": \"#E5ECF6\", \"width\": 0.5}}, \"type\": \"bar\"}], \"carpet\": [{\"aaxis\": {\"endlinecolor\": \"#2a3f5f\", \"gridcolor\": \"white\", \"linecolor\": \"white\", \"minorgridcolor\": \"white\", \"startlinecolor\": \"#2a3f5f\"}, \"baxis\": {\"endlinecolor\": \"#2a3f5f\", \"gridcolor\": \"white\", \"linecolor\": \"white\", \"minorgridcolor\": \"white\", \"startlinecolor\": \"#2a3f5f\"}, \"type\": \"carpet\"}], \"choropleth\": [{\"colorbar\": {\"outlinewidth\": 0, \"ticks\": \"\"}, \"type\": \"choropleth\"}], \"contourcarpet\": [{\"colorbar\": {\"outlinewidth\": 0, \"ticks\": \"\"}, \"type\": \"contourcarpet\"}], \"contour\": [{\"autocolorscale\": true, \"colorbar\": {\"outlinewidth\": 0, \"ticks\": \"\"}, \"type\": \"contour\"}], \"heatmapgl\": [{\"colorbar\": {\"outlinewidth\": 0, \"ticks\": \"\"}, \"type\": \"heatmapgl\"}], \"heatmap\": [{\"autocolorscale\": true, \"colorbar\": {\"outlinewidth\": 0, \"ticks\": \"\"}, \"type\": \"heatmap\"}], \"histogram2dcontour\": [{\"autocolorscale\": true, \"colorbar\": {\"outlinewidth\": 0, \"ticks\": \"\"}, \"type\": \"histogram2dcontour\"}], \"histogram2d\": [{\"autocolorscale\": true, \"colorbar\": {\"outlinewidth\": 0, \"ticks\": \"\"}, \"type\": \"histogram2d\"}], \"histogram\": [{\"marker\": {\"colorbar\": {\"outlinewidth\": 0, \"ticks\": \"\"}}, \"type\": \"histogram\"}], \"mesh3d\": [{\"colorbar\": {\"outlinewidth\": 0, \"ticks\": \"\"}, \"type\": \"mesh3d\"}], \"parcoords\": [{\"line\": {\"colorbar\": {\"outlinewidth\": 0, \"ticks\": \"\"}}, \"type\": \"parcoords\"}], \"scatter3d\": [{\"marker\": {\"colorbar\": {\"outlinewidth\": 0, \"ticks\": \"\"}}, \"type\": \"scatter3d\"}], \"scattercarpet\": [{\"marker\": {\"colorbar\": {\"outlinewidth\": 0, \"ticks\": \"\"}}, \"type\": \"scattercarpet\"}], \"scattergeo\": [{\"marker\": {\"colorbar\": {\"outlinewidth\": 0, \"ticks\": \"\"}}, \"type\": \"scattergeo\"}], \"scattergl\": [{\"marker\": {\"colorbar\": {\"outlinewidth\": 0, \"ticks\": \"\"}}, \"type\": \"scattergl\"}], \"scattermapbox\": [{\"marker\": {\"colorbar\": {\"outlinewidth\": 0, \"ticks\": \"\"}}, \"type\": \"scattermapbox\"}], \"scatterpolargl\": [{\"marker\": {\"colorbar\": {\"outlinewidth\": 0, \"ticks\": \"\"}}, \"type\": \"scatterpolargl\"}], \"scatterpolar\": [{\"marker\": {\"colorbar\": {\"outlinewidth\": 0, \"ticks\": \"\"}}, \"type\": \"scatterpolar\"}], \"scatter\": [{\"marker\": {\"colorbar\": {\"outlinewidth\": 0, \"ticks\": \"\"}}, \"type\": \"scatter\"}], \"scatterternary\": [{\"marker\": {\"colorbar\": {\"outlinewidth\": 0, \"ticks\": \"\"}}, \"type\": \"scatterternary\"}], \"surface\": [{\"colorbar\": {\"outlinewidth\": 0, \"ticks\": \"\"}, \"type\": \"surface\"}], \"table\": [{\"cells\": {\"fill\": {\"color\": \"#EBF0F8\"}, \"line\": {\"color\": \"white\"}}, \"header\": {\"fill\": {\"color\": \"#C8D4E3\"}, \"line\": {\"color\": \"white\"}}, \"type\": \"table\"}]}, \"layout\": {\"annotationdefaults\": {\"arrowcolor\": \"#506784\", \"arrowhead\": 0, \"arrowwidth\": 1}, \"colorscale\": {\"diverging\": [[0, \"#8e0152\"], [0.1, \"#c51b7d\"], [0.2, \"#de77ae\"], [0.3, \"#f1b6da\"], [0.4, \"#fde0ef\"], [0.5, \"#f7f7f7\"], [0.6, \"#e6f5d0\"], [0.7, \"#b8e186\"], [0.8, \"#7fbc41\"], [0.9, \"#4d9221\"], [1, \"#276419\"]], \"sequential\": [[0.0, \"#0508b8\"], [0.0893854748603352, \"#1910d8\"], [0.1787709497206704, \"#3c19f0\"], [0.2681564245810056, \"#6b1cfb\"], [0.3575418994413408, \"#981cfd\"], [0.44692737430167595, \"#bf1cfd\"], [0.5363128491620112, \"#dd2bfd\"], [0.6256983240223464, \"#f246fe\"], [0.7150837988826816, \"#fc67fd\"], [0.8044692737430168, \"#fe88fc\"], [0.8938547486033519, \"#fea5fd\"], [0.9832402234636871, \"#febefe\"], [1.0, \"#fec3fe\"]], \"sequentialminus\": [[0.0, \"#0508b8\"], [0.0893854748603352, \"#1910d8\"], [0.1787709497206704, \"#3c19f0\"], [0.2681564245810056, \"#6b1cfb\"], [0.3575418994413408, \"#981cfd\"], [0.44692737430167595, \"#bf1cfd\"], [0.5363128491620112, \"#dd2bfd\"], [0.6256983240223464, \"#f246fe\"], [0.7150837988826816, \"#fc67fd\"], [0.8044692737430168, \"#fe88fc\"], [0.8938547486033519, \"#fea5fd\"], [0.9832402234636871, \"#febefe\"], [1.0, \"#fec3fe\"]]}, \"colorway\": [\"#636efa\", \"#EF553B\", \"#00cc96\", \"#ab63fa\", \"#19d3f3\", \"#e763fa\", \"#FECB52\", \"#FFA15A\", \"#FF6692\", \"#B6E880\"], \"font\": {\"color\": \"#2a3f5f\"}, \"geo\": {\"bgcolor\": \"white\", \"lakecolor\": \"white\", \"landcolor\": \"#E5ECF6\", \"showlakes\": true, \"showland\": true, \"subunitcolor\": \"white\"}, \"hovermode\": \"closest\", \"mapbox\": {\"style\": \"light\"}, \"paper_bgcolor\": \"white\", \"plot_bgcolor\": \"#E5ECF6\", \"polar\": {\"angularaxis\": {\"gridcolor\": \"white\", \"linecolor\": \"white\", \"ticks\": \"\"}, \"bgcolor\": \"#E5ECF6\", \"radialaxis\": {\"gridcolor\": \"white\", \"linecolor\": \"white\", \"ticks\": \"\"}}, \"scene\": {\"xaxis\": {\"backgroundcolor\": \"#E5ECF6\", \"gridcolor\": \"white\", \"gridwidth\": 2, \"linecolor\": \"white\", \"showbackground\": true, \"ticks\": \"\", \"zerolinecolor\": \"white\"}, \"yaxis\": {\"backgroundcolor\": \"#E5ECF6\", \"gridcolor\": \"white\", \"gridwidth\": 2, \"linecolor\": \"white\", \"showbackground\": true, \"ticks\": \"\", \"zerolinecolor\": \"white\"}, \"zaxis\": {\"backgroundcolor\": \"#E5ECF6\", \"gridcolor\": \"white\", \"gridwidth\": 2, \"linecolor\": \"white\", \"showbackground\": true, \"ticks\": \"\", \"zerolinecolor\": \"white\"}}, \"shapedefaults\": {\"fillcolor\": \"#506784\", \"line\": {\"width\": 0}, \"opacity\": 0.4}, \"ternary\": {\"aaxis\": {\"gridcolor\": \"white\", \"linecolor\": \"white\", \"ticks\": \"\"}, \"baxis\": {\"gridcolor\": \"white\", \"linecolor\": \"white\", \"ticks\": \"\"}, \"bgcolor\": \"#E5ECF6\", \"caxis\": {\"gridcolor\": \"white\", \"linecolor\": \"white\", \"ticks\": \"\"}}, \"title\": {\"x\": 0.05}, \"xaxis\": {\"automargin\": true, \"gridcolor\": \"white\", \"linecolor\": \"white\", \"ticks\": \"\", \"zerolinecolor\": \"white\", \"zerolinewidth\": 2}, \"yaxis\": {\"automargin\": true, \"gridcolor\": \"white\", \"linecolor\": \"white\", \"ticks\": \"\", \"zerolinecolor\": \"white\", \"zerolinewidth\": 2}}}, \"grid\": {\"xaxes\": [\"x\"], \"yaxes\": [\"y\"], \"xgap\": 0.1, \"ygap\": 0.1, \"xside\": \"bottom\", \"yside\": \"left\"}, \"xaxis\": {\"title\": {\"text\": \"Date\"}}, \"yaxis\": {\"title\": {\"text\": \"Total Deaths\"}}}, {\"showLink\": false, \"linkText\": \"Export to plot.ly\", \"plotlyServerURL\": \"https://plot.ly\"}); \n",
       "}\n",
       "});</script><script type=\"text/javascript\">window.addEventListener(\"resize\", function(){if (document.getElementById(\"f5008c01-5812-4e82-ba58-44a3695d4d45\")) {window._Plotly.Plots.resize(document.getElementById(\"f5008c01-5812-4e82-ba58-44a3695d4d45\"));};})</script>"
      ]
     },
     "metadata": {},
     "output_type": "display_data"
    }
   ],
   "source": [
    "px.line(aa_zam, x='Date', y='Total Deaths')"
   ]
  },
  {
   "cell_type": "code",
   "execution_count": 50,
   "metadata": {},
   "outputs": [
    {
     "data": {
      "text/plain": [
       "16"
      ]
     },
     "execution_count": 50,
     "metadata": {},
     "output_type": "execute_result"
    }
   ],
   "source": [
    "len(zam[zam['Robber (P)']=='Robber'])"
   ]
  },
  {
   "cell_type": "code",
   "execution_count": 53,
   "metadata": {},
   "outputs": [
    {
     "data": {
      "text/plain": [
       "49"
      ]
     },
     "execution_count": 53,
     "metadata": {},
     "output_type": "execute_result"
    }
   ],
   "source": [
    "len(zam[zam['State Actor (P)']=='State Actor'])"
   ]
  },
  {
   "cell_type": "code",
   "execution_count": 63,
   "metadata": {},
   "outputs": [],
   "source": [
    "state_zam = zam[zam['State Actor (P)']=='State Actor']"
   ]
  },
  {
   "cell_type": "code",
   "execution_count": 64,
   "metadata": {},
   "outputs": [
    {
     "data": {
      "text/plain": [
       "49"
      ]
     },
     "execution_count": 64,
     "metadata": {},
     "output_type": "execute_result"
    }
   ],
   "source": [
    "len(state_zam)"
   ]
  },
  {
   "cell_type": "code",
   "execution_count": 65,
   "metadata": {},
   "outputs": [
    {
     "data": {
      "text/html": [
       "<div>\n",
       "<style scoped>\n",
       "    .dataframe tbody tr th:only-of-type {\n",
       "        vertical-align: middle;\n",
       "    }\n",
       "\n",
       "    .dataframe tbody tr th {\n",
       "        vertical-align: top;\n",
       "    }\n",
       "\n",
       "    .dataframe thead th {\n",
       "        text-align: right;\n",
       "    }\n",
       "</style>\n",
       "<table border=\"1\" class=\"dataframe\">\n",
       "  <thead>\n",
       "    <tr style=\"text-align: right;\">\n",
       "      <th></th>\n",
       "      <th>Date</th>\n",
       "      <th>Total Deaths</th>\n",
       "    </tr>\n",
       "  </thead>\n",
       "  <tbody>\n",
       "    <tr>\n",
       "      <th>0</th>\n",
       "      <td>2013-12-01</td>\n",
       "      <td>13.0</td>\n",
       "    </tr>\n",
       "    <tr>\n",
       "      <th>1</th>\n",
       "      <td>2013-12-08</td>\n",
       "      <td>0.0</td>\n",
       "    </tr>\n",
       "  </tbody>\n",
       "</table>\n",
       "</div>"
      ],
      "text/plain": [
       "        Date  Total Deaths\n",
       "0 2013-12-01          13.0\n",
       "1 2013-12-08           0.0"
      ]
     },
     "execution_count": 65,
     "metadata": {},
     "output_type": "execute_result"
    }
   ],
   "source": [
    "state_zam = state_zam.resample('W')['Total Deaths'].sum()\n",
    "\n",
    "\n",
    "\n",
    "state_zam = pd.DataFrame(state_zam)\n",
    "\n",
    "\n",
    "\n",
    "state_zam = state_zam.reset_index()\n",
    "\n",
    "\n",
    "state_zam.head(2)"
   ]
  },
  {
   "cell_type": "code",
   "execution_count": null,
   "metadata": {},
   "outputs": [],
   "source": []
  },
  {
   "cell_type": "code",
   "execution_count": 66,
   "metadata": {},
   "outputs": [
    {
     "data": {
      "application/vnd.plotly.v1+json": {
       "config": {
        "linkText": "Export to plot.ly",
        "plotlyServerURL": "https://plot.ly",
        "showLink": false
       },
       "data": [
        {
         "hovertemplate": "Date=%{x}<br>Total Deaths=%{y}<extra></extra>",
         "legendgroup": "",
         "line": {
          "color": "#636efa",
          "dash": "solid"
         },
         "mode": "lines",
         "name": "",
         "showlegend": false,
         "type": "scatter",
         "uid": "1a7641cd-ad9d-4b6e-b9a5-59cfe5c7c790",
         "x": [
          "2013-12-01 05:00:00",
          "2013-12-08 05:00:00",
          "2013-12-15 05:00:00",
          "2013-12-22 05:00:00",
          "2013-12-29 05:00:00",
          "2014-01-05 05:00:00",
          "2014-01-12 05:00:00",
          "2014-01-19 05:00:00",
          "2014-01-26 05:00:00",
          "2014-02-02 05:00:00",
          "2014-02-09 05:00:00",
          "2014-02-16 05:00:00",
          "2014-02-23 05:00:00",
          "2014-03-02 05:00:00",
          "2014-03-09 05:00:00",
          "2014-03-16 04:00:00",
          "2014-03-23 04:00:00",
          "2014-03-30 04:00:00",
          "2014-04-06 04:00:00",
          "2014-04-13 04:00:00",
          "2014-04-20 04:00:00",
          "2014-04-27 04:00:00",
          "2014-05-04 04:00:00",
          "2014-05-11 04:00:00",
          "2014-05-18 04:00:00",
          "2014-05-25 04:00:00",
          "2014-06-01 04:00:00",
          "2014-06-08 04:00:00",
          "2014-06-15 04:00:00",
          "2014-06-22 04:00:00",
          "2014-06-29 04:00:00",
          "2014-07-06 04:00:00",
          "2014-07-13 04:00:00",
          "2014-07-20 04:00:00",
          "2014-07-27 04:00:00",
          "2014-08-03 04:00:00",
          "2014-08-10 04:00:00",
          "2014-08-17 04:00:00",
          "2014-08-24 04:00:00",
          "2014-08-31 04:00:00",
          "2014-09-07 04:00:00",
          "2014-09-14 04:00:00",
          "2014-09-21 04:00:00",
          "2014-09-28 04:00:00",
          "2014-10-05 04:00:00",
          "2014-10-12 04:00:00",
          "2014-10-19 04:00:00",
          "2014-10-26 04:00:00",
          "2014-11-02 04:00:00",
          "2014-11-09 05:00:00",
          "2014-11-16 05:00:00",
          "2014-11-23 05:00:00",
          "2014-11-30 05:00:00",
          "2014-12-07 05:00:00",
          "2014-12-14 05:00:00",
          "2014-12-21 05:00:00",
          "2014-12-28 05:00:00",
          "2015-01-04 05:00:00",
          "2015-01-11 05:00:00",
          "2015-01-18 05:00:00",
          "2015-01-25 05:00:00",
          "2015-02-01 05:00:00",
          "2015-02-08 05:00:00",
          "2015-02-15 05:00:00",
          "2015-02-22 05:00:00",
          "2015-03-01 05:00:00",
          "2015-03-08 05:00:00",
          "2015-03-15 04:00:00",
          "2015-03-22 04:00:00",
          "2015-03-29 04:00:00",
          "2015-04-05 04:00:00",
          "2015-04-12 04:00:00",
          "2015-04-19 04:00:00",
          "2015-04-26 04:00:00",
          "2015-05-03 04:00:00",
          "2015-05-10 04:00:00",
          "2015-05-17 04:00:00",
          "2015-05-24 04:00:00",
          "2015-05-31 04:00:00",
          "2015-06-07 04:00:00",
          "2015-06-14 04:00:00",
          "2015-06-21 04:00:00",
          "2015-06-28 04:00:00",
          "2015-07-05 04:00:00",
          "2015-07-12 04:00:00",
          "2015-07-19 04:00:00",
          "2015-07-26 04:00:00",
          "2015-08-02 04:00:00",
          "2015-08-09 04:00:00",
          "2015-08-16 04:00:00",
          "2015-08-23 04:00:00",
          "2015-08-30 04:00:00",
          "2015-09-06 04:00:00",
          "2015-09-13 04:00:00",
          "2015-09-20 04:00:00",
          "2015-09-27 04:00:00",
          "2015-10-04 04:00:00",
          "2015-10-11 04:00:00",
          "2015-10-18 04:00:00",
          "2015-10-25 04:00:00",
          "2015-11-01 04:00:00",
          "2015-11-08 05:00:00",
          "2015-11-15 05:00:00",
          "2015-11-22 05:00:00",
          "2015-11-29 05:00:00",
          "2015-12-06 05:00:00",
          "2015-12-13 05:00:00",
          "2015-12-20 05:00:00",
          "2015-12-27 05:00:00",
          "2016-01-03 05:00:00",
          "2016-01-10 05:00:00",
          "2016-01-17 05:00:00",
          "2016-01-24 05:00:00",
          "2016-01-31 05:00:00",
          "2016-02-07 05:00:00",
          "2016-02-14 05:00:00",
          "2016-02-21 05:00:00",
          "2016-02-28 05:00:00",
          "2016-03-06 05:00:00",
          "2016-03-13 05:00:00",
          "2016-03-20 04:00:00",
          "2016-03-27 04:00:00",
          "2016-04-03 04:00:00",
          "2016-04-10 04:00:00",
          "2016-04-17 04:00:00",
          "2016-04-24 04:00:00",
          "2016-05-01 04:00:00",
          "2016-05-08 04:00:00",
          "2016-05-15 04:00:00",
          "2016-05-22 04:00:00",
          "2016-05-29 04:00:00",
          "2016-06-05 04:00:00",
          "2016-06-12 04:00:00",
          "2016-06-19 04:00:00",
          "2016-06-26 04:00:00",
          "2016-07-03 04:00:00",
          "2016-07-10 04:00:00",
          "2016-07-17 04:00:00",
          "2016-07-24 04:00:00",
          "2016-07-31 04:00:00",
          "2016-08-07 04:00:00",
          "2016-08-14 04:00:00",
          "2016-08-21 04:00:00",
          "2016-08-28 04:00:00",
          "2016-09-04 04:00:00",
          "2016-09-11 04:00:00",
          "2016-09-18 04:00:00",
          "2016-09-25 04:00:00",
          "2016-10-02 04:00:00",
          "2016-10-09 04:00:00",
          "2016-10-16 04:00:00",
          "2016-10-23 04:00:00",
          "2016-10-30 04:00:00",
          "2016-11-06 04:00:00",
          "2016-11-13 05:00:00",
          "2016-11-20 05:00:00",
          "2016-11-27 05:00:00",
          "2016-12-04 05:00:00",
          "2016-12-11 05:00:00",
          "2016-12-18 05:00:00",
          "2016-12-25 05:00:00",
          "2017-01-01 05:00:00",
          "2017-01-08 05:00:00",
          "2017-01-15 05:00:00",
          "2017-01-22 05:00:00",
          "2017-01-29 05:00:00",
          "2017-02-05 05:00:00",
          "2017-02-12 05:00:00",
          "2017-02-19 05:00:00",
          "2017-02-26 05:00:00",
          "2017-03-05 05:00:00",
          "2017-03-12 05:00:00",
          "2017-03-19 04:00:00",
          "2017-03-26 04:00:00",
          "2017-04-02 04:00:00",
          "2017-04-09 04:00:00",
          "2017-04-16 04:00:00",
          "2017-04-23 04:00:00",
          "2017-04-30 04:00:00",
          "2017-05-07 04:00:00",
          "2017-05-14 04:00:00",
          "2017-05-21 04:00:00",
          "2017-05-28 04:00:00",
          "2017-06-04 04:00:00",
          "2017-06-11 04:00:00",
          "2017-06-18 04:00:00",
          "2017-06-25 04:00:00",
          "2017-07-02 04:00:00",
          "2017-07-09 04:00:00",
          "2017-07-16 04:00:00",
          "2017-07-23 04:00:00",
          "2017-07-30 04:00:00",
          "2017-08-06 04:00:00",
          "2017-08-13 04:00:00",
          "2017-08-20 04:00:00",
          "2017-08-27 04:00:00",
          "2017-09-03 04:00:00",
          "2017-09-10 04:00:00",
          "2017-09-17 04:00:00",
          "2017-09-24 04:00:00",
          "2017-10-01 04:00:00",
          "2017-10-08 04:00:00",
          "2017-10-15 04:00:00",
          "2017-10-22 04:00:00",
          "2017-10-29 04:00:00",
          "2017-11-05 04:00:00",
          "2017-11-12 05:00:00",
          "2017-11-19 05:00:00",
          "2017-11-26 05:00:00",
          "2017-12-03 05:00:00",
          "2017-12-10 05:00:00",
          "2017-12-17 05:00:00",
          "2017-12-24 05:00:00",
          "2017-12-31 05:00:00",
          "2018-01-07 05:00:00",
          "2018-01-14 05:00:00",
          "2018-01-21 05:00:00",
          "2018-01-28 05:00:00",
          "2018-02-04 05:00:00",
          "2018-02-11 05:00:00",
          "2018-02-18 05:00:00",
          "2018-02-25 05:00:00",
          "2018-03-04 05:00:00",
          "2018-03-11 05:00:00",
          "2018-03-18 04:00:00",
          "2018-03-25 04:00:00",
          "2018-04-01 04:00:00",
          "2018-04-08 04:00:00",
          "2018-04-15 04:00:00",
          "2018-04-22 04:00:00",
          "2018-04-29 04:00:00",
          "2018-05-06 04:00:00",
          "2018-05-13 04:00:00",
          "2018-05-20 04:00:00",
          "2018-05-27 04:00:00",
          "2018-06-03 04:00:00",
          "2018-06-10 04:00:00",
          "2018-06-17 04:00:00",
          "2018-06-24 04:00:00",
          "2018-07-01 04:00:00",
          "2018-07-08 04:00:00",
          "2018-07-15 04:00:00",
          "2018-07-22 04:00:00",
          "2018-07-29 04:00:00",
          "2018-08-05 04:00:00",
          "2018-08-12 04:00:00",
          "2018-08-19 04:00:00",
          "2018-08-26 04:00:00",
          "2018-09-02 04:00:00",
          "2018-09-09 04:00:00",
          "2018-09-16 04:00:00",
          "2018-09-23 04:00:00",
          "2018-09-30 04:00:00",
          "2018-10-07 04:00:00",
          "2018-10-14 04:00:00",
          "2018-10-21 04:00:00",
          "2018-10-28 04:00:00",
          "2018-11-04 04:00:00",
          "2018-11-11 05:00:00",
          "2018-11-18 05:00:00",
          "2018-11-25 05:00:00",
          "2018-12-02 05:00:00",
          "2018-12-09 05:00:00",
          "2018-12-16 05:00:00",
          "2018-12-23 05:00:00",
          "2018-12-30 05:00:00",
          "2019-01-06 05:00:00",
          "2019-01-13 05:00:00",
          "2019-01-20 05:00:00",
          "2019-01-27 05:00:00",
          "2019-02-03 05:00:00",
          "2019-02-10 05:00:00",
          "2019-02-17 05:00:00",
          "2019-02-24 05:00:00",
          "2019-03-03 05:00:00",
          "2019-03-10 05:00:00",
          "2019-03-17 04:00:00",
          "2019-03-24 04:00:00",
          "2019-03-31 04:00:00"
         ],
         "xaxis": "x",
         "y": [
          13,
          0,
          0,
          0,
          0,
          0,
          0,
          0,
          0,
          0,
          0,
          0,
          0,
          0,
          0,
          0,
          0,
          0,
          0,
          0,
          0,
          0,
          0,
          0,
          0,
          0,
          0,
          0,
          0,
          0,
          0,
          0,
          0,
          0,
          0,
          0,
          0,
          0,
          0,
          0,
          0,
          0,
          0,
          0,
          0,
          0,
          0,
          0,
          0,
          0,
          0,
          0,
          8,
          0,
          0,
          0,
          0,
          0,
          0,
          0,
          0,
          0,
          0,
          0,
          0,
          0,
          0,
          0,
          0,
          0,
          0,
          0,
          0,
          0,
          0,
          0,
          0,
          0,
          0,
          0,
          0,
          0,
          0,
          0,
          0,
          0,
          0,
          0,
          0,
          0,
          0,
          0,
          0,
          0,
          0,
          0,
          0,
          0,
          0,
          0,
          0,
          0,
          0,
          0,
          0,
          0,
          0,
          0,
          0,
          0,
          0,
          0,
          0,
          0,
          0,
          0,
          0,
          0,
          0,
          0,
          0,
          0,
          0,
          4,
          0,
          0,
          0,
          20,
          0,
          0,
          0,
          0,
          0,
          0,
          23,
          3,
          0,
          11,
          0,
          0,
          0,
          0,
          0,
          20,
          2,
          0,
          7,
          2,
          0,
          0,
          0,
          4,
          0,
          0,
          0,
          0,
          0,
          0,
          0,
          0,
          0,
          0,
          0,
          0,
          0,
          0,
          0,
          0,
          0,
          0,
          0,
          0,
          0,
          0,
          0,
          0,
          0,
          0,
          0,
          0,
          1,
          0,
          0,
          0,
          0,
          0,
          0,
          0,
          0,
          0,
          0,
          0,
          0,
          0,
          0,
          0,
          0,
          0,
          0,
          2,
          0,
          0,
          0,
          0,
          5,
          0,
          0,
          0,
          0,
          0,
          0,
          0,
          0,
          0,
          1,
          0,
          0,
          0,
          0,
          0,
          0,
          1,
          0,
          0,
          0,
          0,
          36,
          23,
          0,
          0,
          0,
          0,
          8,
          1,
          0,
          1,
          5,
          0,
          20,
          0,
          0,
          1,
          0,
          0,
          30,
          30,
          0,
          35,
          0,
          0,
          0,
          0,
          0,
          0,
          0,
          0,
          0,
          0,
          0,
          0,
          0,
          120,
          0,
          8,
          0,
          5,
          40,
          0,
          62,
          0,
          42,
          0,
          43,
          0,
          19,
          20,
          59,
          0,
          8
         ],
         "yaxis": "y"
        }
       ],
       "layout": {
        "autosize": true,
        "grid": {
         "xaxes": [
          "x"
         ],
         "xgap": 0.1,
         "xside": "bottom",
         "yaxes": [
          "y"
         ],
         "ygap": 0.1,
         "yside": "left"
        },
        "legend": {
         "tracegroupgap": 0
        },
        "margin": {
         "t": 60
        },
        "template": {
         "data": {
          "bar": [
           {
            "marker": {
             "line": {
              "color": "#E5ECF6",
              "width": 0.5
             }
            },
            "type": "bar"
           }
          ],
          "barpolar": [
           {
            "marker": {
             "line": {
              "color": "#E5ECF6",
              "width": 0.5
             }
            },
            "type": "barpolar"
           }
          ],
          "carpet": [
           {
            "aaxis": {
             "endlinecolor": "#2a3f5f",
             "gridcolor": "white",
             "linecolor": "white",
             "minorgridcolor": "white",
             "startlinecolor": "#2a3f5f"
            },
            "baxis": {
             "endlinecolor": "#2a3f5f",
             "gridcolor": "white",
             "linecolor": "white",
             "minorgridcolor": "white",
             "startlinecolor": "#2a3f5f"
            },
            "type": "carpet"
           }
          ],
          "choropleth": [
           {
            "colorbar": {
             "outlinewidth": 0,
             "ticks": ""
            },
            "type": "choropleth"
           }
          ],
          "contour": [
           {
            "autocolorscale": true,
            "colorbar": {
             "outlinewidth": 0,
             "ticks": ""
            },
            "type": "contour"
           }
          ],
          "contourcarpet": [
           {
            "colorbar": {
             "outlinewidth": 0,
             "ticks": ""
            },
            "type": "contourcarpet"
           }
          ],
          "heatmap": [
           {
            "autocolorscale": true,
            "colorbar": {
             "outlinewidth": 0,
             "ticks": ""
            },
            "type": "heatmap"
           }
          ],
          "heatmapgl": [
           {
            "colorbar": {
             "outlinewidth": 0,
             "ticks": ""
            },
            "type": "heatmapgl"
           }
          ],
          "histogram": [
           {
            "marker": {
             "colorbar": {
              "outlinewidth": 0,
              "ticks": ""
             }
            },
            "type": "histogram"
           }
          ],
          "histogram2d": [
           {
            "autocolorscale": true,
            "colorbar": {
             "outlinewidth": 0,
             "ticks": ""
            },
            "type": "histogram2d"
           }
          ],
          "histogram2dcontour": [
           {
            "autocolorscale": true,
            "colorbar": {
             "outlinewidth": 0,
             "ticks": ""
            },
            "type": "histogram2dcontour"
           }
          ],
          "mesh3d": [
           {
            "colorbar": {
             "outlinewidth": 0,
             "ticks": ""
            },
            "type": "mesh3d"
           }
          ],
          "parcoords": [
           {
            "line": {
             "colorbar": {
              "outlinewidth": 0,
              "ticks": ""
             }
            },
            "type": "parcoords"
           }
          ],
          "scatter": [
           {
            "marker": {
             "colorbar": {
              "outlinewidth": 0,
              "ticks": ""
             }
            },
            "type": "scatter"
           }
          ],
          "scatter3d": [
           {
            "marker": {
             "colorbar": {
              "outlinewidth": 0,
              "ticks": ""
             }
            },
            "type": "scatter3d"
           }
          ],
          "scattercarpet": [
           {
            "marker": {
             "colorbar": {
              "outlinewidth": 0,
              "ticks": ""
             }
            },
            "type": "scattercarpet"
           }
          ],
          "scattergeo": [
           {
            "marker": {
             "colorbar": {
              "outlinewidth": 0,
              "ticks": ""
             }
            },
            "type": "scattergeo"
           }
          ],
          "scattergl": [
           {
            "marker": {
             "colorbar": {
              "outlinewidth": 0,
              "ticks": ""
             }
            },
            "type": "scattergl"
           }
          ],
          "scattermapbox": [
           {
            "marker": {
             "colorbar": {
              "outlinewidth": 0,
              "ticks": ""
             }
            },
            "type": "scattermapbox"
           }
          ],
          "scatterpolar": [
           {
            "marker": {
             "colorbar": {
              "outlinewidth": 0,
              "ticks": ""
             }
            },
            "type": "scatterpolar"
           }
          ],
          "scatterpolargl": [
           {
            "marker": {
             "colorbar": {
              "outlinewidth": 0,
              "ticks": ""
             }
            },
            "type": "scatterpolargl"
           }
          ],
          "scatterternary": [
           {
            "marker": {
             "colorbar": {
              "outlinewidth": 0,
              "ticks": ""
             }
            },
            "type": "scatterternary"
           }
          ],
          "surface": [
           {
            "colorbar": {
             "outlinewidth": 0,
             "ticks": ""
            },
            "type": "surface"
           }
          ],
          "table": [
           {
            "cells": {
             "fill": {
              "color": "#EBF0F8"
             },
             "line": {
              "color": "white"
             }
            },
            "header": {
             "fill": {
              "color": "#C8D4E3"
             },
             "line": {
              "color": "white"
             }
            },
            "type": "table"
           }
          ]
         },
         "layout": {
          "annotationdefaults": {
           "arrowcolor": "#506784",
           "arrowhead": 0,
           "arrowwidth": 1
          },
          "colorscale": {
           "diverging": [
            [
             0,
             "#8e0152"
            ],
            [
             0.1,
             "#c51b7d"
            ],
            [
             0.2,
             "#de77ae"
            ],
            [
             0.3,
             "#f1b6da"
            ],
            [
             0.4,
             "#fde0ef"
            ],
            [
             0.5,
             "#f7f7f7"
            ],
            [
             0.6,
             "#e6f5d0"
            ],
            [
             0.7,
             "#b8e186"
            ],
            [
             0.8,
             "#7fbc41"
            ],
            [
             0.9,
             "#4d9221"
            ],
            [
             1,
             "#276419"
            ]
           ],
           "sequential": [
            [
             0,
             "#0508b8"
            ],
            [
             0.0893854748603352,
             "#1910d8"
            ],
            [
             0.1787709497206704,
             "#3c19f0"
            ],
            [
             0.2681564245810056,
             "#6b1cfb"
            ],
            [
             0.3575418994413408,
             "#981cfd"
            ],
            [
             0.44692737430167595,
             "#bf1cfd"
            ],
            [
             0.5363128491620112,
             "#dd2bfd"
            ],
            [
             0.6256983240223464,
             "#f246fe"
            ],
            [
             0.7150837988826816,
             "#fc67fd"
            ],
            [
             0.8044692737430168,
             "#fe88fc"
            ],
            [
             0.8938547486033519,
             "#fea5fd"
            ],
            [
             0.9832402234636871,
             "#febefe"
            ],
            [
             1,
             "#fec3fe"
            ]
           ],
           "sequentialminus": [
            [
             0,
             "#0508b8"
            ],
            [
             0.0893854748603352,
             "#1910d8"
            ],
            [
             0.1787709497206704,
             "#3c19f0"
            ],
            [
             0.2681564245810056,
             "#6b1cfb"
            ],
            [
             0.3575418994413408,
             "#981cfd"
            ],
            [
             0.44692737430167595,
             "#bf1cfd"
            ],
            [
             0.5363128491620112,
             "#dd2bfd"
            ],
            [
             0.6256983240223464,
             "#f246fe"
            ],
            [
             0.7150837988826816,
             "#fc67fd"
            ],
            [
             0.8044692737430168,
             "#fe88fc"
            ],
            [
             0.8938547486033519,
             "#fea5fd"
            ],
            [
             0.9832402234636871,
             "#febefe"
            ],
            [
             1,
             "#fec3fe"
            ]
           ]
          },
          "colorway": [
           "#636efa",
           "#EF553B",
           "#00cc96",
           "#ab63fa",
           "#19d3f3",
           "#e763fa",
           "#FECB52",
           "#FFA15A",
           "#FF6692",
           "#B6E880"
          ],
          "font": {
           "color": "#2a3f5f"
          },
          "geo": {
           "bgcolor": "white",
           "lakecolor": "white",
           "landcolor": "#E5ECF6",
           "showlakes": true,
           "showland": true,
           "subunitcolor": "white"
          },
          "hovermode": "closest",
          "mapbox": {
           "style": "light"
          },
          "paper_bgcolor": "white",
          "plot_bgcolor": "#E5ECF6",
          "polar": {
           "angularaxis": {
            "gridcolor": "white",
            "linecolor": "white",
            "ticks": ""
           },
           "bgcolor": "#E5ECF6",
           "radialaxis": {
            "gridcolor": "white",
            "linecolor": "white",
            "ticks": ""
           }
          },
          "scene": {
           "xaxis": {
            "backgroundcolor": "#E5ECF6",
            "gridcolor": "white",
            "gridwidth": 2,
            "linecolor": "white",
            "showbackground": true,
            "ticks": "",
            "zerolinecolor": "white"
           },
           "yaxis": {
            "backgroundcolor": "#E5ECF6",
            "gridcolor": "white",
            "gridwidth": 2,
            "linecolor": "white",
            "showbackground": true,
            "ticks": "",
            "zerolinecolor": "white"
           },
           "zaxis": {
            "backgroundcolor": "#E5ECF6",
            "gridcolor": "white",
            "gridwidth": 2,
            "linecolor": "white",
            "showbackground": true,
            "ticks": "",
            "zerolinecolor": "white"
           }
          },
          "shapedefaults": {
           "fillcolor": "#506784",
           "line": {
            "width": 0
           },
           "opacity": 0.4
          },
          "ternary": {
           "aaxis": {
            "gridcolor": "white",
            "linecolor": "white",
            "ticks": ""
           },
           "baxis": {
            "gridcolor": "white",
            "linecolor": "white",
            "ticks": ""
           },
           "bgcolor": "#E5ECF6",
           "caxis": {
            "gridcolor": "white",
            "linecolor": "white",
            "ticks": ""
           }
          },
          "title": {
           "x": 0.05
          },
          "xaxis": {
           "automargin": true,
           "gridcolor": "white",
           "linecolor": "white",
           "ticks": "",
           "zerolinecolor": "white",
           "zerolinewidth": 2
          },
          "yaxis": {
           "automargin": true,
           "gridcolor": "white",
           "linecolor": "white",
           "ticks": "",
           "zerolinecolor": "white",
           "zerolinewidth": 2
          }
         }
        },
        "xaxis": {
         "autorange": true,
         "range": [
          "2013-12-01 05:00",
          "2019-03-31 04:00"
         ],
         "title": {
          "text": "Date"
         },
         "type": "date"
        },
        "yaxis": {
         "autorange": true,
         "range": [
          -6.666666666666667,
          126.66666666666667
         ],
         "title": {
          "text": "Total Deaths"
         },
         "type": "linear"
        }
       }
      },
      "image/png": "[encoded data removed]",
      "text/html": [
       "<div id=\"825066d0-e79c-4bf1-a23a-de30cd46c46e\" style=\"height: 600px; width: 100%;\" class=\"plotly-graph-div\"></div><script type=\"text/javascript\">require([\"plotly\"], function(Plotly) { window.PLOTLYENV=window.PLOTLYENV || {};window.PLOTLYENV.BASE_URL=\"https://plot.ly\";\n",
       "if (document.getElementById(\"825066d0-e79c-4bf1-a23a-de30cd46c46e\")) {\n",
       "    Plotly.newPlot(\"825066d0-e79c-4bf1-a23a-de30cd46c46e\", [{\"hovertemplate\": \"Date=%{x}<br>Total Deaths=%{y}<extra></extra>\", \"legendgroup\": \"\", \"line\": {\"color\": \"#636efa\", \"dash\": \"solid\"}, \"mode\": \"lines\", \"name\": \"\", \"showlegend\": false, \"x\": [\"2013-12-01 05:00:00\", \"2013-12-08 05:00:00\", \"2013-12-15 05:00:00\", \"2013-12-22 05:00:00\", \"2013-12-29 05:00:00\", \"2014-01-05 05:00:00\", \"2014-01-12 05:00:00\", \"2014-01-19 05:00:00\", \"2014-01-26 05:00:00\", \"2014-02-02 05:00:00\", \"2014-02-09 05:00:00\", \"2014-02-16 05:00:00\", \"2014-02-23 05:00:00\", \"2014-03-02 05:00:00\", \"2014-03-09 05:00:00\", \"2014-03-16 04:00:00\", \"2014-03-23 04:00:00\", \"2014-03-30 04:00:00\", \"2014-04-06 04:00:00\", \"2014-04-13 04:00:00\", \"2014-04-20 04:00:00\", \"2014-04-27 04:00:00\", \"2014-05-04 04:00:00\", \"2014-05-11 04:00:00\", \"2014-05-18 04:00:00\", \"2014-05-25 04:00:00\", \"2014-06-01 04:00:00\", \"2014-06-08 04:00:00\", \"2014-06-15 04:00:00\", \"2014-06-22 04:00:00\", \"2014-06-29 04:00:00\", \"2014-07-06 04:00:00\", \"2014-07-13 04:00:00\", \"2014-07-20 04:00:00\", \"2014-07-27 04:00:00\", \"2014-08-03 04:00:00\", \"2014-08-10 04:00:00\", \"2014-08-17 04:00:00\", \"2014-08-24 04:00:00\", \"2014-08-31 04:00:00\", \"2014-09-07 04:00:00\", \"2014-09-14 04:00:00\", \"2014-09-21 04:00:00\", \"2014-09-28 04:00:00\", \"2014-10-05 04:00:00\", \"2014-10-12 04:00:00\", \"2014-10-19 04:00:00\", \"2014-10-26 04:00:00\", \"2014-11-02 04:00:00\", \"2014-11-09 05:00:00\", \"2014-11-16 05:00:00\", \"2014-11-23 05:00:00\", \"2014-11-30 05:00:00\", \"2014-12-07 05:00:00\", \"2014-12-14 05:00:00\", \"2014-12-21 05:00:00\", \"2014-12-28 05:00:00\", \"2015-01-04 05:00:00\", \"2015-01-11 05:00:00\", \"2015-01-18 05:00:00\", \"2015-01-25 05:00:00\", \"2015-02-01 05:00:00\", \"2015-02-08 05:00:00\", \"2015-02-15 05:00:00\", \"2015-02-22 05:00:00\", \"2015-03-01 05:00:00\", \"2015-03-08 05:00:00\", \"2015-03-15 04:00:00\", \"2015-03-22 04:00:00\", \"2015-03-29 04:00:00\", \"2015-04-05 04:00:00\", \"2015-04-12 04:00:00\", \"2015-04-19 04:00:00\", \"2015-04-26 04:00:00\", \"2015-05-03 04:00:00\", \"2015-05-10 04:00:00\", \"2015-05-17 04:00:00\", \"2015-05-24 04:00:00\", \"2015-05-31 04:00:00\", \"2015-06-07 04:00:00\", \"2015-06-14 04:00:00\", \"2015-06-21 04:00:00\", \"2015-06-28 04:00:00\", \"2015-07-05 04:00:00\", \"2015-07-12 04:00:00\", \"2015-07-19 04:00:00\", \"2015-07-26 04:00:00\", \"2015-08-02 04:00:00\", \"2015-08-09 04:00:00\", \"2015-08-16 04:00:00\", \"2015-08-23 04:00:00\", \"2015-08-30 04:00:00\", \"2015-09-06 04:00:00\", \"2015-09-13 04:00:00\", \"2015-09-20 04:00:00\", \"2015-09-27 04:00:00\", \"2015-10-04 04:00:00\", \"2015-10-11 04:00:00\", \"2015-10-18 04:00:00\", \"2015-10-25 04:00:00\", \"2015-11-01 04:00:00\", \"2015-11-08 05:00:00\", \"2015-11-15 05:00:00\", \"2015-11-22 05:00:00\", \"2015-11-29 05:00:00\", \"2015-12-06 05:00:00\", \"2015-12-13 05:00:00\", \"2015-12-20 05:00:00\", \"2015-12-27 05:00:00\", \"2016-01-03 05:00:00\", \"2016-01-10 05:00:00\", \"2016-01-17 05:00:00\", \"2016-01-24 05:00:00\", \"2016-01-31 05:00:00\", \"2016-02-07 05:00:00\", \"2016-02-14 05:00:00\", \"2016-02-21 05:00:00\", \"2016-02-28 05:00:00\", \"2016-03-06 05:00:00\", \"2016-03-13 05:00:00\", \"2016-03-20 04:00:00\", \"2016-03-27 04:00:00\", \"2016-04-03 04:00:00\", \"2016-04-10 04:00:00\", \"2016-04-17 04:00:00\", \"2016-04-24 04:00:00\", \"2016-05-01 04:00:00\", \"2016-05-08 04:00:00\", \"2016-05-15 04:00:00\", \"2016-05-22 04:00:00\", \"2016-05-29 04:00:00\", \"2016-06-05 04:00:00\", \"2016-06-12 04:00:00\", \"2016-06-19 04:00:00\", \"2016-06-26 04:00:00\", \"2016-07-03 04:00:00\", \"2016-07-10 04:00:00\", \"2016-07-17 04:00:00\", \"2016-07-24 04:00:00\", \"2016-07-31 04:00:00\", \"2016-08-07 04:00:00\", \"2016-08-14 04:00:00\", \"2016-08-21 04:00:00\", \"2016-08-28 04:00:00\", \"2016-09-04 04:00:00\", \"2016-09-11 04:00:00\", \"2016-09-18 04:00:00\", \"2016-09-25 04:00:00\", \"2016-10-02 04:00:00\", \"2016-10-09 04:00:00\", \"2016-10-16 04:00:00\", \"2016-10-23 04:00:00\", \"2016-10-30 04:00:00\", \"2016-11-06 04:00:00\", \"2016-11-13 05:00:00\", \"2016-11-20 05:00:00\", \"2016-11-27 05:00:00\", \"2016-12-04 05:00:00\", \"2016-12-11 05:00:00\", \"2016-12-18 05:00:00\", \"2016-12-25 05:00:00\", \"2017-01-01 05:00:00\", \"2017-01-08 05:00:00\", \"2017-01-15 05:00:00\", \"2017-01-22 05:00:00\", \"2017-01-29 05:00:00\", \"2017-02-05 05:00:00\", \"2017-02-12 05:00:00\", \"2017-02-19 05:00:00\", \"2017-02-26 05:00:00\", \"2017-03-05 05:00:00\", \"2017-03-12 05:00:00\", \"2017-03-19 04:00:00\", \"2017-03-26 04:00:00\", \"2017-04-02 04:00:00\", \"2017-04-09 04:00:00\", \"2017-04-16 04:00:00\", \"2017-04-23 04:00:00\", \"2017-04-30 04:00:00\", \"2017-05-07 04:00:00\", \"2017-05-14 04:00:00\", \"2017-05-21 04:00:00\", \"2017-05-28 04:00:00\", \"2017-06-04 04:00:00\", \"2017-06-11 04:00:00\", \"2017-06-18 04:00:00\", \"2017-06-25 04:00:00\", \"2017-07-02 04:00:00\", \"2017-07-09 04:00:00\", \"2017-07-16 04:00:00\", \"2017-07-23 04:00:00\", \"2017-07-30 04:00:00\", \"2017-08-06 04:00:00\", \"2017-08-13 04:00:00\", \"2017-08-20 04:00:00\", \"2017-08-27 04:00:00\", \"2017-09-03 04:00:00\", \"2017-09-10 04:00:00\", \"2017-09-17 04:00:00\", \"2017-09-24 04:00:00\", \"2017-10-01 04:00:00\", \"2017-10-08 04:00:00\", \"2017-10-15 04:00:00\", \"2017-10-22 04:00:00\", \"2017-10-29 04:00:00\", \"2017-11-05 04:00:00\", \"2017-11-12 05:00:00\", \"2017-11-19 05:00:00\", \"2017-11-26 05:00:00\", \"2017-12-03 05:00:00\", \"2017-12-10 05:00:00\", \"2017-12-17 05:00:00\", \"2017-12-24 05:00:00\", \"2017-12-31 05:00:00\", \"2018-01-07 05:00:00\", \"2018-01-14 05:00:00\", \"2018-01-21 05:00:00\", \"2018-01-28 05:00:00\", \"2018-02-04 05:00:00\", \"2018-02-11 05:00:00\", \"2018-02-18 05:00:00\", \"2018-02-25 05:00:00\", \"2018-03-04 05:00:00\", \"2018-03-11 05:00:00\", \"2018-03-18 04:00:00\", \"2018-03-25 04:00:00\", \"2018-04-01 04:00:00\", \"2018-04-08 04:00:00\", \"2018-04-15 04:00:00\", \"2018-04-22 04:00:00\", \"2018-04-29 04:00:00\", \"2018-05-06 04:00:00\", \"2018-05-13 04:00:00\", \"2018-05-20 04:00:00\", \"2018-05-27 04:00:00\", \"2018-06-03 04:00:00\", \"2018-06-10 04:00:00\", \"2018-06-17 04:00:00\", \"2018-06-24 04:00:00\", \"2018-07-01 04:00:00\", \"2018-07-08 04:00:00\", \"2018-07-15 04:00:00\", \"2018-07-22 04:00:00\", \"2018-07-29 04:00:00\", \"2018-08-05 04:00:00\", \"2018-08-12 04:00:00\", \"2018-08-19 04:00:00\", \"2018-08-26 04:00:00\", \"2018-09-02 04:00:00\", \"2018-09-09 04:00:00\", \"2018-09-16 04:00:00\", \"2018-09-23 04:00:00\", \"2018-09-30 04:00:00\", \"2018-10-07 04:00:00\", \"2018-10-14 04:00:00\", \"2018-10-21 04:00:00\", \"2018-10-28 04:00:00\", \"2018-11-04 04:00:00\", \"2018-11-11 05:00:00\", \"2018-11-18 05:00:00\", \"2018-11-25 05:00:00\", \"2018-12-02 05:00:00\", \"2018-12-09 05:00:00\", \"2018-12-16 05:00:00\", \"2018-12-23 05:00:00\", \"2018-12-30 05:00:00\", \"2019-01-06 05:00:00\", \"2019-01-13 05:00:00\", \"2019-01-20 05:00:00\", \"2019-01-27 05:00:00\", \"2019-02-03 05:00:00\", \"2019-02-10 05:00:00\", \"2019-02-17 05:00:00\", \"2019-02-24 05:00:00\", \"2019-03-03 05:00:00\", \"2019-03-10 05:00:00\", \"2019-03-17 04:00:00\", \"2019-03-24 04:00:00\", \"2019-03-31 04:00:00\"], \"xaxis\": \"x\", \"y\": [13.0, 0.0, 0.0, 0.0, 0.0, 0.0, 0.0, 0.0, 0.0, 0.0, 0.0, 0.0, 0.0, 0.0, 0.0, 0.0, 0.0, 0.0, 0.0, 0.0, 0.0, 0.0, 0.0, 0.0, 0.0, 0.0, 0.0, 0.0, 0.0, 0.0, 0.0, 0.0, 0.0, 0.0, 0.0, 0.0, 0.0, 0.0, 0.0, 0.0, 0.0, 0.0, 0.0, 0.0, 0.0, 0.0, 0.0, 0.0, 0.0, 0.0, 0.0, 0.0, 8.0, 0.0, 0.0, 0.0, 0.0, 0.0, 0.0, 0.0, 0.0, 0.0, 0.0, 0.0, 0.0, 0.0, 0.0, 0.0, 0.0, 0.0, 0.0, 0.0, 0.0, 0.0, 0.0, 0.0, 0.0, 0.0, 0.0, 0.0, 0.0, 0.0, 0.0, 0.0, 0.0, 0.0, 0.0, 0.0, 0.0, 0.0, 0.0, 0.0, 0.0, 0.0, 0.0, 0.0, 0.0, 0.0, 0.0, 0.0, 0.0, 0.0, 0.0, 0.0, 0.0, 0.0, 0.0, 0.0, 0.0, 0.0, 0.0, 0.0, 0.0, 0.0, 0.0, 0.0, 0.0, 0.0, 0.0, 0.0, 0.0, 0.0, 0.0, 4.0, 0.0, 0.0, 0.0, 20.0, 0.0, 0.0, 0.0, 0.0, 0.0, 0.0, 23.0, 3.0, 0.0, 11.0, 0.0, 0.0, 0.0, 0.0, 0.0, 20.0, 2.0, 0.0, 7.0, 2.0, 0.0, 0.0, 0.0, 4.0, 0.0, 0.0, 0.0, 0.0, 0.0, 0.0, 0.0, 0.0, 0.0, 0.0, 0.0, 0.0, 0.0, 0.0, 0.0, 0.0, 0.0, 0.0, 0.0, 0.0, 0.0, 0.0, 0.0, 0.0, 0.0, 0.0, 0.0, 0.0, 1.0, 0.0, 0.0, 0.0, 0.0, 0.0, 0.0, 0.0, 0.0, 0.0, 0.0, 0.0, 0.0, 0.0, 0.0, 0.0, 0.0, 0.0, 0.0, 2.0, 0.0, 0.0, 0.0, 0.0, 5.0, 0.0, 0.0, 0.0, 0.0, 0.0, 0.0, 0.0, 0.0, 0.0, 1.0, 0.0, 0.0, 0.0, 0.0, 0.0, 0.0, 1.0, 0.0, 0.0, 0.0, 0.0, 36.0, 23.0, 0.0, 0.0, 0.0, 0.0, 8.0, 1.0, 0.0, 1.0, 5.0, 0.0, 20.0, 0.0, 0.0, 1.0, 0.0, 0.0, 30.0, 30.0, 0.0, 35.0, 0.0, 0.0, 0.0, 0.0, 0.0, 0.0, 0.0, 0.0, 0.0, 0.0, 0.0, 0.0, 0.0, 120.0, 0.0, 8.0, 0.0, 5.0, 40.0, 0.0, 62.0, 0.0, 42.0, 0.0, 43.0, 0.0, 19.0, 20.0, 59.0, 0.0, 8.0], \"yaxis\": \"y\", \"type\": \"scatter\", \"uid\": \"1a7641cd-ad9d-4b6e-b9a5-59cfe5c7c790\"}], {\"height\": 600, \"legend\": {\"tracegroupgap\": 0}, \"margin\": {\"t\": 60}, \"template\": {\"data\": {\"barpolar\": [{\"marker\": {\"line\": {\"color\": \"#E5ECF6\", \"width\": 0.5}}, \"type\": \"barpolar\"}], \"bar\": [{\"marker\": {\"line\": {\"color\": \"#E5ECF6\", \"width\": 0.5}}, \"type\": \"bar\"}], \"carpet\": [{\"aaxis\": {\"endlinecolor\": \"#2a3f5f\", \"gridcolor\": \"white\", \"linecolor\": \"white\", \"minorgridcolor\": \"white\", \"startlinecolor\": \"#2a3f5f\"}, \"baxis\": {\"endlinecolor\": \"#2a3f5f\", \"gridcolor\": \"white\", \"linecolor\": \"white\", \"minorgridcolor\": \"white\", \"startlinecolor\": \"#2a3f5f\"}, \"type\": \"carpet\"}], \"choropleth\": [{\"colorbar\": {\"outlinewidth\": 0, \"ticks\": \"\"}, \"type\": \"choropleth\"}], \"contourcarpet\": [{\"colorbar\": {\"outlinewidth\": 0, \"ticks\": \"\"}, \"type\": \"contourcarpet\"}], \"contour\": [{\"autocolorscale\": true, \"colorbar\": {\"outlinewidth\": 0, \"ticks\": \"\"}, \"type\": \"contour\"}], \"heatmapgl\": [{\"colorbar\": {\"outlinewidth\": 0, \"ticks\": \"\"}, \"type\": \"heatmapgl\"}], \"heatmap\": [{\"autocolorscale\": true, \"colorbar\": {\"outlinewidth\": 0, \"ticks\": \"\"}, \"type\": \"heatmap\"}], \"histogram2dcontour\": [{\"autocolorscale\": true, \"colorbar\": {\"outlinewidth\": 0, \"ticks\": \"\"}, \"type\": \"histogram2dcontour\"}], \"histogram2d\": [{\"autocolorscale\": true, \"colorbar\": {\"outlinewidth\": 0, \"ticks\": \"\"}, \"type\": \"histogram2d\"}], \"histogram\": [{\"marker\": {\"colorbar\": {\"outlinewidth\": 0, \"ticks\": \"\"}}, \"type\": \"histogram\"}], \"mesh3d\": [{\"colorbar\": {\"outlinewidth\": 0, \"ticks\": \"\"}, \"type\": \"mesh3d\"}], \"parcoords\": [{\"line\": {\"colorbar\": {\"outlinewidth\": 0, \"ticks\": \"\"}}, \"type\": \"parcoords\"}], \"scatter3d\": [{\"marker\": {\"colorbar\": {\"outlinewidth\": 0, \"ticks\": \"\"}}, \"type\": \"scatter3d\"}], \"scattercarpet\": [{\"marker\": {\"colorbar\": {\"outlinewidth\": 0, \"ticks\": \"\"}}, \"type\": \"scattercarpet\"}], \"scattergeo\": [{\"marker\": {\"colorbar\": {\"outlinewidth\": 0, \"ticks\": \"\"}}, \"type\": \"scattergeo\"}], \"scattergl\": [{\"marker\": {\"colorbar\": {\"outlinewidth\": 0, \"ticks\": \"\"}}, \"type\": \"scattergl\"}], \"scattermapbox\": [{\"marker\": {\"colorbar\": {\"outlinewidth\": 0, \"ticks\": \"\"}}, \"type\": \"scattermapbox\"}], \"scatterpolargl\": [{\"marker\": {\"colorbar\": {\"outlinewidth\": 0, \"ticks\": \"\"}}, \"type\": \"scatterpolargl\"}], \"scatterpolar\": [{\"marker\": {\"colorbar\": {\"outlinewidth\": 0, \"ticks\": \"\"}}, \"type\": \"scatterpolar\"}], \"scatter\": [{\"marker\": {\"colorbar\": {\"outlinewidth\": 0, \"ticks\": \"\"}}, \"type\": \"scatter\"}], \"scatterternary\": [{\"marker\": {\"colorbar\": {\"outlinewidth\": 0, \"ticks\": \"\"}}, \"type\": \"scatterternary\"}], \"surface\": [{\"colorbar\": {\"outlinewidth\": 0, \"ticks\": \"\"}, \"type\": \"surface\"}], \"table\": [{\"cells\": {\"fill\": {\"color\": \"#EBF0F8\"}, \"line\": {\"color\": \"white\"}}, \"header\": {\"fill\": {\"color\": \"#C8D4E3\"}, \"line\": {\"color\": \"white\"}}, \"type\": \"table\"}]}, \"layout\": {\"annotationdefaults\": {\"arrowcolor\": \"#506784\", \"arrowhead\": 0, \"arrowwidth\": 1}, \"colorscale\": {\"diverging\": [[0, \"#8e0152\"], [0.1, \"#c51b7d\"], [0.2, \"#de77ae\"], [0.3, \"#f1b6da\"], [0.4, \"#fde0ef\"], [0.5, \"#f7f7f7\"], [0.6, \"#e6f5d0\"], [0.7, \"#b8e186\"], [0.8, \"#7fbc41\"], [0.9, \"#4d9221\"], [1, \"#276419\"]], \"sequential\": [[0.0, \"#0508b8\"], [0.0893854748603352, \"#1910d8\"], [0.1787709497206704, \"#3c19f0\"], [0.2681564245810056, \"#6b1cfb\"], [0.3575418994413408, \"#981cfd\"], [0.44692737430167595, \"#bf1cfd\"], [0.5363128491620112, \"#dd2bfd\"], [0.6256983240223464, \"#f246fe\"], [0.7150837988826816, \"#fc67fd\"], [0.8044692737430168, \"#fe88fc\"], [0.8938547486033519, \"#fea5fd\"], [0.9832402234636871, \"#febefe\"], [1.0, \"#fec3fe\"]], \"sequentialminus\": [[0.0, \"#0508b8\"], [0.0893854748603352, \"#1910d8\"], [0.1787709497206704, \"#3c19f0\"], [0.2681564245810056, \"#6b1cfb\"], [0.3575418994413408, \"#981cfd\"], [0.44692737430167595, \"#bf1cfd\"], [0.5363128491620112, \"#dd2bfd\"], [0.6256983240223464, \"#f246fe\"], [0.7150837988826816, \"#fc67fd\"], [0.8044692737430168, \"#fe88fc\"], [0.8938547486033519, \"#fea5fd\"], [0.9832402234636871, \"#febefe\"], [1.0, \"#fec3fe\"]]}, \"colorway\": [\"#636efa\", \"#EF553B\", \"#00cc96\", \"#ab63fa\", \"#19d3f3\", \"#e763fa\", \"#FECB52\", \"#FFA15A\", \"#FF6692\", \"#B6E880\"], \"font\": {\"color\": \"#2a3f5f\"}, \"geo\": {\"bgcolor\": \"white\", \"lakecolor\": \"white\", \"landcolor\": \"#E5ECF6\", \"showlakes\": true, \"showland\": true, \"subunitcolor\": \"white\"}, \"hovermode\": \"closest\", \"mapbox\": {\"style\": \"light\"}, \"paper_bgcolor\": \"white\", \"plot_bgcolor\": \"#E5ECF6\", \"polar\": {\"angularaxis\": {\"gridcolor\": \"white\", \"linecolor\": \"white\", \"ticks\": \"\"}, \"bgcolor\": \"#E5ECF6\", \"radialaxis\": {\"gridcolor\": \"white\", \"linecolor\": \"white\", \"ticks\": \"\"}}, \"scene\": {\"xaxis\": {\"backgroundcolor\": \"#E5ECF6\", \"gridcolor\": \"white\", \"gridwidth\": 2, \"linecolor\": \"white\", \"showbackground\": true, \"ticks\": \"\", \"zerolinecolor\": \"white\"}, \"yaxis\": {\"backgroundcolor\": \"#E5ECF6\", \"gridcolor\": \"white\", \"gridwidth\": 2, \"linecolor\": \"white\", \"showbackground\": true, \"ticks\": \"\", \"zerolinecolor\": \"white\"}, \"zaxis\": {\"backgroundcolor\": \"#E5ECF6\", \"gridcolor\": \"white\", \"gridwidth\": 2, \"linecolor\": \"white\", \"showbackground\": true, \"ticks\": \"\", \"zerolinecolor\": \"white\"}}, \"shapedefaults\": {\"fillcolor\": \"#506784\", \"line\": {\"width\": 0}, \"opacity\": 0.4}, \"ternary\": {\"aaxis\": {\"gridcolor\": \"white\", \"linecolor\": \"white\", \"ticks\": \"\"}, \"baxis\": {\"gridcolor\": \"white\", \"linecolor\": \"white\", \"ticks\": \"\"}, \"bgcolor\": \"#E5ECF6\", \"caxis\": {\"gridcolor\": \"white\", \"linecolor\": \"white\", \"ticks\": \"\"}}, \"title\": {\"x\": 0.05}, \"xaxis\": {\"automargin\": true, \"gridcolor\": \"white\", \"linecolor\": \"white\", \"ticks\": \"\", \"zerolinecolor\": \"white\", \"zerolinewidth\": 2}, \"yaxis\": {\"automargin\": true, \"gridcolor\": \"white\", \"linecolor\": \"white\", \"ticks\": \"\", \"zerolinecolor\": \"white\", \"zerolinewidth\": 2}}}, \"grid\": {\"xaxes\": [\"x\"], \"yaxes\": [\"y\"], \"xgap\": 0.1, \"ygap\": 0.1, \"xside\": \"bottom\", \"yside\": \"left\"}, \"xaxis\": {\"title\": {\"text\": \"Date\"}}, \"yaxis\": {\"title\": {\"text\": \"Total Deaths\"}}}, {\"showLink\": false, \"linkText\": \"Export to plot.ly\", \"plotlyServerURL\": \"https://plot.ly\"}); \n",
       "}\n",
       "});</script><script type=\"text/javascript\">window.addEventListener(\"resize\", function(){if (document.getElementById(\"825066d0-e79c-4bf1-a23a-de30cd46c46e\")) {window._Plotly.Plots.resize(document.getElementById(\"825066d0-e79c-4bf1-a23a-de30cd46c46e\"));};})</script>"
      ],
      "text/vnd.plotly.v1+html": [
       "<div id=\"825066d0-e79c-4bf1-a23a-de30cd46c46e\" style=\"height: 600px; width: 100%;\" class=\"plotly-graph-div\"></div><script type=\"text/javascript\">require([\"plotly\"], function(Plotly) { window.PLOTLYENV=window.PLOTLYENV || {};window.PLOTLYENV.BASE_URL=\"https://plot.ly\";\n",
       "if (document.getElementById(\"825066d0-e79c-4bf1-a23a-de30cd46c46e\")) {\n",
       "    Plotly.newPlot(\"825066d0-e79c-4bf1-a23a-de30cd46c46e\", [{\"hovertemplate\": \"Date=%{x}<br>Total Deaths=%{y}<extra></extra>\", \"legendgroup\": \"\", \"line\": {\"color\": \"#636efa\", \"dash\": \"solid\"}, \"mode\": \"lines\", \"name\": \"\", \"showlegend\": false, \"x\": [\"2013-12-01 05:00:00\", \"2013-12-08 05:00:00\", \"2013-12-15 05:00:00\", \"2013-12-22 05:00:00\", \"2013-12-29 05:00:00\", \"2014-01-05 05:00:00\", \"2014-01-12 05:00:00\", \"2014-01-19 05:00:00\", \"2014-01-26 05:00:00\", \"2014-02-02 05:00:00\", \"2014-02-09 05:00:00\", \"2014-02-16 05:00:00\", \"2014-02-23 05:00:00\", \"2014-03-02 05:00:00\", \"2014-03-09 05:00:00\", \"2014-03-16 04:00:00\", \"2014-03-23 04:00:00\", \"2014-03-30 04:00:00\", \"2014-04-06 04:00:00\", \"2014-04-13 04:00:00\", \"2014-04-20 04:00:00\", \"2014-04-27 04:00:00\", \"2014-05-04 04:00:00\", \"2014-05-11 04:00:00\", \"2014-05-18 04:00:00\", \"2014-05-25 04:00:00\", \"2014-06-01 04:00:00\", \"2014-06-08 04:00:00\", \"2014-06-15 04:00:00\", \"2014-06-22 04:00:00\", \"2014-06-29 04:00:00\", \"2014-07-06 04:00:00\", \"2014-07-13 04:00:00\", \"2014-07-20 04:00:00\", \"2014-07-27 04:00:00\", \"2014-08-03 04:00:00\", \"2014-08-10 04:00:00\", \"2014-08-17 04:00:00\", \"2014-08-24 04:00:00\", \"2014-08-31 04:00:00\", \"2014-09-07 04:00:00\", \"2014-09-14 04:00:00\", \"2014-09-21 04:00:00\", \"2014-09-28 04:00:00\", \"2014-10-05 04:00:00\", \"2014-10-12 04:00:00\", \"2014-10-19 04:00:00\", \"2014-10-26 04:00:00\", \"2014-11-02 04:00:00\", \"2014-11-09 05:00:00\", \"2014-11-16 05:00:00\", \"2014-11-23 05:00:00\", \"2014-11-30 05:00:00\", \"2014-12-07 05:00:00\", \"2014-12-14 05:00:00\", \"2014-12-21 05:00:00\", \"2014-12-28 05:00:00\", \"2015-01-04 05:00:00\", \"2015-01-11 05:00:00\", \"2015-01-18 05:00:00\", \"2015-01-25 05:00:00\", \"2015-02-01 05:00:00\", \"2015-02-08 05:00:00\", \"2015-02-15 05:00:00\", \"2015-02-22 05:00:00\", \"2015-03-01 05:00:00\", \"2015-03-08 05:00:00\", \"2015-03-15 04:00:00\", \"2015-03-22 04:00:00\", \"2015-03-29 04:00:00\", \"2015-04-05 04:00:00\", \"2015-04-12 04:00:00\", \"2015-04-19 04:00:00\", \"2015-04-26 04:00:00\", \"2015-05-03 04:00:00\", \"2015-05-10 04:00:00\", \"2015-05-17 04:00:00\", \"2015-05-24 04:00:00\", \"2015-05-31 04:00:00\", \"2015-06-07 04:00:00\", \"2015-06-14 04:00:00\", \"2015-06-21 04:00:00\", \"2015-06-28 04:00:00\", \"2015-07-05 04:00:00\", \"2015-07-12 04:00:00\", \"2015-07-19 04:00:00\", \"2015-07-26 04:00:00\", \"2015-08-02 04:00:00\", \"2015-08-09 04:00:00\", \"2015-08-16 04:00:00\", \"2015-08-23 04:00:00\", \"2015-08-30 04:00:00\", \"2015-09-06 04:00:00\", \"2015-09-13 04:00:00\", \"2015-09-20 04:00:00\", \"2015-09-27 04:00:00\", \"2015-10-04 04:00:00\", \"2015-10-11 04:00:00\", \"2015-10-18 04:00:00\", \"2015-10-25 04:00:00\", \"2015-11-01 04:00:00\", \"2015-11-08 05:00:00\", \"2015-11-15 05:00:00\", \"2015-11-22 05:00:00\", \"2015-11-29 05:00:00\", \"2015-12-06 05:00:00\", \"2015-12-13 05:00:00\", \"2015-12-20 05:00:00\", \"2015-12-27 05:00:00\", \"2016-01-03 05:00:00\", \"2016-01-10 05:00:00\", \"2016-01-17 05:00:00\", \"2016-01-24 05:00:00\", \"2016-01-31 05:00:00\", \"2016-02-07 05:00:00\", \"2016-02-14 05:00:00\", \"2016-02-21 05:00:00\", \"2016-02-28 05:00:00\", \"2016-03-06 05:00:00\", \"2016-03-13 05:00:00\", \"2016-03-20 04:00:00\", \"2016-03-27 04:00:00\", \"2016-04-03 04:00:00\", \"2016-04-10 04:00:00\", \"2016-04-17 04:00:00\", \"2016-04-24 04:00:00\", \"2016-05-01 04:00:00\", \"2016-05-08 04:00:00\", \"2016-05-15 04:00:00\", \"2016-05-22 04:00:00\", \"2016-05-29 04:00:00\", \"2016-06-05 04:00:00\", \"2016-06-12 04:00:00\", \"2016-06-19 04:00:00\", \"2016-06-26 04:00:00\", \"2016-07-03 04:00:00\", \"2016-07-10 04:00:00\", \"2016-07-17 04:00:00\", \"2016-07-24 04:00:00\", \"2016-07-31 04:00:00\", \"2016-08-07 04:00:00\", \"2016-08-14 04:00:00\", \"2016-08-21 04:00:00\", \"2016-08-28 04:00:00\", \"2016-09-04 04:00:00\", \"2016-09-11 04:00:00\", \"2016-09-18 04:00:00\", \"2016-09-25 04:00:00\", \"2016-10-02 04:00:00\", \"2016-10-09 04:00:00\", \"2016-10-16 04:00:00\", \"2016-10-23 04:00:00\", \"2016-10-30 04:00:00\", \"2016-11-06 04:00:00\", \"2016-11-13 05:00:00\", \"2016-11-20 05:00:00\", \"2016-11-27 05:00:00\", \"2016-12-04 05:00:00\", \"2016-12-11 05:00:00\", \"2016-12-18 05:00:00\", \"2016-12-25 05:00:00\", \"2017-01-01 05:00:00\", \"2017-01-08 05:00:00\", \"2017-01-15 05:00:00\", \"2017-01-22 05:00:00\", \"2017-01-29 05:00:00\", \"2017-02-05 05:00:00\", \"2017-02-12 05:00:00\", \"2017-02-19 05:00:00\", \"2017-02-26 05:00:00\", \"2017-03-05 05:00:00\", \"2017-03-12 05:00:00\", \"2017-03-19 04:00:00\", \"2017-03-26 04:00:00\", \"2017-04-02 04:00:00\", \"2017-04-09 04:00:00\", \"2017-04-16 04:00:00\", \"2017-04-23 04:00:00\", \"2017-04-30 04:00:00\", \"2017-05-07 04:00:00\", \"2017-05-14 04:00:00\", \"2017-05-21 04:00:00\", \"2017-05-28 04:00:00\", \"2017-06-04 04:00:00\", \"2017-06-11 04:00:00\", \"2017-06-18 04:00:00\", \"2017-06-25 04:00:00\", \"2017-07-02 04:00:00\", \"2017-07-09 04:00:00\", \"2017-07-16 04:00:00\", \"2017-07-23 04:00:00\", \"2017-07-30 04:00:00\", \"2017-08-06 04:00:00\", \"2017-08-13 04:00:00\", \"2017-08-20 04:00:00\", \"2017-08-27 04:00:00\", \"2017-09-03 04:00:00\", \"2017-09-10 04:00:00\", \"2017-09-17 04:00:00\", \"2017-09-24 04:00:00\", \"2017-10-01 04:00:00\", \"2017-10-08 04:00:00\", \"2017-10-15 04:00:00\", \"2017-10-22 04:00:00\", \"2017-10-29 04:00:00\", \"2017-11-05 04:00:00\", \"2017-11-12 05:00:00\", \"2017-11-19 05:00:00\", \"2017-11-26 05:00:00\", \"2017-12-03 05:00:00\", \"2017-12-10 05:00:00\", \"2017-12-17 05:00:00\", \"2017-12-24 05:00:00\", \"2017-12-31 05:00:00\", \"2018-01-07 05:00:00\", \"2018-01-14 05:00:00\", \"2018-01-21 05:00:00\", \"2018-01-28 05:00:00\", \"2018-02-04 05:00:00\", \"2018-02-11 05:00:00\", \"2018-02-18 05:00:00\", \"2018-02-25 05:00:00\", \"2018-03-04 05:00:00\", \"2018-03-11 05:00:00\", \"2018-03-18 04:00:00\", \"2018-03-25 04:00:00\", \"2018-04-01 04:00:00\", \"2018-04-08 04:00:00\", \"2018-04-15 04:00:00\", \"2018-04-22 04:00:00\", \"2018-04-29 04:00:00\", \"2018-05-06 04:00:00\", \"2018-05-13 04:00:00\", \"2018-05-20 04:00:00\", \"2018-05-27 04:00:00\", \"2018-06-03 04:00:00\", \"2018-06-10 04:00:00\", \"2018-06-17 04:00:00\", \"2018-06-24 04:00:00\", \"2018-07-01 04:00:00\", \"2018-07-08 04:00:00\", \"2018-07-15 04:00:00\", \"2018-07-22 04:00:00\", \"2018-07-29 04:00:00\", \"2018-08-05 04:00:00\", \"2018-08-12 04:00:00\", \"2018-08-19 04:00:00\", \"2018-08-26 04:00:00\", \"2018-09-02 04:00:00\", \"2018-09-09 04:00:00\", \"2018-09-16 04:00:00\", \"2018-09-23 04:00:00\", \"2018-09-30 04:00:00\", \"2018-10-07 04:00:00\", \"2018-10-14 04:00:00\", \"2018-10-21 04:00:00\", \"2018-10-28 04:00:00\", \"2018-11-04 04:00:00\", \"2018-11-11 05:00:00\", \"2018-11-18 05:00:00\", \"2018-11-25 05:00:00\", \"2018-12-02 05:00:00\", \"2018-12-09 05:00:00\", \"2018-12-16 05:00:00\", \"2018-12-23 05:00:00\", \"2018-12-30 05:00:00\", \"2019-01-06 05:00:00\", \"2019-01-13 05:00:00\", \"2019-01-20 05:00:00\", \"2019-01-27 05:00:00\", \"2019-02-03 05:00:00\", \"2019-02-10 05:00:00\", \"2019-02-17 05:00:00\", \"2019-02-24 05:00:00\", \"2019-03-03 05:00:00\", \"2019-03-10 05:00:00\", \"2019-03-17 04:00:00\", \"2019-03-24 04:00:00\", \"2019-03-31 04:00:00\"], \"xaxis\": \"x\", \"y\": [13.0, 0.0, 0.0, 0.0, 0.0, 0.0, 0.0, 0.0, 0.0, 0.0, 0.0, 0.0, 0.0, 0.0, 0.0, 0.0, 0.0, 0.0, 0.0, 0.0, 0.0, 0.0, 0.0, 0.0, 0.0, 0.0, 0.0, 0.0, 0.0, 0.0, 0.0, 0.0, 0.0, 0.0, 0.0, 0.0, 0.0, 0.0, 0.0, 0.0, 0.0, 0.0, 0.0, 0.0, 0.0, 0.0, 0.0, 0.0, 0.0, 0.0, 0.0, 0.0, 8.0, 0.0, 0.0, 0.0, 0.0, 0.0, 0.0, 0.0, 0.0, 0.0, 0.0, 0.0, 0.0, 0.0, 0.0, 0.0, 0.0, 0.0, 0.0, 0.0, 0.0, 0.0, 0.0, 0.0, 0.0, 0.0, 0.0, 0.0, 0.0, 0.0, 0.0, 0.0, 0.0, 0.0, 0.0, 0.0, 0.0, 0.0, 0.0, 0.0, 0.0, 0.0, 0.0, 0.0, 0.0, 0.0, 0.0, 0.0, 0.0, 0.0, 0.0, 0.0, 0.0, 0.0, 0.0, 0.0, 0.0, 0.0, 0.0, 0.0, 0.0, 0.0, 0.0, 0.0, 0.0, 0.0, 0.0, 0.0, 0.0, 0.0, 0.0, 4.0, 0.0, 0.0, 0.0, 20.0, 0.0, 0.0, 0.0, 0.0, 0.0, 0.0, 23.0, 3.0, 0.0, 11.0, 0.0, 0.0, 0.0, 0.0, 0.0, 20.0, 2.0, 0.0, 7.0, 2.0, 0.0, 0.0, 0.0, 4.0, 0.0, 0.0, 0.0, 0.0, 0.0, 0.0, 0.0, 0.0, 0.0, 0.0, 0.0, 0.0, 0.0, 0.0, 0.0, 0.0, 0.0, 0.0, 0.0, 0.0, 0.0, 0.0, 0.0, 0.0, 0.0, 0.0, 0.0, 0.0, 1.0, 0.0, 0.0, 0.0, 0.0, 0.0, 0.0, 0.0, 0.0, 0.0, 0.0, 0.0, 0.0, 0.0, 0.0, 0.0, 0.0, 0.0, 0.0, 2.0, 0.0, 0.0, 0.0, 0.0, 5.0, 0.0, 0.0, 0.0, 0.0, 0.0, 0.0, 0.0, 0.0, 0.0, 1.0, 0.0, 0.0, 0.0, 0.0, 0.0, 0.0, 1.0, 0.0, 0.0, 0.0, 0.0, 36.0, 23.0, 0.0, 0.0, 0.0, 0.0, 8.0, 1.0, 0.0, 1.0, 5.0, 0.0, 20.0, 0.0, 0.0, 1.0, 0.0, 0.0, 30.0, 30.0, 0.0, 35.0, 0.0, 0.0, 0.0, 0.0, 0.0, 0.0, 0.0, 0.0, 0.0, 0.0, 0.0, 0.0, 0.0, 120.0, 0.0, 8.0, 0.0, 5.0, 40.0, 0.0, 62.0, 0.0, 42.0, 0.0, 43.0, 0.0, 19.0, 20.0, 59.0, 0.0, 8.0], \"yaxis\": \"y\", \"type\": \"scatter\", \"uid\": \"1a7641cd-ad9d-4b6e-b9a5-59cfe5c7c790\"}], {\"height\": 600, \"legend\": {\"tracegroupgap\": 0}, \"margin\": {\"t\": 60}, \"template\": {\"data\": {\"barpolar\": [{\"marker\": {\"line\": {\"color\": \"#E5ECF6\", \"width\": 0.5}}, \"type\": \"barpolar\"}], \"bar\": [{\"marker\": {\"line\": {\"color\": \"#E5ECF6\", \"width\": 0.5}}, \"type\": \"bar\"}], \"carpet\": [{\"aaxis\": {\"endlinecolor\": \"#2a3f5f\", \"gridcolor\": \"white\", \"linecolor\": \"white\", \"minorgridcolor\": \"white\", \"startlinecolor\": \"#2a3f5f\"}, \"baxis\": {\"endlinecolor\": \"#2a3f5f\", \"gridcolor\": \"white\", \"linecolor\": \"white\", \"minorgridcolor\": \"white\", \"startlinecolor\": \"#2a3f5f\"}, \"type\": \"carpet\"}], \"choropleth\": [{\"colorbar\": {\"outlinewidth\": 0, \"ticks\": \"\"}, \"type\": \"choropleth\"}], \"contourcarpet\": [{\"colorbar\": {\"outlinewidth\": 0, \"ticks\": \"\"}, \"type\": \"contourcarpet\"}], \"contour\": [{\"autocolorscale\": true, \"colorbar\": {\"outlinewidth\": 0, \"ticks\": \"\"}, \"type\": \"contour\"}], \"heatmapgl\": [{\"colorbar\": {\"outlinewidth\": 0, \"ticks\": \"\"}, \"type\": \"heatmapgl\"}], \"heatmap\": [{\"autocolorscale\": true, \"colorbar\": {\"outlinewidth\": 0, \"ticks\": \"\"}, \"type\": \"heatmap\"}], \"histogram2dcontour\": [{\"autocolorscale\": true, \"colorbar\": {\"outlinewidth\": 0, \"ticks\": \"\"}, \"type\": \"histogram2dcontour\"}], \"histogram2d\": [{\"autocolorscale\": true, \"colorbar\": {\"outlinewidth\": 0, \"ticks\": \"\"}, \"type\": \"histogram2d\"}], \"histogram\": [{\"marker\": {\"colorbar\": {\"outlinewidth\": 0, \"ticks\": \"\"}}, \"type\": \"histogram\"}], \"mesh3d\": [{\"colorbar\": {\"outlinewidth\": 0, \"ticks\": \"\"}, \"type\": \"mesh3d\"}], \"parcoords\": [{\"line\": {\"colorbar\": {\"outlinewidth\": 0, \"ticks\": \"\"}}, \"type\": \"parcoords\"}], \"scatter3d\": [{\"marker\": {\"colorbar\": {\"outlinewidth\": 0, \"ticks\": \"\"}}, \"type\": \"scatter3d\"}], \"scattercarpet\": [{\"marker\": {\"colorbar\": {\"outlinewidth\": 0, \"ticks\": \"\"}}, \"type\": \"scattercarpet\"}], \"scattergeo\": [{\"marker\": {\"colorbar\": {\"outlinewidth\": 0, \"ticks\": \"\"}}, \"type\": \"scattergeo\"}], \"scattergl\": [{\"marker\": {\"colorbar\": {\"outlinewidth\": 0, \"ticks\": \"\"}}, \"type\": \"scattergl\"}], \"scattermapbox\": [{\"marker\": {\"colorbar\": {\"outlinewidth\": 0, \"ticks\": \"\"}}, \"type\": \"scattermapbox\"}], \"scatterpolargl\": [{\"marker\": {\"colorbar\": {\"outlinewidth\": 0, \"ticks\": \"\"}}, \"type\": \"scatterpolargl\"}], \"scatterpolar\": [{\"marker\": {\"colorbar\": {\"outlinewidth\": 0, \"ticks\": \"\"}}, \"type\": \"scatterpolar\"}], \"scatter\": [{\"marker\": {\"colorbar\": {\"outlinewidth\": 0, \"ticks\": \"\"}}, \"type\": \"scatter\"}], \"scatterternary\": [{\"marker\": {\"colorbar\": {\"outlinewidth\": 0, \"ticks\": \"\"}}, \"type\": \"scatterternary\"}], \"surface\": [{\"colorbar\": {\"outlinewidth\": 0, \"ticks\": \"\"}, \"type\": \"surface\"}], \"table\": [{\"cells\": {\"fill\": {\"color\": \"#EBF0F8\"}, \"line\": {\"color\": \"white\"}}, \"header\": {\"fill\": {\"color\": \"#C8D4E3\"}, \"line\": {\"color\": \"white\"}}, \"type\": \"table\"}]}, \"layout\": {\"annotationdefaults\": {\"arrowcolor\": \"#506784\", \"arrowhead\": 0, \"arrowwidth\": 1}, \"colorscale\": {\"diverging\": [[0, \"#8e0152\"], [0.1, \"#c51b7d\"], [0.2, \"#de77ae\"], [0.3, \"#f1b6da\"], [0.4, \"#fde0ef\"], [0.5, \"#f7f7f7\"], [0.6, \"#e6f5d0\"], [0.7, \"#b8e186\"], [0.8, \"#7fbc41\"], [0.9, \"#4d9221\"], [1, \"#276419\"]], \"sequential\": [[0.0, \"#0508b8\"], [0.0893854748603352, \"#1910d8\"], [0.1787709497206704, \"#3c19f0\"], [0.2681564245810056, \"#6b1cfb\"], [0.3575418994413408, \"#981cfd\"], [0.44692737430167595, \"#bf1cfd\"], [0.5363128491620112, \"#dd2bfd\"], [0.6256983240223464, \"#f246fe\"], [0.7150837988826816, \"#fc67fd\"], [0.8044692737430168, \"#fe88fc\"], [0.8938547486033519, \"#fea5fd\"], [0.9832402234636871, \"#febefe\"], [1.0, \"#fec3fe\"]], \"sequentialminus\": [[0.0, \"#0508b8\"], [0.0893854748603352, \"#1910d8\"], [0.1787709497206704, \"#3c19f0\"], [0.2681564245810056, \"#6b1cfb\"], [0.3575418994413408, \"#981cfd\"], [0.44692737430167595, \"#bf1cfd\"], [0.5363128491620112, \"#dd2bfd\"], [0.6256983240223464, \"#f246fe\"], [0.7150837988826816, \"#fc67fd\"], [0.8044692737430168, \"#fe88fc\"], [0.8938547486033519, \"#fea5fd\"], [0.9832402234636871, \"#febefe\"], [1.0, \"#fec3fe\"]]}, \"colorway\": [\"#636efa\", \"#EF553B\", \"#00cc96\", \"#ab63fa\", \"#19d3f3\", \"#e763fa\", \"#FECB52\", \"#FFA15A\", \"#FF6692\", \"#B6E880\"], \"font\": {\"color\": \"#2a3f5f\"}, \"geo\": {\"bgcolor\": \"white\", \"lakecolor\": \"white\", \"landcolor\": \"#E5ECF6\", \"showlakes\": true, \"showland\": true, \"subunitcolor\": \"white\"}, \"hovermode\": \"closest\", \"mapbox\": {\"style\": \"light\"}, \"paper_bgcolor\": \"white\", \"plot_bgcolor\": \"#E5ECF6\", \"polar\": {\"angularaxis\": {\"gridcolor\": \"white\", \"linecolor\": \"white\", \"ticks\": \"\"}, \"bgcolor\": \"#E5ECF6\", \"radialaxis\": {\"gridcolor\": \"white\", \"linecolor\": \"white\", \"ticks\": \"\"}}, \"scene\": {\"xaxis\": {\"backgroundcolor\": \"#E5ECF6\", \"gridcolor\": \"white\", \"gridwidth\": 2, \"linecolor\": \"white\", \"showbackground\": true, \"ticks\": \"\", \"zerolinecolor\": \"white\"}, \"yaxis\": {\"backgroundcolor\": \"#E5ECF6\", \"gridcolor\": \"white\", \"gridwidth\": 2, \"linecolor\": \"white\", \"showbackground\": true, \"ticks\": \"\", \"zerolinecolor\": \"white\"}, \"zaxis\": {\"backgroundcolor\": \"#E5ECF6\", \"gridcolor\": \"white\", \"gridwidth\": 2, \"linecolor\": \"white\", \"showbackground\": true, \"ticks\": \"\", \"zerolinecolor\": \"white\"}}, \"shapedefaults\": {\"fillcolor\": \"#506784\", \"line\": {\"width\": 0}, \"opacity\": 0.4}, \"ternary\": {\"aaxis\": {\"gridcolor\": \"white\", \"linecolor\": \"white\", \"ticks\": \"\"}, \"baxis\": {\"gridcolor\": \"white\", \"linecolor\": \"white\", \"ticks\": \"\"}, \"bgcolor\": \"#E5ECF6\", \"caxis\": {\"gridcolor\": \"white\", \"linecolor\": \"white\", \"ticks\": \"\"}}, \"title\": {\"x\": 0.05}, \"xaxis\": {\"automargin\": true, \"gridcolor\": \"white\", \"linecolor\": \"white\", \"ticks\": \"\", \"zerolinecolor\": \"white\", \"zerolinewidth\": 2}, \"yaxis\": {\"automargin\": true, \"gridcolor\": \"white\", \"linecolor\": \"white\", \"ticks\": \"\", \"zerolinecolor\": \"white\", \"zerolinewidth\": 2}}}, \"grid\": {\"xaxes\": [\"x\"], \"yaxes\": [\"y\"], \"xgap\": 0.1, \"ygap\": 0.1, \"xside\": \"bottom\", \"yside\": \"left\"}, \"xaxis\": {\"title\": {\"text\": \"Date\"}}, \"yaxis\": {\"title\": {\"text\": \"Total Deaths\"}}}, {\"showLink\": false, \"linkText\": \"Export to plot.ly\", \"plotlyServerURL\": \"https://plot.ly\"}); \n",
       "}\n",
       "});</script><script type=\"text/javascript\">window.addEventListener(\"resize\", function(){if (document.getElementById(\"825066d0-e79c-4bf1-a23a-de30cd46c46e\")) {window._Plotly.Plots.resize(document.getElementById(\"825066d0-e79c-4bf1-a23a-de30cd46c46e\"));};})</script>"
      ]
     },
     "metadata": {},
     "output_type": "display_data"
    }
   ],
   "source": [
    "px.line(state_zam, x='Date', y='Total Deaths')"
   ]
  },
  {
   "cell_type": "code",
   "execution_count": 67,
   "metadata": {},
   "outputs": [
    {
     "data": {
      "text/html": [
       "<div>\n",
       "<style scoped>\n",
       "    .dataframe tbody tr th:only-of-type {\n",
       "        vertical-align: middle;\n",
       "    }\n",
       "\n",
       "    .dataframe tbody tr th {\n",
       "        vertical-align: top;\n",
       "    }\n",
       "\n",
       "    .dataframe thead th {\n",
       "        text-align: right;\n",
       "    }\n",
       "</style>\n",
       "<table border=\"1\" class=\"dataframe\">\n",
       "  <thead>\n",
       "    <tr style=\"text-align: right;\">\n",
       "      <th></th>\n",
       "      <th>Title</th>\n",
       "      <th>Date</th>\n",
       "      <th>Community (city,town, ward)</th>\n",
       "      <th>LGA</th>\n",
       "      <th>State</th>\n",
       "      <th>Total Deaths</th>\n",
       "      <th>Boko Haram (P)</th>\n",
       "      <th>State Actor (P)</th>\n",
       "      <th>Sectarian Actor (excluding BH) (P)</th>\n",
       "      <th>Other Armed Actor (P)</th>\n",
       "      <th>Kidnapper (P)</th>\n",
       "      <th>Robber (P)</th>\n",
       "      <th>Other (P)</th>\n",
       "      <th>Election-related Actor (P)</th>\n",
       "      <th>Cameroon State Actor (P)</th>\n",
       "      <th>Boko Haram (V)</th>\n",
       "      <th>State Actor (V)</th>\n",
       "      <th>Sectarian Actor (V)</th>\n",
       "      <th>Other Armed Actor (V)</th>\n",
       "      <th>Political Actor (V)</th>\n",
       "      <th>Kidnapper (V)</th>\n",
       "      <th>Kidnapee (V)</th>\n",
       "      <th>Robber (V)</th>\n",
       "      <th>Journalist (V)</th>\n",
       "      <th>Civilian (V)</th>\n",
       "      <th>Election-related Actor (V)</th>\n",
       "      <th>Cameroon State Actor</th>\n",
       "      <th>Bomb</th>\n",
       "      <th>Gun</th>\n",
       "      <th>Machete</th>\n",
       "      <th>Suicide Bombing</th>\n",
       "      <th>Other Weapon</th>\n",
       "      <th>TK</th>\n",
       "      <th>Drinking Establishment</th>\n",
       "      <th>Goverment Building</th>\n",
       "      <th>Church</th>\n",
       "      <th>Mosque</th>\n",
       "      <th>Bank</th>\n",
       "      <th>School</th>\n",
       "      <th>Other Location</th>\n",
       "      <th>Notes</th>\n",
       "      <th>Sources 1</th>\n",
       "      <th>Sources 2</th>\n",
       "      <th>Sources 3</th>\n",
       "      <th>Latitude</th>\n",
       "      <th>Longitude</th>\n",
       "      <th>full place name</th>\n",
       "    </tr>\n",
       "    <tr>\n",
       "      <th>Date</th>\n",
       "      <th></th>\n",
       "      <th></th>\n",
       "      <th></th>\n",
       "      <th></th>\n",
       "      <th></th>\n",
       "      <th></th>\n",
       "      <th></th>\n",
       "      <th></th>\n",
       "      <th></th>\n",
       "      <th></th>\n",
       "      <th></th>\n",
       "      <th></th>\n",
       "      <th></th>\n",
       "      <th></th>\n",
       "      <th></th>\n",
       "      <th></th>\n",
       "      <th></th>\n",
       "      <th></th>\n",
       "      <th></th>\n",
       "      <th></th>\n",
       "      <th></th>\n",
       "      <th></th>\n",
       "      <th></th>\n",
       "      <th></th>\n",
       "      <th></th>\n",
       "      <th></th>\n",
       "      <th></th>\n",
       "      <th></th>\n",
       "      <th></th>\n",
       "      <th></th>\n",
       "      <th></th>\n",
       "      <th></th>\n",
       "      <th></th>\n",
       "      <th></th>\n",
       "      <th></th>\n",
       "      <th></th>\n",
       "      <th></th>\n",
       "      <th></th>\n",
       "      <th></th>\n",
       "      <th></th>\n",
       "      <th></th>\n",
       "      <th></th>\n",
       "      <th></th>\n",
       "      <th></th>\n",
       "      <th></th>\n",
       "      <th></th>\n",
       "      <th></th>\n",
       "    </tr>\n",
       "  </thead>\n",
       "  <tbody>\n",
       "    <tr>\n",
       "      <th>2011-10-02</th>\n",
       "      <td>Attacks in Zamfara Leave Nineteen Dead</td>\n",
       "      <td>10/2/2011</td>\n",
       "      <td>Lingyado</td>\n",
       "      <td>NaN</td>\n",
       "      <td>Zamfara</td>\n",
       "      <td>19.0</td>\n",
       "      <td>NaN</td>\n",
       "      <td>NaN</td>\n",
       "      <td>NaN</td>\n",
       "      <td>NaN</td>\n",
       "      <td>NaN</td>\n",
       "      <td>NaN</td>\n",
       "      <td>NaN</td>\n",
       "      <td>NaN</td>\n",
       "      <td>NaN</td>\n",
       "      <td>NaN</td>\n",
       "      <td>NaN</td>\n",
       "      <td>NaN</td>\n",
       "      <td>NaN</td>\n",
       "      <td>NaN</td>\n",
       "      <td>NaN</td>\n",
       "      <td>NaN</td>\n",
       "      <td>NaN</td>\n",
       "      <td>NaN</td>\n",
       "      <td>NaN</td>\n",
       "      <td>NaN</td>\n",
       "      <td>NaN</td>\n",
       "      <td>NaN</td>\n",
       "      <td>Gun</td>\n",
       "      <td>NaN</td>\n",
       "      <td>NaN</td>\n",
       "      <td>NaN</td>\n",
       "      <td>NaN</td>\n",
       "      <td>NaN</td>\n",
       "      <td>NaN</td>\n",
       "      <td>NaN</td>\n",
       "      <td>NaN</td>\n",
       "      <td>NaN</td>\n",
       "      <td>NaN</td>\n",
       "      <td>NaN</td>\n",
       "      <td>NaN</td>\n",
       "      <td>http://news.yahoo.com/19-killed-communal-clash...</td>\n",
       "      <td>http://allafrica.com/stories/201110030310.html</td>\n",
       "      <td>NaN</td>\n",
       "      <td>NaN</td>\n",
       "      <td>NaN</td>\n",
       "      <td>, Zamfara, Nigeria</td>\n",
       "    </tr>\n",
       "    <tr>\n",
       "      <th>2012-02-06</th>\n",
       "      <td>Gunmen Assassinate Businessman in Zamfara</td>\n",
       "      <td>2/6/2012</td>\n",
       "      <td>Gusau Road</td>\n",
       "      <td>Maru</td>\n",
       "      <td>Zamfara</td>\n",
       "      <td>1.0</td>\n",
       "      <td>NaN</td>\n",
       "      <td>NaN</td>\n",
       "      <td>NaN</td>\n",
       "      <td>Other Armed Actor</td>\n",
       "      <td>NaN</td>\n",
       "      <td>NaN</td>\n",
       "      <td>NaN</td>\n",
       "      <td>NaN</td>\n",
       "      <td>NaN</td>\n",
       "      <td>NaN</td>\n",
       "      <td>NaN</td>\n",
       "      <td>NaN</td>\n",
       "      <td>NaN</td>\n",
       "      <td>NaN</td>\n",
       "      <td>NaN</td>\n",
       "      <td>NaN</td>\n",
       "      <td>NaN</td>\n",
       "      <td>NaN</td>\n",
       "      <td>1.0</td>\n",
       "      <td>NaN</td>\n",
       "      <td>NaN</td>\n",
       "      <td>NaN</td>\n",
       "      <td>Gun</td>\n",
       "      <td>NaN</td>\n",
       "      <td>NaN</td>\n",
       "      <td>NaN</td>\n",
       "      <td>Targeted Killing</td>\n",
       "      <td>NaN</td>\n",
       "      <td>NaN</td>\n",
       "      <td>NaN</td>\n",
       "      <td>NaN</td>\n",
       "      <td>NaN</td>\n",
       "      <td>NaN</td>\n",
       "      <td>Other</td>\n",
       "      <td>one report</td>\n",
       "      <td>http://allafrica.com/stories/201202080505.html</td>\n",
       "      <td>NaN</td>\n",
       "      <td>NaN</td>\n",
       "      <td>NaN</td>\n",
       "      <td>NaN</td>\n",
       "      <td>Maru, Zamfara, Nigeria</td>\n",
       "    </tr>\n",
       "  </tbody>\n",
       "</table>\n",
       "</div>"
      ],
      "text/plain": [
       "                                                Title       Date  \\\n",
       "Date                                                               \n",
       "2011-10-02     Attacks in Zamfara Leave Nineteen Dead  10/2/2011   \n",
       "2012-02-06  Gunmen Assassinate Businessman in Zamfara   2/6/2012   \n",
       "\n",
       "           Community (city,town, ward)   LGA    State  Total Deaths  \\\n",
       "Date                                                                  \n",
       "2011-10-02                    Lingyado   NaN  Zamfara          19.0   \n",
       "2012-02-06                  Gusau Road  Maru  Zamfara           1.0   \n",
       "\n",
       "           Boko Haram (P) State Actor (P) Sectarian Actor (excluding BH) (P)  \\\n",
       "Date                                                                           \n",
       "2011-10-02            NaN             NaN                                NaN   \n",
       "2012-02-06            NaN             NaN                                NaN   \n",
       "\n",
       "           Other Armed Actor (P) Kidnapper (P) Robber (P) Other (P)  \\\n",
       "Date                                                                  \n",
       "2011-10-02                   NaN           NaN        NaN       NaN   \n",
       "2012-02-06     Other Armed Actor           NaN        NaN       NaN   \n",
       "\n",
       "           Election-related Actor (P)  Cameroon State Actor (P)  \\\n",
       "Date                                                              \n",
       "2011-10-02                        NaN                       NaN   \n",
       "2012-02-06                        NaN                       NaN   \n",
       "\n",
       "            Boko Haram (V)  State Actor (V)  Sectarian Actor (V)  \\\n",
       "Date                                                               \n",
       "2011-10-02             NaN              NaN                  NaN   \n",
       "2012-02-06             NaN              NaN                  NaN   \n",
       "\n",
       "            Other Armed Actor (V)  Political Actor (V)  Kidnapper (V)  \\\n",
       "Date                                                                    \n",
       "2011-10-02                    NaN                  NaN            NaN   \n",
       "2012-02-06                    NaN                  NaN            NaN   \n",
       "\n",
       "            Kidnapee (V)  Robber (V)  Journalist (V)  Civilian (V)  \\\n",
       "Date                                                                 \n",
       "2011-10-02           NaN         NaN             NaN           NaN   \n",
       "2012-02-06           NaN         NaN             NaN           1.0   \n",
       "\n",
       "            Election-related Actor (V)  Cameroon State Actor Bomb  Gun  \\\n",
       "Date                                                                     \n",
       "2011-10-02                         NaN                   NaN  NaN  Gun   \n",
       "2012-02-06                         NaN                   NaN  NaN  Gun   \n",
       "\n",
       "           Machete Suicide Bombing Other Weapon                TK  \\\n",
       "Date                                                                \n",
       "2011-10-02     NaN             NaN          NaN               NaN   \n",
       "2012-02-06     NaN             NaN          NaN  Targeted Killing   \n",
       "\n",
       "           Drinking Establishment Goverment Building Church Mosque Bank  \\\n",
       "Date                                                                      \n",
       "2011-10-02                    NaN                NaN    NaN    NaN  NaN   \n",
       "2012-02-06                    NaN                NaN    NaN    NaN  NaN   \n",
       "\n",
       "           School Other Location       Notes  \\\n",
       "Date                                           \n",
       "2011-10-02    NaN            NaN         NaN   \n",
       "2012-02-06    NaN          Other  one report   \n",
       "\n",
       "                                                    Sources 1  \\\n",
       "Date                                                            \n",
       "2011-10-02  http://news.yahoo.com/19-killed-communal-clash...   \n",
       "2012-02-06     http://allafrica.com/stories/201202080505.html   \n",
       "\n",
       "                                                 Sources 2 Sources 3 Latitude  \\\n",
       "Date                                                                            \n",
       "2011-10-02  http://allafrica.com/stories/201110030310.html       NaN      NaN   \n",
       "2012-02-06                                             NaN       NaN      NaN   \n",
       "\n",
       "           Longitude         full place name  \n",
       "Date                                          \n",
       "2011-10-02       NaN      , Zamfara, Nigeria  \n",
       "2012-02-06       NaN  Maru, Zamfara, Nigeria  "
      ]
     },
     "execution_count": 67,
     "metadata": {},
     "output_type": "execute_result"
    }
   ],
   "source": [
    "zam.head(2)"
   ]
  },
  {
   "cell_type": "code",
   "execution_count": 79,
   "metadata": {},
   "outputs": [
    {
     "data": {
      "application/vnd.plotly.v1+json": {
       "config": {
        "linkText": "Export to plot.ly",
        "plotlyServerURL": "https://plot.ly",
        "showLink": false
       },
       "data": [
        {
         "hovertemplate": "Date=%{x}<br>State Actor (V)=%{y}<extra></extra>",
         "legendgroup": "",
         "line": {
          "color": "#636efa",
          "dash": "solid"
         },
         "mode": "lines",
         "name": "",
         "showlegend": false,
         "type": "scatter",
         "uid": "4bc467fd-70b0-4a7d-9229-da11e51ef142",
         "x": [
          "6/10/2012",
          "11/14/2013",
          "2/9/2014",
          "1/15/2016",
          "11/18/2016",
          "11/19/2016",
          "9/21/2017",
          "10/27/2017",
          "4/4/2018",
          "7/28/2018",
          "10/26/2018",
          "11/29/2018",
          "1/20/2019",
          "2/14/2019",
          "3/11/2019",
          "3/20/2019"
         ],
         "xaxis": "x",
         "y": [
          1,
          0,
          1,
          0,
          2,
          2,
          1,
          0,
          2,
          0,
          1,
          16,
          2,
          6,
          3,
          1
         ],
         "yaxis": "y"
        }
       ],
       "layout": {
        "autosize": true,
        "grid": {
         "xaxes": [
          "x"
         ],
         "xgap": 0.1,
         "xside": "bottom",
         "yaxes": [
          "y"
         ],
         "ygap": 0.1,
         "yside": "left"
        },
        "legend": {
         "tracegroupgap": 0
        },
        "margin": {
         "t": 60
        },
        "template": {
         "data": {
          "bar": [
           {
            "marker": {
             "line": {
              "color": "#E5ECF6",
              "width": 0.5
             }
            },
            "type": "bar"
           }
          ],
          "barpolar": [
           {
            "marker": {
             "line": {
              "color": "#E5ECF6",
              "width": 0.5
             }
            },
            "type": "barpolar"
           }
          ],
          "carpet": [
           {
            "aaxis": {
             "endlinecolor": "#2a3f5f",
             "gridcolor": "white",
             "linecolor": "white",
             "minorgridcolor": "white",
             "startlinecolor": "#2a3f5f"
            },
            "baxis": {
             "endlinecolor": "#2a3f5f",
             "gridcolor": "white",
             "linecolor": "white",
             "minorgridcolor": "white",
             "startlinecolor": "#2a3f5f"
            },
            "type": "carpet"
           }
          ],
          "choropleth": [
           {
            "colorbar": {
             "outlinewidth": 0,
             "ticks": ""
            },
            "type": "choropleth"
           }
          ],
          "contour": [
           {
            "autocolorscale": true,
            "colorbar": {
             "outlinewidth": 0,
             "ticks": ""
            },
            "type": "contour"
           }
          ],
          "contourcarpet": [
           {
            "colorbar": {
             "outlinewidth": 0,
             "ticks": ""
            },
            "type": "contourcarpet"
           }
          ],
          "heatmap": [
           {
            "autocolorscale": true,
            "colorbar": {
             "outlinewidth": 0,
             "ticks": ""
            },
            "type": "heatmap"
           }
          ],
          "heatmapgl": [
           {
            "colorbar": {
             "outlinewidth": 0,
             "ticks": ""
            },
            "type": "heatmapgl"
           }
          ],
          "histogram": [
           {
            "marker": {
             "colorbar": {
              "outlinewidth": 0,
              "ticks": ""
             }
            },
            "type": "histogram"
           }
          ],
          "histogram2d": [
           {
            "autocolorscale": true,
            "colorbar": {
             "outlinewidth": 0,
             "ticks": ""
            },
            "type": "histogram2d"
           }
          ],
          "histogram2dcontour": [
           {
            "autocolorscale": true,
            "colorbar": {
             "outlinewidth": 0,
             "ticks": ""
            },
            "type": "histogram2dcontour"
           }
          ],
          "mesh3d": [
           {
            "colorbar": {
             "outlinewidth": 0,
             "ticks": ""
            },
            "type": "mesh3d"
           }
          ],
          "parcoords": [
           {
            "line": {
             "colorbar": {
              "outlinewidth": 0,
              "ticks": ""
             }
            },
            "type": "parcoords"
           }
          ],
          "scatter": [
           {
            "marker": {
             "colorbar": {
              "outlinewidth": 0,
              "ticks": ""
             }
            },
            "type": "scatter"
           }
          ],
          "scatter3d": [
           {
            "marker": {
             "colorbar": {
              "outlinewidth": 0,
              "ticks": ""
             }
            },
            "type": "scatter3d"
           }
          ],
          "scattercarpet": [
           {
            "marker": {
             "colorbar": {
              "outlinewidth": 0,
              "ticks": ""
             }
            },
            "type": "scattercarpet"
           }
          ],
          "scattergeo": [
           {
            "marker": {
             "colorbar": {
              "outlinewidth": 0,
              "ticks": ""
             }
            },
            "type": "scattergeo"
           }
          ],
          "scattergl": [
           {
            "marker": {
             "colorbar": {
              "outlinewidth": 0,
              "ticks": ""
             }
            },
            "type": "scattergl"
           }
          ],
          "scattermapbox": [
           {
            "marker": {
             "colorbar": {
              "outlinewidth": 0,
              "ticks": ""
             }
            },
            "type": "scattermapbox"
           }
          ],
          "scatterpolar": [
           {
            "marker": {
             "colorbar": {
              "outlinewidth": 0,
              "ticks": ""
             }
            },
            "type": "scatterpolar"
           }
          ],
          "scatterpolargl": [
           {
            "marker": {
             "colorbar": {
              "outlinewidth": 0,
              "ticks": ""
             }
            },
            "type": "scatterpolargl"
           }
          ],
          "scatterternary": [
           {
            "marker": {
             "colorbar": {
              "outlinewidth": 0,
              "ticks": ""
             }
            },
            "type": "scatterternary"
           }
          ],
          "surface": [
           {
            "colorbar": {
             "outlinewidth": 0,
             "ticks": ""
            },
            "type": "surface"
           }
          ],
          "table": [
           {
            "cells": {
             "fill": {
              "color": "#EBF0F8"
             },
             "line": {
              "color": "white"
             }
            },
            "header": {
             "fill": {
              "color": "#C8D4E3"
             },
             "line": {
              "color": "white"
             }
            },
            "type": "table"
           }
          ]
         },
         "layout": {
          "annotationdefaults": {
           "arrowcolor": "#506784",
           "arrowhead": 0,
           "arrowwidth": 1
          },
          "colorscale": {
           "diverging": [
            [
             0,
             "#8e0152"
            ],
            [
             0.1,
             "#c51b7d"
            ],
            [
             0.2,
             "#de77ae"
            ],
            [
             0.3,
             "#f1b6da"
            ],
            [
             0.4,
             "#fde0ef"
            ],
            [
             0.5,
             "#f7f7f7"
            ],
            [
             0.6,
             "#e6f5d0"
            ],
            [
             0.7,
             "#b8e186"
            ],
            [
             0.8,
             "#7fbc41"
            ],
            [
             0.9,
             "#4d9221"
            ],
            [
             1,
             "#276419"
            ]
           ],
           "sequential": [
            [
             0,
             "#0508b8"
            ],
            [
             0.0893854748603352,
             "#1910d8"
            ],
            [
             0.1787709497206704,
             "#3c19f0"
            ],
            [
             0.2681564245810056,
             "#6b1cfb"
            ],
            [
             0.3575418994413408,
             "#981cfd"
            ],
            [
             0.44692737430167595,
             "#bf1cfd"
            ],
            [
             0.5363128491620112,
             "#dd2bfd"
            ],
            [
             0.6256983240223464,
             "#f246fe"
            ],
            [
             0.7150837988826816,
             "#fc67fd"
            ],
            [
             0.8044692737430168,
             "#fe88fc"
            ],
            [
             0.8938547486033519,
             "#fea5fd"
            ],
            [
             0.9832402234636871,
             "#febefe"
            ],
            [
             1,
             "#fec3fe"
            ]
           ],
           "sequentialminus": [
            [
             0,
             "#0508b8"
            ],
            [
             0.0893854748603352,
             "#1910d8"
            ],
            [
             0.1787709497206704,
             "#3c19f0"
            ],
            [
             0.2681564245810056,
             "#6b1cfb"
            ],
            [
             0.3575418994413408,
             "#981cfd"
            ],
            [
             0.44692737430167595,
             "#bf1cfd"
            ],
            [
             0.5363128491620112,
             "#dd2bfd"
            ],
            [
             0.6256983240223464,
             "#f246fe"
            ],
            [
             0.7150837988826816,
             "#fc67fd"
            ],
            [
             0.8044692737430168,
             "#fe88fc"
            ],
            [
             0.8938547486033519,
             "#fea5fd"
            ],
            [
             0.9832402234636871,
             "#febefe"
            ],
            [
             1,
             "#fec3fe"
            ]
           ]
          },
          "colorway": [
           "#636efa",
           "#EF553B",
           "#00cc96",
           "#ab63fa",
           "#19d3f3",
           "#e763fa",
           "#FECB52",
           "#FFA15A",
           "#FF6692",
           "#B6E880"
          ],
          "font": {
           "color": "#2a3f5f"
          },
          "geo": {
           "bgcolor": "white",
           "lakecolor": "white",
           "landcolor": "#E5ECF6",
           "showlakes": true,
           "showland": true,
           "subunitcolor": "white"
          },
          "hovermode": "closest",
          "mapbox": {
           "style": "light"
          },
          "paper_bgcolor": "white",
          "plot_bgcolor": "#E5ECF6",
          "polar": {
           "angularaxis": {
            "gridcolor": "white",
            "linecolor": "white",
            "ticks": ""
           },
           "bgcolor": "#E5ECF6",
           "radialaxis": {
            "gridcolor": "white",
            "linecolor": "white",
            "ticks": ""
           }
          },
          "scene": {
           "xaxis": {
            "backgroundcolor": "#E5ECF6",
            "gridcolor": "white",
            "gridwidth": 2,
            "linecolor": "white",
            "showbackground": true,
            "ticks": "",
            "zerolinecolor": "white"
           },
           "yaxis": {
            "backgroundcolor": "#E5ECF6",
            "gridcolor": "white",
            "gridwidth": 2,
            "linecolor": "white",
            "showbackground": true,
            "ticks": "",
            "zerolinecolor": "white"
           },
           "zaxis": {
            "backgroundcolor": "#E5ECF6",
            "gridcolor": "white",
            "gridwidth": 2,
            "linecolor": "white",
            "showbackground": true,
            "ticks": "",
            "zerolinecolor": "white"
           }
          },
          "shapedefaults": {
           "fillcolor": "#506784",
           "line": {
            "width": 0
           },
           "opacity": 0.4
          },
          "ternary": {
           "aaxis": {
            "gridcolor": "white",
            "linecolor": "white",
            "ticks": ""
           },
           "baxis": {
            "gridcolor": "white",
            "linecolor": "white",
            "ticks": ""
           },
           "bgcolor": "#E5ECF6",
           "caxis": {
            "gridcolor": "white",
            "linecolor": "white",
            "ticks": ""
           }
          },
          "title": {
           "x": 0.05
          },
          "xaxis": {
           "automargin": true,
           "gridcolor": "white",
           "linecolor": "white",
           "ticks": "",
           "zerolinecolor": "white",
           "zerolinewidth": 2
          },
          "yaxis": {
           "automargin": true,
           "gridcolor": "white",
           "linecolor": "white",
           "ticks": "",
           "zerolinecolor": "white",
           "zerolinewidth": 2
          }
         }
        },
        "xaxis": {
         "autorange": true,
         "range": [
          0,
          15
         ],
         "title": {
          "text": "Date"
         },
         "type": "category"
        },
        "yaxis": {
         "autorange": true,
         "range": [
          -0.8888888888888888,
          16.88888888888889
         ],
         "title": {
          "text": "State Actor (V)"
         },
         "type": "linear"
        }
       }
      },
      "image/png": "[encoded data removed]",
      "text/html": [
       "<div id=\"3c1208ed-db21-4066-81c0-481d837c0d68\" style=\"height: 600px; width: 100%;\" class=\"plotly-graph-div\"></div><script type=\"text/javascript\">require([\"plotly\"], function(Plotly) { window.PLOTLYENV=window.PLOTLYENV || {};window.PLOTLYENV.BASE_URL=\"https://plot.ly\";\n",
       "if (document.getElementById(\"3c1208ed-db21-4066-81c0-481d837c0d68\")) {\n",
       "    Plotly.newPlot(\"3c1208ed-db21-4066-81c0-481d837c0d68\", [{\"hovertemplate\": \"Date=%{x}<br>State Actor (V)=%{y}<extra></extra>\", \"legendgroup\": \"\", \"line\": {\"color\": \"#636efa\", \"dash\": \"solid\"}, \"mode\": \"lines\", \"name\": \"\", \"showlegend\": false, \"x\": [\"6/10/2012\", \"11/14/2013\", \"2/9/2014\", \"1/15/2016\", \"11/18/2016\", \"11/19/2016\", \"9/21/2017\", \"10/27/2017\", \"4/4/2018\", \"7/28/2018\", \"10/26/2018\", \"11/29/2018\", \"1/20/2019\", \"2/14/2019\", \"3/11/2019\", \"3/20/2019\"], \"xaxis\": \"x\", \"y\": [1.0, 0.0, 1.0, 0.0, 2.0, 2.0, 1.0, 0.0, 2.0, 0.0, 1.0, 16.0, 2.0, 6.0, 3.0, 1.0], \"yaxis\": \"y\", \"type\": \"scatter\", \"uid\": \"4bc467fd-70b0-4a7d-9229-da11e51ef142\"}], {\"height\": 600, \"legend\": {\"tracegroupgap\": 0}, \"margin\": {\"t\": 60}, \"template\": {\"data\": {\"barpolar\": [{\"marker\": {\"line\": {\"color\": \"#E5ECF6\", \"width\": 0.5}}, \"type\": \"barpolar\"}], \"bar\": [{\"marker\": {\"line\": {\"color\": \"#E5ECF6\", \"width\": 0.5}}, \"type\": \"bar\"}], \"carpet\": [{\"aaxis\": {\"endlinecolor\": \"#2a3f5f\", \"gridcolor\": \"white\", \"linecolor\": \"white\", \"minorgridcolor\": \"white\", \"startlinecolor\": \"#2a3f5f\"}, \"baxis\": {\"endlinecolor\": \"#2a3f5f\", \"gridcolor\": \"white\", \"linecolor\": \"white\", \"minorgridcolor\": \"white\", \"startlinecolor\": \"#2a3f5f\"}, \"type\": \"carpet\"}], \"choropleth\": [{\"colorbar\": {\"outlinewidth\": 0, \"ticks\": \"\"}, \"type\": \"choropleth\"}], \"contourcarpet\": [{\"colorbar\": {\"outlinewidth\": 0, \"ticks\": \"\"}, \"type\": \"contourcarpet\"}], \"contour\": [{\"autocolorscale\": true, \"colorbar\": {\"outlinewidth\": 0, \"ticks\": \"\"}, \"type\": \"contour\"}], \"heatmapgl\": [{\"colorbar\": {\"outlinewidth\": 0, \"ticks\": \"\"}, \"type\": \"heatmapgl\"}], \"heatmap\": [{\"autocolorscale\": true, \"colorbar\": {\"outlinewidth\": 0, \"ticks\": \"\"}, \"type\": \"heatmap\"}], \"histogram2dcontour\": [{\"autocolorscale\": true, \"colorbar\": {\"outlinewidth\": 0, \"ticks\": \"\"}, \"type\": \"histogram2dcontour\"}], \"histogram2d\": [{\"autocolorscale\": true, \"colorbar\": {\"outlinewidth\": 0, \"ticks\": \"\"}, \"type\": \"histogram2d\"}], \"histogram\": [{\"marker\": {\"colorbar\": {\"outlinewidth\": 0, \"ticks\": \"\"}}, \"type\": \"histogram\"}], \"mesh3d\": [{\"colorbar\": {\"outlinewidth\": 0, \"ticks\": \"\"}, \"type\": \"mesh3d\"}], \"parcoords\": [{\"line\": {\"colorbar\": {\"outlinewidth\": 0, \"ticks\": \"\"}}, \"type\": \"parcoords\"}], \"scatter3d\": [{\"marker\": {\"colorbar\": {\"outlinewidth\": 0, \"ticks\": \"\"}}, \"type\": \"scatter3d\"}], \"scattercarpet\": [{\"marker\": {\"colorbar\": {\"outlinewidth\": 0, \"ticks\": \"\"}}, \"type\": \"scattercarpet\"}], \"scattergeo\": [{\"marker\": {\"colorbar\": {\"outlinewidth\": 0, \"ticks\": \"\"}}, \"type\": \"scattergeo\"}], \"scattergl\": [{\"marker\": {\"colorbar\": {\"outlinewidth\": 0, \"ticks\": \"\"}}, \"type\": \"scattergl\"}], \"scattermapbox\": [{\"marker\": {\"colorbar\": {\"outlinewidth\": 0, \"ticks\": \"\"}}, \"type\": \"scattermapbox\"}], \"scatterpolargl\": [{\"marker\": {\"colorbar\": {\"outlinewidth\": 0, \"ticks\": \"\"}}, \"type\": \"scatterpolargl\"}], \"scatterpolar\": [{\"marker\": {\"colorbar\": {\"outlinewidth\": 0, \"ticks\": \"\"}}, \"type\": \"scatterpolar\"}], \"scatter\": [{\"marker\": {\"colorbar\": {\"outlinewidth\": 0, \"ticks\": \"\"}}, \"type\": \"scatter\"}], \"scatterternary\": [{\"marker\": {\"colorbar\": {\"outlinewidth\": 0, \"ticks\": \"\"}}, \"type\": \"scatterternary\"}], \"surface\": [{\"colorbar\": {\"outlinewidth\": 0, \"ticks\": \"\"}, \"type\": \"surface\"}], \"table\": [{\"cells\": {\"fill\": {\"color\": \"#EBF0F8\"}, \"line\": {\"color\": \"white\"}}, \"header\": {\"fill\": {\"color\": \"#C8D4E3\"}, \"line\": {\"color\": \"white\"}}, \"type\": \"table\"}]}, \"layout\": {\"annotationdefaults\": {\"arrowcolor\": \"#506784\", \"arrowhead\": 0, \"arrowwidth\": 1}, \"colorscale\": {\"diverging\": [[0, \"#8e0152\"], [0.1, \"#c51b7d\"], [0.2, \"#de77ae\"], [0.3, \"#f1b6da\"], [0.4, \"#fde0ef\"], [0.5, \"#f7f7f7\"], [0.6, \"#e6f5d0\"], [0.7, \"#b8e186\"], [0.8, \"#7fbc41\"], [0.9, \"#4d9221\"], [1, \"#276419\"]], \"sequential\": [[0.0, \"#0508b8\"], [0.0893854748603352, \"#1910d8\"], [0.1787709497206704, \"#3c19f0\"], [0.2681564245810056, \"#6b1cfb\"], [0.3575418994413408, \"#981cfd\"], [0.44692737430167595, \"#bf1cfd\"], [0.5363128491620112, \"#dd2bfd\"], [0.6256983240223464, \"#f246fe\"], [0.7150837988826816, \"#fc67fd\"], [0.8044692737430168, \"#fe88fc\"], [0.8938547486033519, \"#fea5fd\"], [0.9832402234636871, \"#febefe\"], [1.0, \"#fec3fe\"]], \"sequentialminus\": [[0.0, \"#0508b8\"], [0.0893854748603352, \"#1910d8\"], [0.1787709497206704, \"#3c19f0\"], [0.2681564245810056, \"#6b1cfb\"], [0.3575418994413408, \"#981cfd\"], [0.44692737430167595, \"#bf1cfd\"], [0.5363128491620112, \"#dd2bfd\"], [0.6256983240223464, \"#f246fe\"], [0.7150837988826816, \"#fc67fd\"], [0.8044692737430168, \"#fe88fc\"], [0.8938547486033519, \"#fea5fd\"], [0.9832402234636871, \"#febefe\"], [1.0, \"#fec3fe\"]]}, \"colorway\": [\"#636efa\", \"#EF553B\", \"#00cc96\", \"#ab63fa\", \"#19d3f3\", \"#e763fa\", \"#FECB52\", \"#FFA15A\", \"#FF6692\", \"#B6E880\"], \"font\": {\"color\": \"#2a3f5f\"}, \"geo\": {\"bgcolor\": \"white\", \"lakecolor\": \"white\", \"landcolor\": \"#E5ECF6\", \"showlakes\": true, \"showland\": true, \"subunitcolor\": \"white\"}, \"hovermode\": \"closest\", \"mapbox\": {\"style\": \"light\"}, \"paper_bgcolor\": \"white\", \"plot_bgcolor\": \"#E5ECF6\", \"polar\": {\"angularaxis\": {\"gridcolor\": \"white\", \"linecolor\": \"white\", \"ticks\": \"\"}, \"bgcolor\": \"#E5ECF6\", \"radialaxis\": {\"gridcolor\": \"white\", \"linecolor\": \"white\", \"ticks\": \"\"}}, \"scene\": {\"xaxis\": {\"backgroundcolor\": \"#E5ECF6\", \"gridcolor\": \"white\", \"gridwidth\": 2, \"linecolor\": \"white\", \"showbackground\": true, \"ticks\": \"\", \"zerolinecolor\": \"white\"}, \"yaxis\": {\"backgroundcolor\": \"#E5ECF6\", \"gridcolor\": \"white\", \"gridwidth\": 2, \"linecolor\": \"white\", \"showbackground\": true, \"ticks\": \"\", \"zerolinecolor\": \"white\"}, \"zaxis\": {\"backgroundcolor\": \"#E5ECF6\", \"gridcolor\": \"white\", \"gridwidth\": 2, \"linecolor\": \"white\", \"showbackground\": true, \"ticks\": \"\", \"zerolinecolor\": \"white\"}}, \"shapedefaults\": {\"fillcolor\": \"#506784\", \"line\": {\"width\": 0}, \"opacity\": 0.4}, \"ternary\": {\"aaxis\": {\"gridcolor\": \"white\", \"linecolor\": \"white\", \"ticks\": \"\"}, \"baxis\": {\"gridcolor\": \"white\", \"linecolor\": \"white\", \"ticks\": \"\"}, \"bgcolor\": \"#E5ECF6\", \"caxis\": {\"gridcolor\": \"white\", \"linecolor\": \"white\", \"ticks\": \"\"}}, \"title\": {\"x\": 0.05}, \"xaxis\": {\"automargin\": true, \"gridcolor\": \"white\", \"linecolor\": \"white\", \"ticks\": \"\", \"zerolinecolor\": \"white\", \"zerolinewidth\": 2}, \"yaxis\": {\"automargin\": true, \"gridcolor\": \"white\", \"linecolor\": \"white\", \"ticks\": \"\", \"zerolinecolor\": \"white\", \"zerolinewidth\": 2}}}, \"grid\": {\"xaxes\": [\"x\"], \"yaxes\": [\"y\"], \"xgap\": 0.1, \"ygap\": 0.1, \"xside\": \"bottom\", \"yside\": \"left\"}, \"xaxis\": {\"title\": {\"text\": \"Date\"}}, \"yaxis\": {\"title\": {\"text\": \"State Actor (V)\"}}}, {\"showLink\": false, \"linkText\": \"Export to plot.ly\", \"plotlyServerURL\": \"https://plot.ly\"}); \n",
       "}\n",
       "});</script><script type=\"text/javascript\">window.addEventListener(\"resize\", function(){if (document.getElementById(\"3c1208ed-db21-4066-81c0-481d837c0d68\")) {window._Plotly.Plots.resize(document.getElementById(\"3c1208ed-db21-4066-81c0-481d837c0d68\"));};})</script>"
      ],
      "text/vnd.plotly.v1+html": [
       "<div id=\"3c1208ed-db21-4066-81c0-481d837c0d68\" style=\"height: 600px; width: 100%;\" class=\"plotly-graph-div\"></div><script type=\"text/javascript\">require([\"plotly\"], function(Plotly) { window.PLOTLYENV=window.PLOTLYENV || {};window.PLOTLYENV.BASE_URL=\"https://plot.ly\";\n",
       "if (document.getElementById(\"3c1208ed-db21-4066-81c0-481d837c0d68\")) {\n",
       "    Plotly.newPlot(\"3c1208ed-db21-4066-81c0-481d837c0d68\", [{\"hovertemplate\": \"Date=%{x}<br>State Actor (V)=%{y}<extra></extra>\", \"legendgroup\": \"\", \"line\": {\"color\": \"#636efa\", \"dash\": \"solid\"}, \"mode\": \"lines\", \"name\": \"\", \"showlegend\": false, \"x\": [\"6/10/2012\", \"11/14/2013\", \"2/9/2014\", \"1/15/2016\", \"11/18/2016\", \"11/19/2016\", \"9/21/2017\", \"10/27/2017\", \"4/4/2018\", \"7/28/2018\", \"10/26/2018\", \"11/29/2018\", \"1/20/2019\", \"2/14/2019\", \"3/11/2019\", \"3/20/2019\"], \"xaxis\": \"x\", \"y\": [1.0, 0.0, 1.0, 0.0, 2.0, 2.0, 1.0, 0.0, 2.0, 0.0, 1.0, 16.0, 2.0, 6.0, 3.0, 1.0], \"yaxis\": \"y\", \"type\": \"scatter\", \"uid\": \"4bc467fd-70b0-4a7d-9229-da11e51ef142\"}], {\"height\": 600, \"legend\": {\"tracegroupgap\": 0}, \"margin\": {\"t\": 60}, \"template\": {\"data\": {\"barpolar\": [{\"marker\": {\"line\": {\"color\": \"#E5ECF6\", \"width\": 0.5}}, \"type\": \"barpolar\"}], \"bar\": [{\"marker\": {\"line\": {\"color\": \"#E5ECF6\", \"width\": 0.5}}, \"type\": \"bar\"}], \"carpet\": [{\"aaxis\": {\"endlinecolor\": \"#2a3f5f\", \"gridcolor\": \"white\", \"linecolor\": \"white\", \"minorgridcolor\": \"white\", \"startlinecolor\": \"#2a3f5f\"}, \"baxis\": {\"endlinecolor\": \"#2a3f5f\", \"gridcolor\": \"white\", \"linecolor\": \"white\", \"minorgridcolor\": \"white\", \"startlinecolor\": \"#2a3f5f\"}, \"type\": \"carpet\"}], \"choropleth\": [{\"colorbar\": {\"outlinewidth\": 0, \"ticks\": \"\"}, \"type\": \"choropleth\"}], \"contourcarpet\": [{\"colorbar\": {\"outlinewidth\": 0, \"ticks\": \"\"}, \"type\": \"contourcarpet\"}], \"contour\": [{\"autocolorscale\": true, \"colorbar\": {\"outlinewidth\": 0, \"ticks\": \"\"}, \"type\": \"contour\"}], \"heatmapgl\": [{\"colorbar\": {\"outlinewidth\": 0, \"ticks\": \"\"}, \"type\": \"heatmapgl\"}], \"heatmap\": [{\"autocolorscale\": true, \"colorbar\": {\"outlinewidth\": 0, \"ticks\": \"\"}, \"type\": \"heatmap\"}], \"histogram2dcontour\": [{\"autocolorscale\": true, \"colorbar\": {\"outlinewidth\": 0, \"ticks\": \"\"}, \"type\": \"histogram2dcontour\"}], \"histogram2d\": [{\"autocolorscale\": true, \"colorbar\": {\"outlinewidth\": 0, \"ticks\": \"\"}, \"type\": \"histogram2d\"}], \"histogram\": [{\"marker\": {\"colorbar\": {\"outlinewidth\": 0, \"ticks\": \"\"}}, \"type\": \"histogram\"}], \"mesh3d\": [{\"colorbar\": {\"outlinewidth\": 0, \"ticks\": \"\"}, \"type\": \"mesh3d\"}], \"parcoords\": [{\"line\": {\"colorbar\": {\"outlinewidth\": 0, \"ticks\": \"\"}}, \"type\": \"parcoords\"}], \"scatter3d\": [{\"marker\": {\"colorbar\": {\"outlinewidth\": 0, \"ticks\": \"\"}}, \"type\": \"scatter3d\"}], \"scattercarpet\": [{\"marker\": {\"colorbar\": {\"outlinewidth\": 0, \"ticks\": \"\"}}, \"type\": \"scattercarpet\"}], \"scattergeo\": [{\"marker\": {\"colorbar\": {\"outlinewidth\": 0, \"ticks\": \"\"}}, \"type\": \"scattergeo\"}], \"scattergl\": [{\"marker\": {\"colorbar\": {\"outlinewidth\": 0, \"ticks\": \"\"}}, \"type\": \"scattergl\"}], \"scattermapbox\": [{\"marker\": {\"colorbar\": {\"outlinewidth\": 0, \"ticks\": \"\"}}, \"type\": \"scattermapbox\"}], \"scatterpolargl\": [{\"marker\": {\"colorbar\": {\"outlinewidth\": 0, \"ticks\": \"\"}}, \"type\": \"scatterpolargl\"}], \"scatterpolar\": [{\"marker\": {\"colorbar\": {\"outlinewidth\": 0, \"ticks\": \"\"}}, \"type\": \"scatterpolar\"}], \"scatter\": [{\"marker\": {\"colorbar\": {\"outlinewidth\": 0, \"ticks\": \"\"}}, \"type\": \"scatter\"}], \"scatterternary\": [{\"marker\": {\"colorbar\": {\"outlinewidth\": 0, \"ticks\": \"\"}}, \"type\": \"scatterternary\"}], \"surface\": [{\"colorbar\": {\"outlinewidth\": 0, \"ticks\": \"\"}, \"type\": \"surface\"}], \"table\": [{\"cells\": {\"fill\": {\"color\": \"#EBF0F8\"}, \"line\": {\"color\": \"white\"}}, \"header\": {\"fill\": {\"color\": \"#C8D4E3\"}, \"line\": {\"color\": \"white\"}}, \"type\": \"table\"}]}, \"layout\": {\"annotationdefaults\": {\"arrowcolor\": \"#506784\", \"arrowhead\": 0, \"arrowwidth\": 1}, \"colorscale\": {\"diverging\": [[0, \"#8e0152\"], [0.1, \"#c51b7d\"], [0.2, \"#de77ae\"], [0.3, \"#f1b6da\"], [0.4, \"#fde0ef\"], [0.5, \"#f7f7f7\"], [0.6, \"#e6f5d0\"], [0.7, \"#b8e186\"], [0.8, \"#7fbc41\"], [0.9, \"#4d9221\"], [1, \"#276419\"]], \"sequential\": [[0.0, \"#0508b8\"], [0.0893854748603352, \"#1910d8\"], [0.1787709497206704, \"#3c19f0\"], [0.2681564245810056, \"#6b1cfb\"], [0.3575418994413408, \"#981cfd\"], [0.44692737430167595, \"#bf1cfd\"], [0.5363128491620112, \"#dd2bfd\"], [0.6256983240223464, \"#f246fe\"], [0.7150837988826816, \"#fc67fd\"], [0.8044692737430168, \"#fe88fc\"], [0.8938547486033519, \"#fea5fd\"], [0.9832402234636871, \"#febefe\"], [1.0, \"#fec3fe\"]], \"sequentialminus\": [[0.0, \"#0508b8\"], [0.0893854748603352, \"#1910d8\"], [0.1787709497206704, \"#3c19f0\"], [0.2681564245810056, \"#6b1cfb\"], [0.3575418994413408, \"#981cfd\"], [0.44692737430167595, \"#bf1cfd\"], [0.5363128491620112, \"#dd2bfd\"], [0.6256983240223464, \"#f246fe\"], [0.7150837988826816, \"#fc67fd\"], [0.8044692737430168, \"#fe88fc\"], [0.8938547486033519, \"#fea5fd\"], [0.9832402234636871, \"#febefe\"], [1.0, \"#fec3fe\"]]}, \"colorway\": [\"#636efa\", \"#EF553B\", \"#00cc96\", \"#ab63fa\", \"#19d3f3\", \"#e763fa\", \"#FECB52\", \"#FFA15A\", \"#FF6692\", \"#B6E880\"], \"font\": {\"color\": \"#2a3f5f\"}, \"geo\": {\"bgcolor\": \"white\", \"lakecolor\": \"white\", \"landcolor\": \"#E5ECF6\", \"showlakes\": true, \"showland\": true, \"subunitcolor\": \"white\"}, \"hovermode\": \"closest\", \"mapbox\": {\"style\": \"light\"}, \"paper_bgcolor\": \"white\", \"plot_bgcolor\": \"#E5ECF6\", \"polar\": {\"angularaxis\": {\"gridcolor\": \"white\", \"linecolor\": \"white\", \"ticks\": \"\"}, \"bgcolor\": \"#E5ECF6\", \"radialaxis\": {\"gridcolor\": \"white\", \"linecolor\": \"white\", \"ticks\": \"\"}}, \"scene\": {\"xaxis\": {\"backgroundcolor\": \"#E5ECF6\", \"gridcolor\": \"white\", \"gridwidth\": 2, \"linecolor\": \"white\", \"showbackground\": true, \"ticks\": \"\", \"zerolinecolor\": \"white\"}, \"yaxis\": {\"backgroundcolor\": \"#E5ECF6\", \"gridcolor\": \"white\", \"gridwidth\": 2, \"linecolor\": \"white\", \"showbackground\": true, \"ticks\": \"\", \"zerolinecolor\": \"white\"}, \"zaxis\": {\"backgroundcolor\": \"#E5ECF6\", \"gridcolor\": \"white\", \"gridwidth\": 2, \"linecolor\": \"white\", \"showbackground\": true, \"ticks\": \"\", \"zerolinecolor\": \"white\"}}, \"shapedefaults\": {\"fillcolor\": \"#506784\", \"line\": {\"width\": 0}, \"opacity\": 0.4}, \"ternary\": {\"aaxis\": {\"gridcolor\": \"white\", \"linecolor\": \"white\", \"ticks\": \"\"}, \"baxis\": {\"gridcolor\": \"white\", \"linecolor\": \"white\", \"ticks\": \"\"}, \"bgcolor\": \"#E5ECF6\", \"caxis\": {\"gridcolor\": \"white\", \"linecolor\": \"white\", \"ticks\": \"\"}}, \"title\": {\"x\": 0.05}, \"xaxis\": {\"automargin\": true, \"gridcolor\": \"white\", \"linecolor\": \"white\", \"ticks\": \"\", \"zerolinecolor\": \"white\", \"zerolinewidth\": 2}, \"yaxis\": {\"automargin\": true, \"gridcolor\": \"white\", \"linecolor\": \"white\", \"ticks\": \"\", \"zerolinecolor\": \"white\", \"zerolinewidth\": 2}}}, \"grid\": {\"xaxes\": [\"x\"], \"yaxes\": [\"y\"], \"xgap\": 0.1, \"ygap\": 0.1, \"xside\": \"bottom\", \"yside\": \"left\"}, \"xaxis\": {\"title\": {\"text\": \"Date\"}}, \"yaxis\": {\"title\": {\"text\": \"State Actor (V)\"}}}, {\"showLink\": false, \"linkText\": \"Export to plot.ly\", \"plotlyServerURL\": \"https://plot.ly\"}); \n",
       "}\n",
       "});</script><script type=\"text/javascript\">window.addEventListener(\"resize\", function(){if (document.getElementById(\"3c1208ed-db21-4066-81c0-481d837c0d68\")) {window._Plotly.Plots.resize(document.getElementById(\"3c1208ed-db21-4066-81c0-481d837c0d68\"));};})</script>"
      ]
     },
     "metadata": {},
     "output_type": "display_data"
    }
   ],
   "source": [
    "state_vics = zam[zam['State Actor (V)'].notnull() == True]\n",
    "state_vics = state_vics['State Actor (V)'].resample('W').sum()\n",
    "\n",
    "\n",
    "\n",
    "state_vics = pd.DataFrame(state_vics)\n",
    "\n",
    "\n",
    "\n",
    "state_vics = state_vics.reset_index()\n",
    "\n",
    "\n",
    "state_vics.head(2)\n",
    "\n",
    "state_vics = zam[zam['State Actor (V)'].notnull() == True]\n",
    "\n",
    "state_vics = pd.DataFrame(state_vics)\n",
    "\n",
    "\n",
    "\n",
    "px.line(state_vics, x='Date', y='State Actor (V)')"
   ]
  },
  {
   "cell_type": "code",
   "execution_count": 82,
   "metadata": {},
   "outputs": [
    {
     "data": {
      "application/vnd.plotly.v1+json": {
       "config": {
        "linkText": "Export to plot.ly",
        "plotlyServerURL": "https://plot.ly",
        "showLink": false
       },
       "data": [
        {
         "hovertemplate": "Date=%{x}<br>Civilian (V)=%{y}<extra></extra>",
         "legendgroup": "",
         "line": {
          "color": "#636efa",
          "dash": "solid"
         },
         "mode": "lines",
         "name": "",
         "showlegend": false,
         "type": "scatter",
         "uid": "78ccf331-a4d4-4cbe-ac05-d2b71cdfe3ba",
         "x": [
          "2012-02-12 05:00:00",
          "2012-02-19 05:00:00",
          "2012-02-26 05:00:00",
          "2012-03-04 05:00:00",
          "2012-03-11 05:00:00",
          "2012-03-18 04:00:00",
          "2012-03-25 04:00:00",
          "2012-04-01 04:00:00",
          "2012-04-08 04:00:00",
          "2012-04-15 04:00:00",
          "2012-04-22 04:00:00",
          "2012-04-29 04:00:00",
          "2012-05-06 04:00:00",
          "2012-05-13 04:00:00",
          "2012-05-20 04:00:00",
          "2012-05-27 04:00:00",
          "2012-06-03 04:00:00",
          "2012-06-10 04:00:00",
          "2012-06-17 04:00:00",
          "2012-06-24 04:00:00",
          "2012-07-01 04:00:00",
          "2012-07-08 04:00:00",
          "2012-07-15 04:00:00",
          "2012-07-22 04:00:00",
          "2012-07-29 04:00:00",
          "2012-08-05 04:00:00",
          "2012-08-12 04:00:00",
          "2012-08-19 04:00:00",
          "2012-08-26 04:00:00",
          "2012-09-02 04:00:00",
          "2012-09-09 04:00:00",
          "2012-09-16 04:00:00",
          "2012-09-23 04:00:00",
          "2012-09-30 04:00:00",
          "2012-10-07 04:00:00",
          "2012-10-14 04:00:00",
          "2012-10-21 04:00:00",
          "2012-10-28 04:00:00",
          "2012-11-04 04:00:00",
          "2012-11-11 05:00:00",
          "2012-11-18 05:00:00",
          "2012-11-25 05:00:00",
          "2012-12-02 05:00:00",
          "2012-12-09 05:00:00",
          "2012-12-16 05:00:00",
          "2012-12-23 05:00:00",
          "2012-12-30 05:00:00",
          "2013-01-06 05:00:00",
          "2013-01-13 05:00:00",
          "2013-01-20 05:00:00",
          "2013-01-27 05:00:00",
          "2013-02-03 05:00:00",
          "2013-02-10 05:00:00",
          "2013-02-17 05:00:00",
          "2013-02-24 05:00:00",
          "2013-03-03 05:00:00",
          "2013-03-10 05:00:00",
          "2013-03-17 04:00:00",
          "2013-03-24 04:00:00",
          "2013-03-31 04:00:00",
          "2013-04-07 04:00:00",
          "2013-04-14 04:00:00",
          "2013-04-21 04:00:00",
          "2013-04-28 04:00:00",
          "2013-05-05 04:00:00",
          "2013-05-12 04:00:00",
          "2013-05-19 04:00:00",
          "2013-05-26 04:00:00",
          "2013-06-02 04:00:00",
          "2013-06-09 04:00:00",
          "2013-06-16 04:00:00",
          "2013-06-23 04:00:00",
          "2013-06-30 04:00:00",
          "2013-07-07 04:00:00",
          "2013-07-14 04:00:00",
          "2013-07-21 04:00:00",
          "2013-07-28 04:00:00",
          "2013-08-04 04:00:00",
          "2013-08-11 04:00:00",
          "2013-08-18 04:00:00",
          "2013-08-25 04:00:00",
          "2013-09-01 04:00:00",
          "2013-09-08 04:00:00",
          "2013-09-15 04:00:00",
          "2013-09-22 04:00:00",
          "2013-09-29 04:00:00",
          "2013-10-06 04:00:00",
          "2013-10-13 04:00:00",
          "2013-10-20 04:00:00",
          "2013-10-27 04:00:00",
          "2013-11-03 04:00:00",
          "2013-11-10 05:00:00",
          "2013-11-17 05:00:00",
          "2013-11-24 05:00:00",
          "2013-12-01 05:00:00",
          "2013-12-08 05:00:00",
          "2013-12-15 05:00:00",
          "2013-12-22 05:00:00",
          "2013-12-29 05:00:00",
          "2014-01-05 05:00:00",
          "2014-01-12 05:00:00",
          "2014-01-19 05:00:00",
          "2014-01-26 05:00:00",
          "2014-02-02 05:00:00",
          "2014-02-09 05:00:00",
          "2014-02-16 05:00:00",
          "2014-02-23 05:00:00",
          "2014-03-02 05:00:00",
          "2014-03-09 05:00:00",
          "2014-03-16 04:00:00",
          "2014-03-23 04:00:00",
          "2014-03-30 04:00:00",
          "2014-04-06 04:00:00",
          "2014-04-13 04:00:00",
          "2014-04-20 04:00:00",
          "2014-04-27 04:00:00",
          "2014-05-04 04:00:00",
          "2014-05-11 04:00:00",
          "2014-05-18 04:00:00",
          "2014-05-25 04:00:00",
          "2014-06-01 04:00:00",
          "2014-06-08 04:00:00",
          "2014-06-15 04:00:00",
          "2014-06-22 04:00:00",
          "2014-06-29 04:00:00",
          "2014-07-06 04:00:00",
          "2014-07-13 04:00:00",
          "2014-07-20 04:00:00",
          "2014-07-27 04:00:00",
          "2014-08-03 04:00:00",
          "2014-08-10 04:00:00",
          "2014-08-17 04:00:00",
          "2014-08-24 04:00:00",
          "2014-08-31 04:00:00",
          "2014-09-07 04:00:00",
          "2014-09-14 04:00:00",
          "2014-09-21 04:00:00",
          "2014-09-28 04:00:00",
          "2014-10-05 04:00:00",
          "2014-10-12 04:00:00",
          "2014-10-19 04:00:00",
          "2014-10-26 04:00:00",
          "2014-11-02 04:00:00",
          "2014-11-09 05:00:00",
          "2014-11-16 05:00:00",
          "2014-11-23 05:00:00",
          "2014-11-30 05:00:00",
          "2014-12-07 05:00:00",
          "2014-12-14 05:00:00",
          "2014-12-21 05:00:00",
          "2014-12-28 05:00:00",
          "2015-01-04 05:00:00",
          "2015-01-11 05:00:00",
          "2015-01-18 05:00:00",
          "2015-01-25 05:00:00",
          "2015-02-01 05:00:00",
          "2015-02-08 05:00:00",
          "2015-02-15 05:00:00",
          "2015-02-22 05:00:00",
          "2015-03-01 05:00:00",
          "2015-03-08 05:00:00",
          "2015-03-15 04:00:00",
          "2015-03-22 04:00:00",
          "2015-03-29 04:00:00",
          "2015-04-05 04:00:00",
          "2015-04-12 04:00:00",
          "2015-04-19 04:00:00",
          "2015-04-26 04:00:00",
          "2015-05-03 04:00:00",
          "2015-05-10 04:00:00",
          "2015-05-17 04:00:00",
          "2015-05-24 04:00:00",
          "2015-05-31 04:00:00",
          "2015-06-07 04:00:00",
          "2015-06-14 04:00:00",
          "2015-06-21 04:00:00",
          "2015-06-28 04:00:00",
          "2015-07-05 04:00:00",
          "2015-07-12 04:00:00",
          "2015-07-19 04:00:00",
          "2015-07-26 04:00:00",
          "2015-08-02 04:00:00",
          "2015-08-09 04:00:00",
          "2015-08-16 04:00:00",
          "2015-08-23 04:00:00",
          "2015-08-30 04:00:00",
          "2015-09-06 04:00:00",
          "2015-09-13 04:00:00",
          "2015-09-20 04:00:00",
          "2015-09-27 04:00:00",
          "2015-10-04 04:00:00",
          "2015-10-11 04:00:00",
          "2015-10-18 04:00:00",
          "2015-10-25 04:00:00",
          "2015-11-01 04:00:00",
          "2015-11-08 05:00:00",
          "2015-11-15 05:00:00",
          "2015-11-22 05:00:00",
          "2015-11-29 05:00:00",
          "2015-12-06 05:00:00",
          "2015-12-13 05:00:00",
          "2015-12-20 05:00:00",
          "2015-12-27 05:00:00",
          "2016-01-03 05:00:00",
          "2016-01-10 05:00:00",
          "2016-01-17 05:00:00",
          "2016-01-24 05:00:00",
          "2016-01-31 05:00:00",
          "2016-02-07 05:00:00",
          "2016-02-14 05:00:00",
          "2016-02-21 05:00:00",
          "2016-02-28 05:00:00",
          "2016-03-06 05:00:00",
          "2016-03-13 05:00:00",
          "2016-03-20 04:00:00",
          "2016-03-27 04:00:00",
          "2016-04-03 04:00:00",
          "2016-04-10 04:00:00",
          "2016-04-17 04:00:00",
          "2016-04-24 04:00:00",
          "2016-05-01 04:00:00",
          "2016-05-08 04:00:00",
          "2016-05-15 04:00:00",
          "2016-05-22 04:00:00",
          "2016-05-29 04:00:00",
          "2016-06-05 04:00:00",
          "2016-06-12 04:00:00",
          "2016-06-19 04:00:00",
          "2016-06-26 04:00:00",
          "2016-07-03 04:00:00",
          "2016-07-10 04:00:00",
          "2016-07-17 04:00:00",
          "2016-07-24 04:00:00",
          "2016-07-31 04:00:00",
          "2016-08-07 04:00:00",
          "2016-08-14 04:00:00",
          "2016-08-21 04:00:00",
          "2016-08-28 04:00:00",
          "2016-09-04 04:00:00",
          "2016-09-11 04:00:00",
          "2016-09-18 04:00:00",
          "2016-09-25 04:00:00",
          "2016-10-02 04:00:00",
          "2016-10-09 04:00:00",
          "2016-10-16 04:00:00",
          "2016-10-23 04:00:00",
          "2016-10-30 04:00:00",
          "2016-11-06 04:00:00",
          "2016-11-13 05:00:00",
          "2016-11-20 05:00:00",
          "2016-11-27 05:00:00",
          "2016-12-04 05:00:00",
          "2016-12-11 05:00:00",
          "2016-12-18 05:00:00",
          "2016-12-25 05:00:00",
          "2017-01-01 05:00:00",
          "2017-01-08 05:00:00",
          "2017-01-15 05:00:00",
          "2017-01-22 05:00:00",
          "2017-01-29 05:00:00",
          "2017-02-05 05:00:00",
          "2017-02-12 05:00:00",
          "2017-02-19 05:00:00",
          "2017-02-26 05:00:00",
          "2017-03-05 05:00:00",
          "2017-03-12 05:00:00",
          "2017-03-19 04:00:00",
          "2017-03-26 04:00:00",
          "2017-04-02 04:00:00",
          "2017-04-09 04:00:00",
          "2017-04-16 04:00:00",
          "2017-04-23 04:00:00",
          "2017-04-30 04:00:00",
          "2017-05-07 04:00:00",
          "2017-05-14 04:00:00",
          "2017-05-21 04:00:00",
          "2017-05-28 04:00:00",
          "2017-06-04 04:00:00",
          "2017-06-11 04:00:00",
          "2017-06-18 04:00:00",
          "2017-06-25 04:00:00",
          "2017-07-02 04:00:00",
          "2017-07-09 04:00:00",
          "2017-07-16 04:00:00",
          "2017-07-23 04:00:00",
          "2017-07-30 04:00:00",
          "2017-08-06 04:00:00",
          "2017-08-13 04:00:00",
          "2017-08-20 04:00:00",
          "2017-08-27 04:00:00",
          "2017-09-03 04:00:00",
          "2017-09-10 04:00:00",
          "2017-09-17 04:00:00",
          "2017-09-24 04:00:00",
          "2017-10-01 04:00:00",
          "2017-10-08 04:00:00",
          "2017-10-15 04:00:00",
          "2017-10-22 04:00:00",
          "2017-10-29 04:00:00",
          "2017-11-05 04:00:00",
          "2017-11-12 05:00:00",
          "2017-11-19 05:00:00",
          "2017-11-26 05:00:00",
          "2017-12-03 05:00:00",
          "2017-12-10 05:00:00",
          "2017-12-17 05:00:00",
          "2017-12-24 05:00:00",
          "2017-12-31 05:00:00",
          "2018-01-07 05:00:00",
          "2018-01-14 05:00:00",
          "2018-01-21 05:00:00",
          "2018-01-28 05:00:00",
          "2018-02-04 05:00:00",
          "2018-02-11 05:00:00",
          "2018-02-18 05:00:00",
          "2018-02-25 05:00:00",
          "2018-03-04 05:00:00",
          "2018-03-11 05:00:00",
          "2018-03-18 04:00:00",
          "2018-03-25 04:00:00",
          "2018-04-01 04:00:00",
          "2018-04-08 04:00:00",
          "2018-04-15 04:00:00",
          "2018-04-22 04:00:00",
          "2018-04-29 04:00:00",
          "2018-05-06 04:00:00",
          "2018-05-13 04:00:00",
          "2018-05-20 04:00:00",
          "2018-05-27 04:00:00",
          "2018-06-03 04:00:00",
          "2018-06-10 04:00:00",
          "2018-06-17 04:00:00",
          "2018-06-24 04:00:00",
          "2018-07-01 04:00:00",
          "2018-07-08 04:00:00",
          "2018-07-15 04:00:00",
          "2018-07-22 04:00:00",
          "2018-07-29 04:00:00",
          "2018-08-05 04:00:00",
          "2018-08-12 04:00:00",
          "2018-08-19 04:00:00",
          "2018-08-26 04:00:00",
          "2018-09-02 04:00:00",
          "2018-09-09 04:00:00",
          "2018-09-16 04:00:00",
          "2018-09-23 04:00:00",
          "2018-09-30 04:00:00",
          "2018-10-07 04:00:00",
          "2018-10-14 04:00:00",
          "2018-10-21 04:00:00",
          "2018-10-28 04:00:00",
          "2018-11-04 04:00:00",
          "2018-11-11 05:00:00",
          "2018-11-18 05:00:00",
          "2018-11-25 05:00:00",
          "2018-12-02 05:00:00",
          "2018-12-09 05:00:00",
          "2018-12-16 05:00:00",
          "2018-12-23 05:00:00",
          "2018-12-30 05:00:00",
          "2019-01-06 05:00:00",
          "2019-01-13 05:00:00",
          "2019-01-20 05:00:00",
          "2019-01-27 05:00:00",
          "2019-02-03 05:00:00",
          "2019-02-10 05:00:00",
          "2019-02-17 05:00:00",
          "2019-02-24 05:00:00",
          "2019-03-03 05:00:00",
          "2019-03-10 05:00:00",
          "2019-03-17 04:00:00",
          "2019-03-24 04:00:00",
          "2019-03-31 04:00:00",
          "2019-04-07 04:00:00"
         ],
         "xaxis": "x",
         "y": [
          1,
          0,
          0,
          0,
          0,
          0,
          0,
          0,
          0,
          0,
          0,
          0,
          0,
          0,
          0,
          0,
          0,
          0,
          0,
          0,
          0,
          0,
          0,
          0,
          0,
          0,
          0,
          0,
          0,
          0,
          0,
          0,
          0,
          0,
          0,
          0,
          0,
          0,
          20,
          0,
          0,
          0,
          0,
          0,
          0,
          0,
          0,
          0,
          0,
          0,
          0,
          0,
          0,
          0,
          7,
          0,
          0,
          0,
          0,
          0,
          0,
          0,
          0,
          0,
          0,
          0,
          0,
          0,
          0,
          0,
          0,
          0,
          0,
          0,
          0,
          0,
          0,
          0,
          0,
          0,
          0,
          0,
          0,
          0,
          0,
          0,
          0,
          0,
          0,
          0,
          0,
          0,
          0,
          0,
          0,
          0,
          0,
          0,
          0,
          0,
          0,
          0,
          0,
          0,
          15,
          0,
          0,
          0,
          0,
          0,
          0,
          0,
          28,
          0,
          0,
          0,
          0,
          0,
          0,
          0,
          0,
          0,
          0,
          0,
          0,
          0,
          0,
          0,
          0,
          0,
          0,
          0,
          0,
          0,
          0,
          0,
          0,
          0,
          0,
          0,
          0,
          0,
          0,
          0,
          0,
          0,
          0,
          0,
          0,
          0,
          0,
          0,
          0,
          0,
          0,
          0,
          0,
          0,
          0,
          0,
          0,
          0,
          0,
          0,
          0,
          0,
          0,
          0,
          0,
          0,
          0,
          0,
          0,
          0,
          0,
          0,
          0,
          40,
          0,
          0,
          0,
          0,
          0,
          0,
          0,
          0,
          0,
          0,
          0,
          0,
          0,
          0,
          0,
          0,
          0,
          0,
          0,
          0,
          0,
          0,
          0,
          0,
          0,
          0,
          0,
          0,
          0,
          0,
          0,
          0,
          0,
          0,
          0,
          0,
          0,
          0,
          0,
          0,
          0,
          0,
          0,
          0,
          0,
          0,
          0,
          0,
          0,
          0,
          0,
          0,
          0,
          0,
          0,
          0,
          0,
          0,
          0,
          8,
          0,
          0,
          0,
          0,
          0,
          0,
          0,
          0,
          0,
          0,
          40,
          56,
          0,
          0,
          0,
          0,
          0,
          0,
          0,
          0,
          0,
          0,
          0,
          3,
          24,
          0,
          0,
          0,
          0,
          0,
          0,
          0,
          0,
          0,
          0,
          0,
          0,
          0,
          0,
          0,
          0,
          0,
          0,
          0,
          0,
          0,
          0,
          0,
          0,
          0,
          0,
          0,
          0,
          0,
          0,
          0,
          0,
          0,
          0,
          0,
          0,
          0,
          0,
          25,
          0,
          0,
          0,
          0,
          0,
          0,
          0,
          0,
          0,
          6,
          0,
          0,
          0,
          0,
          0,
          0,
          0,
          0,
          36,
          0,
          40,
          30,
          0,
          0,
          0,
          0,
          7,
          23,
          1,
          26,
          0,
          23,
          1,
          0,
          33,
          4,
          0,
          0,
          0,
          0,
          0,
          0,
          11,
          0,
          0,
          0,
          0,
          0,
          5,
          0,
          0,
          0,
          0,
          0,
          0,
          0,
          42,
          0,
          18,
          0,
          0,
          0,
          11,
          27,
          0,
          7,
          70,
          36,
          0,
          0,
          43,
          50
         ],
         "yaxis": "y"
        }
       ],
       "layout": {
        "autosize": true,
        "grid": {
         "xaxes": [
          "x"
         ],
         "xgap": 0.1,
         "xside": "bottom",
         "yaxes": [
          "y"
         ],
         "ygap": 0.1,
         "yside": "left"
        },
        "legend": {
         "tracegroupgap": 0
        },
        "margin": {
         "t": 60
        },
        "template": {
         "data": {
          "bar": [
           {
            "marker": {
             "line": {
              "color": "#E5ECF6",
              "width": 0.5
             }
            },
            "type": "bar"
           }
          ],
          "barpolar": [
           {
            "marker": {
             "line": {
              "color": "#E5ECF6",
              "width": 0.5
             }
            },
            "type": "barpolar"
           }
          ],
          "carpet": [
           {
            "aaxis": {
             "endlinecolor": "#2a3f5f",
             "gridcolor": "white",
             "linecolor": "white",
             "minorgridcolor": "white",
             "startlinecolor": "#2a3f5f"
            },
            "baxis": {
             "endlinecolor": "#2a3f5f",
             "gridcolor": "white",
             "linecolor": "white",
             "minorgridcolor": "white",
             "startlinecolor": "#2a3f5f"
            },
            "type": "carpet"
           }
          ],
          "choropleth": [
           {
            "colorbar": {
             "outlinewidth": 0,
             "ticks": ""
            },
            "type": "choropleth"
           }
          ],
          "contour": [
           {
            "autocolorscale": true,
            "colorbar": {
             "outlinewidth": 0,
             "ticks": ""
            },
            "type": "contour"
           }
          ],
          "contourcarpet": [
           {
            "colorbar": {
             "outlinewidth": 0,
             "ticks": ""
            },
            "type": "contourcarpet"
           }
          ],
          "heatmap": [
           {
            "autocolorscale": true,
            "colorbar": {
             "outlinewidth": 0,
             "ticks": ""
            },
            "type": "heatmap"
           }
          ],
          "heatmapgl": [
           {
            "colorbar": {
             "outlinewidth": 0,
             "ticks": ""
            },
            "type": "heatmapgl"
           }
          ],
          "histogram": [
           {
            "marker": {
             "colorbar": {
              "outlinewidth": 0,
              "ticks": ""
             }
            },
            "type": "histogram"
           }
          ],
          "histogram2d": [
           {
            "autocolorscale": true,
            "colorbar": {
             "outlinewidth": 0,
             "ticks": ""
            },
            "type": "histogram2d"
           }
          ],
          "histogram2dcontour": [
           {
            "autocolorscale": true,
            "colorbar": {
             "outlinewidth": 0,
             "ticks": ""
            },
            "type": "histogram2dcontour"
           }
          ],
          "mesh3d": [
           {
            "colorbar": {
             "outlinewidth": 0,
             "ticks": ""
            },
            "type": "mesh3d"
           }
          ],
          "parcoords": [
           {
            "line": {
             "colorbar": {
              "outlinewidth": 0,
              "ticks": ""
             }
            },
            "type": "parcoords"
           }
          ],
          "scatter": [
           {
            "marker": {
             "colorbar": {
              "outlinewidth": 0,
              "ticks": ""
             }
            },
            "type": "scatter"
           }
          ],
          "scatter3d": [
           {
            "marker": {
             "colorbar": {
              "outlinewidth": 0,
              "ticks": ""
             }
            },
            "type": "scatter3d"
           }
          ],
          "scattercarpet": [
           {
            "marker": {
             "colorbar": {
              "outlinewidth": 0,
              "ticks": ""
             }
            },
            "type": "scattercarpet"
           }
          ],
          "scattergeo": [
           {
            "marker": {
             "colorbar": {
              "outlinewidth": 0,
              "ticks": ""
             }
            },
            "type": "scattergeo"
           }
          ],
          "scattergl": [
           {
            "marker": {
             "colorbar": {
              "outlinewidth": 0,
              "ticks": ""
             }
            },
            "type": "scattergl"
           }
          ],
          "scattermapbox": [
           {
            "marker": {
             "colorbar": {
              "outlinewidth": 0,
              "ticks": ""
             }
            },
            "type": "scattermapbox"
           }
          ],
          "scatterpolar": [
           {
            "marker": {
             "colorbar": {
              "outlinewidth": 0,
              "ticks": ""
             }
            },
            "type": "scatterpolar"
           }
          ],
          "scatterpolargl": [
           {
            "marker": {
             "colorbar": {
              "outlinewidth": 0,
              "ticks": ""
             }
            },
            "type": "scatterpolargl"
           }
          ],
          "scatterternary": [
           {
            "marker": {
             "colorbar": {
              "outlinewidth": 0,
              "ticks": ""
             }
            },
            "type": "scatterternary"
           }
          ],
          "surface": [
           {
            "colorbar": {
             "outlinewidth": 0,
             "ticks": ""
            },
            "type": "surface"
           }
          ],
          "table": [
           {
            "cells": {
             "fill": {
              "color": "#EBF0F8"
             },
             "line": {
              "color": "white"
             }
            },
            "header": {
             "fill": {
              "color": "#C8D4E3"
             },
             "line": {
              "color": "white"
             }
            },
            "type": "table"
           }
          ]
         },
         "layout": {
          "annotationdefaults": {
           "arrowcolor": "#506784",
           "arrowhead": 0,
           "arrowwidth": 1
          },
          "colorscale": {
           "diverging": [
            [
             0,
             "#8e0152"
            ],
            [
             0.1,
             "#c51b7d"
            ],
            [
             0.2,
             "#de77ae"
            ],
            [
             0.3,
             "#f1b6da"
            ],
            [
             0.4,
             "#fde0ef"
            ],
            [
             0.5,
             "#f7f7f7"
            ],
            [
             0.6,
             "#e6f5d0"
            ],
            [
             0.7,
             "#b8e186"
            ],
            [
             0.8,
             "#7fbc41"
            ],
            [
             0.9,
             "#4d9221"
            ],
            [
             1,
             "#276419"
            ]
           ],
           "sequential": [
            [
             0,
             "#0508b8"
            ],
            [
             0.0893854748603352,
             "#1910d8"
            ],
            [
             0.1787709497206704,
             "#3c19f0"
            ],
            [
             0.2681564245810056,
             "#6b1cfb"
            ],
            [
             0.3575418994413408,
             "#981cfd"
            ],
            [
             0.44692737430167595,
             "#bf1cfd"
            ],
            [
             0.5363128491620112,
             "#dd2bfd"
            ],
            [
             0.6256983240223464,
             "#f246fe"
            ],
            [
             0.7150837988826816,
             "#fc67fd"
            ],
            [
             0.8044692737430168,
             "#fe88fc"
            ],
            [
             0.8938547486033519,
             "#fea5fd"
            ],
            [
             0.9832402234636871,
             "#febefe"
            ],
            [
             1,
             "#fec3fe"
            ]
           ],
           "sequentialminus": [
            [
             0,
             "#0508b8"
            ],
            [
             0.0893854748603352,
             "#1910d8"
            ],
            [
             0.1787709497206704,
             "#3c19f0"
            ],
            [
             0.2681564245810056,
             "#6b1cfb"
            ],
            [
             0.3575418994413408,
             "#981cfd"
            ],
            [
             0.44692737430167595,
             "#bf1cfd"
            ],
            [
             0.5363128491620112,
             "#dd2bfd"
            ],
            [
             0.6256983240223464,
             "#f246fe"
            ],
            [
             0.7150837988826816,
             "#fc67fd"
            ],
            [
             0.8044692737430168,
             "#fe88fc"
            ],
            [
             0.8938547486033519,
             "#fea5fd"
            ],
            [
             0.9832402234636871,
             "#febefe"
            ],
            [
             1,
             "#fec3fe"
            ]
           ]
          },
          "colorway": [
           "#636efa",
           "#EF553B",
           "#00cc96",
           "#ab63fa",
           "#19d3f3",
           "#e763fa",
           "#FECB52",
           "#FFA15A",
           "#FF6692",
           "#B6E880"
          ],
          "font": {
           "color": "#2a3f5f"
          },
          "geo": {
           "bgcolor": "white",
           "lakecolor": "white",
           "landcolor": "#E5ECF6",
           "showlakes": true,
           "showland": true,
           "subunitcolor": "white"
          },
          "hovermode": "closest",
          "mapbox": {
           "style": "light"
          },
          "paper_bgcolor": "white",
          "plot_bgcolor": "#E5ECF6",
          "polar": {
           "angularaxis": {
            "gridcolor": "white",
            "linecolor": "white",
            "ticks": ""
           },
           "bgcolor": "#E5ECF6",
           "radialaxis": {
            "gridcolor": "white",
            "linecolor": "white",
            "ticks": ""
           }
          },
          "scene": {
           "xaxis": {
            "backgroundcolor": "#E5ECF6",
            "gridcolor": "white",
            "gridwidth": 2,
            "linecolor": "white",
            "showbackground": true,
            "ticks": "",
            "zerolinecolor": "white"
           },
           "yaxis": {
            "backgroundcolor": "#E5ECF6",
            "gridcolor": "white",
            "gridwidth": 2,
            "linecolor": "white",
            "showbackground": true,
            "ticks": "",
            "zerolinecolor": "white"
           },
           "zaxis": {
            "backgroundcolor": "#E5ECF6",
            "gridcolor": "white",
            "gridwidth": 2,
            "linecolor": "white",
            "showbackground": true,
            "ticks": "",
            "zerolinecolor": "white"
           }
          },
          "shapedefaults": {
           "fillcolor": "#506784",
           "line": {
            "width": 0
           },
           "opacity": 0.4
          },
          "ternary": {
           "aaxis": {
            "gridcolor": "white",
            "linecolor": "white",
            "ticks": ""
           },
           "baxis": {
            "gridcolor": "white",
            "linecolor": "white",
            "ticks": ""
           },
           "bgcolor": "#E5ECF6",
           "caxis": {
            "gridcolor": "white",
            "linecolor": "white",
            "ticks": ""
           }
          },
          "title": {
           "x": 0.05
          },
          "xaxis": {
           "automargin": true,
           "gridcolor": "white",
           "linecolor": "white",
           "ticks": "",
           "zerolinecolor": "white",
           "zerolinewidth": 2
          },
          "yaxis": {
           "automargin": true,
           "gridcolor": "white",
           "linecolor": "white",
           "ticks": "",
           "zerolinecolor": "white",
           "zerolinewidth": 2
          }
         }
        },
        "xaxis": {
         "autorange": true,
         "range": [
          "2012-02-12 05:00",
          "2019-04-07 04:00"
         ],
         "title": {
          "text": "Date"
         },
         "type": "date"
        },
        "yaxis": {
         "autorange": true,
         "range": [
          -3.888888888888889,
          73.88888888888889
         ],
         "title": {
          "text": "Civilian (V)"
         },
         "type": "linear"
        }
       }
      },
      "image/png": "[encoded data removed]",
      "text/html": [
       "<div id=\"ec7b60e4-5d6f-4336-9b02-61d5420cf158\" style=\"height: 600px; width: 100%;\" class=\"plotly-graph-div\"></div><script type=\"text/javascript\">require([\"plotly\"], function(Plotly) { window.PLOTLYENV=window.PLOTLYENV || {};window.PLOTLYENV.BASE_URL=\"https://plot.ly\";\n",
       "if (document.getElementById(\"ec7b60e4-5d6f-4336-9b02-61d5420cf158\")) {\n",
       "    Plotly.newPlot(\"ec7b60e4-5d6f-4336-9b02-61d5420cf158\", [{\"hovertemplate\": \"Date=%{x}<br>Civilian (V)=%{y}<extra></extra>\", \"legendgroup\": \"\", \"line\": {\"color\": \"#636efa\", \"dash\": \"solid\"}, \"mode\": \"lines\", \"name\": \"\", \"showlegend\": false, \"x\": [\"2012-02-12 05:00:00\", \"2012-02-19 05:00:00\", \"2012-02-26 05:00:00\", \"2012-03-04 05:00:00\", \"2012-03-11 05:00:00\", \"2012-03-18 04:00:00\", \"2012-03-25 04:00:00\", \"2012-04-01 04:00:00\", \"2012-04-08 04:00:00\", \"2012-04-15 04:00:00\", \"2012-04-22 04:00:00\", \"2012-04-29 04:00:00\", \"2012-05-06 04:00:00\", \"2012-05-13 04:00:00\", \"2012-05-20 04:00:00\", \"2012-05-27 04:00:00\", \"2012-06-03 04:00:00\", \"2012-06-10 04:00:00\", \"2012-06-17 04:00:00\", \"2012-06-24 04:00:00\", \"2012-07-01 04:00:00\", \"2012-07-08 04:00:00\", \"2012-07-15 04:00:00\", \"2012-07-22 04:00:00\", \"2012-07-29 04:00:00\", \"2012-08-05 04:00:00\", \"2012-08-12 04:00:00\", \"2012-08-19 04:00:00\", \"2012-08-26 04:00:00\", \"2012-09-02 04:00:00\", \"2012-09-09 04:00:00\", \"2012-09-16 04:00:00\", \"2012-09-23 04:00:00\", \"2012-09-30 04:00:00\", \"2012-10-07 04:00:00\", \"2012-10-14 04:00:00\", \"2012-10-21 04:00:00\", \"2012-10-28 04:00:00\", \"2012-11-04 04:00:00\", \"2012-11-11 05:00:00\", \"2012-11-18 05:00:00\", \"2012-11-25 05:00:00\", \"2012-12-02 05:00:00\", \"2012-12-09 05:00:00\", \"2012-12-16 05:00:00\", \"2012-12-23 05:00:00\", \"2012-12-30 05:00:00\", \"2013-01-06 05:00:00\", \"2013-01-13 05:00:00\", \"2013-01-20 05:00:00\", \"2013-01-27 05:00:00\", \"2013-02-03 05:00:00\", \"2013-02-10 05:00:00\", \"2013-02-17 05:00:00\", \"2013-02-24 05:00:00\", \"2013-03-03 05:00:00\", \"2013-03-10 05:00:00\", \"2013-03-17 04:00:00\", \"2013-03-24 04:00:00\", \"2013-03-31 04:00:00\", \"2013-04-07 04:00:00\", \"2013-04-14 04:00:00\", \"2013-04-21 04:00:00\", \"2013-04-28 04:00:00\", \"2013-05-05 04:00:00\", \"2013-05-12 04:00:00\", \"2013-05-19 04:00:00\", \"2013-05-26 04:00:00\", \"2013-06-02 04:00:00\", \"2013-06-09 04:00:00\", \"2013-06-16 04:00:00\", \"2013-06-23 04:00:00\", \"2013-06-30 04:00:00\", \"2013-07-07 04:00:00\", \"2013-07-14 04:00:00\", \"2013-07-21 04:00:00\", \"2013-07-28 04:00:00\", \"2013-08-04 04:00:00\", \"2013-08-11 04:00:00\", \"2013-08-18 04:00:00\", \"2013-08-25 04:00:00\", \"2013-09-01 04:00:00\", \"2013-09-08 04:00:00\", \"2013-09-15 04:00:00\", \"2013-09-22 04:00:00\", \"2013-09-29 04:00:00\", \"2013-10-06 04:00:00\", \"2013-10-13 04:00:00\", \"2013-10-20 04:00:00\", \"2013-10-27 04:00:00\", \"2013-11-03 04:00:00\", \"2013-11-10 05:00:00\", \"2013-11-17 05:00:00\", \"2013-11-24 05:00:00\", \"2013-12-01 05:00:00\", \"2013-12-08 05:00:00\", \"2013-12-15 05:00:00\", \"2013-12-22 05:00:00\", \"2013-12-29 05:00:00\", \"2014-01-05 05:00:00\", \"2014-01-12 05:00:00\", \"2014-01-19 05:00:00\", \"2014-01-26 05:00:00\", \"2014-02-02 05:00:00\", \"2014-02-09 05:00:00\", \"2014-02-16 05:00:00\", \"2014-02-23 05:00:00\", \"2014-03-02 05:00:00\", \"2014-03-09 05:00:00\", \"2014-03-16 04:00:00\", \"2014-03-23 04:00:00\", \"2014-03-30 04:00:00\", \"2014-04-06 04:00:00\", \"2014-04-13 04:00:00\", \"2014-04-20 04:00:00\", \"2014-04-27 04:00:00\", \"2014-05-04 04:00:00\", \"2014-05-11 04:00:00\", \"2014-05-18 04:00:00\", \"2014-05-25 04:00:00\", \"2014-06-01 04:00:00\", \"2014-06-08 04:00:00\", \"2014-06-15 04:00:00\", \"2014-06-22 04:00:00\", \"2014-06-29 04:00:00\", \"2014-07-06 04:00:00\", \"2014-07-13 04:00:00\", \"2014-07-20 04:00:00\", \"2014-07-27 04:00:00\", \"2014-08-03 04:00:00\", \"2014-08-10 04:00:00\", \"2014-08-17 04:00:00\", \"2014-08-24 04:00:00\", \"2014-08-31 04:00:00\", \"2014-09-07 04:00:00\", \"2014-09-14 04:00:00\", \"2014-09-21 04:00:00\", \"2014-09-28 04:00:00\", \"2014-10-05 04:00:00\", \"2014-10-12 04:00:00\", \"2014-10-19 04:00:00\", \"2014-10-26 04:00:00\", \"2014-11-02 04:00:00\", \"2014-11-09 05:00:00\", \"2014-11-16 05:00:00\", \"2014-11-23 05:00:00\", \"2014-11-30 05:00:00\", \"2014-12-07 05:00:00\", \"2014-12-14 05:00:00\", \"2014-12-21 05:00:00\", \"2014-12-28 05:00:00\", \"2015-01-04 05:00:00\", \"2015-01-11 05:00:00\", \"2015-01-18 05:00:00\", \"2015-01-25 05:00:00\", \"2015-02-01 05:00:00\", \"2015-02-08 05:00:00\", \"2015-02-15 05:00:00\", \"2015-02-22 05:00:00\", \"2015-03-01 05:00:00\", \"2015-03-08 05:00:00\", \"2015-03-15 04:00:00\", \"2015-03-22 04:00:00\", \"2015-03-29 04:00:00\", \"2015-04-05 04:00:00\", \"2015-04-12 04:00:00\", \"2015-04-19 04:00:00\", \"2015-04-26 04:00:00\", \"2015-05-03 04:00:00\", \"2015-05-10 04:00:00\", \"2015-05-17 04:00:00\", \"2015-05-24 04:00:00\", \"2015-05-31 04:00:00\", \"2015-06-07 04:00:00\", \"2015-06-14 04:00:00\", \"2015-06-21 04:00:00\", \"2015-06-28 04:00:00\", \"2015-07-05 04:00:00\", \"2015-07-12 04:00:00\", \"2015-07-19 04:00:00\", \"2015-07-26 04:00:00\", \"2015-08-02 04:00:00\", \"2015-08-09 04:00:00\", \"2015-08-16 04:00:00\", \"2015-08-23 04:00:00\", \"2015-08-30 04:00:00\", \"2015-09-06 04:00:00\", \"2015-09-13 04:00:00\", \"2015-09-20 04:00:00\", \"2015-09-27 04:00:00\", \"2015-10-04 04:00:00\", \"2015-10-11 04:00:00\", \"2015-10-18 04:00:00\", \"2015-10-25 04:00:00\", \"2015-11-01 04:00:00\", \"2015-11-08 05:00:00\", \"2015-11-15 05:00:00\", \"2015-11-22 05:00:00\", \"2015-11-29 05:00:00\", \"2015-12-06 05:00:00\", \"2015-12-13 05:00:00\", \"2015-12-20 05:00:00\", \"2015-12-27 05:00:00\", \"2016-01-03 05:00:00\", \"2016-01-10 05:00:00\", \"2016-01-17 05:00:00\", \"2016-01-24 05:00:00\", \"2016-01-31 05:00:00\", \"2016-02-07 05:00:00\", \"2016-02-14 05:00:00\", \"2016-02-21 05:00:00\", \"2016-02-28 05:00:00\", \"2016-03-06 05:00:00\", \"2016-03-13 05:00:00\", \"2016-03-20 04:00:00\", \"2016-03-27 04:00:00\", \"2016-04-03 04:00:00\", \"2016-04-10 04:00:00\", \"2016-04-17 04:00:00\", \"2016-04-24 04:00:00\", \"2016-05-01 04:00:00\", \"2016-05-08 04:00:00\", \"2016-05-15 04:00:00\", \"2016-05-22 04:00:00\", \"2016-05-29 04:00:00\", \"2016-06-05 04:00:00\", \"2016-06-12 04:00:00\", \"2016-06-19 04:00:00\", \"2016-06-26 04:00:00\", \"2016-07-03 04:00:00\", \"2016-07-10 04:00:00\", \"2016-07-17 04:00:00\", \"2016-07-24 04:00:00\", \"2016-07-31 04:00:00\", \"2016-08-07 04:00:00\", \"2016-08-14 04:00:00\", \"2016-08-21 04:00:00\", \"2016-08-28 04:00:00\", \"2016-09-04 04:00:00\", \"2016-09-11 04:00:00\", \"2016-09-18 04:00:00\", \"2016-09-25 04:00:00\", \"2016-10-02 04:00:00\", \"2016-10-09 04:00:00\", \"2016-10-16 04:00:00\", \"2016-10-23 04:00:00\", \"2016-10-30 04:00:00\", \"2016-11-06 04:00:00\", \"2016-11-13 05:00:00\", \"2016-11-20 05:00:00\", \"2016-11-27 05:00:00\", \"2016-12-04 05:00:00\", \"2016-12-11 05:00:00\", \"2016-12-18 05:00:00\", \"2016-12-25 05:00:00\", \"2017-01-01 05:00:00\", \"2017-01-08 05:00:00\", \"2017-01-15 05:00:00\", \"2017-01-22 05:00:00\", \"2017-01-29 05:00:00\", \"2017-02-05 05:00:00\", \"2017-02-12 05:00:00\", \"2017-02-19 05:00:00\", \"2017-02-26 05:00:00\", \"2017-03-05 05:00:00\", \"2017-03-12 05:00:00\", \"2017-03-19 04:00:00\", \"2017-03-26 04:00:00\", \"2017-04-02 04:00:00\", \"2017-04-09 04:00:00\", \"2017-04-16 04:00:00\", \"2017-04-23 04:00:00\", \"2017-04-30 04:00:00\", \"2017-05-07 04:00:00\", \"2017-05-14 04:00:00\", \"2017-05-21 04:00:00\", \"2017-05-28 04:00:00\", \"2017-06-04 04:00:00\", \"2017-06-11 04:00:00\", \"2017-06-18 04:00:00\", \"2017-06-25 04:00:00\", \"2017-07-02 04:00:00\", \"2017-07-09 04:00:00\", \"2017-07-16 04:00:00\", \"2017-07-23 04:00:00\", \"2017-07-30 04:00:00\", \"2017-08-06 04:00:00\", \"2017-08-13 04:00:00\", \"2017-08-20 04:00:00\", \"2017-08-27 04:00:00\", \"2017-09-03 04:00:00\", \"2017-09-10 04:00:00\", \"2017-09-17 04:00:00\", \"2017-09-24 04:00:00\", \"2017-10-01 04:00:00\", \"2017-10-08 04:00:00\", \"2017-10-15 04:00:00\", \"2017-10-22 04:00:00\", \"2017-10-29 04:00:00\", \"2017-11-05 04:00:00\", \"2017-11-12 05:00:00\", \"2017-11-19 05:00:00\", \"2017-11-26 05:00:00\", \"2017-12-03 05:00:00\", \"2017-12-10 05:00:00\", \"2017-12-17 05:00:00\", \"2017-12-24 05:00:00\", \"2017-12-31 05:00:00\", \"2018-01-07 05:00:00\", \"2018-01-14 05:00:00\", \"2018-01-21 05:00:00\", \"2018-01-28 05:00:00\", \"2018-02-04 05:00:00\", \"2018-02-11 05:00:00\", \"2018-02-18 05:00:00\", \"2018-02-25 05:00:00\", \"2018-03-04 05:00:00\", \"2018-03-11 05:00:00\", \"2018-03-18 04:00:00\", \"2018-03-25 04:00:00\", \"2018-04-01 04:00:00\", \"2018-04-08 04:00:00\", \"2018-04-15 04:00:00\", \"2018-04-22 04:00:00\", \"2018-04-29 04:00:00\", \"2018-05-06 04:00:00\", \"2018-05-13 04:00:00\", \"2018-05-20 04:00:00\", \"2018-05-27 04:00:00\", \"2018-06-03 04:00:00\", \"2018-06-10 04:00:00\", \"2018-06-17 04:00:00\", \"2018-06-24 04:00:00\", \"2018-07-01 04:00:00\", \"2018-07-08 04:00:00\", \"2018-07-15 04:00:00\", \"2018-07-22 04:00:00\", \"2018-07-29 04:00:00\", \"2018-08-05 04:00:00\", \"2018-08-12 04:00:00\", \"2018-08-19 04:00:00\", \"2018-08-26 04:00:00\", \"2018-09-02 04:00:00\", \"2018-09-09 04:00:00\", \"2018-09-16 04:00:00\", \"2018-09-23 04:00:00\", \"2018-09-30 04:00:00\", \"2018-10-07 04:00:00\", \"2018-10-14 04:00:00\", \"2018-10-21 04:00:00\", \"2018-10-28 04:00:00\", \"2018-11-04 04:00:00\", \"2018-11-11 05:00:00\", \"2018-11-18 05:00:00\", \"2018-11-25 05:00:00\", \"2018-12-02 05:00:00\", \"2018-12-09 05:00:00\", \"2018-12-16 05:00:00\", \"2018-12-23 05:00:00\", \"2018-12-30 05:00:00\", \"2019-01-06 05:00:00\", \"2019-01-13 05:00:00\", \"2019-01-20 05:00:00\", \"2019-01-27 05:00:00\", \"2019-02-03 05:00:00\", \"2019-02-10 05:00:00\", \"2019-02-17 05:00:00\", \"2019-02-24 05:00:00\", \"2019-03-03 05:00:00\", \"2019-03-10 05:00:00\", \"2019-03-17 04:00:00\", \"2019-03-24 04:00:00\", \"2019-03-31 04:00:00\", \"2019-04-07 04:00:00\"], \"xaxis\": \"x\", \"y\": [1.0, 0.0, 0.0, 0.0, 0.0, 0.0, 0.0, 0.0, 0.0, 0.0, 0.0, 0.0, 0.0, 0.0, 0.0, 0.0, 0.0, 0.0, 0.0, 0.0, 0.0, 0.0, 0.0, 0.0, 0.0, 0.0, 0.0, 0.0, 0.0, 0.0, 0.0, 0.0, 0.0, 0.0, 0.0, 0.0, 0.0, 0.0, 20.0, 0.0, 0.0, 0.0, 0.0, 0.0, 0.0, 0.0, 0.0, 0.0, 0.0, 0.0, 0.0, 0.0, 0.0, 0.0, 7.0, 0.0, 0.0, 0.0, 0.0, 0.0, 0.0, 0.0, 0.0, 0.0, 0.0, 0.0, 0.0, 0.0, 0.0, 0.0, 0.0, 0.0, 0.0, 0.0, 0.0, 0.0, 0.0, 0.0, 0.0, 0.0, 0.0, 0.0, 0.0, 0.0, 0.0, 0.0, 0.0, 0.0, 0.0, 0.0, 0.0, 0.0, 0.0, 0.0, 0.0, 0.0, 0.0, 0.0, 0.0, 0.0, 0.0, 0.0, 0.0, 0.0, 15.0, 0.0, 0.0, 0.0, 0.0, 0.0, 0.0, 0.0, 28.0, 0.0, 0.0, 0.0, 0.0, 0.0, 0.0, 0.0, 0.0, 0.0, 0.0, 0.0, 0.0, 0.0, 0.0, 0.0, 0.0, 0.0, 0.0, 0.0, 0.0, 0.0, 0.0, 0.0, 0.0, 0.0, 0.0, 0.0, 0.0, 0.0, 0.0, 0.0, 0.0, 0.0, 0.0, 0.0, 0.0, 0.0, 0.0, 0.0, 0.0, 0.0, 0.0, 0.0, 0.0, 0.0, 0.0, 0.0, 0.0, 0.0, 0.0, 0.0, 0.0, 0.0, 0.0, 0.0, 0.0, 0.0, 0.0, 0.0, 0.0, 0.0, 0.0, 0.0, 0.0, 40.0, 0.0, 0.0, 0.0, 0.0, 0.0, 0.0, 0.0, 0.0, 0.0, 0.0, 0.0, 0.0, 0.0, 0.0, 0.0, 0.0, 0.0, 0.0, 0.0, 0.0, 0.0, 0.0, 0.0, 0.0, 0.0, 0.0, 0.0, 0.0, 0.0, 0.0, 0.0, 0.0, 0.0, 0.0, 0.0, 0.0, 0.0, 0.0, 0.0, 0.0, 0.0, 0.0, 0.0, 0.0, 0.0, 0.0, 0.0, 0.0, 0.0, 0.0, 0.0, 0.0, 0.0, 0.0, 0.0, 0.0, 0.0, 0.0, 0.0, 8.0, 0.0, 0.0, 0.0, 0.0, 0.0, 0.0, 0.0, 0.0, 0.0, 0.0, 40.0, 56.0, 0.0, 0.0, 0.0, 0.0, 0.0, 0.0, 0.0, 0.0, 0.0, 0.0, 0.0, 3.0, 24.0, 0.0, 0.0, 0.0, 0.0, 0.0, 0.0, 0.0, 0.0, 0.0, 0.0, 0.0, 0.0, 0.0, 0.0, 0.0, 0.0, 0.0, 0.0, 0.0, 0.0, 0.0, 0.0, 0.0, 0.0, 0.0, 0.0, 0.0, 0.0, 0.0, 0.0, 0.0, 0.0, 0.0, 0.0, 0.0, 0.0, 0.0, 0.0, 25.0, 0.0, 0.0, 0.0, 0.0, 0.0, 0.0, 0.0, 0.0, 0.0, 6.0, 0.0, 0.0, 0.0, 0.0, 0.0, 0.0, 0.0, 0.0, 36.0, 0.0, 40.0, 30.0, 0.0, 0.0, 0.0, 0.0, 7.0, 23.0, 1.0, 26.0, 0.0, 23.0, 1.0, 0.0, 33.0, 4.0, 0.0, 0.0, 0.0, 0.0, 0.0, 0.0, 11.0, 0.0, 0.0, 0.0, 0.0, 0.0, 5.0, 0.0, 0.0, 0.0, 0.0, 0.0, 0.0, 0.0, 42.0, 0.0, 18.0, 0.0, 0.0, 0.0, 11.0, 27.0, 0.0, 7.0, 70.0, 36.0, 0.0, 0.0, 43.0, 50.0], \"yaxis\": \"y\", \"type\": \"scatter\", \"uid\": \"78ccf331-a4d4-4cbe-ac05-d2b71cdfe3ba\"}], {\"height\": 600, \"legend\": {\"tracegroupgap\": 0}, \"margin\": {\"t\": 60}, \"template\": {\"data\": {\"barpolar\": [{\"marker\": {\"line\": {\"color\": \"#E5ECF6\", \"width\": 0.5}}, \"type\": \"barpolar\"}], \"bar\": [{\"marker\": {\"line\": {\"color\": \"#E5ECF6\", \"width\": 0.5}}, \"type\": \"bar\"}], \"carpet\": [{\"aaxis\": {\"endlinecolor\": \"#2a3f5f\", \"gridcolor\": \"white\", \"linecolor\": \"white\", \"minorgridcolor\": \"white\", \"startlinecolor\": \"#2a3f5f\"}, \"baxis\": {\"endlinecolor\": \"#2a3f5f\", \"gridcolor\": \"white\", \"linecolor\": \"white\", \"minorgridcolor\": \"white\", \"startlinecolor\": \"#2a3f5f\"}, \"type\": \"carpet\"}], \"choropleth\": [{\"colorbar\": {\"outlinewidth\": 0, \"ticks\": \"\"}, \"type\": \"choropleth\"}], \"contourcarpet\": [{\"colorbar\": {\"outlinewidth\": 0, \"ticks\": \"\"}, \"type\": \"contourcarpet\"}], \"contour\": [{\"autocolorscale\": true, \"colorbar\": {\"outlinewidth\": 0, \"ticks\": \"\"}, \"type\": \"contour\"}], \"heatmapgl\": [{\"colorbar\": {\"outlinewidth\": 0, \"ticks\": \"\"}, \"type\": \"heatmapgl\"}], \"heatmap\": [{\"autocolorscale\": true, \"colorbar\": {\"outlinewidth\": 0, \"ticks\": \"\"}, \"type\": \"heatmap\"}], \"histogram2dcontour\": [{\"autocolorscale\": true, \"colorbar\": {\"outlinewidth\": 0, \"ticks\": \"\"}, \"type\": \"histogram2dcontour\"}], \"histogram2d\": [{\"autocolorscale\": true, \"colorbar\": {\"outlinewidth\": 0, \"ticks\": \"\"}, \"type\": \"histogram2d\"}], \"histogram\": [{\"marker\": {\"colorbar\": {\"outlinewidth\": 0, \"ticks\": \"\"}}, \"type\": \"histogram\"}], \"mesh3d\": [{\"colorbar\": {\"outlinewidth\": 0, \"ticks\": \"\"}, \"type\": \"mesh3d\"}], \"parcoords\": [{\"line\": {\"colorbar\": {\"outlinewidth\": 0, \"ticks\": \"\"}}, \"type\": \"parcoords\"}], \"scatter3d\": [{\"marker\": {\"colorbar\": {\"outlinewidth\": 0, \"ticks\": \"\"}}, \"type\": \"scatter3d\"}], \"scattercarpet\": [{\"marker\": {\"colorbar\": {\"outlinewidth\": 0, \"ticks\": \"\"}}, \"type\": \"scattercarpet\"}], \"scattergeo\": [{\"marker\": {\"colorbar\": {\"outlinewidth\": 0, \"ticks\": \"\"}}, \"type\": \"scattergeo\"}], \"scattergl\": [{\"marker\": {\"colorbar\": {\"outlinewidth\": 0, \"ticks\": \"\"}}, \"type\": \"scattergl\"}], \"scattermapbox\": [{\"marker\": {\"colorbar\": {\"outlinewidth\": 0, \"ticks\": \"\"}}, \"type\": \"scattermapbox\"}], \"scatterpolargl\": [{\"marker\": {\"colorbar\": {\"outlinewidth\": 0, \"ticks\": \"\"}}, \"type\": \"scatterpolargl\"}], \"scatterpolar\": [{\"marker\": {\"colorbar\": {\"outlinewidth\": 0, \"ticks\": \"\"}}, \"type\": \"scatterpolar\"}], \"scatter\": [{\"marker\": {\"colorbar\": {\"outlinewidth\": 0, \"ticks\": \"\"}}, \"type\": \"scatter\"}], \"scatterternary\": [{\"marker\": {\"colorbar\": {\"outlinewidth\": 0, \"ticks\": \"\"}}, \"type\": \"scatterternary\"}], \"surface\": [{\"colorbar\": {\"outlinewidth\": 0, \"ticks\": \"\"}, \"type\": \"surface\"}], \"table\": [{\"cells\": {\"fill\": {\"color\": \"#EBF0F8\"}, \"line\": {\"color\": \"white\"}}, \"header\": {\"fill\": {\"color\": \"#C8D4E3\"}, \"line\": {\"color\": \"white\"}}, \"type\": \"table\"}]}, \"layout\": {\"annotationdefaults\": {\"arrowcolor\": \"#506784\", \"arrowhead\": 0, \"arrowwidth\": 1}, \"colorscale\": {\"diverging\": [[0, \"#8e0152\"], [0.1, \"#c51b7d\"], [0.2, \"#de77ae\"], [0.3, \"#f1b6da\"], [0.4, \"#fde0ef\"], [0.5, \"#f7f7f7\"], [0.6, \"#e6f5d0\"], [0.7, \"#b8e186\"], [0.8, \"#7fbc41\"], [0.9, \"#4d9221\"], [1, \"#276419\"]], \"sequential\": [[0.0, \"#0508b8\"], [0.0893854748603352, \"#1910d8\"], [0.1787709497206704, \"#3c19f0\"], [0.2681564245810056, \"#6b1cfb\"], [0.3575418994413408, \"#981cfd\"], [0.44692737430167595, \"#bf1cfd\"], [0.5363128491620112, \"#dd2bfd\"], [0.6256983240223464, \"#f246fe\"], [0.7150837988826816, \"#fc67fd\"], [0.8044692737430168, \"#fe88fc\"], [0.8938547486033519, \"#fea5fd\"], [0.9832402234636871, \"#febefe\"], [1.0, \"#fec3fe\"]], \"sequentialminus\": [[0.0, \"#0508b8\"], [0.0893854748603352, \"#1910d8\"], [0.1787709497206704, \"#3c19f0\"], [0.2681564245810056, \"#6b1cfb\"], [0.3575418994413408, \"#981cfd\"], [0.44692737430167595, \"#bf1cfd\"], [0.5363128491620112, \"#dd2bfd\"], [0.6256983240223464, \"#f246fe\"], [0.7150837988826816, \"#fc67fd\"], [0.8044692737430168, \"#fe88fc\"], [0.8938547486033519, \"#fea5fd\"], [0.9832402234636871, \"#febefe\"], [1.0, \"#fec3fe\"]]}, \"colorway\": [\"#636efa\", \"#EF553B\", \"#00cc96\", \"#ab63fa\", \"#19d3f3\", \"#e763fa\", \"#FECB52\", \"#FFA15A\", \"#FF6692\", \"#B6E880\"], \"font\": {\"color\": \"#2a3f5f\"}, \"geo\": {\"bgcolor\": \"white\", \"lakecolor\": \"white\", \"landcolor\": \"#E5ECF6\", \"showlakes\": true, \"showland\": true, \"subunitcolor\": \"white\"}, \"hovermode\": \"closest\", \"mapbox\": {\"style\": \"light\"}, \"paper_bgcolor\": \"white\", \"plot_bgcolor\": \"#E5ECF6\", \"polar\": {\"angularaxis\": {\"gridcolor\": \"white\", \"linecolor\": \"white\", \"ticks\": \"\"}, \"bgcolor\": \"#E5ECF6\", \"radialaxis\": {\"gridcolor\": \"white\", \"linecolor\": \"white\", \"ticks\": \"\"}}, \"scene\": {\"xaxis\": {\"backgroundcolor\": \"#E5ECF6\", \"gridcolor\": \"white\", \"gridwidth\": 2, \"linecolor\": \"white\", \"showbackground\": true, \"ticks\": \"\", \"zerolinecolor\": \"white\"}, \"yaxis\": {\"backgroundcolor\": \"#E5ECF6\", \"gridcolor\": \"white\", \"gridwidth\": 2, \"linecolor\": \"white\", \"showbackground\": true, \"ticks\": \"\", \"zerolinecolor\": \"white\"}, \"zaxis\": {\"backgroundcolor\": \"#E5ECF6\", \"gridcolor\": \"white\", \"gridwidth\": 2, \"linecolor\": \"white\", \"showbackground\": true, \"ticks\": \"\", \"zerolinecolor\": \"white\"}}, \"shapedefaults\": {\"fillcolor\": \"#506784\", \"line\": {\"width\": 0}, \"opacity\": 0.4}, \"ternary\": {\"aaxis\": {\"gridcolor\": \"white\", \"linecolor\": \"white\", \"ticks\": \"\"}, \"baxis\": {\"gridcolor\": \"white\", \"linecolor\": \"white\", \"ticks\": \"\"}, \"bgcolor\": \"#E5ECF6\", \"caxis\": {\"gridcolor\": \"white\", \"linecolor\": \"white\", \"ticks\": \"\"}}, \"title\": {\"x\": 0.05}, \"xaxis\": {\"automargin\": true, \"gridcolor\": \"white\", \"linecolor\": \"white\", \"ticks\": \"\", \"zerolinecolor\": \"white\", \"zerolinewidth\": 2}, \"yaxis\": {\"automargin\": true, \"gridcolor\": \"white\", \"linecolor\": \"white\", \"ticks\": \"\", \"zerolinecolor\": \"white\", \"zerolinewidth\": 2}}}, \"grid\": {\"xaxes\": [\"x\"], \"yaxes\": [\"y\"], \"xgap\": 0.1, \"ygap\": 0.1, \"xside\": \"bottom\", \"yside\": \"left\"}, \"xaxis\": {\"title\": {\"text\": \"Date\"}}, \"yaxis\": {\"title\": {\"text\": \"Civilian (V)\"}}}, {\"showLink\": false, \"linkText\": \"Export to plot.ly\", \"plotlyServerURL\": \"https://plot.ly\"}); \n",
       "}\n",
       "});</script><script type=\"text/javascript\">window.addEventListener(\"resize\", function(){if (document.getElementById(\"ec7b60e4-5d6f-4336-9b02-61d5420cf158\")) {window._Plotly.Plots.resize(document.getElementById(\"ec7b60e4-5d6f-4336-9b02-61d5420cf158\"));};})</script>"
      ],
      "text/vnd.plotly.v1+html": [
       "<div id=\"ec7b60e4-5d6f-4336-9b02-61d5420cf158\" style=\"height: 600px; width: 100%;\" class=\"plotly-graph-div\"></div><script type=\"text/javascript\">require([\"plotly\"], function(Plotly) { window.PLOTLYENV=window.PLOTLYENV || {};window.PLOTLYENV.BASE_URL=\"https://plot.ly\";\n",
       "if (document.getElementById(\"ec7b60e4-5d6f-4336-9b02-61d5420cf158\")) {\n",
       "    Plotly.newPlot(\"ec7b60e4-5d6f-4336-9b02-61d5420cf158\", [{\"hovertemplate\": \"Date=%{x}<br>Civilian (V)=%{y}<extra></extra>\", \"legendgroup\": \"\", \"line\": {\"color\": \"#636efa\", \"dash\": \"solid\"}, \"mode\": \"lines\", \"name\": \"\", \"showlegend\": false, \"x\": [\"2012-02-12 05:00:00\", \"2012-02-19 05:00:00\", \"2012-02-26 05:00:00\", \"2012-03-04 05:00:00\", \"2012-03-11 05:00:00\", \"2012-03-18 04:00:00\", \"2012-03-25 04:00:00\", \"2012-04-01 04:00:00\", \"2012-04-08 04:00:00\", \"2012-04-15 04:00:00\", \"2012-04-22 04:00:00\", \"2012-04-29 04:00:00\", \"2012-05-06 04:00:00\", \"2012-05-13 04:00:00\", \"2012-05-20 04:00:00\", \"2012-05-27 04:00:00\", \"2012-06-03 04:00:00\", \"2012-06-10 04:00:00\", \"2012-06-17 04:00:00\", \"2012-06-24 04:00:00\", \"2012-07-01 04:00:00\", \"2012-07-08 04:00:00\", \"2012-07-15 04:00:00\", \"2012-07-22 04:00:00\", \"2012-07-29 04:00:00\", \"2012-08-05 04:00:00\", \"2012-08-12 04:00:00\", \"2012-08-19 04:00:00\", \"2012-08-26 04:00:00\", \"2012-09-02 04:00:00\", \"2012-09-09 04:00:00\", \"2012-09-16 04:00:00\", \"2012-09-23 04:00:00\", \"2012-09-30 04:00:00\", \"2012-10-07 04:00:00\", \"2012-10-14 04:00:00\", \"2012-10-21 04:00:00\", \"2012-10-28 04:00:00\", \"2012-11-04 04:00:00\", \"2012-11-11 05:00:00\", \"2012-11-18 05:00:00\", \"2012-11-25 05:00:00\", \"2012-12-02 05:00:00\", \"2012-12-09 05:00:00\", \"2012-12-16 05:00:00\", \"2012-12-23 05:00:00\", \"2012-12-30 05:00:00\", \"2013-01-06 05:00:00\", \"2013-01-13 05:00:00\", \"2013-01-20 05:00:00\", \"2013-01-27 05:00:00\", \"2013-02-03 05:00:00\", \"2013-02-10 05:00:00\", \"2013-02-17 05:00:00\", \"2013-02-24 05:00:00\", \"2013-03-03 05:00:00\", \"2013-03-10 05:00:00\", \"2013-03-17 04:00:00\", \"2013-03-24 04:00:00\", \"2013-03-31 04:00:00\", \"2013-04-07 04:00:00\", \"2013-04-14 04:00:00\", \"2013-04-21 04:00:00\", \"2013-04-28 04:00:00\", \"2013-05-05 04:00:00\", \"2013-05-12 04:00:00\", \"2013-05-19 04:00:00\", \"2013-05-26 04:00:00\", \"2013-06-02 04:00:00\", \"2013-06-09 04:00:00\", \"2013-06-16 04:00:00\", \"2013-06-23 04:00:00\", \"2013-06-30 04:00:00\", \"2013-07-07 04:00:00\", \"2013-07-14 04:00:00\", \"2013-07-21 04:00:00\", \"2013-07-28 04:00:00\", \"2013-08-04 04:00:00\", \"2013-08-11 04:00:00\", \"2013-08-18 04:00:00\", \"2013-08-25 04:00:00\", \"2013-09-01 04:00:00\", \"2013-09-08 04:00:00\", \"2013-09-15 04:00:00\", \"2013-09-22 04:00:00\", \"2013-09-29 04:00:00\", \"2013-10-06 04:00:00\", \"2013-10-13 04:00:00\", \"2013-10-20 04:00:00\", \"2013-10-27 04:00:00\", \"2013-11-03 04:00:00\", \"2013-11-10 05:00:00\", \"2013-11-17 05:00:00\", \"2013-11-24 05:00:00\", \"2013-12-01 05:00:00\", \"2013-12-08 05:00:00\", \"2013-12-15 05:00:00\", \"2013-12-22 05:00:00\", \"2013-12-29 05:00:00\", \"2014-01-05 05:00:00\", \"2014-01-12 05:00:00\", \"2014-01-19 05:00:00\", \"2014-01-26 05:00:00\", \"2014-02-02 05:00:00\", \"2014-02-09 05:00:00\", \"2014-02-16 05:00:00\", \"2014-02-23 05:00:00\", \"2014-03-02 05:00:00\", \"2014-03-09 05:00:00\", \"2014-03-16 04:00:00\", \"2014-03-23 04:00:00\", \"2014-03-30 04:00:00\", \"2014-04-06 04:00:00\", \"2014-04-13 04:00:00\", \"2014-04-20 04:00:00\", \"2014-04-27 04:00:00\", \"2014-05-04 04:00:00\", \"2014-05-11 04:00:00\", \"2014-05-18 04:00:00\", \"2014-05-25 04:00:00\", \"2014-06-01 04:00:00\", \"2014-06-08 04:00:00\", \"2014-06-15 04:00:00\", \"2014-06-22 04:00:00\", \"2014-06-29 04:00:00\", \"2014-07-06 04:00:00\", \"2014-07-13 04:00:00\", \"2014-07-20 04:00:00\", \"2014-07-27 04:00:00\", \"2014-08-03 04:00:00\", \"2014-08-10 04:00:00\", \"2014-08-17 04:00:00\", \"2014-08-24 04:00:00\", \"2014-08-31 04:00:00\", \"2014-09-07 04:00:00\", \"2014-09-14 04:00:00\", \"2014-09-21 04:00:00\", \"2014-09-28 04:00:00\", \"2014-10-05 04:00:00\", \"2014-10-12 04:00:00\", \"2014-10-19 04:00:00\", \"2014-10-26 04:00:00\", \"2014-11-02 04:00:00\", \"2014-11-09 05:00:00\", \"2014-11-16 05:00:00\", \"2014-11-23 05:00:00\", \"2014-11-30 05:00:00\", \"2014-12-07 05:00:00\", \"2014-12-14 05:00:00\", \"2014-12-21 05:00:00\", \"2014-12-28 05:00:00\", \"2015-01-04 05:00:00\", \"2015-01-11 05:00:00\", \"2015-01-18 05:00:00\", \"2015-01-25 05:00:00\", \"2015-02-01 05:00:00\", \"2015-02-08 05:00:00\", \"2015-02-15 05:00:00\", \"2015-02-22 05:00:00\", \"2015-03-01 05:00:00\", \"2015-03-08 05:00:00\", \"2015-03-15 04:00:00\", \"2015-03-22 04:00:00\", \"2015-03-29 04:00:00\", \"2015-04-05 04:00:00\", \"2015-04-12 04:00:00\", \"2015-04-19 04:00:00\", \"2015-04-26 04:00:00\", \"2015-05-03 04:00:00\", \"2015-05-10 04:00:00\", \"2015-05-17 04:00:00\", \"2015-05-24 04:00:00\", \"2015-05-31 04:00:00\", \"2015-06-07 04:00:00\", \"2015-06-14 04:00:00\", \"2015-06-21 04:00:00\", \"2015-06-28 04:00:00\", \"2015-07-05 04:00:00\", \"2015-07-12 04:00:00\", \"2015-07-19 04:00:00\", \"2015-07-26 04:00:00\", \"2015-08-02 04:00:00\", \"2015-08-09 04:00:00\", \"2015-08-16 04:00:00\", \"2015-08-23 04:00:00\", \"2015-08-30 04:00:00\", \"2015-09-06 04:00:00\", \"2015-09-13 04:00:00\", \"2015-09-20 04:00:00\", \"2015-09-27 04:00:00\", \"2015-10-04 04:00:00\", \"2015-10-11 04:00:00\", \"2015-10-18 04:00:00\", \"2015-10-25 04:00:00\", \"2015-11-01 04:00:00\", \"2015-11-08 05:00:00\", \"2015-11-15 05:00:00\", \"2015-11-22 05:00:00\", \"2015-11-29 05:00:00\", \"2015-12-06 05:00:00\", \"2015-12-13 05:00:00\", \"2015-12-20 05:00:00\", \"2015-12-27 05:00:00\", \"2016-01-03 05:00:00\", \"2016-01-10 05:00:00\", \"2016-01-17 05:00:00\", \"2016-01-24 05:00:00\", \"2016-01-31 05:00:00\", \"2016-02-07 05:00:00\", \"2016-02-14 05:00:00\", \"2016-02-21 05:00:00\", \"2016-02-28 05:00:00\", \"2016-03-06 05:00:00\", \"2016-03-13 05:00:00\", \"2016-03-20 04:00:00\", \"2016-03-27 04:00:00\", \"2016-04-03 04:00:00\", \"2016-04-10 04:00:00\", \"2016-04-17 04:00:00\", \"2016-04-24 04:00:00\", \"2016-05-01 04:00:00\", \"2016-05-08 04:00:00\", \"2016-05-15 04:00:00\", \"2016-05-22 04:00:00\", \"2016-05-29 04:00:00\", \"2016-06-05 04:00:00\", \"2016-06-12 04:00:00\", \"2016-06-19 04:00:00\", \"2016-06-26 04:00:00\", \"2016-07-03 04:00:00\", \"2016-07-10 04:00:00\", \"2016-07-17 04:00:00\", \"2016-07-24 04:00:00\", \"2016-07-31 04:00:00\", \"2016-08-07 04:00:00\", \"2016-08-14 04:00:00\", \"2016-08-21 04:00:00\", \"2016-08-28 04:00:00\", \"2016-09-04 04:00:00\", \"2016-09-11 04:00:00\", \"2016-09-18 04:00:00\", \"2016-09-25 04:00:00\", \"2016-10-02 04:00:00\", \"2016-10-09 04:00:00\", \"2016-10-16 04:00:00\", \"2016-10-23 04:00:00\", \"2016-10-30 04:00:00\", \"2016-11-06 04:00:00\", \"2016-11-13 05:00:00\", \"2016-11-20 05:00:00\", \"2016-11-27 05:00:00\", \"2016-12-04 05:00:00\", \"2016-12-11 05:00:00\", \"2016-12-18 05:00:00\", \"2016-12-25 05:00:00\", \"2017-01-01 05:00:00\", \"2017-01-08 05:00:00\", \"2017-01-15 05:00:00\", \"2017-01-22 05:00:00\", \"2017-01-29 05:00:00\", \"2017-02-05 05:00:00\", \"2017-02-12 05:00:00\", \"2017-02-19 05:00:00\", \"2017-02-26 05:00:00\", \"2017-03-05 05:00:00\", \"2017-03-12 05:00:00\", \"2017-03-19 04:00:00\", \"2017-03-26 04:00:00\", \"2017-04-02 04:00:00\", \"2017-04-09 04:00:00\", \"2017-04-16 04:00:00\", \"2017-04-23 04:00:00\", \"2017-04-30 04:00:00\", \"2017-05-07 04:00:00\", \"2017-05-14 04:00:00\", \"2017-05-21 04:00:00\", \"2017-05-28 04:00:00\", \"2017-06-04 04:00:00\", \"2017-06-11 04:00:00\", \"2017-06-18 04:00:00\", \"2017-06-25 04:00:00\", \"2017-07-02 04:00:00\", \"2017-07-09 04:00:00\", \"2017-07-16 04:00:00\", \"2017-07-23 04:00:00\", \"2017-07-30 04:00:00\", \"2017-08-06 04:00:00\", \"2017-08-13 04:00:00\", \"2017-08-20 04:00:00\", \"2017-08-27 04:00:00\", \"2017-09-03 04:00:00\", \"2017-09-10 04:00:00\", \"2017-09-17 04:00:00\", \"2017-09-24 04:00:00\", \"2017-10-01 04:00:00\", \"2017-10-08 04:00:00\", \"2017-10-15 04:00:00\", \"2017-10-22 04:00:00\", \"2017-10-29 04:00:00\", \"2017-11-05 04:00:00\", \"2017-11-12 05:00:00\", \"2017-11-19 05:00:00\", \"2017-11-26 05:00:00\", \"2017-12-03 05:00:00\", \"2017-12-10 05:00:00\", \"2017-12-17 05:00:00\", \"2017-12-24 05:00:00\", \"2017-12-31 05:00:00\", \"2018-01-07 05:00:00\", \"2018-01-14 05:00:00\", \"2018-01-21 05:00:00\", \"2018-01-28 05:00:00\", \"2018-02-04 05:00:00\", \"2018-02-11 05:00:00\", \"2018-02-18 05:00:00\", \"2018-02-25 05:00:00\", \"2018-03-04 05:00:00\", \"2018-03-11 05:00:00\", \"2018-03-18 04:00:00\", \"2018-03-25 04:00:00\", \"2018-04-01 04:00:00\", \"2018-04-08 04:00:00\", \"2018-04-15 04:00:00\", \"2018-04-22 04:00:00\", \"2018-04-29 04:00:00\", \"2018-05-06 04:00:00\", \"2018-05-13 04:00:00\", \"2018-05-20 04:00:00\", \"2018-05-27 04:00:00\", \"2018-06-03 04:00:00\", \"2018-06-10 04:00:00\", \"2018-06-17 04:00:00\", \"2018-06-24 04:00:00\", \"2018-07-01 04:00:00\", \"2018-07-08 04:00:00\", \"2018-07-15 04:00:00\", \"2018-07-22 04:00:00\", \"2018-07-29 04:00:00\", \"2018-08-05 04:00:00\", \"2018-08-12 04:00:00\", \"2018-08-19 04:00:00\", \"2018-08-26 04:00:00\", \"2018-09-02 04:00:00\", \"2018-09-09 04:00:00\", \"2018-09-16 04:00:00\", \"2018-09-23 04:00:00\", \"2018-09-30 04:00:00\", \"2018-10-07 04:00:00\", \"2018-10-14 04:00:00\", \"2018-10-21 04:00:00\", \"2018-10-28 04:00:00\", \"2018-11-04 04:00:00\", \"2018-11-11 05:00:00\", \"2018-11-18 05:00:00\", \"2018-11-25 05:00:00\", \"2018-12-02 05:00:00\", \"2018-12-09 05:00:00\", \"2018-12-16 05:00:00\", \"2018-12-23 05:00:00\", \"2018-12-30 05:00:00\", \"2019-01-06 05:00:00\", \"2019-01-13 05:00:00\", \"2019-01-20 05:00:00\", \"2019-01-27 05:00:00\", \"2019-02-03 05:00:00\", \"2019-02-10 05:00:00\", \"2019-02-17 05:00:00\", \"2019-02-24 05:00:00\", \"2019-03-03 05:00:00\", \"2019-03-10 05:00:00\", \"2019-03-17 04:00:00\", \"2019-03-24 04:00:00\", \"2019-03-31 04:00:00\", \"2019-04-07 04:00:00\"], \"xaxis\": \"x\", \"y\": [1.0, 0.0, 0.0, 0.0, 0.0, 0.0, 0.0, 0.0, 0.0, 0.0, 0.0, 0.0, 0.0, 0.0, 0.0, 0.0, 0.0, 0.0, 0.0, 0.0, 0.0, 0.0, 0.0, 0.0, 0.0, 0.0, 0.0, 0.0, 0.0, 0.0, 0.0, 0.0, 0.0, 0.0, 0.0, 0.0, 0.0, 0.0, 20.0, 0.0, 0.0, 0.0, 0.0, 0.0, 0.0, 0.0, 0.0, 0.0, 0.0, 0.0, 0.0, 0.0, 0.0, 0.0, 7.0, 0.0, 0.0, 0.0, 0.0, 0.0, 0.0, 0.0, 0.0, 0.0, 0.0, 0.0, 0.0, 0.0, 0.0, 0.0, 0.0, 0.0, 0.0, 0.0, 0.0, 0.0, 0.0, 0.0, 0.0, 0.0, 0.0, 0.0, 0.0, 0.0, 0.0, 0.0, 0.0, 0.0, 0.0, 0.0, 0.0, 0.0, 0.0, 0.0, 0.0, 0.0, 0.0, 0.0, 0.0, 0.0, 0.0, 0.0, 0.0, 0.0, 15.0, 0.0, 0.0, 0.0, 0.0, 0.0, 0.0, 0.0, 28.0, 0.0, 0.0, 0.0, 0.0, 0.0, 0.0, 0.0, 0.0, 0.0, 0.0, 0.0, 0.0, 0.0, 0.0, 0.0, 0.0, 0.0, 0.0, 0.0, 0.0, 0.0, 0.0, 0.0, 0.0, 0.0, 0.0, 0.0, 0.0, 0.0, 0.0, 0.0, 0.0, 0.0, 0.0, 0.0, 0.0, 0.0, 0.0, 0.0, 0.0, 0.0, 0.0, 0.0, 0.0, 0.0, 0.0, 0.0, 0.0, 0.0, 0.0, 0.0, 0.0, 0.0, 0.0, 0.0, 0.0, 0.0, 0.0, 0.0, 0.0, 0.0, 0.0, 0.0, 0.0, 40.0, 0.0, 0.0, 0.0, 0.0, 0.0, 0.0, 0.0, 0.0, 0.0, 0.0, 0.0, 0.0, 0.0, 0.0, 0.0, 0.0, 0.0, 0.0, 0.0, 0.0, 0.0, 0.0, 0.0, 0.0, 0.0, 0.0, 0.0, 0.0, 0.0, 0.0, 0.0, 0.0, 0.0, 0.0, 0.0, 0.0, 0.0, 0.0, 0.0, 0.0, 0.0, 0.0, 0.0, 0.0, 0.0, 0.0, 0.0, 0.0, 0.0, 0.0, 0.0, 0.0, 0.0, 0.0, 0.0, 0.0, 0.0, 0.0, 0.0, 8.0, 0.0, 0.0, 0.0, 0.0, 0.0, 0.0, 0.0, 0.0, 0.0, 0.0, 40.0, 56.0, 0.0, 0.0, 0.0, 0.0, 0.0, 0.0, 0.0, 0.0, 0.0, 0.0, 0.0, 3.0, 24.0, 0.0, 0.0, 0.0, 0.0, 0.0, 0.0, 0.0, 0.0, 0.0, 0.0, 0.0, 0.0, 0.0, 0.0, 0.0, 0.0, 0.0, 0.0, 0.0, 0.0, 0.0, 0.0, 0.0, 0.0, 0.0, 0.0, 0.0, 0.0, 0.0, 0.0, 0.0, 0.0, 0.0, 0.0, 0.0, 0.0, 0.0, 0.0, 25.0, 0.0, 0.0, 0.0, 0.0, 0.0, 0.0, 0.0, 0.0, 0.0, 6.0, 0.0, 0.0, 0.0, 0.0, 0.0, 0.0, 0.0, 0.0, 36.0, 0.0, 40.0, 30.0, 0.0, 0.0, 0.0, 0.0, 7.0, 23.0, 1.0, 26.0, 0.0, 23.0, 1.0, 0.0, 33.0, 4.0, 0.0, 0.0, 0.0, 0.0, 0.0, 0.0, 11.0, 0.0, 0.0, 0.0, 0.0, 0.0, 5.0, 0.0, 0.0, 0.0, 0.0, 0.0, 0.0, 0.0, 42.0, 0.0, 18.0, 0.0, 0.0, 0.0, 11.0, 27.0, 0.0, 7.0, 70.0, 36.0, 0.0, 0.0, 43.0, 50.0], \"yaxis\": \"y\", \"type\": \"scatter\", \"uid\": \"78ccf331-a4d4-4cbe-ac05-d2b71cdfe3ba\"}], {\"height\": 600, \"legend\": {\"tracegroupgap\": 0}, \"margin\": {\"t\": 60}, \"template\": {\"data\": {\"barpolar\": [{\"marker\": {\"line\": {\"color\": \"#E5ECF6\", \"width\": 0.5}}, \"type\": \"barpolar\"}], \"bar\": [{\"marker\": {\"line\": {\"color\": \"#E5ECF6\", \"width\": 0.5}}, \"type\": \"bar\"}], \"carpet\": [{\"aaxis\": {\"endlinecolor\": \"#2a3f5f\", \"gridcolor\": \"white\", \"linecolor\": \"white\", \"minorgridcolor\": \"white\", \"startlinecolor\": \"#2a3f5f\"}, \"baxis\": {\"endlinecolor\": \"#2a3f5f\", \"gridcolor\": \"white\", \"linecolor\": \"white\", \"minorgridcolor\": \"white\", \"startlinecolor\": \"#2a3f5f\"}, \"type\": \"carpet\"}], \"choropleth\": [{\"colorbar\": {\"outlinewidth\": 0, \"ticks\": \"\"}, \"type\": \"choropleth\"}], \"contourcarpet\": [{\"colorbar\": {\"outlinewidth\": 0, \"ticks\": \"\"}, \"type\": \"contourcarpet\"}], \"contour\": [{\"autocolorscale\": true, \"colorbar\": {\"outlinewidth\": 0, \"ticks\": \"\"}, \"type\": \"contour\"}], \"heatmapgl\": [{\"colorbar\": {\"outlinewidth\": 0, \"ticks\": \"\"}, \"type\": \"heatmapgl\"}], \"heatmap\": [{\"autocolorscale\": true, \"colorbar\": {\"outlinewidth\": 0, \"ticks\": \"\"}, \"type\": \"heatmap\"}], \"histogram2dcontour\": [{\"autocolorscale\": true, \"colorbar\": {\"outlinewidth\": 0, \"ticks\": \"\"}, \"type\": \"histogram2dcontour\"}], \"histogram2d\": [{\"autocolorscale\": true, \"colorbar\": {\"outlinewidth\": 0, \"ticks\": \"\"}, \"type\": \"histogram2d\"}], \"histogram\": [{\"marker\": {\"colorbar\": {\"outlinewidth\": 0, \"ticks\": \"\"}}, \"type\": \"histogram\"}], \"mesh3d\": [{\"colorbar\": {\"outlinewidth\": 0, \"ticks\": \"\"}, \"type\": \"mesh3d\"}], \"parcoords\": [{\"line\": {\"colorbar\": {\"outlinewidth\": 0, \"ticks\": \"\"}}, \"type\": \"parcoords\"}], \"scatter3d\": [{\"marker\": {\"colorbar\": {\"outlinewidth\": 0, \"ticks\": \"\"}}, \"type\": \"scatter3d\"}], \"scattercarpet\": [{\"marker\": {\"colorbar\": {\"outlinewidth\": 0, \"ticks\": \"\"}}, \"type\": \"scattercarpet\"}], \"scattergeo\": [{\"marker\": {\"colorbar\": {\"outlinewidth\": 0, \"ticks\": \"\"}}, \"type\": \"scattergeo\"}], \"scattergl\": [{\"marker\": {\"colorbar\": {\"outlinewidth\": 0, \"ticks\": \"\"}}, \"type\": \"scattergl\"}], \"scattermapbox\": [{\"marker\": {\"colorbar\": {\"outlinewidth\": 0, \"ticks\": \"\"}}, \"type\": \"scattermapbox\"}], \"scatterpolargl\": [{\"marker\": {\"colorbar\": {\"outlinewidth\": 0, \"ticks\": \"\"}}, \"type\": \"scatterpolargl\"}], \"scatterpolar\": [{\"marker\": {\"colorbar\": {\"outlinewidth\": 0, \"ticks\": \"\"}}, \"type\": \"scatterpolar\"}], \"scatter\": [{\"marker\": {\"colorbar\": {\"outlinewidth\": 0, \"ticks\": \"\"}}, \"type\": \"scatter\"}], \"scatterternary\": [{\"marker\": {\"colorbar\": {\"outlinewidth\": 0, \"ticks\": \"\"}}, \"type\": \"scatterternary\"}], \"surface\": [{\"colorbar\": {\"outlinewidth\": 0, \"ticks\": \"\"}, \"type\": \"surface\"}], \"table\": [{\"cells\": {\"fill\": {\"color\": \"#EBF0F8\"}, \"line\": {\"color\": \"white\"}}, \"header\": {\"fill\": {\"color\": \"#C8D4E3\"}, \"line\": {\"color\": \"white\"}}, \"type\": \"table\"}]}, \"layout\": {\"annotationdefaults\": {\"arrowcolor\": \"#506784\", \"arrowhead\": 0, \"arrowwidth\": 1}, \"colorscale\": {\"diverging\": [[0, \"#8e0152\"], [0.1, \"#c51b7d\"], [0.2, \"#de77ae\"], [0.3, \"#f1b6da\"], [0.4, \"#fde0ef\"], [0.5, \"#f7f7f7\"], [0.6, \"#e6f5d0\"], [0.7, \"#b8e186\"], [0.8, \"#7fbc41\"], [0.9, \"#4d9221\"], [1, \"#276419\"]], \"sequential\": [[0.0, \"#0508b8\"], [0.0893854748603352, \"#1910d8\"], [0.1787709497206704, \"#3c19f0\"], [0.2681564245810056, \"#6b1cfb\"], [0.3575418994413408, \"#981cfd\"], [0.44692737430167595, \"#bf1cfd\"], [0.5363128491620112, \"#dd2bfd\"], [0.6256983240223464, \"#f246fe\"], [0.7150837988826816, \"#fc67fd\"], [0.8044692737430168, \"#fe88fc\"], [0.8938547486033519, \"#fea5fd\"], [0.9832402234636871, \"#febefe\"], [1.0, \"#fec3fe\"]], \"sequentialminus\": [[0.0, \"#0508b8\"], [0.0893854748603352, \"#1910d8\"], [0.1787709497206704, \"#3c19f0\"], [0.2681564245810056, \"#6b1cfb\"], [0.3575418994413408, \"#981cfd\"], [0.44692737430167595, \"#bf1cfd\"], [0.5363128491620112, \"#dd2bfd\"], [0.6256983240223464, \"#f246fe\"], [0.7150837988826816, \"#fc67fd\"], [0.8044692737430168, \"#fe88fc\"], [0.8938547486033519, \"#fea5fd\"], [0.9832402234636871, \"#febefe\"], [1.0, \"#fec3fe\"]]}, \"colorway\": [\"#636efa\", \"#EF553B\", \"#00cc96\", \"#ab63fa\", \"#19d3f3\", \"#e763fa\", \"#FECB52\", \"#FFA15A\", \"#FF6692\", \"#B6E880\"], \"font\": {\"color\": \"#2a3f5f\"}, \"geo\": {\"bgcolor\": \"white\", \"lakecolor\": \"white\", \"landcolor\": \"#E5ECF6\", \"showlakes\": true, \"showland\": true, \"subunitcolor\": \"white\"}, \"hovermode\": \"closest\", \"mapbox\": {\"style\": \"light\"}, \"paper_bgcolor\": \"white\", \"plot_bgcolor\": \"#E5ECF6\", \"polar\": {\"angularaxis\": {\"gridcolor\": \"white\", \"linecolor\": \"white\", \"ticks\": \"\"}, \"bgcolor\": \"#E5ECF6\", \"radialaxis\": {\"gridcolor\": \"white\", \"linecolor\": \"white\", \"ticks\": \"\"}}, \"scene\": {\"xaxis\": {\"backgroundcolor\": \"#E5ECF6\", \"gridcolor\": \"white\", \"gridwidth\": 2, \"linecolor\": \"white\", \"showbackground\": true, \"ticks\": \"\", \"zerolinecolor\": \"white\"}, \"yaxis\": {\"backgroundcolor\": \"#E5ECF6\", \"gridcolor\": \"white\", \"gridwidth\": 2, \"linecolor\": \"white\", \"showbackground\": true, \"ticks\": \"\", \"zerolinecolor\": \"white\"}, \"zaxis\": {\"backgroundcolor\": \"#E5ECF6\", \"gridcolor\": \"white\", \"gridwidth\": 2, \"linecolor\": \"white\", \"showbackground\": true, \"ticks\": \"\", \"zerolinecolor\": \"white\"}}, \"shapedefaults\": {\"fillcolor\": \"#506784\", \"line\": {\"width\": 0}, \"opacity\": 0.4}, \"ternary\": {\"aaxis\": {\"gridcolor\": \"white\", \"linecolor\": \"white\", \"ticks\": \"\"}, \"baxis\": {\"gridcolor\": \"white\", \"linecolor\": \"white\", \"ticks\": \"\"}, \"bgcolor\": \"#E5ECF6\", \"caxis\": {\"gridcolor\": \"white\", \"linecolor\": \"white\", \"ticks\": \"\"}}, \"title\": {\"x\": 0.05}, \"xaxis\": {\"automargin\": true, \"gridcolor\": \"white\", \"linecolor\": \"white\", \"ticks\": \"\", \"zerolinecolor\": \"white\", \"zerolinewidth\": 2}, \"yaxis\": {\"automargin\": true, \"gridcolor\": \"white\", \"linecolor\": \"white\", \"ticks\": \"\", \"zerolinecolor\": \"white\", \"zerolinewidth\": 2}}}, \"grid\": {\"xaxes\": [\"x\"], \"yaxes\": [\"y\"], \"xgap\": 0.1, \"ygap\": 0.1, \"xside\": \"bottom\", \"yside\": \"left\"}, \"xaxis\": {\"title\": {\"text\": \"Date\"}}, \"yaxis\": {\"title\": {\"text\": \"Civilian (V)\"}}}, {\"showLink\": false, \"linkText\": \"Export to plot.ly\", \"plotlyServerURL\": \"https://plot.ly\"}); \n",
       "}\n",
       "});</script><script type=\"text/javascript\">window.addEventListener(\"resize\", function(){if (document.getElementById(\"ec7b60e4-5d6f-4336-9b02-61d5420cf158\")) {window._Plotly.Plots.resize(document.getElementById(\"ec7b60e4-5d6f-4336-9b02-61d5420cf158\"));};})</script>"
      ]
     },
     "metadata": {},
     "output_type": "display_data"
    }
   ],
   "source": [
    "civ_vics = zam[zam['Civilian (V)'].notnull() == True]\n",
    "civ_vics = civ_vics['Civilian (V)'].resample('W').sum()\n",
    "\n",
    "\n",
    "\n",
    "civ_vics = pd.DataFrame(civ_vics)\n",
    "\n",
    "\n",
    "\n",
    "civ_vics = civ_vics.reset_index()\n",
    "\n",
    "\n",
    "civ_vics = pd.DataFrame(civ_vics)\n",
    "\n",
    "\n",
    "\n",
    "px.line(civ_vics, x='Date', y='Civilian (V)')"
   ]
  },
  {
   "cell_type": "code",
   "execution_count": 83,
   "metadata": {},
   "outputs": [
    {
     "data": {
      "application/vnd.plotly.v1+json": {
       "config": {
        "linkText": "Export to plot.ly",
        "plotlyServerURL": "https://plot.ly",
        "showLink": false
       },
       "data": [
        {
         "hovertemplate": "Date=%{x}<br>Other Armed Actor (V)=%{y}<extra></extra>",
         "legendgroup": "",
         "line": {
          "color": "#636efa",
          "dash": "solid"
         },
         "mode": "lines",
         "name": "",
         "showlegend": false,
         "type": "scatter",
         "uid": "231f6109-fcc9-4038-ab12-8e5d8c906637",
         "x": [
          "2012-12-16 05:00:00",
          "2012-12-23 05:00:00",
          "2012-12-30 05:00:00",
          "2013-01-06 05:00:00",
          "2013-01-13 05:00:00",
          "2013-01-20 05:00:00",
          "2013-01-27 05:00:00",
          "2013-02-03 05:00:00",
          "2013-02-10 05:00:00",
          "2013-02-17 05:00:00",
          "2013-02-24 05:00:00",
          "2013-03-03 05:00:00",
          "2013-03-10 05:00:00",
          "2013-03-17 04:00:00",
          "2013-03-24 04:00:00",
          "2013-03-31 04:00:00",
          "2013-04-07 04:00:00",
          "2013-04-14 04:00:00",
          "2013-04-21 04:00:00",
          "2013-04-28 04:00:00",
          "2013-05-05 04:00:00",
          "2013-05-12 04:00:00",
          "2013-05-19 04:00:00",
          "2013-05-26 04:00:00",
          "2013-06-02 04:00:00",
          "2013-06-09 04:00:00",
          "2013-06-16 04:00:00",
          "2013-06-23 04:00:00",
          "2013-06-30 04:00:00",
          "2013-07-07 04:00:00",
          "2013-07-14 04:00:00",
          "2013-07-21 04:00:00",
          "2013-07-28 04:00:00",
          "2013-08-04 04:00:00",
          "2013-08-11 04:00:00",
          "2013-08-18 04:00:00",
          "2013-08-25 04:00:00",
          "2013-09-01 04:00:00",
          "2013-09-08 04:00:00",
          "2013-09-15 04:00:00",
          "2013-09-22 04:00:00",
          "2013-09-29 04:00:00",
          "2013-10-06 04:00:00",
          "2013-10-13 04:00:00",
          "2013-10-20 04:00:00",
          "2013-10-27 04:00:00",
          "2013-11-03 04:00:00",
          "2013-11-10 05:00:00",
          "2013-11-17 05:00:00",
          "2013-11-24 05:00:00",
          "2013-12-01 05:00:00",
          "2013-12-08 05:00:00",
          "2013-12-15 05:00:00",
          "2013-12-22 05:00:00",
          "2013-12-29 05:00:00",
          "2014-01-05 05:00:00",
          "2014-01-12 05:00:00",
          "2014-01-19 05:00:00",
          "2014-01-26 05:00:00",
          "2014-02-02 05:00:00",
          "2014-02-09 05:00:00",
          "2014-02-16 05:00:00",
          "2014-02-23 05:00:00",
          "2014-03-02 05:00:00",
          "2014-03-09 05:00:00",
          "2014-03-16 04:00:00",
          "2014-03-23 04:00:00",
          "2014-03-30 04:00:00",
          "2014-04-06 04:00:00",
          "2014-04-13 04:00:00",
          "2014-04-20 04:00:00",
          "2014-04-27 04:00:00",
          "2014-05-04 04:00:00",
          "2014-05-11 04:00:00",
          "2014-05-18 04:00:00",
          "2014-05-25 04:00:00",
          "2014-06-01 04:00:00",
          "2014-06-08 04:00:00",
          "2014-06-15 04:00:00",
          "2014-06-22 04:00:00",
          "2014-06-29 04:00:00",
          "2014-07-06 04:00:00",
          "2014-07-13 04:00:00",
          "2014-07-20 04:00:00",
          "2014-07-27 04:00:00",
          "2014-08-03 04:00:00",
          "2014-08-10 04:00:00",
          "2014-08-17 04:00:00",
          "2014-08-24 04:00:00",
          "2014-08-31 04:00:00",
          "2014-09-07 04:00:00",
          "2014-09-14 04:00:00",
          "2014-09-21 04:00:00",
          "2014-09-28 04:00:00",
          "2014-10-05 04:00:00",
          "2014-10-12 04:00:00",
          "2014-10-19 04:00:00",
          "2014-10-26 04:00:00",
          "2014-11-02 04:00:00",
          "2014-11-09 05:00:00",
          "2014-11-16 05:00:00",
          "2014-11-23 05:00:00",
          "2014-11-30 05:00:00",
          "2014-12-07 05:00:00",
          "2014-12-14 05:00:00",
          "2014-12-21 05:00:00",
          "2014-12-28 05:00:00",
          "2015-01-04 05:00:00",
          "2015-01-11 05:00:00",
          "2015-01-18 05:00:00",
          "2015-01-25 05:00:00",
          "2015-02-01 05:00:00",
          "2015-02-08 05:00:00",
          "2015-02-15 05:00:00",
          "2015-02-22 05:00:00",
          "2015-03-01 05:00:00",
          "2015-03-08 05:00:00",
          "2015-03-15 04:00:00",
          "2015-03-22 04:00:00",
          "2015-03-29 04:00:00",
          "2015-04-05 04:00:00",
          "2015-04-12 04:00:00",
          "2015-04-19 04:00:00",
          "2015-04-26 04:00:00",
          "2015-05-03 04:00:00",
          "2015-05-10 04:00:00",
          "2015-05-17 04:00:00",
          "2015-05-24 04:00:00",
          "2015-05-31 04:00:00",
          "2015-06-07 04:00:00",
          "2015-06-14 04:00:00",
          "2015-06-21 04:00:00",
          "2015-06-28 04:00:00",
          "2015-07-05 04:00:00",
          "2015-07-12 04:00:00",
          "2015-07-19 04:00:00",
          "2015-07-26 04:00:00",
          "2015-08-02 04:00:00",
          "2015-08-09 04:00:00",
          "2015-08-16 04:00:00",
          "2015-08-23 04:00:00",
          "2015-08-30 04:00:00",
          "2015-09-06 04:00:00",
          "2015-09-13 04:00:00",
          "2015-09-20 04:00:00",
          "2015-09-27 04:00:00",
          "2015-10-04 04:00:00",
          "2015-10-11 04:00:00",
          "2015-10-18 04:00:00",
          "2015-10-25 04:00:00",
          "2015-11-01 04:00:00",
          "2015-11-08 05:00:00",
          "2015-11-15 05:00:00",
          "2015-11-22 05:00:00",
          "2015-11-29 05:00:00",
          "2015-12-06 05:00:00",
          "2015-12-13 05:00:00",
          "2015-12-20 05:00:00",
          "2015-12-27 05:00:00",
          "2016-01-03 05:00:00",
          "2016-01-10 05:00:00",
          "2016-01-17 05:00:00",
          "2016-01-24 05:00:00",
          "2016-01-31 05:00:00",
          "2016-02-07 05:00:00",
          "2016-02-14 05:00:00",
          "2016-02-21 05:00:00",
          "2016-02-28 05:00:00",
          "2016-03-06 05:00:00",
          "2016-03-13 05:00:00",
          "2016-03-20 04:00:00",
          "2016-03-27 04:00:00",
          "2016-04-03 04:00:00",
          "2016-04-10 04:00:00",
          "2016-04-17 04:00:00",
          "2016-04-24 04:00:00",
          "2016-05-01 04:00:00",
          "2016-05-08 04:00:00",
          "2016-05-15 04:00:00",
          "2016-05-22 04:00:00",
          "2016-05-29 04:00:00",
          "2016-06-05 04:00:00",
          "2016-06-12 04:00:00",
          "2016-06-19 04:00:00",
          "2016-06-26 04:00:00",
          "2016-07-03 04:00:00",
          "2016-07-10 04:00:00",
          "2016-07-17 04:00:00",
          "2016-07-24 04:00:00",
          "2016-07-31 04:00:00",
          "2016-08-07 04:00:00",
          "2016-08-14 04:00:00",
          "2016-08-21 04:00:00",
          "2016-08-28 04:00:00",
          "2016-09-04 04:00:00",
          "2016-09-11 04:00:00",
          "2016-09-18 04:00:00",
          "2016-09-25 04:00:00",
          "2016-10-02 04:00:00",
          "2016-10-09 04:00:00",
          "2016-10-16 04:00:00",
          "2016-10-23 04:00:00",
          "2016-10-30 04:00:00",
          "2016-11-06 04:00:00",
          "2016-11-13 05:00:00",
          "2016-11-20 05:00:00",
          "2016-11-27 05:00:00",
          "2016-12-04 05:00:00",
          "2016-12-11 05:00:00",
          "2016-12-18 05:00:00",
          "2016-12-25 05:00:00",
          "2017-01-01 05:00:00",
          "2017-01-08 05:00:00",
          "2017-01-15 05:00:00",
          "2017-01-22 05:00:00",
          "2017-01-29 05:00:00",
          "2017-02-05 05:00:00",
          "2017-02-12 05:00:00",
          "2017-02-19 05:00:00",
          "2017-02-26 05:00:00",
          "2017-03-05 05:00:00",
          "2017-03-12 05:00:00",
          "2017-03-19 04:00:00",
          "2017-03-26 04:00:00",
          "2017-04-02 04:00:00",
          "2017-04-09 04:00:00",
          "2017-04-16 04:00:00",
          "2017-04-23 04:00:00",
          "2017-04-30 04:00:00",
          "2017-05-07 04:00:00",
          "2017-05-14 04:00:00",
          "2017-05-21 04:00:00",
          "2017-05-28 04:00:00",
          "2017-06-04 04:00:00",
          "2017-06-11 04:00:00",
          "2017-06-18 04:00:00",
          "2017-06-25 04:00:00",
          "2017-07-02 04:00:00",
          "2017-07-09 04:00:00",
          "2017-07-16 04:00:00",
          "2017-07-23 04:00:00",
          "2017-07-30 04:00:00",
          "2017-08-06 04:00:00",
          "2017-08-13 04:00:00",
          "2017-08-20 04:00:00",
          "2017-08-27 04:00:00",
          "2017-09-03 04:00:00",
          "2017-09-10 04:00:00",
          "2017-09-17 04:00:00",
          "2017-09-24 04:00:00",
          "2017-10-01 04:00:00",
          "2017-10-08 04:00:00",
          "2017-10-15 04:00:00",
          "2017-10-22 04:00:00",
          "2017-10-29 04:00:00",
          "2017-11-05 04:00:00",
          "2017-11-12 05:00:00",
          "2017-11-19 05:00:00",
          "2017-11-26 05:00:00",
          "2017-12-03 05:00:00",
          "2017-12-10 05:00:00",
          "2017-12-17 05:00:00",
          "2017-12-24 05:00:00",
          "2017-12-31 05:00:00",
          "2018-01-07 05:00:00",
          "2018-01-14 05:00:00",
          "2018-01-21 05:00:00",
          "2018-01-28 05:00:00",
          "2018-02-04 05:00:00",
          "2018-02-11 05:00:00",
          "2018-02-18 05:00:00",
          "2018-02-25 05:00:00",
          "2018-03-04 05:00:00",
          "2018-03-11 05:00:00",
          "2018-03-18 04:00:00",
          "2018-03-25 04:00:00",
          "2018-04-01 04:00:00",
          "2018-04-08 04:00:00",
          "2018-04-15 04:00:00",
          "2018-04-22 04:00:00",
          "2018-04-29 04:00:00",
          "2018-05-06 04:00:00",
          "2018-05-13 04:00:00",
          "2018-05-20 04:00:00",
          "2018-05-27 04:00:00",
          "2018-06-03 04:00:00",
          "2018-06-10 04:00:00",
          "2018-06-17 04:00:00",
          "2018-06-24 04:00:00",
          "2018-07-01 04:00:00",
          "2018-07-08 04:00:00",
          "2018-07-15 04:00:00",
          "2018-07-22 04:00:00",
          "2018-07-29 04:00:00",
          "2018-08-05 04:00:00",
          "2018-08-12 04:00:00",
          "2018-08-19 04:00:00",
          "2018-08-26 04:00:00",
          "2018-09-02 04:00:00",
          "2018-09-09 04:00:00",
          "2018-09-16 04:00:00",
          "2018-09-23 04:00:00",
          "2018-09-30 04:00:00",
          "2018-10-07 04:00:00",
          "2018-10-14 04:00:00",
          "2018-10-21 04:00:00",
          "2018-10-28 04:00:00",
          "2018-11-04 04:00:00",
          "2018-11-11 05:00:00",
          "2018-11-18 05:00:00",
          "2018-11-25 05:00:00",
          "2018-12-02 05:00:00",
          "2018-12-09 05:00:00",
          "2018-12-16 05:00:00",
          "2018-12-23 05:00:00",
          "2018-12-30 05:00:00",
          "2019-01-06 05:00:00",
          "2019-01-13 05:00:00",
          "2019-01-20 05:00:00",
          "2019-01-27 05:00:00",
          "2019-02-03 05:00:00",
          "2019-02-10 05:00:00",
          "2019-02-17 05:00:00",
          "2019-02-24 05:00:00",
          "2019-03-03 05:00:00",
          "2019-03-10 05:00:00",
          "2019-03-17 04:00:00",
          "2019-03-24 04:00:00",
          "2019-03-31 04:00:00"
         ],
         "xaxis": "x",
         "y": [
          10,
          0,
          0,
          0,
          0,
          0,
          0,
          0,
          0,
          0,
          0,
          0,
          0,
          0,
          0,
          0,
          0,
          0,
          0,
          0,
          0,
          0,
          0,
          0,
          0,
          0,
          0,
          0,
          0,
          0,
          0,
          0,
          0,
          0,
          0,
          0,
          0,
          0,
          0,
          0,
          0,
          0,
          0,
          0,
          0,
          0,
          0,
          0,
          0,
          0,
          0,
          0,
          0,
          0,
          0,
          0,
          0,
          0,
          0,
          0,
          0,
          0,
          0,
          0,
          0,
          0,
          0,
          0,
          0,
          0,
          0,
          0,
          0,
          0,
          0,
          0,
          0,
          0,
          0,
          0,
          0,
          0,
          0,
          0,
          0,
          0,
          0,
          0,
          0,
          0,
          0,
          0,
          0,
          0,
          0,
          0,
          0,
          0,
          0,
          0,
          0,
          0,
          0,
          0,
          0,
          0,
          0,
          0,
          0,
          0,
          0,
          0,
          0,
          0,
          0,
          0,
          0,
          0,
          0,
          0,
          0,
          0,
          0,
          0,
          0,
          0,
          0,
          0,
          0,
          0,
          0,
          0,
          0,
          0,
          0,
          0,
          0,
          0,
          0,
          0,
          0,
          0,
          0,
          0,
          0,
          0,
          0,
          0,
          0,
          0,
          0,
          0,
          0,
          0,
          0,
          0,
          0,
          0,
          0,
          0,
          0,
          0,
          0,
          0,
          0,
          0,
          0,
          0,
          0,
          0,
          0,
          0,
          0,
          0,
          0,
          0,
          0,
          0,
          0,
          0,
          0,
          0,
          0,
          0,
          0,
          0,
          0,
          0,
          0,
          0,
          0,
          0,
          0,
          0,
          0,
          0,
          0,
          0,
          0,
          0,
          0,
          0,
          0,
          0,
          0,
          0,
          0,
          0,
          0,
          0,
          0,
          0,
          0,
          0,
          0,
          0,
          0,
          0,
          0,
          0,
          0,
          0,
          0,
          0,
          0,
          0,
          0,
          0,
          0,
          0,
          0,
          0,
          0,
          0,
          0,
          0,
          0,
          0,
          0,
          0,
          0,
          0,
          0,
          0,
          0,
          0,
          0,
          0,
          0,
          1,
          0,
          0,
          0,
          0,
          0,
          0,
          0,
          0,
          0,
          0,
          0,
          0,
          0,
          0,
          0,
          0,
          0,
          0,
          0,
          0,
          0,
          0,
          0,
          0,
          0,
          0,
          0,
          0,
          0,
          0,
          0,
          13,
          8,
          1,
          0,
          1,
          5,
          0,
          20,
          0,
          0,
          1,
          0,
          0,
          30,
          30,
          0,
          35,
          0,
          0,
          0,
          0,
          0,
          0,
          0,
          0,
          0,
          0,
          0,
          0,
          0,
          104,
          0,
          8,
          0,
          5,
          40,
          0,
          60,
          0,
          31,
          0,
          39,
          59,
          44,
          50,
          56,
          0,
          8
         ],
         "yaxis": "y"
        }
       ],
       "layout": {
        "autosize": true,
        "grid": {
         "xaxes": [
          "x"
         ],
         "xgap": 0.1,
         "xside": "bottom",
         "yaxes": [
          "y"
         ],
         "ygap": 0.1,
         "yside": "left"
        },
        "legend": {
         "tracegroupgap": 0
        },
        "margin": {
         "t": 60
        },
        "template": {
         "data": {
          "bar": [
           {
            "marker": {
             "line": {
              "color": "#E5ECF6",
              "width": 0.5
             }
            },
            "type": "bar"
           }
          ],
          "barpolar": [
           {
            "marker": {
             "line": {
              "color": "#E5ECF6",
              "width": 0.5
             }
            },
            "type": "barpolar"
           }
          ],
          "carpet": [
           {
            "aaxis": {
             "endlinecolor": "#2a3f5f",
             "gridcolor": "white",
             "linecolor": "white",
             "minorgridcolor": "white",
             "startlinecolor": "#2a3f5f"
            },
            "baxis": {
             "endlinecolor": "#2a3f5f",
             "gridcolor": "white",
             "linecolor": "white",
             "minorgridcolor": "white",
             "startlinecolor": "#2a3f5f"
            },
            "type": "carpet"
           }
          ],
          "choropleth": [
           {
            "colorbar": {
             "outlinewidth": 0,
             "ticks": ""
            },
            "type": "choropleth"
           }
          ],
          "contour": [
           {
            "autocolorscale": true,
            "colorbar": {
             "outlinewidth": 0,
             "ticks": ""
            },
            "type": "contour"
           }
          ],
          "contourcarpet": [
           {
            "colorbar": {
             "outlinewidth": 0,
             "ticks": ""
            },
            "type": "contourcarpet"
           }
          ],
          "heatmap": [
           {
            "autocolorscale": true,
            "colorbar": {
             "outlinewidth": 0,
             "ticks": ""
            },
            "type": "heatmap"
           }
          ],
          "heatmapgl": [
           {
            "colorbar": {
             "outlinewidth": 0,
             "ticks": ""
            },
            "type": "heatmapgl"
           }
          ],
          "histogram": [
           {
            "marker": {
             "colorbar": {
              "outlinewidth": 0,
              "ticks": ""
             }
            },
            "type": "histogram"
           }
          ],
          "histogram2d": [
           {
            "autocolorscale": true,
            "colorbar": {
             "outlinewidth": 0,
             "ticks": ""
            },
            "type": "histogram2d"
           }
          ],
          "histogram2dcontour": [
           {
            "autocolorscale": true,
            "colorbar": {
             "outlinewidth": 0,
             "ticks": ""
            },
            "type": "histogram2dcontour"
           }
          ],
          "mesh3d": [
           {
            "colorbar": {
             "outlinewidth": 0,
             "ticks": ""
            },
            "type": "mesh3d"
           }
          ],
          "parcoords": [
           {
            "line": {
             "colorbar": {
              "outlinewidth": 0,
              "ticks": ""
             }
            },
            "type": "parcoords"
           }
          ],
          "scatter": [
           {
            "marker": {
             "colorbar": {
              "outlinewidth": 0,
              "ticks": ""
             }
            },
            "type": "scatter"
           }
          ],
          "scatter3d": [
           {
            "marker": {
             "colorbar": {
              "outlinewidth": 0,
              "ticks": ""
             }
            },
            "type": "scatter3d"
           }
          ],
          "scattercarpet": [
           {
            "marker": {
             "colorbar": {
              "outlinewidth": 0,
              "ticks": ""
             }
            },
            "type": "scattercarpet"
           }
          ],
          "scattergeo": [
           {
            "marker": {
             "colorbar": {
              "outlinewidth": 0,
              "ticks": ""
             }
            },
            "type": "scattergeo"
           }
          ],
          "scattergl": [
           {
            "marker": {
             "colorbar": {
              "outlinewidth": 0,
              "ticks": ""
             }
            },
            "type": "scattergl"
           }
          ],
          "scattermapbox": [
           {
            "marker": {
             "colorbar": {
              "outlinewidth": 0,
              "ticks": ""
             }
            },
            "type": "scattermapbox"
           }
          ],
          "scatterpolar": [
           {
            "marker": {
             "colorbar": {
              "outlinewidth": 0,
              "ticks": ""
             }
            },
            "type": "scatterpolar"
           }
          ],
          "scatterpolargl": [
           {
            "marker": {
             "colorbar": {
              "outlinewidth": 0,
              "ticks": ""
             }
            },
            "type": "scatterpolargl"
           }
          ],
          "scatterternary": [
           {
            "marker": {
             "colorbar": {
              "outlinewidth": 0,
              "ticks": ""
             }
            },
            "type": "scatterternary"
           }
          ],
          "surface": [
           {
            "colorbar": {
             "outlinewidth": 0,
             "ticks": ""
            },
            "type": "surface"
           }
          ],
          "table": [
           {
            "cells": {
             "fill": {
              "color": "#EBF0F8"
             },
             "line": {
              "color": "white"
             }
            },
            "header": {
             "fill": {
              "color": "#C8D4E3"
             },
             "line": {
              "color": "white"
             }
            },
            "type": "table"
           }
          ]
         },
         "layout": {
          "annotationdefaults": {
           "arrowcolor": "#506784",
           "arrowhead": 0,
           "arrowwidth": 1
          },
          "colorscale": {
           "diverging": [
            [
             0,
             "#8e0152"
            ],
            [
             0.1,
             "#c51b7d"
            ],
            [
             0.2,
             "#de77ae"
            ],
            [
             0.3,
             "#f1b6da"
            ],
            [
             0.4,
             "#fde0ef"
            ],
            [
             0.5,
             "#f7f7f7"
            ],
            [
             0.6,
             "#e6f5d0"
            ],
            [
             0.7,
             "#b8e186"
            ],
            [
             0.8,
             "#7fbc41"
            ],
            [
             0.9,
             "#4d9221"
            ],
            [
             1,
             "#276419"
            ]
           ],
           "sequential": [
            [
             0,
             "#0508b8"
            ],
            [
             0.0893854748603352,
             "#1910d8"
            ],
            [
             0.1787709497206704,
             "#3c19f0"
            ],
            [
             0.2681564245810056,
             "#6b1cfb"
            ],
            [
             0.3575418994413408,
             "#981cfd"
            ],
            [
             0.44692737430167595,
             "#bf1cfd"
            ],
            [
             0.5363128491620112,
             "#dd2bfd"
            ],
            [
             0.6256983240223464,
             "#f246fe"
            ],
            [
             0.7150837988826816,
             "#fc67fd"
            ],
            [
             0.8044692737430168,
             "#fe88fc"
            ],
            [
             0.8938547486033519,
             "#fea5fd"
            ],
            [
             0.9832402234636871,
             "#febefe"
            ],
            [
             1,
             "#fec3fe"
            ]
           ],
           "sequentialminus": [
            [
             0,
             "#0508b8"
            ],
            [
             0.0893854748603352,
             "#1910d8"
            ],
            [
             0.1787709497206704,
             "#3c19f0"
            ],
            [
             0.2681564245810056,
             "#6b1cfb"
            ],
            [
             0.3575418994413408,
             "#981cfd"
            ],
            [
             0.44692737430167595,
             "#bf1cfd"
            ],
            [
             0.5363128491620112,
             "#dd2bfd"
            ],
            [
             0.6256983240223464,
             "#f246fe"
            ],
            [
             0.7150837988826816,
             "#fc67fd"
            ],
            [
             0.8044692737430168,
             "#fe88fc"
            ],
            [
             0.8938547486033519,
             "#fea5fd"
            ],
            [
             0.9832402234636871,
             "#febefe"
            ],
            [
             1,
             "#fec3fe"
            ]
           ]
          },
          "colorway": [
           "#636efa",
           "#EF553B",
           "#00cc96",
           "#ab63fa",
           "#19d3f3",
           "#e763fa",
           "#FECB52",
           "#FFA15A",
           "#FF6692",
           "#B6E880"
          ],
          "font": {
           "color": "#2a3f5f"
          },
          "geo": {
           "bgcolor": "white",
           "lakecolor": "white",
           "landcolor": "#E5ECF6",
           "showlakes": true,
           "showland": true,
           "subunitcolor": "white"
          },
          "hovermode": "closest",
          "mapbox": {
           "style": "light"
          },
          "paper_bgcolor": "white",
          "plot_bgcolor": "#E5ECF6",
          "polar": {
           "angularaxis": {
            "gridcolor": "white",
            "linecolor": "white",
            "ticks": ""
           },
           "bgcolor": "#E5ECF6",
           "radialaxis": {
            "gridcolor": "white",
            "linecolor": "white",
            "ticks": ""
           }
          },
          "scene": {
           "xaxis": {
            "backgroundcolor": "#E5ECF6",
            "gridcolor": "white",
            "gridwidth": 2,
            "linecolor": "white",
            "showbackground": true,
            "ticks": "",
            "zerolinecolor": "white"
           },
           "yaxis": {
            "backgroundcolor": "#E5ECF6",
            "gridcolor": "white",
            "gridwidth": 2,
            "linecolor": "white",
            "showbackground": true,
            "ticks": "",
            "zerolinecolor": "white"
           },
           "zaxis": {
            "backgroundcolor": "#E5ECF6",
            "gridcolor": "white",
            "gridwidth": 2,
            "linecolor": "white",
            "showbackground": true,
            "ticks": "",
            "zerolinecolor": "white"
           }
          },
          "shapedefaults": {
           "fillcolor": "#506784",
           "line": {
            "width": 0
           },
           "opacity": 0.4
          },
          "ternary": {
           "aaxis": {
            "gridcolor": "white",
            "linecolor": "white",
            "ticks": ""
           },
           "baxis": {
            "gridcolor": "white",
            "linecolor": "white",
            "ticks": ""
           },
           "bgcolor": "#E5ECF6",
           "caxis": {
            "gridcolor": "white",
            "linecolor": "white",
            "ticks": ""
           }
          },
          "title": {
           "x": 0.05
          },
          "xaxis": {
           "automargin": true,
           "gridcolor": "white",
           "linecolor": "white",
           "ticks": "",
           "zerolinecolor": "white",
           "zerolinewidth": 2
          },
          "yaxis": {
           "automargin": true,
           "gridcolor": "white",
           "linecolor": "white",
           "ticks": "",
           "zerolinecolor": "white",
           "zerolinewidth": 2
          }
         }
        },
        "xaxis": {
         "autorange": true,
         "range": [
          "2012-12-16 05:00",
          "2019-03-31 04:00"
         ],
         "title": {
          "text": "Date"
         },
         "type": "date"
        },
        "yaxis": {
         "autorange": true,
         "range": [
          -5.777777777777778,
          109.77777777777777
         ],
         "title": {
          "text": "Other Armed Actor (V)"
         },
         "type": "linear"
        }
       }
      },
      "image/png": "[encoded data removed]",
      "text/html": [
       "<div id=\"fade8566-bdcd-4c9f-8e57-67c5a44be261\" style=\"height: 600px; width: 100%;\" class=\"plotly-graph-div\"></div><script type=\"text/javascript\">require([\"plotly\"], function(Plotly) { window.PLOTLYENV=window.PLOTLYENV || {};window.PLOTLYENV.BASE_URL=\"https://plot.ly\";\n",
       "if (document.getElementById(\"fade8566-bdcd-4c9f-8e57-67c5a44be261\")) {\n",
       "    Plotly.newPlot(\"fade8566-bdcd-4c9f-8e57-67c5a44be261\", [{\"hovertemplate\": \"Date=%{x}<br>Other Armed Actor (V)=%{y}<extra></extra>\", \"legendgroup\": \"\", \"line\": {\"color\": \"#636efa\", \"dash\": \"solid\"}, \"mode\": \"lines\", \"name\": \"\", \"showlegend\": false, \"x\": [\"2012-12-16 05:00:00\", \"2012-12-23 05:00:00\", \"2012-12-30 05:00:00\", \"2013-01-06 05:00:00\", \"2013-01-13 05:00:00\", \"2013-01-20 05:00:00\", \"2013-01-27 05:00:00\", \"2013-02-03 05:00:00\", \"2013-02-10 05:00:00\", \"2013-02-17 05:00:00\", \"2013-02-24 05:00:00\", \"2013-03-03 05:00:00\", \"2013-03-10 05:00:00\", \"2013-03-17 04:00:00\", \"2013-03-24 04:00:00\", \"2013-03-31 04:00:00\", \"2013-04-07 04:00:00\", \"2013-04-14 04:00:00\", \"2013-04-21 04:00:00\", \"2013-04-28 04:00:00\", \"2013-05-05 04:00:00\", \"2013-05-12 04:00:00\", \"2013-05-19 04:00:00\", \"2013-05-26 04:00:00\", \"2013-06-02 04:00:00\", \"2013-06-09 04:00:00\", \"2013-06-16 04:00:00\", \"2013-06-23 04:00:00\", \"2013-06-30 04:00:00\", \"2013-07-07 04:00:00\", \"2013-07-14 04:00:00\", \"2013-07-21 04:00:00\", \"2013-07-28 04:00:00\", \"2013-08-04 04:00:00\", \"2013-08-11 04:00:00\", \"2013-08-18 04:00:00\", \"2013-08-25 04:00:00\", \"2013-09-01 04:00:00\", \"2013-09-08 04:00:00\", \"2013-09-15 04:00:00\", \"2013-09-22 04:00:00\", \"2013-09-29 04:00:00\", \"2013-10-06 04:00:00\", \"2013-10-13 04:00:00\", \"2013-10-20 04:00:00\", \"2013-10-27 04:00:00\", \"2013-11-03 04:00:00\", \"2013-11-10 05:00:00\", \"2013-11-17 05:00:00\", \"2013-11-24 05:00:00\", \"2013-12-01 05:00:00\", \"2013-12-08 05:00:00\", \"2013-12-15 05:00:00\", \"2013-12-22 05:00:00\", \"2013-12-29 05:00:00\", \"2014-01-05 05:00:00\", \"2014-01-12 05:00:00\", \"2014-01-19 05:00:00\", \"2014-01-26 05:00:00\", \"2014-02-02 05:00:00\", \"2014-02-09 05:00:00\", \"2014-02-16 05:00:00\", \"2014-02-23 05:00:00\", \"2014-03-02 05:00:00\", \"2014-03-09 05:00:00\", \"2014-03-16 04:00:00\", \"2014-03-23 04:00:00\", \"2014-03-30 04:00:00\", \"2014-04-06 04:00:00\", \"2014-04-13 04:00:00\", \"2014-04-20 04:00:00\", \"2014-04-27 04:00:00\", \"2014-05-04 04:00:00\", \"2014-05-11 04:00:00\", \"2014-05-18 04:00:00\", \"2014-05-25 04:00:00\", \"2014-06-01 04:00:00\", \"2014-06-08 04:00:00\", \"2014-06-15 04:00:00\", \"2014-06-22 04:00:00\", \"2014-06-29 04:00:00\", \"2014-07-06 04:00:00\", \"2014-07-13 04:00:00\", \"2014-07-20 04:00:00\", \"2014-07-27 04:00:00\", \"2014-08-03 04:00:00\", \"2014-08-10 04:00:00\", \"2014-08-17 04:00:00\", \"2014-08-24 04:00:00\", \"2014-08-31 04:00:00\", \"2014-09-07 04:00:00\", \"2014-09-14 04:00:00\", \"2014-09-21 04:00:00\", \"2014-09-28 04:00:00\", \"2014-10-05 04:00:00\", \"2014-10-12 04:00:00\", \"2014-10-19 04:00:00\", \"2014-10-26 04:00:00\", \"2014-11-02 04:00:00\", \"2014-11-09 05:00:00\", \"2014-11-16 05:00:00\", \"2014-11-23 05:00:00\", \"2014-11-30 05:00:00\", \"2014-12-07 05:00:00\", \"2014-12-14 05:00:00\", \"2014-12-21 05:00:00\", \"2014-12-28 05:00:00\", \"2015-01-04 05:00:00\", \"2015-01-11 05:00:00\", \"2015-01-18 05:00:00\", \"2015-01-25 05:00:00\", \"2015-02-01 05:00:00\", \"2015-02-08 05:00:00\", \"2015-02-15 05:00:00\", \"2015-02-22 05:00:00\", \"2015-03-01 05:00:00\", \"2015-03-08 05:00:00\", \"2015-03-15 04:00:00\", \"2015-03-22 04:00:00\", \"2015-03-29 04:00:00\", \"2015-04-05 04:00:00\", \"2015-04-12 04:00:00\", \"2015-04-19 04:00:00\", \"2015-04-26 04:00:00\", \"2015-05-03 04:00:00\", \"2015-05-10 04:00:00\", \"2015-05-17 04:00:00\", \"2015-05-24 04:00:00\", \"2015-05-31 04:00:00\", \"2015-06-07 04:00:00\", \"2015-06-14 04:00:00\", \"2015-06-21 04:00:00\", \"2015-06-28 04:00:00\", \"2015-07-05 04:00:00\", \"2015-07-12 04:00:00\", \"2015-07-19 04:00:00\", \"2015-07-26 04:00:00\", \"2015-08-02 04:00:00\", \"2015-08-09 04:00:00\", \"2015-08-16 04:00:00\", \"2015-08-23 04:00:00\", \"2015-08-30 04:00:00\", \"2015-09-06 04:00:00\", \"2015-09-13 04:00:00\", \"2015-09-20 04:00:00\", \"2015-09-27 04:00:00\", \"2015-10-04 04:00:00\", \"2015-10-11 04:00:00\", \"2015-10-18 04:00:00\", \"2015-10-25 04:00:00\", \"2015-11-01 04:00:00\", \"2015-11-08 05:00:00\", \"2015-11-15 05:00:00\", \"2015-11-22 05:00:00\", \"2015-11-29 05:00:00\", \"2015-12-06 05:00:00\", \"2015-12-13 05:00:00\", \"2015-12-20 05:00:00\", \"2015-12-27 05:00:00\", \"2016-01-03 05:00:00\", \"2016-01-10 05:00:00\", \"2016-01-17 05:00:00\", \"2016-01-24 05:00:00\", \"2016-01-31 05:00:00\", \"2016-02-07 05:00:00\", \"2016-02-14 05:00:00\", \"2016-02-21 05:00:00\", \"2016-02-28 05:00:00\", \"2016-03-06 05:00:00\", \"2016-03-13 05:00:00\", \"2016-03-20 04:00:00\", \"2016-03-27 04:00:00\", \"2016-04-03 04:00:00\", \"2016-04-10 04:00:00\", \"2016-04-17 04:00:00\", \"2016-04-24 04:00:00\", \"2016-05-01 04:00:00\", \"2016-05-08 04:00:00\", \"2016-05-15 04:00:00\", \"2016-05-22 04:00:00\", \"2016-05-29 04:00:00\", \"2016-06-05 04:00:00\", \"2016-06-12 04:00:00\", \"2016-06-19 04:00:00\", \"2016-06-26 04:00:00\", \"2016-07-03 04:00:00\", \"2016-07-10 04:00:00\", \"2016-07-17 04:00:00\", \"2016-07-24 04:00:00\", \"2016-07-31 04:00:00\", \"2016-08-07 04:00:00\", \"2016-08-14 04:00:00\", \"2016-08-21 04:00:00\", \"2016-08-28 04:00:00\", \"2016-09-04 04:00:00\", \"2016-09-11 04:00:00\", \"2016-09-18 04:00:00\", \"2016-09-25 04:00:00\", \"2016-10-02 04:00:00\", \"2016-10-09 04:00:00\", \"2016-10-16 04:00:00\", \"2016-10-23 04:00:00\", \"2016-10-30 04:00:00\", \"2016-11-06 04:00:00\", \"2016-11-13 05:00:00\", \"2016-11-20 05:00:00\", \"2016-11-27 05:00:00\", \"2016-12-04 05:00:00\", \"2016-12-11 05:00:00\", \"2016-12-18 05:00:00\", \"2016-12-25 05:00:00\", \"2017-01-01 05:00:00\", \"2017-01-08 05:00:00\", \"2017-01-15 05:00:00\", \"2017-01-22 05:00:00\", \"2017-01-29 05:00:00\", \"2017-02-05 05:00:00\", \"2017-02-12 05:00:00\", \"2017-02-19 05:00:00\", \"2017-02-26 05:00:00\", \"2017-03-05 05:00:00\", \"2017-03-12 05:00:00\", \"2017-03-19 04:00:00\", \"2017-03-26 04:00:00\", \"2017-04-02 04:00:00\", \"2017-04-09 04:00:00\", \"2017-04-16 04:00:00\", \"2017-04-23 04:00:00\", \"2017-04-30 04:00:00\", \"2017-05-07 04:00:00\", \"2017-05-14 04:00:00\", \"2017-05-21 04:00:00\", \"2017-05-28 04:00:00\", \"2017-06-04 04:00:00\", \"2017-06-11 04:00:00\", \"2017-06-18 04:00:00\", \"2017-06-25 04:00:00\", \"2017-07-02 04:00:00\", \"2017-07-09 04:00:00\", \"2017-07-16 04:00:00\", \"2017-07-23 04:00:00\", \"2017-07-30 04:00:00\", \"2017-08-06 04:00:00\", \"2017-08-13 04:00:00\", \"2017-08-20 04:00:00\", \"2017-08-27 04:00:00\", \"2017-09-03 04:00:00\", \"2017-09-10 04:00:00\", \"2017-09-17 04:00:00\", \"2017-09-24 04:00:00\", \"2017-10-01 04:00:00\", \"2017-10-08 04:00:00\", \"2017-10-15 04:00:00\", \"2017-10-22 04:00:00\", \"2017-10-29 04:00:00\", \"2017-11-05 04:00:00\", \"2017-11-12 05:00:00\", \"2017-11-19 05:00:00\", \"2017-11-26 05:00:00\", \"2017-12-03 05:00:00\", \"2017-12-10 05:00:00\", \"2017-12-17 05:00:00\", \"2017-12-24 05:00:00\", \"2017-12-31 05:00:00\", \"2018-01-07 05:00:00\", \"2018-01-14 05:00:00\", \"2018-01-21 05:00:00\", \"2018-01-28 05:00:00\", \"2018-02-04 05:00:00\", \"2018-02-11 05:00:00\", \"2018-02-18 05:00:00\", \"2018-02-25 05:00:00\", \"2018-03-04 05:00:00\", \"2018-03-11 05:00:00\", \"2018-03-18 04:00:00\", \"2018-03-25 04:00:00\", \"2018-04-01 04:00:00\", \"2018-04-08 04:00:00\", \"2018-04-15 04:00:00\", \"2018-04-22 04:00:00\", \"2018-04-29 04:00:00\", \"2018-05-06 04:00:00\", \"2018-05-13 04:00:00\", \"2018-05-20 04:00:00\", \"2018-05-27 04:00:00\", \"2018-06-03 04:00:00\", \"2018-06-10 04:00:00\", \"2018-06-17 04:00:00\", \"2018-06-24 04:00:00\", \"2018-07-01 04:00:00\", \"2018-07-08 04:00:00\", \"2018-07-15 04:00:00\", \"2018-07-22 04:00:00\", \"2018-07-29 04:00:00\", \"2018-08-05 04:00:00\", \"2018-08-12 04:00:00\", \"2018-08-19 04:00:00\", \"2018-08-26 04:00:00\", \"2018-09-02 04:00:00\", \"2018-09-09 04:00:00\", \"2018-09-16 04:00:00\", \"2018-09-23 04:00:00\", \"2018-09-30 04:00:00\", \"2018-10-07 04:00:00\", \"2018-10-14 04:00:00\", \"2018-10-21 04:00:00\", \"2018-10-28 04:00:00\", \"2018-11-04 04:00:00\", \"2018-11-11 05:00:00\", \"2018-11-18 05:00:00\", \"2018-11-25 05:00:00\", \"2018-12-02 05:00:00\", \"2018-12-09 05:00:00\", \"2018-12-16 05:00:00\", \"2018-12-23 05:00:00\", \"2018-12-30 05:00:00\", \"2019-01-06 05:00:00\", \"2019-01-13 05:00:00\", \"2019-01-20 05:00:00\", \"2019-01-27 05:00:00\", \"2019-02-03 05:00:00\", \"2019-02-10 05:00:00\", \"2019-02-17 05:00:00\", \"2019-02-24 05:00:00\", \"2019-03-03 05:00:00\", \"2019-03-10 05:00:00\", \"2019-03-17 04:00:00\", \"2019-03-24 04:00:00\", \"2019-03-31 04:00:00\"], \"xaxis\": \"x\", \"y\": [10.0, 0.0, 0.0, 0.0, 0.0, 0.0, 0.0, 0.0, 0.0, 0.0, 0.0, 0.0, 0.0, 0.0, 0.0, 0.0, 0.0, 0.0, 0.0, 0.0, 0.0, 0.0, 0.0, 0.0, 0.0, 0.0, 0.0, 0.0, 0.0, 0.0, 0.0, 0.0, 0.0, 0.0, 0.0, 0.0, 0.0, 0.0, 0.0, 0.0, 0.0, 0.0, 0.0, 0.0, 0.0, 0.0, 0.0, 0.0, 0.0, 0.0, 0.0, 0.0, 0.0, 0.0, 0.0, 0.0, 0.0, 0.0, 0.0, 0.0, 0.0, 0.0, 0.0, 0.0, 0.0, 0.0, 0.0, 0.0, 0.0, 0.0, 0.0, 0.0, 0.0, 0.0, 0.0, 0.0, 0.0, 0.0, 0.0, 0.0, 0.0, 0.0, 0.0, 0.0, 0.0, 0.0, 0.0, 0.0, 0.0, 0.0, 0.0, 0.0, 0.0, 0.0, 0.0, 0.0, 0.0, 0.0, 0.0, 0.0, 0.0, 0.0, 0.0, 0.0, 0.0, 0.0, 0.0, 0.0, 0.0, 0.0, 0.0, 0.0, 0.0, 0.0, 0.0, 0.0, 0.0, 0.0, 0.0, 0.0, 0.0, 0.0, 0.0, 0.0, 0.0, 0.0, 0.0, 0.0, 0.0, 0.0, 0.0, 0.0, 0.0, 0.0, 0.0, 0.0, 0.0, 0.0, 0.0, 0.0, 0.0, 0.0, 0.0, 0.0, 0.0, 0.0, 0.0, 0.0, 0.0, 0.0, 0.0, 0.0, 0.0, 0.0, 0.0, 0.0, 0.0, 0.0, 0.0, 0.0, 0.0, 0.0, 0.0, 0.0, 0.0, 0.0, 0.0, 0.0, 0.0, 0.0, 0.0, 0.0, 0.0, 0.0, 0.0, 0.0, 0.0, 0.0, 0.0, 0.0, 0.0, 0.0, 0.0, 0.0, 0.0, 0.0, 0.0, 0.0, 0.0, 0.0, 0.0, 0.0, 0.0, 0.0, 0.0, 0.0, 0.0, 0.0, 0.0, 0.0, 0.0, 0.0, 0.0, 0.0, 0.0, 0.0, 0.0, 0.0, 0.0, 0.0, 0.0, 0.0, 0.0, 0.0, 0.0, 0.0, 0.0, 0.0, 0.0, 0.0, 0.0, 0.0, 0.0, 0.0, 0.0, 0.0, 0.0, 0.0, 0.0, 0.0, 0.0, 0.0, 0.0, 0.0, 0.0, 0.0, 0.0, 0.0, 0.0, 0.0, 0.0, 0.0, 0.0, 0.0, 0.0, 0.0, 0.0, 0.0, 0.0, 1.0, 0.0, 0.0, 0.0, 0.0, 0.0, 0.0, 0.0, 0.0, 0.0, 0.0, 0.0, 0.0, 0.0, 0.0, 0.0, 0.0, 0.0, 0.0, 0.0, 0.0, 0.0, 0.0, 0.0, 0.0, 0.0, 0.0, 0.0, 0.0, 0.0, 0.0, 0.0, 13.0, 8.0, 1.0, 0.0, 1.0, 5.0, 0.0, 20.0, 0.0, 0.0, 1.0, 0.0, 0.0, 30.0, 30.0, 0.0, 35.0, 0.0, 0.0, 0.0, 0.0, 0.0, 0.0, 0.0, 0.0, 0.0, 0.0, 0.0, 0.0, 0.0, 104.0, 0.0, 8.0, 0.0, 5.0, 40.0, 0.0, 60.0, 0.0, 31.0, 0.0, 39.0, 59.0, 44.0, 50.0, 56.0, 0.0, 8.0], \"yaxis\": \"y\", \"type\": \"scatter\", \"uid\": \"231f6109-fcc9-4038-ab12-8e5d8c906637\"}], {\"height\": 600, \"legend\": {\"tracegroupgap\": 0}, \"margin\": {\"t\": 60}, \"template\": {\"data\": {\"barpolar\": [{\"marker\": {\"line\": {\"color\": \"#E5ECF6\", \"width\": 0.5}}, \"type\": \"barpolar\"}], \"bar\": [{\"marker\": {\"line\": {\"color\": \"#E5ECF6\", \"width\": 0.5}}, \"type\": \"bar\"}], \"carpet\": [{\"aaxis\": {\"endlinecolor\": \"#2a3f5f\", \"gridcolor\": \"white\", \"linecolor\": \"white\", \"minorgridcolor\": \"white\", \"startlinecolor\": \"#2a3f5f\"}, \"baxis\": {\"endlinecolor\": \"#2a3f5f\", \"gridcolor\": \"white\", \"linecolor\": \"white\", \"minorgridcolor\": \"white\", \"startlinecolor\": \"#2a3f5f\"}, \"type\": \"carpet\"}], \"choropleth\": [{\"colorbar\": {\"outlinewidth\": 0, \"ticks\": \"\"}, \"type\": \"choropleth\"}], \"contourcarpet\": [{\"colorbar\": {\"outlinewidth\": 0, \"ticks\": \"\"}, \"type\": \"contourcarpet\"}], \"contour\": [{\"autocolorscale\": true, \"colorbar\": {\"outlinewidth\": 0, \"ticks\": \"\"}, \"type\": \"contour\"}], \"heatmapgl\": [{\"colorbar\": {\"outlinewidth\": 0, \"ticks\": \"\"}, \"type\": \"heatmapgl\"}], \"heatmap\": [{\"autocolorscale\": true, \"colorbar\": {\"outlinewidth\": 0, \"ticks\": \"\"}, \"type\": \"heatmap\"}], \"histogram2dcontour\": [{\"autocolorscale\": true, \"colorbar\": {\"outlinewidth\": 0, \"ticks\": \"\"}, \"type\": \"histogram2dcontour\"}], \"histogram2d\": [{\"autocolorscale\": true, \"colorbar\": {\"outlinewidth\": 0, \"ticks\": \"\"}, \"type\": \"histogram2d\"}], \"histogram\": [{\"marker\": {\"colorbar\": {\"outlinewidth\": 0, \"ticks\": \"\"}}, \"type\": \"histogram\"}], \"mesh3d\": [{\"colorbar\": {\"outlinewidth\": 0, \"ticks\": \"\"}, \"type\": \"mesh3d\"}], \"parcoords\": [{\"line\": {\"colorbar\": {\"outlinewidth\": 0, \"ticks\": \"\"}}, \"type\": \"parcoords\"}], \"scatter3d\": [{\"marker\": {\"colorbar\": {\"outlinewidth\": 0, \"ticks\": \"\"}}, \"type\": \"scatter3d\"}], \"scattercarpet\": [{\"marker\": {\"colorbar\": {\"outlinewidth\": 0, \"ticks\": \"\"}}, \"type\": \"scattercarpet\"}], \"scattergeo\": [{\"marker\": {\"colorbar\": {\"outlinewidth\": 0, \"ticks\": \"\"}}, \"type\": \"scattergeo\"}], \"scattergl\": [{\"marker\": {\"colorbar\": {\"outlinewidth\": 0, \"ticks\": \"\"}}, \"type\": \"scattergl\"}], \"scattermapbox\": [{\"marker\": {\"colorbar\": {\"outlinewidth\": 0, \"ticks\": \"\"}}, \"type\": \"scattermapbox\"}], \"scatterpolargl\": [{\"marker\": {\"colorbar\": {\"outlinewidth\": 0, \"ticks\": \"\"}}, \"type\": \"scatterpolargl\"}], \"scatterpolar\": [{\"marker\": {\"colorbar\": {\"outlinewidth\": 0, \"ticks\": \"\"}}, \"type\": \"scatterpolar\"}], \"scatter\": [{\"marker\": {\"colorbar\": {\"outlinewidth\": 0, \"ticks\": \"\"}}, \"type\": \"scatter\"}], \"scatterternary\": [{\"marker\": {\"colorbar\": {\"outlinewidth\": 0, \"ticks\": \"\"}}, \"type\": \"scatterternary\"}], \"surface\": [{\"colorbar\": {\"outlinewidth\": 0, \"ticks\": \"\"}, \"type\": \"surface\"}], \"table\": [{\"cells\": {\"fill\": {\"color\": \"#EBF0F8\"}, \"line\": {\"color\": \"white\"}}, \"header\": {\"fill\": {\"color\": \"#C8D4E3\"}, \"line\": {\"color\": \"white\"}}, \"type\": \"table\"}]}, \"layout\": {\"annotationdefaults\": {\"arrowcolor\": \"#506784\", \"arrowhead\": 0, \"arrowwidth\": 1}, \"colorscale\": {\"diverging\": [[0, \"#8e0152\"], [0.1, \"#c51b7d\"], [0.2, \"#de77ae\"], [0.3, \"#f1b6da\"], [0.4, \"#fde0ef\"], [0.5, \"#f7f7f7\"], [0.6, \"#e6f5d0\"], [0.7, \"#b8e186\"], [0.8, \"#7fbc41\"], [0.9, \"#4d9221\"], [1, \"#276419\"]], \"sequential\": [[0.0, \"#0508b8\"], [0.0893854748603352, \"#1910d8\"], [0.1787709497206704, \"#3c19f0\"], [0.2681564245810056, \"#6b1cfb\"], [0.3575418994413408, \"#981cfd\"], [0.44692737430167595, \"#bf1cfd\"], [0.5363128491620112, \"#dd2bfd\"], [0.6256983240223464, \"#f246fe\"], [0.7150837988826816, \"#fc67fd\"], [0.8044692737430168, \"#fe88fc\"], [0.8938547486033519, \"#fea5fd\"], [0.9832402234636871, \"#febefe\"], [1.0, \"#fec3fe\"]], \"sequentialminus\": [[0.0, \"#0508b8\"], [0.0893854748603352, \"#1910d8\"], [0.1787709497206704, \"#3c19f0\"], [0.2681564245810056, \"#6b1cfb\"], [0.3575418994413408, \"#981cfd\"], [0.44692737430167595, \"#bf1cfd\"], [0.5363128491620112, \"#dd2bfd\"], [0.6256983240223464, \"#f246fe\"], [0.7150837988826816, \"#fc67fd\"], [0.8044692737430168, \"#fe88fc\"], [0.8938547486033519, \"#fea5fd\"], [0.9832402234636871, \"#febefe\"], [1.0, \"#fec3fe\"]]}, \"colorway\": [\"#636efa\", \"#EF553B\", \"#00cc96\", \"#ab63fa\", \"#19d3f3\", \"#e763fa\", \"#FECB52\", \"#FFA15A\", \"#FF6692\", \"#B6E880\"], \"font\": {\"color\": \"#2a3f5f\"}, \"geo\": {\"bgcolor\": \"white\", \"lakecolor\": \"white\", \"landcolor\": \"#E5ECF6\", \"showlakes\": true, \"showland\": true, \"subunitcolor\": \"white\"}, \"hovermode\": \"closest\", \"mapbox\": {\"style\": \"light\"}, \"paper_bgcolor\": \"white\", \"plot_bgcolor\": \"#E5ECF6\", \"polar\": {\"angularaxis\": {\"gridcolor\": \"white\", \"linecolor\": \"white\", \"ticks\": \"\"}, \"bgcolor\": \"#E5ECF6\", \"radialaxis\": {\"gridcolor\": \"white\", \"linecolor\": \"white\", \"ticks\": \"\"}}, \"scene\": {\"xaxis\": {\"backgroundcolor\": \"#E5ECF6\", \"gridcolor\": \"white\", \"gridwidth\": 2, \"linecolor\": \"white\", \"showbackground\": true, \"ticks\": \"\", \"zerolinecolor\": \"white\"}, \"yaxis\": {\"backgroundcolor\": \"#E5ECF6\", \"gridcolor\": \"white\", \"gridwidth\": 2, \"linecolor\": \"white\", \"showbackground\": true, \"ticks\": \"\", \"zerolinecolor\": \"white\"}, \"zaxis\": {\"backgroundcolor\": \"#E5ECF6\", \"gridcolor\": \"white\", \"gridwidth\": 2, \"linecolor\": \"white\", \"showbackground\": true, \"ticks\": \"\", \"zerolinecolor\": \"white\"}}, \"shapedefaults\": {\"fillcolor\": \"#506784\", \"line\": {\"width\": 0}, \"opacity\": 0.4}, \"ternary\": {\"aaxis\": {\"gridcolor\": \"white\", \"linecolor\": \"white\", \"ticks\": \"\"}, \"baxis\": {\"gridcolor\": \"white\", \"linecolor\": \"white\", \"ticks\": \"\"}, \"bgcolor\": \"#E5ECF6\", \"caxis\": {\"gridcolor\": \"white\", \"linecolor\": \"white\", \"ticks\": \"\"}}, \"title\": {\"x\": 0.05}, \"xaxis\": {\"automargin\": true, \"gridcolor\": \"white\", \"linecolor\": \"white\", \"ticks\": \"\", \"zerolinecolor\": \"white\", \"zerolinewidth\": 2}, \"yaxis\": {\"automargin\": true, \"gridcolor\": \"white\", \"linecolor\": \"white\", \"ticks\": \"\", \"zerolinecolor\": \"white\", \"zerolinewidth\": 2}}}, \"grid\": {\"xaxes\": [\"x\"], \"yaxes\": [\"y\"], \"xgap\": 0.1, \"ygap\": 0.1, \"xside\": \"bottom\", \"yside\": \"left\"}, \"xaxis\": {\"title\": {\"text\": \"Date\"}}, \"yaxis\": {\"title\": {\"text\": \"Other Armed Actor (V)\"}}}, {\"showLink\": false, \"linkText\": \"Export to plot.ly\", \"plotlyServerURL\": \"https://plot.ly\"}); \n",
       "}\n",
       "});</script><script type=\"text/javascript\">window.addEventListener(\"resize\", function(){if (document.getElementById(\"fade8566-bdcd-4c9f-8e57-67c5a44be261\")) {window._Plotly.Plots.resize(document.getElementById(\"fade8566-bdcd-4c9f-8e57-67c5a44be261\"));};})</script>"
      ],
      "text/vnd.plotly.v1+html": [
       "<div id=\"fade8566-bdcd-4c9f-8e57-67c5a44be261\" style=\"height: 600px; width: 100%;\" class=\"plotly-graph-div\"></div><script type=\"text/javascript\">require([\"plotly\"], function(Plotly) { window.PLOTLYENV=window.PLOTLYENV || {};window.PLOTLYENV.BASE_URL=\"https://plot.ly\";\n",
       "if (document.getElementById(\"fade8566-bdcd-4c9f-8e57-67c5a44be261\")) {\n",
       "    Plotly.newPlot(\"fade8566-bdcd-4c9f-8e57-67c5a44be261\", [{\"hovertemplate\": \"Date=%{x}<br>Other Armed Actor (V)=%{y}<extra></extra>\", \"legendgroup\": \"\", \"line\": {\"color\": \"#636efa\", \"dash\": \"solid\"}, \"mode\": \"lines\", \"name\": \"\", \"showlegend\": false, \"x\": [\"2012-12-16 05:00:00\", \"2012-12-23 05:00:00\", \"2012-12-30 05:00:00\", \"2013-01-06 05:00:00\", \"2013-01-13 05:00:00\", \"2013-01-20 05:00:00\", \"2013-01-27 05:00:00\", \"2013-02-03 05:00:00\", \"2013-02-10 05:00:00\", \"2013-02-17 05:00:00\", \"2013-02-24 05:00:00\", \"2013-03-03 05:00:00\", \"2013-03-10 05:00:00\", \"2013-03-17 04:00:00\", \"2013-03-24 04:00:00\", \"2013-03-31 04:00:00\", \"2013-04-07 04:00:00\", \"2013-04-14 04:00:00\", \"2013-04-21 04:00:00\", \"2013-04-28 04:00:00\", \"2013-05-05 04:00:00\", \"2013-05-12 04:00:00\", \"2013-05-19 04:00:00\", \"2013-05-26 04:00:00\", \"2013-06-02 04:00:00\", \"2013-06-09 04:00:00\", \"2013-06-16 04:00:00\", \"2013-06-23 04:00:00\", \"2013-06-30 04:00:00\", \"2013-07-07 04:00:00\", \"2013-07-14 04:00:00\", \"2013-07-21 04:00:00\", \"2013-07-28 04:00:00\", \"2013-08-04 04:00:00\", \"2013-08-11 04:00:00\", \"2013-08-18 04:00:00\", \"2013-08-25 04:00:00\", \"2013-09-01 04:00:00\", \"2013-09-08 04:00:00\", \"2013-09-15 04:00:00\", \"2013-09-22 04:00:00\", \"2013-09-29 04:00:00\", \"2013-10-06 04:00:00\", \"2013-10-13 04:00:00\", \"2013-10-20 04:00:00\", \"2013-10-27 04:00:00\", \"2013-11-03 04:00:00\", \"2013-11-10 05:00:00\", \"2013-11-17 05:00:00\", \"2013-11-24 05:00:00\", \"2013-12-01 05:00:00\", \"2013-12-08 05:00:00\", \"2013-12-15 05:00:00\", \"2013-12-22 05:00:00\", \"2013-12-29 05:00:00\", \"2014-01-05 05:00:00\", \"2014-01-12 05:00:00\", \"2014-01-19 05:00:00\", \"2014-01-26 05:00:00\", \"2014-02-02 05:00:00\", \"2014-02-09 05:00:00\", \"2014-02-16 05:00:00\", \"2014-02-23 05:00:00\", \"2014-03-02 05:00:00\", \"2014-03-09 05:00:00\", \"2014-03-16 04:00:00\", \"2014-03-23 04:00:00\", \"2014-03-30 04:00:00\", \"2014-04-06 04:00:00\", \"2014-04-13 04:00:00\", \"2014-04-20 04:00:00\", \"2014-04-27 04:00:00\", \"2014-05-04 04:00:00\", \"2014-05-11 04:00:00\", \"2014-05-18 04:00:00\", \"2014-05-25 04:00:00\", \"2014-06-01 04:00:00\", \"2014-06-08 04:00:00\", \"2014-06-15 04:00:00\", \"2014-06-22 04:00:00\", \"2014-06-29 04:00:00\", \"2014-07-06 04:00:00\", \"2014-07-13 04:00:00\", \"2014-07-20 04:00:00\", \"2014-07-27 04:00:00\", \"2014-08-03 04:00:00\", \"2014-08-10 04:00:00\", \"2014-08-17 04:00:00\", \"2014-08-24 04:00:00\", \"2014-08-31 04:00:00\", \"2014-09-07 04:00:00\", \"2014-09-14 04:00:00\", \"2014-09-21 04:00:00\", \"2014-09-28 04:00:00\", \"2014-10-05 04:00:00\", \"2014-10-12 04:00:00\", \"2014-10-19 04:00:00\", \"2014-10-26 04:00:00\", \"2014-11-02 04:00:00\", \"2014-11-09 05:00:00\", \"2014-11-16 05:00:00\", \"2014-11-23 05:00:00\", \"2014-11-30 05:00:00\", \"2014-12-07 05:00:00\", \"2014-12-14 05:00:00\", \"2014-12-21 05:00:00\", \"2014-12-28 05:00:00\", \"2015-01-04 05:00:00\", \"2015-01-11 05:00:00\", \"2015-01-18 05:00:00\", \"2015-01-25 05:00:00\", \"2015-02-01 05:00:00\", \"2015-02-08 05:00:00\", \"2015-02-15 05:00:00\", \"2015-02-22 05:00:00\", \"2015-03-01 05:00:00\", \"2015-03-08 05:00:00\", \"2015-03-15 04:00:00\", \"2015-03-22 04:00:00\", \"2015-03-29 04:00:00\", \"2015-04-05 04:00:00\", \"2015-04-12 04:00:00\", \"2015-04-19 04:00:00\", \"2015-04-26 04:00:00\", \"2015-05-03 04:00:00\", \"2015-05-10 04:00:00\", \"2015-05-17 04:00:00\", \"2015-05-24 04:00:00\", \"2015-05-31 04:00:00\", \"2015-06-07 04:00:00\", \"2015-06-14 04:00:00\", \"2015-06-21 04:00:00\", \"2015-06-28 04:00:00\", \"2015-07-05 04:00:00\", \"2015-07-12 04:00:00\", \"2015-07-19 04:00:00\", \"2015-07-26 04:00:00\", \"2015-08-02 04:00:00\", \"2015-08-09 04:00:00\", \"2015-08-16 04:00:00\", \"2015-08-23 04:00:00\", \"2015-08-30 04:00:00\", \"2015-09-06 04:00:00\", \"2015-09-13 04:00:00\", \"2015-09-20 04:00:00\", \"2015-09-27 04:00:00\", \"2015-10-04 04:00:00\", \"2015-10-11 04:00:00\", \"2015-10-18 04:00:00\", \"2015-10-25 04:00:00\", \"2015-11-01 04:00:00\", \"2015-11-08 05:00:00\", \"2015-11-15 05:00:00\", \"2015-11-22 05:00:00\", \"2015-11-29 05:00:00\", \"2015-12-06 05:00:00\", \"2015-12-13 05:00:00\", \"2015-12-20 05:00:00\", \"2015-12-27 05:00:00\", \"2016-01-03 05:00:00\", \"2016-01-10 05:00:00\", \"2016-01-17 05:00:00\", \"2016-01-24 05:00:00\", \"2016-01-31 05:00:00\", \"2016-02-07 05:00:00\", \"2016-02-14 05:00:00\", \"2016-02-21 05:00:00\", \"2016-02-28 05:00:00\", \"2016-03-06 05:00:00\", \"2016-03-13 05:00:00\", \"2016-03-20 04:00:00\", \"2016-03-27 04:00:00\", \"2016-04-03 04:00:00\", \"2016-04-10 04:00:00\", \"2016-04-17 04:00:00\", \"2016-04-24 04:00:00\", \"2016-05-01 04:00:00\", \"2016-05-08 04:00:00\", \"2016-05-15 04:00:00\", \"2016-05-22 04:00:00\", \"2016-05-29 04:00:00\", \"2016-06-05 04:00:00\", \"2016-06-12 04:00:00\", \"2016-06-19 04:00:00\", \"2016-06-26 04:00:00\", \"2016-07-03 04:00:00\", \"2016-07-10 04:00:00\", \"2016-07-17 04:00:00\", \"2016-07-24 04:00:00\", \"2016-07-31 04:00:00\", \"2016-08-07 04:00:00\", \"2016-08-14 04:00:00\", \"2016-08-21 04:00:00\", \"2016-08-28 04:00:00\", \"2016-09-04 04:00:00\", \"2016-09-11 04:00:00\", \"2016-09-18 04:00:00\", \"2016-09-25 04:00:00\", \"2016-10-02 04:00:00\", \"2016-10-09 04:00:00\", \"2016-10-16 04:00:00\", \"2016-10-23 04:00:00\", \"2016-10-30 04:00:00\", \"2016-11-06 04:00:00\", \"2016-11-13 05:00:00\", \"2016-11-20 05:00:00\", \"2016-11-27 05:00:00\", \"2016-12-04 05:00:00\", \"2016-12-11 05:00:00\", \"2016-12-18 05:00:00\", \"2016-12-25 05:00:00\", \"2017-01-01 05:00:00\", \"2017-01-08 05:00:00\", \"2017-01-15 05:00:00\", \"2017-01-22 05:00:00\", \"2017-01-29 05:00:00\", \"2017-02-05 05:00:00\", \"2017-02-12 05:00:00\", \"2017-02-19 05:00:00\", \"2017-02-26 05:00:00\", \"2017-03-05 05:00:00\", \"2017-03-12 05:00:00\", \"2017-03-19 04:00:00\", \"2017-03-26 04:00:00\", \"2017-04-02 04:00:00\", \"2017-04-09 04:00:00\", \"2017-04-16 04:00:00\", \"2017-04-23 04:00:00\", \"2017-04-30 04:00:00\", \"2017-05-07 04:00:00\", \"2017-05-14 04:00:00\", \"2017-05-21 04:00:00\", \"2017-05-28 04:00:00\", \"2017-06-04 04:00:00\", \"2017-06-11 04:00:00\", \"2017-06-18 04:00:00\", \"2017-06-25 04:00:00\", \"2017-07-02 04:00:00\", \"2017-07-09 04:00:00\", \"2017-07-16 04:00:00\", \"2017-07-23 04:00:00\", \"2017-07-30 04:00:00\", \"2017-08-06 04:00:00\", \"2017-08-13 04:00:00\", \"2017-08-20 04:00:00\", \"2017-08-27 04:00:00\", \"2017-09-03 04:00:00\", \"2017-09-10 04:00:00\", \"2017-09-17 04:00:00\", \"2017-09-24 04:00:00\", \"2017-10-01 04:00:00\", \"2017-10-08 04:00:00\", \"2017-10-15 04:00:00\", \"2017-10-22 04:00:00\", \"2017-10-29 04:00:00\", \"2017-11-05 04:00:00\", \"2017-11-12 05:00:00\", \"2017-11-19 05:00:00\", \"2017-11-26 05:00:00\", \"2017-12-03 05:00:00\", \"2017-12-10 05:00:00\", \"2017-12-17 05:00:00\", \"2017-12-24 05:00:00\", \"2017-12-31 05:00:00\", \"2018-01-07 05:00:00\", \"2018-01-14 05:00:00\", \"2018-01-21 05:00:00\", \"2018-01-28 05:00:00\", \"2018-02-04 05:00:00\", \"2018-02-11 05:00:00\", \"2018-02-18 05:00:00\", \"2018-02-25 05:00:00\", \"2018-03-04 05:00:00\", \"2018-03-11 05:00:00\", \"2018-03-18 04:00:00\", \"2018-03-25 04:00:00\", \"2018-04-01 04:00:00\", \"2018-04-08 04:00:00\", \"2018-04-15 04:00:00\", \"2018-04-22 04:00:00\", \"2018-04-29 04:00:00\", \"2018-05-06 04:00:00\", \"2018-05-13 04:00:00\", \"2018-05-20 04:00:00\", \"2018-05-27 04:00:00\", \"2018-06-03 04:00:00\", \"2018-06-10 04:00:00\", \"2018-06-17 04:00:00\", \"2018-06-24 04:00:00\", \"2018-07-01 04:00:00\", \"2018-07-08 04:00:00\", \"2018-07-15 04:00:00\", \"2018-07-22 04:00:00\", \"2018-07-29 04:00:00\", \"2018-08-05 04:00:00\", \"2018-08-12 04:00:00\", \"2018-08-19 04:00:00\", \"2018-08-26 04:00:00\", \"2018-09-02 04:00:00\", \"2018-09-09 04:00:00\", \"2018-09-16 04:00:00\", \"2018-09-23 04:00:00\", \"2018-09-30 04:00:00\", \"2018-10-07 04:00:00\", \"2018-10-14 04:00:00\", \"2018-10-21 04:00:00\", \"2018-10-28 04:00:00\", \"2018-11-04 04:00:00\", \"2018-11-11 05:00:00\", \"2018-11-18 05:00:00\", \"2018-11-25 05:00:00\", \"2018-12-02 05:00:00\", \"2018-12-09 05:00:00\", \"2018-12-16 05:00:00\", \"2018-12-23 05:00:00\", \"2018-12-30 05:00:00\", \"2019-01-06 05:00:00\", \"2019-01-13 05:00:00\", \"2019-01-20 05:00:00\", \"2019-01-27 05:00:00\", \"2019-02-03 05:00:00\", \"2019-02-10 05:00:00\", \"2019-02-17 05:00:00\", \"2019-02-24 05:00:00\", \"2019-03-03 05:00:00\", \"2019-03-10 05:00:00\", \"2019-03-17 04:00:00\", \"2019-03-24 04:00:00\", \"2019-03-31 04:00:00\"], \"xaxis\": \"x\", \"y\": [10.0, 0.0, 0.0, 0.0, 0.0, 0.0, 0.0, 0.0, 0.0, 0.0, 0.0, 0.0, 0.0, 0.0, 0.0, 0.0, 0.0, 0.0, 0.0, 0.0, 0.0, 0.0, 0.0, 0.0, 0.0, 0.0, 0.0, 0.0, 0.0, 0.0, 0.0, 0.0, 0.0, 0.0, 0.0, 0.0, 0.0, 0.0, 0.0, 0.0, 0.0, 0.0, 0.0, 0.0, 0.0, 0.0, 0.0, 0.0, 0.0, 0.0, 0.0, 0.0, 0.0, 0.0, 0.0, 0.0, 0.0, 0.0, 0.0, 0.0, 0.0, 0.0, 0.0, 0.0, 0.0, 0.0, 0.0, 0.0, 0.0, 0.0, 0.0, 0.0, 0.0, 0.0, 0.0, 0.0, 0.0, 0.0, 0.0, 0.0, 0.0, 0.0, 0.0, 0.0, 0.0, 0.0, 0.0, 0.0, 0.0, 0.0, 0.0, 0.0, 0.0, 0.0, 0.0, 0.0, 0.0, 0.0, 0.0, 0.0, 0.0, 0.0, 0.0, 0.0, 0.0, 0.0, 0.0, 0.0, 0.0, 0.0, 0.0, 0.0, 0.0, 0.0, 0.0, 0.0, 0.0, 0.0, 0.0, 0.0, 0.0, 0.0, 0.0, 0.0, 0.0, 0.0, 0.0, 0.0, 0.0, 0.0, 0.0, 0.0, 0.0, 0.0, 0.0, 0.0, 0.0, 0.0, 0.0, 0.0, 0.0, 0.0, 0.0, 0.0, 0.0, 0.0, 0.0, 0.0, 0.0, 0.0, 0.0, 0.0, 0.0, 0.0, 0.0, 0.0, 0.0, 0.0, 0.0, 0.0, 0.0, 0.0, 0.0, 0.0, 0.0, 0.0, 0.0, 0.0, 0.0, 0.0, 0.0, 0.0, 0.0, 0.0, 0.0, 0.0, 0.0, 0.0, 0.0, 0.0, 0.0, 0.0, 0.0, 0.0, 0.0, 0.0, 0.0, 0.0, 0.0, 0.0, 0.0, 0.0, 0.0, 0.0, 0.0, 0.0, 0.0, 0.0, 0.0, 0.0, 0.0, 0.0, 0.0, 0.0, 0.0, 0.0, 0.0, 0.0, 0.0, 0.0, 0.0, 0.0, 0.0, 0.0, 0.0, 0.0, 0.0, 0.0, 0.0, 0.0, 0.0, 0.0, 0.0, 0.0, 0.0, 0.0, 0.0, 0.0, 0.0, 0.0, 0.0, 0.0, 0.0, 0.0, 0.0, 0.0, 0.0, 0.0, 0.0, 0.0, 0.0, 0.0, 0.0, 0.0, 0.0, 0.0, 0.0, 0.0, 0.0, 1.0, 0.0, 0.0, 0.0, 0.0, 0.0, 0.0, 0.0, 0.0, 0.0, 0.0, 0.0, 0.0, 0.0, 0.0, 0.0, 0.0, 0.0, 0.0, 0.0, 0.0, 0.0, 0.0, 0.0, 0.0, 0.0, 0.0, 0.0, 0.0, 0.0, 0.0, 0.0, 13.0, 8.0, 1.0, 0.0, 1.0, 5.0, 0.0, 20.0, 0.0, 0.0, 1.0, 0.0, 0.0, 30.0, 30.0, 0.0, 35.0, 0.0, 0.0, 0.0, 0.0, 0.0, 0.0, 0.0, 0.0, 0.0, 0.0, 0.0, 0.0, 0.0, 104.0, 0.0, 8.0, 0.0, 5.0, 40.0, 0.0, 60.0, 0.0, 31.0, 0.0, 39.0, 59.0, 44.0, 50.0, 56.0, 0.0, 8.0], \"yaxis\": \"y\", \"type\": \"scatter\", \"uid\": \"231f6109-fcc9-4038-ab12-8e5d8c906637\"}], {\"height\": 600, \"legend\": {\"tracegroupgap\": 0}, \"margin\": {\"t\": 60}, \"template\": {\"data\": {\"barpolar\": [{\"marker\": {\"line\": {\"color\": \"#E5ECF6\", \"width\": 0.5}}, \"type\": \"barpolar\"}], \"bar\": [{\"marker\": {\"line\": {\"color\": \"#E5ECF6\", \"width\": 0.5}}, \"type\": \"bar\"}], \"carpet\": [{\"aaxis\": {\"endlinecolor\": \"#2a3f5f\", \"gridcolor\": \"white\", \"linecolor\": \"white\", \"minorgridcolor\": \"white\", \"startlinecolor\": \"#2a3f5f\"}, \"baxis\": {\"endlinecolor\": \"#2a3f5f\", \"gridcolor\": \"white\", \"linecolor\": \"white\", \"minorgridcolor\": \"white\", \"startlinecolor\": \"#2a3f5f\"}, \"type\": \"carpet\"}], \"choropleth\": [{\"colorbar\": {\"outlinewidth\": 0, \"ticks\": \"\"}, \"type\": \"choropleth\"}], \"contourcarpet\": [{\"colorbar\": {\"outlinewidth\": 0, \"ticks\": \"\"}, \"type\": \"contourcarpet\"}], \"contour\": [{\"autocolorscale\": true, \"colorbar\": {\"outlinewidth\": 0, \"ticks\": \"\"}, \"type\": \"contour\"}], \"heatmapgl\": [{\"colorbar\": {\"outlinewidth\": 0, \"ticks\": \"\"}, \"type\": \"heatmapgl\"}], \"heatmap\": [{\"autocolorscale\": true, \"colorbar\": {\"outlinewidth\": 0, \"ticks\": \"\"}, \"type\": \"heatmap\"}], \"histogram2dcontour\": [{\"autocolorscale\": true, \"colorbar\": {\"outlinewidth\": 0, \"ticks\": \"\"}, \"type\": \"histogram2dcontour\"}], \"histogram2d\": [{\"autocolorscale\": true, \"colorbar\": {\"outlinewidth\": 0, \"ticks\": \"\"}, \"type\": \"histogram2d\"}], \"histogram\": [{\"marker\": {\"colorbar\": {\"outlinewidth\": 0, \"ticks\": \"\"}}, \"type\": \"histogram\"}], \"mesh3d\": [{\"colorbar\": {\"outlinewidth\": 0, \"ticks\": \"\"}, \"type\": \"mesh3d\"}], \"parcoords\": [{\"line\": {\"colorbar\": {\"outlinewidth\": 0, \"ticks\": \"\"}}, \"type\": \"parcoords\"}], \"scatter3d\": [{\"marker\": {\"colorbar\": {\"outlinewidth\": 0, \"ticks\": \"\"}}, \"type\": \"scatter3d\"}], \"scattercarpet\": [{\"marker\": {\"colorbar\": {\"outlinewidth\": 0, \"ticks\": \"\"}}, \"type\": \"scattercarpet\"}], \"scattergeo\": [{\"marker\": {\"colorbar\": {\"outlinewidth\": 0, \"ticks\": \"\"}}, \"type\": \"scattergeo\"}], \"scattergl\": [{\"marker\": {\"colorbar\": {\"outlinewidth\": 0, \"ticks\": \"\"}}, \"type\": \"scattergl\"}], \"scattermapbox\": [{\"marker\": {\"colorbar\": {\"outlinewidth\": 0, \"ticks\": \"\"}}, \"type\": \"scattermapbox\"}], \"scatterpolargl\": [{\"marker\": {\"colorbar\": {\"outlinewidth\": 0, \"ticks\": \"\"}}, \"type\": \"scatterpolargl\"}], \"scatterpolar\": [{\"marker\": {\"colorbar\": {\"outlinewidth\": 0, \"ticks\": \"\"}}, \"type\": \"scatterpolar\"}], \"scatter\": [{\"marker\": {\"colorbar\": {\"outlinewidth\": 0, \"ticks\": \"\"}}, \"type\": \"scatter\"}], \"scatterternary\": [{\"marker\": {\"colorbar\": {\"outlinewidth\": 0, \"ticks\": \"\"}}, \"type\": \"scatterternary\"}], \"surface\": [{\"colorbar\": {\"outlinewidth\": 0, \"ticks\": \"\"}, \"type\": \"surface\"}], \"table\": [{\"cells\": {\"fill\": {\"color\": \"#EBF0F8\"}, \"line\": {\"color\": \"white\"}}, \"header\": {\"fill\": {\"color\": \"#C8D4E3\"}, \"line\": {\"color\": \"white\"}}, \"type\": \"table\"}]}, \"layout\": {\"annotationdefaults\": {\"arrowcolor\": \"#506784\", \"arrowhead\": 0, \"arrowwidth\": 1}, \"colorscale\": {\"diverging\": [[0, \"#8e0152\"], [0.1, \"#c51b7d\"], [0.2, \"#de77ae\"], [0.3, \"#f1b6da\"], [0.4, \"#fde0ef\"], [0.5, \"#f7f7f7\"], [0.6, \"#e6f5d0\"], [0.7, \"#b8e186\"], [0.8, \"#7fbc41\"], [0.9, \"#4d9221\"], [1, \"#276419\"]], \"sequential\": [[0.0, \"#0508b8\"], [0.0893854748603352, \"#1910d8\"], [0.1787709497206704, \"#3c19f0\"], [0.2681564245810056, \"#6b1cfb\"], [0.3575418994413408, \"#981cfd\"], [0.44692737430167595, \"#bf1cfd\"], [0.5363128491620112, \"#dd2bfd\"], [0.6256983240223464, \"#f246fe\"], [0.7150837988826816, \"#fc67fd\"], [0.8044692737430168, \"#fe88fc\"], [0.8938547486033519, \"#fea5fd\"], [0.9832402234636871, \"#febefe\"], [1.0, \"#fec3fe\"]], \"sequentialminus\": [[0.0, \"#0508b8\"], [0.0893854748603352, \"#1910d8\"], [0.1787709497206704, \"#3c19f0\"], [0.2681564245810056, \"#6b1cfb\"], [0.3575418994413408, \"#981cfd\"], [0.44692737430167595, \"#bf1cfd\"], [0.5363128491620112, \"#dd2bfd\"], [0.6256983240223464, \"#f246fe\"], [0.7150837988826816, \"#fc67fd\"], [0.8044692737430168, \"#fe88fc\"], [0.8938547486033519, \"#fea5fd\"], [0.9832402234636871, \"#febefe\"], [1.0, \"#fec3fe\"]]}, \"colorway\": [\"#636efa\", \"#EF553B\", \"#00cc96\", \"#ab63fa\", \"#19d3f3\", \"#e763fa\", \"#FECB52\", \"#FFA15A\", \"#FF6692\", \"#B6E880\"], \"font\": {\"color\": \"#2a3f5f\"}, \"geo\": {\"bgcolor\": \"white\", \"lakecolor\": \"white\", \"landcolor\": \"#E5ECF6\", \"showlakes\": true, \"showland\": true, \"subunitcolor\": \"white\"}, \"hovermode\": \"closest\", \"mapbox\": {\"style\": \"light\"}, \"paper_bgcolor\": \"white\", \"plot_bgcolor\": \"#E5ECF6\", \"polar\": {\"angularaxis\": {\"gridcolor\": \"white\", \"linecolor\": \"white\", \"ticks\": \"\"}, \"bgcolor\": \"#E5ECF6\", \"radialaxis\": {\"gridcolor\": \"white\", \"linecolor\": \"white\", \"ticks\": \"\"}}, \"scene\": {\"xaxis\": {\"backgroundcolor\": \"#E5ECF6\", \"gridcolor\": \"white\", \"gridwidth\": 2, \"linecolor\": \"white\", \"showbackground\": true, \"ticks\": \"\", \"zerolinecolor\": \"white\"}, \"yaxis\": {\"backgroundcolor\": \"#E5ECF6\", \"gridcolor\": \"white\", \"gridwidth\": 2, \"linecolor\": \"white\", \"showbackground\": true, \"ticks\": \"\", \"zerolinecolor\": \"white\"}, \"zaxis\": {\"backgroundcolor\": \"#E5ECF6\", \"gridcolor\": \"white\", \"gridwidth\": 2, \"linecolor\": \"white\", \"showbackground\": true, \"ticks\": \"\", \"zerolinecolor\": \"white\"}}, \"shapedefaults\": {\"fillcolor\": \"#506784\", \"line\": {\"width\": 0}, \"opacity\": 0.4}, \"ternary\": {\"aaxis\": {\"gridcolor\": \"white\", \"linecolor\": \"white\", \"ticks\": \"\"}, \"baxis\": {\"gridcolor\": \"white\", \"linecolor\": \"white\", \"ticks\": \"\"}, \"bgcolor\": \"#E5ECF6\", \"caxis\": {\"gridcolor\": \"white\", \"linecolor\": \"white\", \"ticks\": \"\"}}, \"title\": {\"x\": 0.05}, \"xaxis\": {\"automargin\": true, \"gridcolor\": \"white\", \"linecolor\": \"white\", \"ticks\": \"\", \"zerolinecolor\": \"white\", \"zerolinewidth\": 2}, \"yaxis\": {\"automargin\": true, \"gridcolor\": \"white\", \"linecolor\": \"white\", \"ticks\": \"\", \"zerolinecolor\": \"white\", \"zerolinewidth\": 2}}}, \"grid\": {\"xaxes\": [\"x\"], \"yaxes\": [\"y\"], \"xgap\": 0.1, \"ygap\": 0.1, \"xside\": \"bottom\", \"yside\": \"left\"}, \"xaxis\": {\"title\": {\"text\": \"Date\"}}, \"yaxis\": {\"title\": {\"text\": \"Other Armed Actor (V)\"}}}, {\"showLink\": false, \"linkText\": \"Export to plot.ly\", \"plotlyServerURL\": \"https://plot.ly\"}); \n",
       "}\n",
       "});</script><script type=\"text/javascript\">window.addEventListener(\"resize\", function(){if (document.getElementById(\"fade8566-bdcd-4c9f-8e57-67c5a44be261\")) {window._Plotly.Plots.resize(document.getElementById(\"fade8566-bdcd-4c9f-8e57-67c5a44be261\"));};})</script>"
      ]
     },
     "metadata": {},
     "output_type": "display_data"
    }
   ],
   "source": [
    "oaa_vics= zam[zam['Other Armed Actor (V)'].notnull() == True]\n",
    "oaa_vics = oaa_vics['Other Armed Actor (V)'].resample('W').sum()\n",
    "\n",
    "\n",
    "\n",
    "oaa_vics = pd.DataFrame(oaa_vics)\n",
    "\n",
    "\n",
    "\n",
    "oaa_vics = oaa_vics.reset_index()\n",
    "\n",
    "\n",
    "oaa_ivcs = pd.DataFrame(oaa_vics)\n",
    "\n",
    "\n",
    "\n",
    "px.line(oaa_vics, x='Date', y='Other Armed Actor (V)')"
   ]
  },
  {
   "cell_type": "code",
   "execution_count": null,
   "metadata": {},
   "outputs": [],
   "source": []
  }
 ],
 "metadata": {
  "kernelspec": {
   "display_name": "Python 3",
   "language": "python",
   "name": "python3"
  },
  "language_info": {
   "codemirror_mode": {
    "name": "ipython",
    "version": 3
   },
   "file_extension": ".py",
   "mimetype": "text/x-python",
   "name": "python",
   "nbconvert_exporter": "python",
   "pygments_lexer": "ipython3",
   "version": "3.7.3"
  }
 },
 "nbformat": 4,
 "nbformat_minor": 2
}
